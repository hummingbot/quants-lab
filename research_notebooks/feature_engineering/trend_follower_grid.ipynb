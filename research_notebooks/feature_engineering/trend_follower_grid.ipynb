{
 "cells": [
  {
   "cell_type": "code",
   "id": "initial_id",
   "metadata": {
    "collapsed": true
   },
   "source": [
    "from dotenv import load_dotenv\n",
    "\n",
    "from core.data_sources.clob import CLOBDataSource\n",
    "import warnings\n",
    "\n",
    "from core.notifiers import NotificationManager, NotificationMessage\n",
    "\n",
    "warnings.filterwarnings(\"ignore\")\n",
    "\n",
    "load_dotenv()\n",
    "\n",
    "# Main class to access central limit order book connectors\n",
    "clob = CLOBDataSource()"
   ],
   "outputs": [],
   "execution_count": null
  },
  {
   "metadata": {},
   "cell_type": "code",
   "source": [
    "# Configuration Parameters\n",
    "CONFIG = {\n",
    "    'connector_name': 'binance_perpetual',\n",
    "    'interval': '1m',\n",
    "    'ema_lengths': [20, 200, 500],\n",
    "    'signal_intensity_threshold': 0.7,\n",
    "    'min_range_pct': 0.01,\n",
    "    'rolling_window': 1000,\n",
    "}\n",
    "\n",
    "# Load candles from cache\n",
    "clob.load_candles_cache()\n",
    "candles = []\n",
    "for key, value in clob.candles_cache.items():\n",
    "    if key[-1] == CONFIG['interval'] and key[0] == CONFIG['connector_name']:\n",
    "        candles.append(value)"
   ],
   "id": "638b87b6281505e9",
   "outputs": [],
   "execution_count": null
  },
  {
   "cell_type": "markdown",
   "id": "ot7qo4d9pi",
   "source": "## Improved Feature Engineering System\n\nUsing the streamlined feature engineering system with:\n- **One feature per strategy/calculation** (not per indicator)\n- Flexible value types: float, List[float], or Dict[str, float]\n- MongoDB-only storage for production use\n- Standardized signal model with -1 to 1 scale\n- Type-safe Pydantic models",
   "metadata": {}
  },
  {
   "cell_type": "code",
   "id": "hiota8m4d4l",
   "source": "# Import the new feature engineering system\nfrom core.features import FeatureStorage, Feature, Signal\nfrom core.features.candles.ema_trend import EMATrend, EMATrendConfig\n\n# Initialize feature storage (MongoDB only)\nstorage = FeatureStorage()\nawait storage.connect()",
   "metadata": {},
   "outputs": [],
   "execution_count": null
  },
  {
   "cell_type": "code",
   "id": "p56chh7dk6o",
   "source": [
    "# Initialize the EMA trend feature calculator\n",
    "ema_config = EMATrendConfig(\n",
    "    ema_lengths=CONFIG['ema_lengths'],\n",
    "    rolling_window=CONFIG['rolling_window']\n",
    ")\n",
    "\n",
    "ema_trend = EMATrend(feature_config=ema_config)\n",
    "\n",
    "print(f\"✅ Initialized EMA Trend feature calculator\")\n",
    "print(f\"   EMA lengths: {ema_config.ema_lengths}\")\n",
    "print(f\"   Rolling window: {ema_config.rolling_window}\")\n",
    "print(f\"\\n📊 This creates ONE feature per pair containing all EMA trend data\")"
   ],
   "metadata": {},
   "outputs": [],
   "execution_count": null
  },
  {
   "cell_type": "code",
   "id": "nfohtzafuw",
   "source": "# Generate features and signals using the improved system\nall_features = []\nall_signals = []\n\nsignals_for_display = []\n\nfor candle in candles:\n    try:\n        # Pass the Candles object directly - much cleaner!\n        feature = ema_trend.create_feature(candle)\n        all_features.append(feature)\n        \n        # Create signal if criteria met\n        signal = ema_trend.create_signal(\n            candle,\n            min_intensity=CONFIG['signal_intensity_threshold'],\n            min_range_pct=CONFIG['min_range_pct']\n        )\n        \n        if signal:\n            all_signals.append(signal)\n            \n            # Collect for reporting (signal.value ranges from -1 to 1)\n            signals_for_display.append({\n                'trading_pair': signal.trading_pair,\n                'category': signal.category,\n                'signal_value': signal.value,\n                'direction': 'LONG' if signal.value > 0 else 'SHORT',\n                'intensity': abs(signal.value),\n                'range_pct': feature.value['range_pct'],\n                'ema_divergence': feature.value['divergence']\n            })\n                \n    except Exception as e:\n        print(f\"Error processing {candle.trading_pair}: {e}\")\n\nprint(f\"\\n✅ Processed {len(candles)} pairs\")\nprint(f\"📊 Generated {len(all_features)} features (1 per pair)\")\nprint(f\"🎯 Generated {len(all_signals)} signals\")",
   "metadata": {},
   "outputs": [],
   "execution_count": null
  },
  {
   "cell_type": "code",
   "id": "h4yqbg11vs",
   "source": "# Example: Show what a single feature looks like\nif len(candles) > 0:\n    example_candle = candles[0]\n    \n    # Now we just pass the Candles object - it contains everything!\n    example_feature = ema_trend.create_feature(example_candle)\n    \n    print(f\"📝 Example Feature for {example_feature.trading_pair}:\")\n    print(f\"   Feature name: {example_feature.feature_name}\")\n    print(f\"   Connector: {example_feature.connector_name}\")\n    print(f\"   Timestamp: {example_feature.timestamp}\")\n    print(f\"\\n   Value (dict with all EMA trend data):\")\n    for key, val in example_feature.value.items():\n        if isinstance(val, float):\n            print(f\"     • {key}: {val:.6f}\")\n        else:\n            print(f\"     • {key}: {val}\")\n    \n    print(f\"\\n   Info (metadata):\")\n    for key, val in example_feature.info.items():\n        print(f\"     • {key}: {val}\")",
   "metadata": {},
   "outputs": [],
   "execution_count": null
  },
  {
   "cell_type": "markdown",
   "id": "rkuekbybho",
   "source": "### Visualize Feature\n\nFeatures now have built-in visualization methods!",
   "metadata": {}
  },
  {
   "cell_type": "code",
   "id": "urdxswbh5hp",
   "source": "# Visualize the feature on candlestick chart\nif len(candles) > 0:\n    example_candle = candles[0]\n    \n    # The feature can plot itself!\n    print(f\"📈 Plotting {example_candle.trading_pair} with EMA Trend feature...\")\n    ema_trend.plot(example_candle, height=600, width=1400)",
   "metadata": {},
   "outputs": [],
   "execution_count": null
  },
  {
   "cell_type": "code",
   "id": "a2fzk7cm195",
   "source": "# Or manually add to an existing figure\nif len(candles) > 0:\n    example_candle = candles[0]\n    \n    # Start with candles\n    fig = example_candle.candles_fig(height=600, width=1400)\n    \n    # Add the EMA trend feature\n    fig = ema_trend.add_to_fig(fig, example_candle)\n    \n    # Could add more features here...\n    # fig = another_feature.add_to_fig(fig, example_candle)\n    \n    fig.show()",
   "metadata": {},
   "outputs": [],
   "execution_count": null
  },
  {
   "cell_type": "code",
   "id": "s0tva1z7wup",
   "source": "# Save features and signals to MongoDB\nprint(\"Saving features and signals to MongoDB...\")\n\n# Save features\nawait storage.save_features(all_features)\n\n# Save signals\nawait storage.save_signals(all_signals)\n\nprint(f\"✅ Saved {len(all_features)} features\")\nprint(f\"✅ Saved {len(all_signals)} signals\")",
   "metadata": {},
   "outputs": [],
   "execution_count": null
  },
  {
   "cell_type": "code",
   "id": "37qtcnn8bmx",
   "source": [
    "import pandas as pd\n",
    "\n",
    "# Display signals in DataFrame format\n",
    "signals_df = pd.DataFrame(signals_for_display).sort_values(by='intensity', ascending=False)\n",
    "\n",
    "print(f\"Total signals: {len(signals_df)}\")\n",
    "print(f\"Long signals: {len(signals_df[signals_df['direction'] == 'LONG'])}\")\n",
    "print(f\"Short signals: {len(signals_df[signals_df['direction'] == 'SHORT'])}\")\n",
    "\n",
    "# Show top signals\n",
    "print(\"\\\\nTop 10 Signals:\")\n",
    "display(signals_df.head(10))"
   ],
   "metadata": {},
   "outputs": [],
   "execution_count": null
  },
  {
   "cell_type": "markdown",
   "id": "0rsr3clehzj",
   "source": "### Summary Statistics",
   "metadata": {}
  },
  {
   "cell_type": "code",
   "id": "ggi6xs223rn",
   "source": "# Summary statistics\nprint(\"=\" * 60)\nprint(\"FEATURE ENGINEERING SUMMARY\")\nprint(\"=\" * 60)\n\nprint(f\"\\n📊 Data Processing:\")\nprint(f\"   • Pairs processed: {len(candles)}\")\nprint(f\"   • Features generated: {len(all_features)} (1 per pair)\")\nprint(f\"   • Signals generated: {len(all_signals)}\")\n\nif len(signals_df) > 0:\n    print(f\"\\n🎯 Signal Breakdown:\")\n    print(f\"   • Long signals (value > 0): {len(signals_df[signals_df['direction'] == 'LONG'])}\")\n    print(f\"   • Short signals (value < 0): {len(signals_df[signals_df['direction'] == 'SHORT'])}\")\n    print(f\"   • Average intensity: {signals_df['intensity'].mean():.3f}\")\n    print(f\"   • Max intensity: {signals_df['intensity'].max():.3f}\")\n    \nprint(f\"\\n💾 Storage:\")\nprint(f\"   • Features saved to MongoDB: {len(all_features)}\")\nprint(f\"   • Signals saved to MongoDB: {len(all_signals)}\")\nprint(f\"   • Collection: 'features' and 'signals'\")\n\nprint(f\"\\n✅ Efficiency Gain:\")\nold_approach = len(candles) * 5  # 5 features per pair in old approach\nnew_approach = len(all_features)  # 1 feature per pair\nreduction = ((old_approach - new_approach) / old_approach * 100) if old_approach > 0 else 0\nprint(f\"   • Old approach would create: ~{old_approach} documents\")\nprint(f\"   • New approach creates: {new_approach} documents\")\nprint(f\"   • Reduction: {reduction:.0f}%\")\n\nprint(\"=\" * 60)",
   "metadata": {},
   "outputs": [],
   "execution_count": null
  },
  {
   "cell_type": "markdown",
   "id": "8du5jynn166",
   "source": "## Query Stored Features and Signals\n\nDemonstrate retrieving features and signals from storage",
   "metadata": {}
  },
  {
   "cell_type": "markdown",
   "id": "osv3xmv8y1",
   "source": "## Use Signals for Trading\n\nNow that we have signals, let's prepare them for deployment",
   "metadata": {}
  },
  {
   "cell_type": "code",
   "id": "1lgjhlaemlp",
   "source": "# Get top signals for trading\ntop_long_signals = signals_df[signals_df['direction'] == 'LONG'].head(3)\ntop_short_signals = signals_df[signals_df['direction'] == 'SHORT'].head(3)\n\nprint(\"🟢 Top 3 Long Signals for Trading:\")\ndisplay(top_long_signals)\n\nprint(\"\\n🔴 Top 3 Short Signals for Trading:\")\ndisplay(top_short_signals)\n\n# For each signal, we can get the full feature data from storage\nif len(top_long_signals) > 0:\n    example_pair = top_long_signals.iloc[0]['trading_pair']\n    \n    # Get the feature to access grid levels\n    pair_features = await storage.get_features(\n        feature_name=\"ema_trend\",\n        trading_pair=example_pair,\n        connector_name=CONFIG['connector_name'],\n        limit=1\n    )\n    \n    if pair_features:\n        feat = pair_features[0]\n        range_pct = feat.value['range_pct']\n        price = feat.value['price']\n        \n        print(f\"\\n💡 Example Grid Levels for {example_pair}:\")\n        print(f\"   Current Price: ${price:.6f}\")\n        print(f\"   Range %: {range_pct*100:.2f}%\")\n        \n        # Calculate grid levels (same logic as before)\n        start_price = price * (1 - 0.5 * range_pct)\n        end_price = price * (1 + 1.5 * range_pct)\n        limit_price = price * (1 - 0.7 * range_pct)\n        \n        print(f\"   Start Price: ${start_price:.6f}\")\n        print(f\"   End Price: ${end_price:.6f}\")\n        print(f\"   Limit Price: ${limit_price:.6f}\")",
   "metadata": {},
   "outputs": [],
   "execution_count": null
  },
  {
   "cell_type": "code",
   "id": "64i2k31vbvp",
   "source": "# Query recent high-intensity long signals (value > 0.8)\nrecent_long_signals = await storage.get_signals(\n    category='tf',  # trend following\n    min_value=0.8,  # Strong long signals\n    limit=5\n)\n\nprint(f\"Found {len(recent_long_signals)} high-intensity long signals:\")\nfor sig in recent_long_signals:\n    print(f\"  {sig.trading_pair}: value={sig.value:.3f} ({sig.signal_name})\")",
   "metadata": {},
   "outputs": [],
   "execution_count": null
  },
  {
   "cell_type": "code",
   "id": "rm2pn1o4gn",
   "source": "# Query features for a specific trading pair\nexample_pair = signals_for_display[0]['trading_pair'] if signals_for_display else \"BTC-USDT\"\n\nfeatures_for_pair = await storage.get_features(\n    feature_name=\"ema_trend\",\n    trading_pair=example_pair,\n    connector_name=CONFIG['connector_name'],\n    limit=1\n)\n\nif features_for_pair:\n    feat = features_for_pair[0]\n    print(f\"EMA Trend feature for {example_pair}:\")\n    print(f\"  Timestamp: {feat.timestamp}\")\n    print(f\"\\\\n  Values:\")\n    for key, val in feat.value.items():\n        if isinstance(val, float):\n            print(f\"    {key}: {val:.6f}\")\n        else:\n            print(f\"    {key}: {val}\")\n    if feat.info:\n        print(f\"\\\\n  Info:\")\n        for key, val in feat.info.items():\n            print(f\"    {key}: {val}\")\nelse:\n    print(f\"No features found for {example_pair}\")",
   "metadata": {},
   "outputs": [],
   "execution_count": null
  }
 ],
 "metadata": {
  "kernelspec": {
   "display_name": "Python 3",
   "language": "python",
   "name": "python3"
  },
  "language_info": {
   "codemirror_mode": {
    "name": "ipython",
    "version": 2
   },
   "file_extension": ".py",
   "mimetype": "text/x-python",
   "name": "python",
   "nbconvert_exporter": "python",
   "pygments_lexer": "ipython2",
   "version": "2.7.6"
  }
 },
 "nbformat": 4,
 "nbformat_minor": 5
}
