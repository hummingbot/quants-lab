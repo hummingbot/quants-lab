{
 "cells": [
  {
   "cell_type": "code",
   "metadata": {
    "collapsed": false
   },
   "source": [
    "import os\n",
    "import sys\n",
    "from dotenv import load_dotenv\n",
    "\n",
    "root_path = os.path.abspath(os.path.join(os.getcwd(), '../..'))\n",
    "sys.path.append(root_path)\n",
    "load_dotenv()\n",
    "\n",
    "from decimal import Decimal\n",
    "from core.data_sources import CLOBDataSource\n",
    "from core.services.timescale_client import TimescaleClient\n",
    "\n",
    "clob = CLOBDataSource()\n",
    "ts_client = TimescaleClient(\n",
    "    host=os.getenv(\"TIMESCALE_HOST\", \"localhost\"),\n",
    "    port=os.getenv(\"TIMESCALE_PORT\", 5432),\n",
    "    user=os.getenv(\"TIMESCALE_USER\", \"admin\"),\n",
    "    password=os.getenv(\"TIMESCALE_PASSWORD\", \"admin\"),\n",
    "    database=\"timescaledb\"\n",
    ")\n",
    "await ts_client.connect()"
   ],
   "outputs": [],
   "execution_count": null
  },
  {
   "cell_type": "code",
   "source": [
    "# Screener parameters\n",
    "CONNECTOR_NAME = \"binance_perpetual\"\n",
    "INTERVALS = [\"1m\"]\n",
    "\n",
    "# Trading Rules Filter\n",
    "QUOTE_ASSET = \"USDT\"\n",
    "MIN_NOTIONAL_SIZE = 5  # In USDT\n",
    "MAX_PRICE_STEP = 0.001  # Min price step in % (tick size)\n",
    "\n",
    "# Config generation\n",
    "TOTAL_AMOUNT = 300  # General total amount for all markets\n",
    "ACTIVATION_BOUNDS = 0.002  # Input activation bounds\n",
    "MAX_EXECUTORS_PER_SIDE = 1  # Maximum number of executors per side\n",
    "COOLDOWN_TIME = 0\n",
    "LEVERAGE = 20  # Should be for each trading pair\n",
    "TIME_LIMIT = 60 * 60 * 24\n",
    "BOLLINGER_LENGTHS = [50, 100, 200]\n",
    "BOLLINGER_STDS = [1.4, 1.8, 2.2]\n"
   ],
   "metadata": {
    "collapsed": false
   },
   "outputs": [],
   "execution_count": null
  },
  {
   "cell_type": "code",
   "source": [
    "trading_rules = await clob.get_trading_rules(CONNECTOR_NAME)\n",
    "trading_pairs = trading_rules.filter_by_quote_asset(QUOTE_ASSET) \\\n",
    "    .filter_by_min_notional_size(Decimal(MIN_NOTIONAL_SIZE)) \\\n",
    "    .get_all_trading_pairs()\n",
    "trading_pairs_available = await ts_client.get_available_pairs()\n",
    "trading_pairs_available = [pair[1] for pair in trading_pairs_available if pair[0] == CONNECTOR_NAME]\n",
    "\n",
    "trading_pairs = [trading_pair for trading_pair in trading_pairs_available if trading_pair in trading_pairs]"
   ],
   "metadata": {
    "collapsed": false
   },
   "outputs": [],
   "execution_count": null
  },
  {
   "cell_type": "code",
   "source": [
    "from core.backtesting.optimizer import StrategyOptimizer\n",
    "\n",
    "\n",
    "resolution = \"1s\"\n",
    "optimizer = StrategyOptimizer(engine=\"postgres\",\n",
    "                              root_path=root_path,\n",
    "                              resolution=resolution,\n",
    "                              db_client=ts_client,\n",
    "                              db_host=os.getenv(\"OPTUNA_HOST\", \"localhost\"),\n",
    "                              db_port=os.getenv(\"OPTUNA_LOCAL_PORT\", 5433),\n",
    "                              db_user=os.getenv(\"OPTUNA_USER\", \"admin\"),\n",
    "                              db_pass=os.getenv(\"OPTUNA_PASSWORD\", \"admin\"))"
   ],
   "metadata": {
    "collapsed": false
   },
   "outputs": [],
   "execution_count": null
  },
  {
   "cell_type": "code",
   "metadata": {},
   "source": [
    "from research_notebooks.xtreet_bb.xtreet_bt import XtreetBacktesting\n",
    "from research_notebooks.xtreet_bb.xtreet_config_gen_simple import XtreetConfigGenerator\n",
    "import logging\n",
    "import datetime\n",
    "\n",
    "logging.basicConfig(level=logging.INFO)\n",
    "logger = logging.getLogger(__name__)\n",
    "\n",
    "BACKTESTING_DAYS = 3\n",
    "\n",
    "start_date = datetime.datetime.now() - datetime.timedelta(days=BACKTESTING_DAYS)\n",
    "end_date = datetime.datetime.now()\n",
    "logger.info(\"Generating config generator\")\n",
    "\n",
    "await optimizer._db_client.connect()\n",
    "for trading_pair in trading_pairs[:1]:\n",
    "    config_generator = XtreetConfigGenerator(start_date=start_date, end_date=end_date, backtester=XtreetBacktesting())\n",
    "    config_generator.trading_pair = trading_pair\n",
    "    candles = await optimizer._db_client.get_candles(CONNECTOR_NAME, trading_pair,\n",
    "                                                     resolution, start_date.timestamp(), end_date.timestamp())\n",
    "    start_time = candles.data[\"timestamp\"].min()\n",
    "    end_time = candles.data[\"timestamp\"].max()\n",
    "    config_generator.backtester.backtesting_data_provider.candles_feeds[\n",
    "        f\"{CONNECTOR_NAME}_{trading_pair}_{resolution}\"] = candles.data\n",
    "    config_generator.start = start_time\n",
    "    config_generator.end = end_time\n",
    "\n",
    "    await optimizer.optimize(study_name=\"xtreet_bb_v2\",\n",
    "                             config_generator=config_generator, n_trials=200)\n"
   ],
   "outputs": [],
   "execution_count": null
  },
  {
   "cell_type": "code",
   "source": [],
   "metadata": {
    "collapsed": false
   },
   "outputs": [],
   "execution_count": null
  }
 ],
 "metadata": {
  "kernelspec": {
   "display_name": "Python 3",
   "language": "python",
   "name": "python3"
  },
  "language_info": {
   "codemirror_mode": {
    "name": "ipython",
    "version": 3
   },
   "file_extension": ".py",
   "mimetype": "text/x-python",
   "name": "python",
   "nbconvert_exporter": "python",
   "pygments_lexer": "ipython3",
   "version": "3.10.14"
  }
 },
 "nbformat": 4,
 "nbformat_minor": 0
}
