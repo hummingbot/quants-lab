{
 "cells": [
  {
   "cell_type": "code",
   "metadata": {
    "collapsed": false,
    "jupyter": {
     "outputs_hidden": false
    }
   },
   "source": [
    "# This is necessary to recognize the modules\n",
    "import os\n",
    "import sys\n",
    "\n",
    "root_path = os.path.abspath(os.path.join(os.getcwd(), '../..'))\n",
    "sys.path.append(root_path)\n",
    "\n",
    "import asyncio\n",
    "from decimal import Decimal\n",
    "from core.data_sources import CLOBDataSource\n",
    "from core.features.candles.volatility import VolatilityConfig\n",
    "from research_notebooks.xtreet_bb.utils import generate_config, dump_dict_to_yaml\n",
    "\n",
    "clob = CLOBDataSource()"
   ],
   "outputs": [],
   "execution_count": null
  },
  {
   "cell_type": "code",
   "metadata": {
    "collapsed": false,
    "jupyter": {
     "outputs_hidden": false
    }
   },
   "source": [
    "# Screener parameters\n",
    "CONNECTOR_NAME = \"binance_perpetual\"\n",
    "INTERVALS = [\"1m\"]\n",
    "DAYS = 7\n",
    "FETCH_CANDLES = False\n",
    "BATCH_CANDLES_REQUEST = 15\n",
    "SLEEP_REQUEST = 60.0\n",
    "VOLUME_THRESHOLD = 0.3  # From percentile VOLUME_THRESHOLD to 1\n",
    "VOLATILITY_THRESHOLD = 0.4  # From percentile VOLATILITY_THRESHOLD to 1\n",
    "\n",
    "# Trading Rules Filter\n",
    "QUOTE_ASSET = \"USDT\"\n",
    "MIN_NOTIONAL_SIZE = 5  # In USDT\n",
    "MAX_PRICE_STEP = 0.001  # Min price step in % (tick size)\n",
    "\n",
    "VOLATILITY_WINDOW = 60  # In bars\n",
    "VOLUME_FAST_WINDOW = 20  # No se usa\n",
    "VOLUME_SLOW_WINDOW = 100  # No se usa\n",
    "\n",
    "# Config generation\n",
    "TOTAL_AMOUNT = 300  # General total amount for all markets\n",
    "ACTIVATION_BOUNDS = 0.002  # Input activation bounds\n",
    "MAX_EXECUTORS_PER_SIDE = 1  # Maximum number of executors per side\n",
    "COOLDOWN_TIME = 0\n",
    "LEVERAGE = 20 # Should be for each trading pair\n",
    "TIME_LIMIT = 60 * 60 * 24\n",
    "BOLLINGER_LENGTHS = [50, 100, 200]\n",
    "BOLLINGER_STDS = [1.4, 1.8, 2.2]\n",
    "SL_STD_MULTIPLIER = 2\n",
    "TS_DELTA_MULTIPLIER = 0.2\n",
    "\n",
    "# Config filtering\n",
    "MIN_DISTANCE_BETWEEN_ORDERS = 0.01\n",
    "MAX_TS_SL_RATIO = 0.5"
   ],
   "outputs": [],
   "execution_count": null
  },
  {
   "cell_type": "markdown",
   "metadata": {
    "collapsed": false,
    "jupyter": {
     "outputs_hidden": false
    }
   },
   "source": [
    "# Download data\n",
    "- Get trading rules\n",
    "- Get candles for the last x days"
   ]
  },
  {
   "cell_type": "code",
   "source": [
    "trading_rules = await clob.get_trading_rules(CONNECTOR_NAME)\n",
    "trading_pairs = trading_rules.filter_by_quote_asset(QUOTE_ASSET)\\\n",
    "    .filter_by_min_notional_size(Decimal(MIN_NOTIONAL_SIZE))\\\n",
    "    .get_all_trading_pairs()\n",
    "\n",
    "if FETCH_CANDLES:\n",
    "    number_of_calls = (len(trading_pairs) // BATCH_CANDLES_REQUEST) + 1\n",
    "\n",
    "    all_candles = {}\n",
    "\n",
    "    for i in range(number_of_calls):\n",
    "        print(f\"Batch {i + 1}/{number_of_calls}\")\n",
    "        start = i * BATCH_CANDLES_REQUEST\n",
    "        end = (i + 1) * BATCH_CANDLES_REQUEST\n",
    "        print(f\"Start: {start}, End: {end}\")\n",
    "        end = min(end, len(trading_pairs))\n",
    "        trading_pairs_batch = trading_pairs[start:end]\n",
    "\n",
    "        tasks = [clob.get_candles_last_days(\n",
    "        connector_name=CONNECTOR_NAME,\n",
    "        trading_pair=trading_pair,\n",
    "        interval=interval,\n",
    "        days=DAYS,\n",
    "        ) for trading_pair in trading_pairs_batch for interval in INTERVALS]\n",
    "\n",
    "        candles = await asyncio.gather(*tasks)\n",
    "        candles = {trading_pair: candle for trading_pair, candle in zip(trading_pairs, candles)}\n",
    "        all_candles.update(candles)\n",
    "        if i != number_of_calls - 1:\n",
    "            print(f\"Sleeping for {SLEEP_REQUEST} seconds\")\n",
    "            await asyncio.sleep(SLEEP_REQUEST)\n",
    "    clob.dump_candles_cache(os.path.join(root_path, \"data\"))\n",
    "else:\n",
    "    clob.load_candles_cache(os.path.join(root_path, \"data\"))\n",
    "candles = [value for key, value in clob.candles_cache.items() if key[2] in INTERVALS and key[0] == CONNECTOR_NAME]"
   ],
   "metadata": {
    "collapsed": false
   },
   "outputs": [],
   "execution_count": null
  },
  {
   "cell_type": "code",
   "source": [
    "from core.features.candles.volume import VolumeConfig\n",
    "from research_notebooks.xtreet_bb.utils import generate_screener_report\n",
    "\n",
    "screner_report = generate_screener_report(\n",
    "    candles=candles,\n",
    "    trading_rules=trading_rules,\n",
    "    volatility_config=VolatilityConfig(window=VOLATILITY_WINDOW),\n",
    "    volume_config=VolumeConfig(short_window=VOLUME_FAST_WINDOW, long_window=VOLUME_FAST_WINDOW))\n",
    "screner_report[\"url\"] = screner_report[\"trading_pair\"].apply(lambda x: f\"https://www.binance.com/en/trade/{x}\")\n",
    "screner_report.sort_values(\"mean_natr\", ascending=False, inplace=True)\n",
    "screner_report"
   ],
   "metadata": {
    "collapsed": false
   },
   "outputs": [],
   "execution_count": null
  },
  {
   "cell_type": "code",
   "source": [
    "# Calculate the 20th percentile (0.2 quantile) for both columns\n",
    "natr_percentile = screner_report['mean_natr'].quantile(VOLATILITY_THRESHOLD)\n",
    "volume_percentile = screner_report['average_volume_per_hour'].quantile(VOLUME_THRESHOLD)\n",
    "\n",
    "# Filter the DataFrame to get observations where mean_natr is greater than its 20th percentile\n",
    "# and average_volume_per_hour is greater than its 20th percentile\n",
    "screener_top_markets = screner_report[\n",
    "    (screner_report['mean_natr'] > natr_percentile) &\n",
    "    (screner_report['average_volume_per_hour'] > volume_percentile) &\n",
    "    (screner_report[\"price_step_pct\"] < MAX_PRICE_STEP)\n",
    "]\n",
    "\n",
    "# Display the filtered DataFrame\n",
    "screener_top_markets[[\"trading_pair\", \"mean_natr\", \"average_volume_per_hour\", \"price_step_pct\", \"url\"]]"
   ],
   "metadata": {
    "collapsed": false
   },
   "outputs": [],
   "execution_count": null
  },
  {
   "cell_type": "code",
   "metadata": {
    "collapsed": false,
    "jupyter": {
     "outputs_hidden": false
    }
   },
   "source": [
    "strategy_configs = generate_config(\n",
    "    connector_name=CONNECTOR_NAME,\n",
    "    intervals=INTERVALS,\n",
    "    screener_top_markets=screener_top_markets,\n",
    "    candles=candles,\n",
    "    total_amount=TOTAL_AMOUNT,\n",
    "    max_executors_per_side=MAX_EXECUTORS_PER_SIDE,\n",
    "    cooldown_time=COOLDOWN_TIME,\n",
    "    leverage=LEVERAGE,\n",
    "    time_limit=TIME_LIMIT,\n",
    "    bb_lengths=BOLLINGER_LENGTHS,\n",
    "    bb_stds=BOLLINGER_STDS,\n",
    "    sl_std_multiplier=SL_STD_MULTIPLIER,\n",
    "    min_distance_between_orders=MIN_DISTANCE_BETWEEN_ORDERS,\n",
    "    max_ts_sl_ratio=MAX_TS_SL_RATIO,\n",
    "    ts_delta_multiplier=TS_DELTA_MULTIPLIER,\n",
    ")"
   ],
   "outputs": [],
   "execution_count": null
  },
  {
   "cell_type": "code",
   "source": [
    "len(set([config[\"trading_pair\"] for config in strategy_configs]))"
   ],
   "metadata": {
    "collapsed": false
   },
   "outputs": [],
   "execution_count": null
  },
  {
   "cell_type": "code",
   "source": [
    "len(strategy_configs)"
   ],
   "metadata": {
    "collapsed": false
   },
   "outputs": [],
   "execution_count": null
  },
  {
   "cell_type": "code",
   "source": [
    "# DCA amounts\n",
    "for config in strategy_configs:\n",
    "    dump_dict_to_yaml(\"configs/\", config)"
   ],
   "metadata": {
    "collapsed": false
   },
   "outputs": [],
   "execution_count": null
  },
  {
   "cell_type": "code",
   "source": [],
   "metadata": {
    "collapsed": false
   },
   "outputs": [],
   "execution_count": null
  }
 ],
 "metadata": {
  "kernelspec": {
   "display_name": "Python 3 (ipykernel)",
   "language": "python",
   "name": "python3"
  },
  "language_info": {
   "codemirror_mode": {
    "name": "ipython",
    "version": 3
   },
   "file_extension": ".py",
   "mimetype": "text/x-python",
   "name": "python",
   "nbconvert_exporter": "python",
   "pygments_lexer": "ipython3",
   "version": "3.10.14"
  }
 },
 "nbformat": 4,
 "nbformat_minor": 4
}
