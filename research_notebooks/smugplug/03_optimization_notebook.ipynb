{
 "cells": [
  {
   "cell_type": "code",
   "execution_count": 1,
   "metadata": {},
   "outputs": [],
   "source": [
    "# This is necessary to recognize the modules\n",
    "import os\n",
    "import sys\n",
    "import warnings\n",
    "\n",
    "warnings.filterwarnings(\"ignore\")\n",
    "\n",
    "root_path = os.path.abspath(os.path.join(os.getcwd(), '../..'))\n",
    "sys.path.append(root_path)"
   ]
  },
  {
   "cell_type": "code",
   "execution_count": null,
   "metadata": {},
   "outputs": [],
   "source": [
    "import datetime\n",
    "from core.backtesting.optimizer import StrategyOptimizer\n",
    "from research_notebooks.smugplug.smugplug_config_gen_simple import SmugPlugConfigGenerator\n",
    "\n",
    "# Define the date range for the optimization\n",
    "start_date = datetime.datetime(2024, 10, 1)\n",
    "end_date = datetime.datetime(2024, 11, 1)\n",
    "\n",
    "# Create the configuration generator\n",
    "config_generator = SmugPlugConfigGenerator(start_date=start_date, end_date=end_date)\n",
    "\n",
    "# Create the optimizer\n",
    "optimizer = StrategyOptimizer(root_path=root_path)\n",
    "\n",
    "# Launch the Optuna dashboard\n",
    "optimizer.launch_optuna_dashboard()\n",
    "\n",
    "# Run the optimization\n",
    "await optimizer.optimize(\n",
    "    study_name=f\"smugplug_optimization\",\n",
    "    config_generator=config_generator,\n",
    "    n_trials=100,\n",
    ")\n",
    "optimizer.get_study_best_params(f\"smugplug_optimization\")\n"
   ]
  },
  {
   "cell_type": "code",
   "execution_count": null,
   "metadata": {},
   "outputs": [],
   "source": []
  }
 ],
 "metadata": {
  "kernelspec": {
   "display_name": "quants-lab",
   "language": "python",
   "name": "python3"
  },
  "language_info": {
   "codemirror_mode": {
    "name": "ipython",
    "version": 3
   },
   "file_extension": ".py",
   "mimetype": "text/x-python",
   "name": "python",
   "nbconvert_exporter": "python",
   "pygments_lexer": "ipython3",
   "version": "3.10.15"
  }
 },
 "nbformat": 4,
 "nbformat_minor": 2
}
