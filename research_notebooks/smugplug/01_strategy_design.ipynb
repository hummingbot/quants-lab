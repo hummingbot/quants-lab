{
 "cells": [
  {
   "cell_type": "markdown",
   "metadata": {
    "collapsed": false
   },
   "source": [
    "# RESEARCH NOTEBOOK --> SmugPlug"
   ]
  },
  {
   "cell_type": "code",
   "execution_count": null,
   "metadata": {
    "collapsed": false
   },
   "outputs": [],
   "source": [
    "# This is necessary to recognize the modules\n",
    "import os\n",
    "import sys\n",
    "import warnings\n",
    "\n",
    "warnings.filterwarnings(\"ignore\")\n",
    "\n",
    "root_path = os.path.abspath(os.path.join(os.getcwd(), \"../..\"))\n",
    "sys.path.append(root_path)"
   ]
  },
  {
   "cell_type": "code",
   "execution_count": null,
   "metadata": {
    "collapsed": false
   },
   "outputs": [],
   "source": [
    "import pandas_ta as ta  # noqa: F401\n",
    "\n",
    "from core.data_sources import CLOBDataSource\n",
    "\n",
    "# Initialize the data source\n",
    "clob = CLOBDataSource()"
   ]
  },
  {
   "cell_type": "code",
   "execution_count": null,
   "metadata": {
    "collapsed": false
   },
   "outputs": [],
   "source": [
    "# Define the parameters\n",
    "exchange = \"binance_perpetual\"\n",
    "trading_pair = \"WLD-USDT\"\n",
    "timeframe = \"1h\"\n",
    "days = 30"
   ]
  },
  {
   "cell_type": "code",
   "execution_count": null,
   "metadata": {
    "collapsed": false
   },
   "outputs": [],
   "source": [
    "# Get the candles\n",
    "candles = await clob.get_candles_last_days(exchange, trading_pair, timeframe, days, from_trades=False)"
   ]
  },
  {
   "cell_type": "code",
   "execution_count": null,
   "metadata": {
    "collapsed": false
   },
   "outputs": [],
   "source": [
    "candles.data"
   ]
  },
  {
   "cell_type": "code",
   "execution_count": null,
   "metadata": {
    "collapsed": false
   },
   "outputs": [],
   "source": [
    "candles.plot(type=\"returns\", height=400, width=800)"
   ]
  },
  {
   "cell_type": "code",
   "execution_count": null,
   "metadata": {
    "collapsed": false
   },
   "outputs": [],
   "source": [
    "# EMAs\n",
    "ema_short = 8\n",
    "ema_medium = 29\n",
    "ema_long = 31\n",
    "\n",
    "# MACD\n",
    "macd_fast = 22\n",
    "macd_slow = 36\n",
    "macd_signal = 17\n",
    "\n",
    "# ATR\n",
    "atr_length = 11\n",
    "atr_multiplier = 1.5\n",
    "\n",
    "# Add indicators\n",
    "candles_df = candles.data\n",
    "candles_df.ta.macd(fast=macd_fast, slow=macd_slow, signal=macd_signal, append=True)\n",
    "candles_df.ta.atr(length=atr_length, append=True)\n",
    "candles_df.ta.ema(length=ema_short, append=True)\n",
    "candles_df.ta.ema(length=ema_medium, append=True)\n",
    "candles_df.ta.ema(length=ema_long, append=True)\n",
    "candles_df[\"long_atr_support\"] = candles_df[\"close\"].shift(1) - candles_df[f\"ATRr_{atr_length}\"] * atr_multiplier\n",
    "candles_df[\"short_atr_resistance\"] = candles_df[\"close\"].shift(1) + candles_df[f\"ATRr_{atr_length}\"] * atr_multiplier\n",
    "\n",
    "candles_df.tail(5)"
   ]
  },
  {
   "cell_type": "code",
   "execution_count": null,
   "metadata": {
    "collapsed": false
   },
   "outputs": [],
   "source": [
    "import plotly.graph_objects as go\n",
    "from plotly.subplots import make_subplots\n",
    "\n",
    "# Create figure with secondary y-axis\n",
    "fig = make_subplots(\n",
    "    rows=2, cols=1, shared_xaxes=True, vertical_spacing=0.03, subplot_titles=(trading_pair, \"MACD\"), row_heights=[0.7, 0.3]\n",
    ")\n",
    "\n",
    "# Add candlestick\n",
    "fig.add_trace(\n",
    "    go.Candlestick(\n",
    "        x=candles_df.index,\n",
    "        open=candles_df[\"open\"],\n",
    "        high=candles_df[\"high\"],\n",
    "        low=candles_df[\"low\"],\n",
    "        close=candles_df[\"close\"],\n",
    "        name=\"OHLC\",\n",
    "    ),\n",
    "    row=1,\n",
    "    col=1,\n",
    ")\n",
    "\n",
    "# Add EMAs\n",
    "ema_fast = f\"EMA_{ema_short}\"\n",
    "ema_med = f\"EMA_{ema_medium}\"\n",
    "ema_slow = f\"EMA_{ema_long}\"\n",
    "\n",
    "fig.add_trace(\n",
    "    go.Scatter(x=candles_df.index, y=candles_df[ema_fast], line=dict(color=\"#00FF00\", width=2), name=\"Fast EMA\"), row=1, col=1\n",
    ")\n",
    "fig.add_trace(\n",
    "    go.Scatter(x=candles_df.index, y=candles_df[ema_med], line=dict(color=\"#FFA500\", width=2), name=\"Medium EMA\"), row=1, col=1\n",
    ")\n",
    "fig.add_trace(\n",
    "    go.Scatter(x=candles_df.index, y=candles_df[ema_slow], line=dict(color=\"#0000FF\", width=2), name=\"Slow EMA\"), row=1, col=1\n",
    ")\n",
    "\n",
    "# Add MACD\n",
    "macd = f\"MACD_{macd_fast}_{macd_slow}_{macd_signal}\"\n",
    "macd_s = f\"MACDs_{macd_fast}_{macd_slow}_{macd_signal}\"\n",
    "macd_hist = f\"MACDh_{macd_fast}_{macd_slow}_{macd_signal}\"\n",
    "\n",
    "fig.add_trace(go.Scatter(x=candles_df.index, y=candles_df[macd], line=dict(color=\"#00FFFF\", width=2), name=\"MACD\"), row=2, col=1)\n",
    "fig.add_trace(\n",
    "    go.Scatter(x=candles_df.index, y=candles_df[macd_s], line=dict(color=\"#FFA500\", width=2), name=\"Signal\"), row=2, col=1\n",
    ")\n",
    "fig.add_trace(\n",
    "    go.Bar(\n",
    "        x=candles_df.index,\n",
    "        y=candles_df[macd_hist],\n",
    "        name=\"Histogram\",\n",
    "        marker_color=candles_df[macd_hist].apply(lambda x: \"#00FF00\" if x >= 0 else \"#FF0000\"),\n",
    "    ),\n",
    "    row=2,\n",
    "    col=1,\n",
    ")\n",
    "\n",
    "# Add ATR support and resistance\n",
    "fig.add_trace(\n",
    "    go.Scatter(\n",
    "        x=candles_df.index, y=candles_df[\"long_atr_support\"], line=dict(color=\"#00FF00\", width=2), name=\"Long ATR Support\"\n",
    "    ),\n",
    "    row=1,\n",
    "    col=1,\n",
    ")\n",
    "fig.add_trace(\n",
    "    go.Scatter(\n",
    "        x=candles_df.index, y=candles_df[\"short_atr_resistance\"], line=dict(color=\"#FF0000\", width=2), name=\"Short ATR Resistance\"\n",
    "    ),\n",
    "    row=1,\n",
    "    col=1,\n",
    ")\n",
    "\n",
    "# Update layout for dark theme\n",
    "fig.update_layout(\n",
    "    title=f\"{exchange} - {trading_pair} - {timeframe}\",\n",
    "    width=1200,\n",
    "    height=800,\n",
    "    font=dict(color=\"#e1e1e1\"),\n",
    "    plot_bgcolor=\"#1e1e1e\",\n",
    "    paper_bgcolor=\"#1e1e1e\",\n",
    "    xaxis_rangeslider_visible=False,\n",
    "    legend=dict(bgcolor=\"rgba(0,0,0,0)\"),\n",
    "    yaxis=dict(title=\"Price\"),\n",
    "    yaxis2=dict(title=\"MACD\", showgrid=False),\n",
    "    showlegend=False,\n",
    ")\n",
    "\n",
    "# Update axes\n",
    "fig.update_xaxes(showgrid=True, gridwidth=1, gridcolor=\"#323232\", zeroline=False)\n",
    "fig.update_yaxes(showgrid=True, gridwidth=1, gridcolor=\"#323232\", zeroline=False)\n",
    "\n",
    "# Show the plot\n",
    "fig.show()"
   ]
  },
  {
   "cell_type": "code",
   "execution_count": null,
   "metadata": {
    "collapsed": false
   },
   "outputs": [],
   "source": [
    "# Generate signal\n",
    "\n",
    "\n",
    "macdh = candles_df[f\"MACDh_{macd_fast}_{macd_slow}_{macd_signal}\"]\n",
    "short_ema = candles_df[f\"EMA_{ema_short}\"]\n",
    "medium_ema = candles_df[f\"EMA_{ema_medium}\"]\n",
    "long_ema = candles_df[f\"EMA_{ema_long}\"]\n",
    "close = candles_df[\"close\"]\n",
    "\n",
    "\n",
    "long_condition = (\n",
    "    (short_ema > medium_ema)\n",
    "    & (medium_ema > long_ema)\n",
    "    & (close > short_ema)\n",
    "    & (close > candles_df[\"long_atr_support\"])\n",
    "    & (macdh > 0)\n",
    ")\n",
    "short_condition = (\n",
    "    (short_ema < medium_ema)\n",
    "    & (medium_ema < long_ema)\n",
    "    & (close < short_ema)\n",
    "    & (close < candles_df[\"short_atr_resistance\"])\n",
    "    & (macdh < 0)\n",
    ")\n",
    "\n",
    "candles_df[\"signal\"] = 0\n",
    "candles_df.loc[long_condition, \"signal\"] = 1\n",
    "candles_df.loc[short_condition, \"signal\"] = -1"
   ]
  },
  {
   "cell_type": "code",
   "execution_count": null,
   "metadata": {
    "collapsed": false
   },
   "outputs": [],
   "source": [
    "import plotly.graph_objects as go\n",
    "from plotly.subplots import make_subplots\n",
    "\n",
    "fig = make_subplots(\n",
    "    rows=3,\n",
    "    cols=1,\n",
    "    shared_xaxes=True,\n",
    "    vertical_spacing=0.02,\n",
    "    subplot_titles=(\"OHLC with BB\", \"MACD\", \"Signal\"),\n",
    "    row_heights=[0.6, 0.2, 0.2],\n",
    ")\n",
    "\n",
    "# Add candlestick\n",
    "fig.add_trace(\n",
    "    go.Candlestick(\n",
    "        x=candles_df.index,\n",
    "        open=candles_df[\"open\"],\n",
    "        high=candles_df[\"high\"],\n",
    "        low=candles_df[\"low\"],\n",
    "        close=candles_df[\"close\"],\n",
    "        name=\"Candlesticks\",\n",
    "    ),\n",
    "    row=1,\n",
    "    col=1,\n",
    ")\n",
    "\n",
    "\n",
    "# Add EMAs\n",
    "ema_fast = f\"EMA_{ema_short}\"\n",
    "ema_med = f\"EMA_{ema_medium}\"\n",
    "ema_slow = f\"EMA_{ema_long}\"\n",
    "\n",
    "fig.add_trace(\n",
    "    go.Scatter(x=candles_df.index, y=candles_df[ema_fast], line=dict(color=\"#00FF00\", width=2), name=\"Fast EMA\"), row=1, col=1\n",
    ")\n",
    "fig.add_trace(\n",
    "    go.Scatter(x=candles_df.index, y=candles_df[ema_med], line=dict(color=\"#FFA500\", width=2), name=\"Medium EMA\"), row=1, col=1\n",
    ")\n",
    "fig.add_trace(\n",
    "    go.Scatter(x=candles_df.index, y=candles_df[ema_slow], line=dict(color=\"#0000FF\", width=2), name=\"Slow EMA\"), row=1, col=1\n",
    ")\n",
    "\n",
    "# Add MACD\n",
    "macd = f\"MACD_{macd_fast}_{macd_slow}_{macd_signal}\"\n",
    "macd_s = f\"MACDs_{macd_fast}_{macd_slow}_{macd_signal}\"\n",
    "macd_hist = f\"MACDh_{macd_fast}_{macd_slow}_{macd_signal}\"\n",
    "\n",
    "fig.add_trace(go.Scatter(x=candles_df.index, y=candles_df[macd], line=dict(color=\"#00FFFF\", width=2), name=\"MACD\"), row=2, col=1)\n",
    "fig.add_trace(\n",
    "    go.Scatter(x=candles_df.index, y=candles_df[macd_s], line=dict(color=\"#FFA500\", width=2), name=\"Signal\"), row=2, col=1\n",
    ")\n",
    "fig.add_trace(\n",
    "    go.Bar(\n",
    "        x=candles_df.index,\n",
    "        y=candles_df[macd_hist],\n",
    "        name=\"Histogram\",\n",
    "        marker_color=candles_df[macd_hist].apply(lambda x: \"#00FF00\" if x >= 0 else \"#FF0000\"),\n",
    "    ),\n",
    "    row=2,\n",
    "    col=1,\n",
    ")\n",
    "\n",
    "# Add ATR support and resistance\n",
    "fig.add_trace(\n",
    "    go.Scatter(\n",
    "        x=candles_df.index, y=candles_df[\"long_atr_support\"], line=dict(color=\"#00FF00\", width=2), name=\"Long ATR Support\"\n",
    "    ),\n",
    "    row=1,\n",
    "    col=1,\n",
    ")\n",
    "fig.add_trace(\n",
    "    go.Scatter(\n",
    "        x=candles_df.index, y=candles_df[\"short_atr_resistance\"], line=dict(color=\"#FF0000\", width=2), name=\"Short ATR Resistance\"\n",
    "    ),\n",
    "    row=1,\n",
    "    col=1,\n",
    ")\n",
    "\n",
    "# Add the signal line\n",
    "fig.add_trace(\n",
    "    go.Scatter(x=candles_df.index, y=candles_df[\"signal\"], mode=\"lines\", name=\"Signal\", line=dict(color=\"white\")), row=3, col=1\n",
    ")\n",
    "\n",
    "# Update layout for dark theme\n",
    "fig.update_layout(\n",
    "    title=f\"{exchange} - {trading_pair} - {timeframe}\",\n",
    "    width=1500,\n",
    "    height=1000,\n",
    "    font=dict(color=\"#e1e1e1\"),\n",
    "    plot_bgcolor=\"#1e1e1e\",\n",
    "    paper_bgcolor=\"#1e1e1e\",\n",
    "    xaxis_rangeslider_visible=False,\n",
    "    legend=dict(bgcolor=\"rgba(0,0,0,0)\"),\n",
    "    yaxis=dict(title=\"Price\"),\n",
    "    yaxis2=dict(title=\"MACD\", showgrid=False),\n",
    "    yaxis3=dict(title=\"Signal\", showgrid=False),\n",
    "    showlegend=False,\n",
    ")\n",
    "\n",
    "# Update axes\n",
    "fig.update_xaxes(showgrid=True, gridwidth=1, gridcolor=\"#323232\", zeroline=False)\n",
    "fig.update_yaxes(showgrid=True, gridwidth=1, gridcolor=\"#323232\", zeroline=False)\n",
    "\n",
    "# Show the plot\n",
    "fig.show()"
   ]
  },
  {
   "cell_type": "markdown",
   "metadata": {
    "collapsed": false
   },
   "source": [
    "# CONCLUSION\n",
    "\n",
    "In this notebook, we have implemented a strategy combining the MACD (Moving Average Convergence Divergence) indicator with Bollinger Bands. We've visualized these indicators along with the price data and generated signals based on their interactions. This approach provides a solid foundation for our trading strategy.\n",
    " \n",
    "## Key components of our strategy include:\n",
    " 1. MACD for trend identification\n",
    " 2. Bollinger Bands for volatility measurement and potential reversal points\n",
    " 3. A signal line derived from the combination of these indicators\n",
    " \n",
    " The next step is to backtest this strategy to evaluate its profitability and robustness. For this purpose, we have created a controller file named `macd_bb.py` in this folder. This file implements the logic we've developed here, allowing us to conduct comprehensive backtests in the subsequent notebook."
   ]
  },
  {
   "cell_type": "markdown",
   "metadata": {},
   "source": []
  }
 ],
 "metadata": {
  "kernelspec": {
   "display_name": "quants-lab",
   "language": "python",
   "name": "python3"
  },
  "language_info": {
   "codemirror_mode": {
    "name": "ipython",
    "version": 3
   },
   "file_extension": ".py",
   "mimetype": "text/x-python",
   "name": "python",
   "nbconvert_exporter": "python",
   "pygments_lexer": "ipython3",
   "version": "3.12.11"
  }
 },
 "nbformat": 4,
 "nbformat_minor": 0
}
