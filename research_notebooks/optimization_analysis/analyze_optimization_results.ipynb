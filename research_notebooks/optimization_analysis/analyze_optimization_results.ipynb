{
 "cells": [
  {
   "cell_type": "code",
   "metadata": {
    "collapsed": false
   },
   "source": [
    "import os\n",
    "import sys\n",
    "\n",
    "import pandas as pd\n",
    "\n",
    "root_path = os.path.abspath(os.path.join(os.getcwd(), '../..'))\n",
    "sys.path.append(root_path)"
   ],
   "outputs": [],
   "execution_count": null
  },
  {
   "cell_type": "code",
   "metadata": {},
   "source": [
    "from core.backtesting.optimizer import StrategyOptimizer\n",
    "\n",
    "optimizer = StrategyOptimizer(root_path=root_path)\n",
    "optimizer.get_all_study_names()\n"
   ],
   "outputs": [],
   "execution_count": null
  },
  {
   "cell_type": "code",
   "metadata": {},
   "source": [
    "study_name = \"trend_example\"\n",
    "df = optimizer.get_study_trials_df(study_name)\n",
    "df"
   ],
   "outputs": [],
   "execution_count": null
  },
  {
   "cell_type": "code",
   "metadata": {},
   "source": [
    "df_filtered = df[(df[\"value\"] > 1) & (df[\"total_executors\"] > 400)].sort_values(\"total_executors\", ascending=False)\n",
    "df_filtered"
   ],
   "outputs": [],
   "execution_count": null
  },
  {
   "cell_type": "code",
   "metadata": {},
   "source": [
    "import plotly.express as px\n",
    "\n",
    "px.scatter(df_filtered, x=\"total_executors\", y=\"sharpe_ratio\", color=\"net_pnl\", hover_data=[\"number\"])"
   ],
   "outputs": [],
   "execution_count": null
  },
  {
   "cell_type": "code",
   "metadata": {
    "collapsed": false
   },
   "source": "from core.services.backend_api_client import BackendAPIClient\n",
   "outputs": [],
   "execution_count": null
  },
  {
   "metadata": {},
   "cell_type": "code",
   "source": [
    "import json\n",
    "\n",
    "\n",
    "top_configs = [json.loads(config) for config in df_filtered[\"config\"].iloc[:5].to_list()]\n",
    "top_configs"
   ],
   "outputs": [],
   "execution_count": null
  },
  {
   "metadata": {},
   "cell_type": "code",
   "source": [
    "for config in top_configs:\n",
    "    await client.add_controller_config(config)"
   ],
   "outputs": [],
   "execution_count": null
  },
  {
   "cell_type": "code",
   "metadata": {
    "collapsed": false
   },
   "source": [
    "await client.deploy_script_with_controllers(\n",
    "    bot_name=\"test_1\",\n",
    "    controller_configs=[config[\"id\"] + \".yml\" for config in top_configs],\n",
    "    image_name=\"hummingbot/hummingbot:latest\",\n",
    "    max_global_drawdown=50,\n",
    "    max_controller_drawdown=20,\n",
    ")"
   ],
   "outputs": [],
   "execution_count": null
  },
  {
   "metadata": {},
   "cell_type": "code",
   "source": "",
   "outputs": [],
   "execution_count": null
  }
 ],
 "metadata": {
  "kernelspec": {
   "display_name": "Python 3",
   "language": "python",
   "name": "python3"
  },
  "language_info": {
   "codemirror_mode": {
    "name": "ipython",
    "version": 3
   },
   "file_extension": ".py",
   "mimetype": "text/x-python",
   "name": "python",
   "nbconvert_exporter": "python",
   "pygments_lexer": "ipython3",
   "version": "3.10.15"
  }
 },
 "nbformat": 4,
 "nbformat_minor": 0
}
