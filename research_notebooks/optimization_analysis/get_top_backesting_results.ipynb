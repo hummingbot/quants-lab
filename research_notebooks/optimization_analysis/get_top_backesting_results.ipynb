{
 "cells": [
  {
   "cell_type": "code",
   "metadata": {
    "collapsed": false
   },
   "source": [
    "import os\n",
    "import sys\n",
    "import pandas as pd\n",
    "\n",
    "root_path = os.path.abspath(os.path.join(os.getcwd(), '../..'))\n",
    "sys.path.append(root_path)"
   ],
   "outputs": [],
   "execution_count": null
  },
  {
   "cell_type": "code",
   "metadata": {
    "collapsed": false
   },
   "source": [
    "from core.backtesting.optimizer import StrategyOptimizer\n",
    "import json\n",
    "\n",
    "optimizer = StrategyOptimizer(root_path=root_path)\n",
    "dfs = []\n",
    "for study_name in [\"xgridt_2024-11-22\"]:\n",
    "    trials_df = optimizer.get_study_trials_df(study_name)\n",
    "    trials_df[\"study_name\"] = study_name\n",
    "    dfs.append(trials_df)\n",
    "trials = pd.concat(dfs)\n",
    "def preprocess_trials_df(trials_df):\n",
    "    df = trials_df.copy()\n",
    "    df.columns = [col.replace(\"params_\", \"\") if col.startswith(\"params_\") else col for col in df.columns]\n",
    "    df[\"executors\"] = df[\"executors\"].apply(lambda x: json.loads(x))\n",
    "    df[\"config\"] = df[\"config\"].apply(lambda x: json.loads(x))\n",
    "    df[\"trading_pair\"] = df[\"config\"].apply(lambda x: x['trading_pair'])\n",
    "    df[\"from_timestamp\"] = df[\"executors\"].apply(\n",
    "        lambda x: pd.to_datetime(pd.Series(x[\"timestamp\"].values()).min(), unit=\"s\"))\n",
    "    df[\"to_timestamp\"] = df[\"executors\"].apply(\n",
    "        lambda x: pd.to_datetime(pd.Series(x[\"close_timestamp\"].values()).max(), unit=\"s\"))\n",
    "    return df\n",
    "trials = preprocess_trials_df(trials)\n",
    "\n",
    "trials['from_timestamp'] = pd.to_datetime(trials['from_timestamp'])\n",
    "trials['to_timestamp'] = pd.to_datetime(trials['to_timestamp'])\n",
    "trials['days_diff'] = (trials['to_timestamp'] - trials['from_timestamp']).dt.total_seconds() / 86400\n",
    "trials['executors_per_day'] = trials['total_executors'] / trials['days_diff']\n",
    "trials['volume_per_day'] = trials['total_volume'] / trials['days_diff']"
   ],
   "outputs": [],
   "execution_count": null
  },
  {
   "cell_type": "code",
   "metadata": {},
   "source": [
    "len(trials)"
   ],
   "outputs": [],
   "execution_count": null
  },
  {
   "cell_type": "code",
   "metadata": {},
   "source": [
    "trials.drop_duplicates(subset=[\"config\"], inplace=True)\n",
    "len(trials)"
   ],
   "outputs": [],
   "execution_count": null
  },
  {
   "cell_type": "code",
   "metadata": {},
   "source": [
    "def get_best_trials(df, top_results_per_pair=3):\n",
    "    final_df = pd.DataFrame()\n",
    "\n",
    "    for trading_pair in df['trading_pair'].unique():\n",
    "        trading_pair_df = df[(df['trading_pair'] == trading_pair) & (df['executors'])]\n",
    "        # filtered = trading_pair_df[\n",
    "        #     (trading_pair_df['executors_per_day'] >= trading_pair_df['executors_per_day'].median()) &\n",
    "        #     (trading_pair_df['volume_per_day'] >= trading_pair_df['volume_per_day'].median()) &\n",
    "        #     (trading_pair_df['sharpe_ratio'] >= trading_pair_df['sharpe_ratio'].median()) &\n",
    "        #     (trading_pair_df['max_drawdown_pct'] <= trading_pair_df['max_drawdown_pct'].median())\n",
    "        # ]\n",
    "        filtered = trading_pair_df.copy()\n",
    "\n",
    "        if filtered.empty: \n",
    "            continue\n",
    "\n",
    "        normalized_columns = ['executors_per_day', 'volume_per_day', 'sharpe_ratio', 'max_drawdown_pct']\n",
    "        for col in normalized_columns:\n",
    "            filtered[col] = filtered[col] / filtered[col].max()\n",
    "\n",
    "        filtered['score'] = (\n",
    "            filtered['executors_per_day'] *\n",
    "            filtered['volume_per_day'] *\n",
    "            filtered['sharpe_ratio'] *\n",
    "            (1 / filtered['max_drawdown_pct'])\n",
    "        )\n",
    "        filtered['score'] = filtered['score'] / filtered['score'].max()\n",
    "        filtered = filtered.dropna().sort_values(by='score', ascending=False).head(top_results_per_pair)\n",
    "\n",
    "        final_df = pd.concat([final_df, filtered[['study_name', 'config', 'trading_pair', 'max_drawdown_pct', 'executors_per_day', 'sharpe_ratio', 'volume_per_day', 'score']]])\n",
    "    return final_df\n",
    "\n",
    "# Call the function and pass the dataframe\n",
    "best_trials = get_best_trials(trials, top_results_per_pair=3)\n",
    "best_trials"
   ],
   "outputs": [],
   "execution_count": null
  },
  {
   "cell_type": "code",
   "metadata": {
    "collapsed": false
   },
   "source": [
    "import json\n",
    "from core.services.backend_api_client import BackendAPIClient\n",
    "\n",
    "configs = []\n",
    "for index, row in best_trials[best_trials[\"trading_pair\"] == \"PNUT-USDT\"].iterrows():\n",
    "    config = row[\"config\"]\n",
    "    config[\"natr_length\"] = 100\n",
    "    config[\"leverage\"] = 50\n",
    "    config[\"controller_type\"] = \"generic\"\n",
    "    config[\"id\"] = row[\"study_name\"] + \"_\" + row[\"trading_pair\"] + \"_\" + str(index)\n",
    "    config[\"prominence_pct_peaks\"] = 0.05\n",
    "    config[\"distance_between_peaks\"] = 100\n",
    "    config[\"executor_activation_bounds\"] = 0.001\n",
    "    config[\"general_activation_bounds\"] = 0.002\n",
    "    config[\"max_ranges_by_signal\"] = 1\n",
    "    config[\"min_spread_between_orders\"] = 0.0008\n",
    "    config[\"min_order_amount\"] = 5.5\n",
    "    config[\"max_open_orders\"] = 5\n",
    "    config[\"max_orders_per_batch\"] = 1\n",
    "    config[\"order_frequency\"] = 7\n",
    "    config[\"close_position_on_signal_change\"] = True\n",
    "    config[\"grid_update_interval\"] = None\n",
    "    config[\"take_profit_mode\"] = \"original\"\n",
    "    config[\"take_profit_step_multiplier\"] = 1\n",
    "    config[\"global_stop_loss\"] = 0.1\n",
    "    config[\"total_amount_quote\"] = 500\n",
    "    config.pop(\"cooldown_time\")\n",
    "    config.pop(\"stop_loss\")\n",
    "    config.pop(\"max_executors_per_side\")\n",
    "    config.pop(\"take_profit\")\n",
    "    config.pop(\"take_profit_order_type\")\n",
    "    config.pop(\"trailing_stop\")\n",
    "    config.pop(\"candles_config\")\n",
    "    configs.append(row[\"config\"])"
   ],
   "outputs": [],
   "execution_count": null
  },
  {
   "cell_type": "code",
   "metadata": {},
   "source": [
    "from core.utils import dump_dict_to_yaml\n",
    "\n",
    "dump_dict_to_yaml(configs[2], folder=\"/Users/dman/Documents/code/hummingbot/conf/controllers\")"
   ],
   "outputs": [],
   "execution_count": null
  },
  {
   "cell_type": "code",
   "metadata": {},
   "source": [
    "configs = best_trials[\"config\"].tolist()\n",
    "for config in configs:\n",
    "    config[\"total_amount_quote\"] = 100\n",
    "    config[\"id\"] = config[\"id\"].replace(\"_\", \"-\")\n",
    "\n",
    "print(configs)\n",
    "config_ids = [config[\"id\"] + \".yml\" for config in configs]\n",
    "print(config_ids)"
   ],
   "outputs": [],
   "execution_count": null
  },
  {
   "cell_type": "code",
   "metadata": {},
   "source": [
    "client = BackendAPIClient(\n",
    "    host=\"localhost\",\n",
    "    port=8000,\n",
    ")\n",
    "for config in configs:\n",
    "    await client.add_controller_config(config)\n"
   ],
   "outputs": [],
   "execution_count": null
  },
  {
   "cell_type": "code",
   "metadata": {},
   "source": [
    "await client.deploy_script_with_controllers(\n",
    "        bot_name=\"test_1\",\n",
    "        controller_configs=config_ids,\n",
    "        image_name=\"hummingbot/hummingbot:latest\",\n",
    "        max_global_drawdown=50,\n",
    "        max_controller_drawdown=20,\n",
    "    )"
   ],
   "outputs": [],
   "execution_count": null
  },
  {
   "cell_type": "code",
   "metadata": {},
   "source": [],
   "outputs": [],
   "execution_count": null
  }
 ],
 "metadata": {
  "kernelspec": {
   "display_name": "Python 3",
   "language": "python",
   "name": "python3"
  },
  "language_info": {
   "codemirror_mode": {
    "name": "ipython",
    "version": 3
   },
   "file_extension": ".py",
   "mimetype": "text/x-python",
   "name": "python",
   "nbconvert_exporter": "python",
   "pygments_lexer": "ipython3",
   "version": "3.10.15"
  }
 },
 "nbformat": 4,
 "nbformat_minor": 0
}
