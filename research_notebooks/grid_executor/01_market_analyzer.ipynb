{
 "cells": [
  {
   "cell_type": "code",
   "source": [
    "# This is necessary to recognize the modules\n",
    "import os\n",
    "import sys\n",
    "from decimal import Decimal\n",
    "import warnings\n",
    "\n",
    "warnings.filterwarnings(\"ignore\")\n",
    "\n",
    "root_path = os.path.abspath(os.path.join(os.getcwd(), '../..'))\n",
    "sys.path.append(root_path)"
   ],
   "metadata": {
    "collapsed": false
   },
   "outputs": [],
   "execution_count": null
  },
  {
   "cell_type": "code",
   "metadata": {
    "collapsed": false,
    "jupyter": {
     "outputs_hidden": false
    }
   },
   "source": [
    "from core.data_sources.clob import CLOBDataSource\n",
    "\n",
    "# Get trading rules and candles\n",
    "clob = CLOBDataSource()"
   ],
   "outputs": [],
   "execution_count": null
  },
  {
   "cell_type": "code",
   "metadata": {
    "collapsed": false,
    "jupyter": {
     "outputs_hidden": false
    }
   },
   "source": [
    "# Constants\n",
    "CONNECTOR_NAMES = [\"binance_perpetual\"]\n",
    "INTERVAL = \"15m\"\n",
    "DAYS = 30\n",
    "FETCH_CANDLES = True\n",
    "# Features configuration\n",
    "QUOTE_ASSET = \"USDT\"\n",
    "MIN_NOTIONAL_SIZE = 10\n",
    "VOLATILITY_WINDOW = 100\n",
    "VOLUME_SHORT_WINDOW = 20\n",
    "VOLUME_LONG_WINDOW = 100"
   ],
   "outputs": [],
   "execution_count": null
  },
  {
   "cell_type": "markdown",
   "metadata": {
    "collapsed": false,
    "jupyter": {
     "outputs_hidden": false
    }
   },
   "source": [
    "# Download data\n",
    "- Get trading rules\n",
    "- Get candles for the last x days"
   ]
  },
  {
   "cell_type": "code",
   "metadata": {
    "collapsed": false,
    "jupyter": {
     "outputs_hidden": false
    }
   },
   "source": [
    "import asyncio\n",
    "\n",
    "trading_pairs_by_exchange = {}\n",
    "for connector_name in CONNECTOR_NAMES:\n",
    "    trading_rules = await clob.get_trading_rules(connector_name)\n",
    "    trading_pairs = trading_rules.filter_by_quote_asset(QUOTE_ASSET)\\\n",
    "        .filter_by_min_notional_size(Decimal(MIN_NOTIONAL_SIZE))\\\n",
    "        .get_all_trading_pairs()\n",
    "    trading_pairs_by_exchange[connector_name] = set(trading_pairs)"
   ],
   "outputs": [],
   "execution_count": null
  },
  {
   "cell_type": "code",
   "source": [
    "trading_pairs = list(set.intersection(*trading_pairs_by_exchange.values()))"
   ],
   "metadata": {
    "collapsed": false
   },
   "outputs": [],
   "execution_count": null
  },
  {
   "cell_type": "code",
   "source": [
    "trading_pairs"
   ],
   "metadata": {
    "collapsed": false
   },
   "outputs": [],
   "execution_count": null
  },
  {
   "cell_type": "code",
   "source": [
    "BATCH_CANDLES_REQUEST = 100\n",
    "SLEEP_REQUEST = 2.0\n",
    "\n",
    "\n",
    "if FETCH_CANDLES:\n",
    "    number_of_calls = (len(trading_pairs) // BATCH_CANDLES_REQUEST) + 1\n",
    "\n",
    "    all_candles = {}\n",
    "\n",
    "    for i in range(number_of_calls):\n",
    "        print(f\"Batch {i + 1}/{number_of_calls}\")\n",
    "        start = i * BATCH_CANDLES_REQUEST\n",
    "        end = (i + 1) * BATCH_CANDLES_REQUEST\n",
    "        print(f\"Start: {start}, End: {end}\")\n",
    "        end = min(end, len(trading_pairs))\n",
    "        trading_pairs_batch = trading_pairs[start:end]\n",
    "\n",
    "        tasks = [clob.get_candles_last_days(\n",
    "        connector_name=CONNECTOR_NAMES[0],\n",
    "        trading_pair=trading_pair,\n",
    "        interval=INTERVAL,\n",
    "        days=DAYS,\n",
    "        ) for trading_pair in trading_pairs_batch]\n",
    "\n",
    "        candles = await asyncio.gather(*tasks)\n",
    "        candles = {trading_pair: candle for trading_pair, candle in zip(trading_pairs, candles)}\n",
    "        all_candles.update(candles)\n",
    "        if i != number_of_calls - 1:\n",
    "            print(f\"Sleeping for {SLEEP_REQUEST} seconds\")\n",
    "            await asyncio.sleep(SLEEP_REQUEST)\n",
    "    clob.dump_candles_cache(os.path.join(root_path, \"data\"))\n",
    "else:\n",
    "    clob.load_candles_cache(os.path.join(root_path, \"data\"))"
   ],
   "metadata": {
    "collapsed": false
   },
   "outputs": [],
   "execution_count": null
  },
  {
   "cell_type": "code",
   "source": [
    "candles = [value for key, value in clob.candles_cache.items() if key[2] == INTERVAL and key[0] == CONNECTOR_NAMES[0] and key[1] in trading_pairs]"
   ],
   "metadata": {
    "collapsed": false
   },
   "outputs": [],
   "execution_count": null
  },
  {
   "cell_type": "code",
   "metadata": {
    "collapsed": false,
    "jupyter": {
     "outputs_hidden": false
    }
   },
   "source": [
    "from core.features.candles.volatility import VolatilityConfig\n",
    "from core.features.candles.volume import VolumeConfig\n",
    "from research_notebooks.grid_strike.utils import generate_report\n",
    "\n",
    "report = generate_report(\n",
    "    candles=candles,\n",
    "    volatility_config=VolatilityConfig(window=VOLATILITY_WINDOW),\n",
    "    volume_config=VolumeConfig(short_window=VOLUME_SHORT_WINDOW, long_window=VOLUME_LONG_WINDOW))\n",
    "report"
   ],
   "outputs": [],
   "execution_count": null
  },
  {
   "cell_type": "code",
   "metadata": {
    "collapsed": false,
    "jupyter": {
     "outputs_hidden": false
    }
   },
   "source": [
    "from research_notebooks.grid_strike.utils import filter_top_markets\n",
    "\n",
    "TOP_X_MARKETS = 5  # Number of top markets to select\n",
    "VOLUME_THRESHOLD = 0.4\n",
    "VOLATILITY_THRESHOLD = 0.4\n",
    "\n",
    "top_markets = filter_top_markets(report_df=report, volume_threshold=0.4, volatility_threshold=0.4)\n",
    "top_markets_candles = {candle.trading_pair: candle for candle in candles if candle.trading_pair in top_markets[\"trading_pair\"].values}\n",
    "top_markets"
   ],
   "outputs": [],
   "execution_count": null
  },
  {
   "cell_type": "code",
   "source": [
    "for i, row in top_markets.head(TOP_X_MARKETS).iterrows():\n",
    "    fig = top_markets_candles[row[\"trading_pair\"]].fig()\n",
    "    fig.add_hline(row[\"sniper_upper_price\"], line_dash=\"dot\", line_color=\"red\")\n",
    "    fig.add_hline(row[\"sniper_lower_price\"], line_dash=\"dot\", line_color=\"green\")\n",
    "    fig.add_hline(row[\"grid_upper_price\"], line_dash=\"dot\", line_color=\"blue\")\n",
    "    fig.add_hline(row[\"grid_lower_price\"], line_dash=\"dot\", line_color=\"blue\")\n",
    "    fig.add_hline(row[\"grid_mid_price\"], line_dash=\"dot\", line_color=\"blue\")\n",
    "    fig.show()\n"
   ],
   "metadata": {
    "collapsed": false
   },
   "outputs": [],
   "execution_count": null
  },
  {
   "cell_type": "code",
   "metadata": {
    "collapsed": false,
    "jupyter": {
     "outputs_hidden": false
    }
   },
   "source": [
    "\n",
    "from research_notebooks.grid_strike.utils import generate_configs\n",
    "\n",
    "VERSION = \"0.1\"\n",
    "TOTAL_AMOUNT_QUOTE = 1000  # General total amount for all markets\n",
    "GRID_ALLOCATION = 0.85  # Grid allocation\n",
    "INVENTORY_BUFFER = 0.02\n",
    "N_LEVELS = int(TOTAL_AMOUNT_QUOTE * GRID_ALLOCATION / (MIN_NOTIONAL_SIZE * 1.5))  # Number of levels\n",
    "ACTIVATION_BOUNDS = 0.01  # Input activation bounds\n",
    "\n",
    "\n",
    "strategy_configs = generate_configs(\n",
    "    version=VERSION,\n",
    "    connector_name=CONNECTOR_NAMES[0],\n",
    "    top_markets=top_markets.head(TOP_X_MARKETS),\n",
    "    total_amount_quote=TOTAL_AMOUNT_QUOTE,\n",
    "    activation_bounds=ACTIVATION_BOUNDS,\n",
    "    grid_allocation=GRID_ALLOCATION,\n",
    "    inventory_buffer=INVENTORY_BUFFER,\n",
    "    n_levels=N_LEVELS,\n",
    ")\n",
    "strategy_configs"
   ],
   "outputs": [],
   "execution_count": null
  },
  {
   "cell_type": "code",
   "source": [
    "from core.utils import dump_dict_to_yaml\n",
    "for config in strategy_configs:\n",
    "    dump_dict_to_yaml(config=config, folder=\"configs\")"
   ],
   "metadata": {
    "collapsed": false
   },
   "outputs": [],
   "execution_count": null
  },
  {
   "cell_type": "code",
   "source": [
    "from dotenv import load_dotenv\n",
    "from core.services.backend_api_client import BackendAPIClient\n",
    "\n",
    "load_dotenv()\n",
    "server = os.getenv(\"SERVERS\").split(\",\")[-1]\n",
    "client = BackendAPIClient(host=server)"
   ],
   "metadata": {
    "collapsed": false
   },
   "outputs": [],
   "execution_count": null
  },
  {
   "cell_type": "code",
   "source": [
    "client.get_accounts()"
   ],
   "metadata": {
    "collapsed": false
   },
   "outputs": [],
   "execution_count": null
  },
  {
   "cell_type": "code",
   "source": [
    "for config in strategy_configs:\n",
    "    client.add_controller_config(config)"
   ],
   "metadata": {
    "collapsed": false
   },
   "outputs": [],
   "execution_count": null
  },
  {
   "cell_type": "code",
   "source": [
    "controller_configs = [f\"{config['id']}.yml\" for config in strategy_configs]\n",
    "client.deploy_script_with_controllers(\n",
    "    bot_name=\"grid_strike_binance_nikita\",\n",
    "    controller_configs=controller_configs,\n",
    "    image_name=\"hummingbot/hummingbot:latest\",\n",
    "    credentials=\"master_account\",\n",
    ")"
   ],
   "metadata": {
    "collapsed": false
   },
   "outputs": [],
   "execution_count": null
  },
  {
   "cell_type": "code",
   "source": [],
   "metadata": {
    "collapsed": false
   },
   "outputs": [],
   "execution_count": null
  }
 ],
 "metadata": {
  "kernelspec": {
   "display_name": "Python 3 (ipykernel)",
   "language": "python",
   "name": "python3"
  },
  "language_info": {
   "codemirror_mode": {
    "name": "ipython",
    "version": 3
   },
   "file_extension": ".py",
   "mimetype": "text/x-python",
   "name": "python",
   "nbconvert_exporter": "python",
   "pygments_lexer": "ipython3",
   "version": "3.10.14"
  }
 },
 "nbformat": 4,
 "nbformat_minor": 4
}
