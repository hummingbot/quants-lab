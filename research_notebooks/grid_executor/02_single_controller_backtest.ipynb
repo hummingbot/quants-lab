{
 "cells": [
  {
   "cell_type": "code",
   "metadata": {
    "collapsed": false
   },
   "source": [
    "# This is necessary to recognize the modules\n",
    "import os\n",
    "import sys\n",
    "from decimal import Decimal\n",
    "import warnings\n",
    "\n",
    "warnings.filterwarnings(\"ignore\")\n",
    "\n",
    "root_path = os.path.abspath(os.path.join(os.getcwd(), '../..'))\n",
    "sys.path.append(root_path)"
   ],
   "outputs": [],
   "execution_count": null
  },
  {
   "cell_type": "code",
   "metadata": {
    "collapsed": false,
    "jupyter": {
     "outputs_hidden": false
    }
   },
   "source": [
    "from core.backtesting import BacktestingEngine\n",
    "\n",
    "backtesting = BacktestingEngine(root_path=root_path, load_cached_data=False)"
   ],
   "outputs": [],
   "execution_count": null
  },
  {
   "cell_type": "code",
   "metadata": {
    "collapsed": false,
    "jupyter": {
     "outputs_hidden": false
    }
   },
   "source": [
    "from controllers.generic.grid_strike import GridStrikeConfig\n",
    "import datetime\n",
    "from decimal import Decimal\n",
    "\n",
    "# Controller configuration\n",
    "connector_name = \"binance\"\n",
    "trading_pair = \"SOL-FDUSD\"\n",
    "total_amount_quote = 500\n",
    "grid_upper_price = 140\n",
    "grid_mid_price = 130\n",
    "grid_lower_price = 125\n",
    "sniper_upper_price = 145\n",
    "sniper_lower_price = 120\n",
    "grid_step = 0.005\n",
    "\n",
    "\n",
    "start = int(datetime.datetime(2024, 9, 1).timestamp())\n",
    "end = int(datetime.datetime(2024, 9, 12).timestamp())\n",
    "\n",
    "\n",
    "# Creating the instance of the configuration and the controller\n",
    "config = GridStrikeConfig(\n",
    "    connector_name=connector_name,\n",
    "    trading_pair=trading_pair,\n",
    "    total_amount_quote=Decimal(total_amount_quote),\n",
    "    grid_upper_price=grid_upper_price,\n",
    "    grid_mid_price=grid_mid_price,\n",
    "    grid_lower_price=grid_lower_price,\n",
    "    sniper_upper_price=sniper_upper_price,\n",
    "    sniper_lower_price=sniper_lower_price,\n",
    "    grid_step=grid_step,\n",
    "    rebalanced=True,\n",
    ")"
   ],
   "outputs": [],
   "execution_count": null
  },
  {
   "cell_type": "code",
   "metadata": {
    "collapsed": false
   },
   "source": [
    "from research_notebooks.grid_strike.grid_strike_bt import GridStrikeBT\n",
    "\n",
    "# Running the backtesting this will output a backtesting result object that has built in methods to visualize the results\n",
    "backtester = GridStrikeBT()\n",
    "backtesting_result = await backtesting.run_backtesting(\n",
    "    config=config,\n",
    "    start=start,\n",
    "    end=end,\n",
    "    backtesting_resolution=\"1m\",\n",
    "    trade_cost=0,\n",
    "    backtester=backtester,\n",
    ")"
   ],
   "outputs": [],
   "execution_count": null
  },
  {
   "cell_type": "code",
   "metadata": {},
   "source": [
    "# Let's see what is inside the backtesting results\n",
    "print(backtesting_result.get_results_summary())\n",
    "backtesting_result.get_backtesting_figure()"
   ],
   "outputs": [],
   "execution_count": null
  }
 ],
 "metadata": {
  "kernelspec": {
   "display_name": "Python 3 (ipykernel)",
   "language": "python",
   "name": "python3"
  },
  "language_info": {
   "codemirror_mode": {
    "name": "ipython",
    "version": 3
   },
   "file_extension": ".py",
   "mimetype": "text/x-python",
   "name": "python",
   "nbconvert_exporter": "python",
   "pygments_lexer": "ipython3",
   "version": "3.10.14"
  }
 },
 "nbformat": 4,
 "nbformat_minor": 4
}
