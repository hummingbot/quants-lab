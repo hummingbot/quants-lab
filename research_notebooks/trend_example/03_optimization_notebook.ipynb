{
 "cells": [
  {
   "cell_type": "code",
   "metadata": {
    "collapsed": false
   },
   "source": [
    "import os\n",
    "import sys\n",
    "\n",
    "root_path = os.path.abspath(os.path.join(os.getcwd(), '../..'))\n",
    "sys.path.append(root_path)"
   ],
   "outputs": [],
   "execution_count": null
  },
  {
   "cell_type": "code",
   "metadata": {},
   "source": [
    "from core.backtesting.optimizer import BacktestingConfig, BaseStrategyConfigGenerator\n",
    "from hummingbot.strategy_v2.executors.position_executor.data_types import TrailingStop\n",
    "from controllers.directional_trading.smugplug import SmugPlugControllerConfig\n",
    "from decimal import Decimal\n",
    "\n",
    "\n",
    "class SmugPlugConfigGenerator(BaseStrategyConfigGenerator):\n",
    "    \"\"\"\n",
    "    Strategy configuration generator for SmugPlug optimization.\n",
    "    \"\"\"\n",
    "    async def generate_config(self, trial) -> BacktestingConfig:\n",
    "        # Controller configuration\n",
    "        connector_name = \"binance_perpetual\"\n",
    "        trading_pair = \"WLD-USDT\"\n",
    "        interval = \"1h\"\n",
    "        macd_fast = trial.suggest_int(\"macd_fast\", 9, 59)\n",
    "        macd_slow = trial.suggest_int(\"macd_slow\", macd_fast + 10, 201)\n",
    "        macd_signal = trial.suggest_int(\"macd_signal\", macd_fast + 5, 80)\n",
    "        atr_length = trial.suggest_int(\"atr_length\", 11, 201)\n",
    "        atr_multiplier = trial.suggest_float(\"atr_multiplier\", 0.5, 1.5)\n",
    "        short_ema = trial.suggest_int(\"short_ema\", 9, 59)\n",
    "        medium_ema = trial.suggest_int(\"medium_ema\", short_ema + 10, 150)\n",
    "        long_ema = trial.suggest_int(\"long_ema\", medium_ema + 10, 201)\n",
    "        # Suggest hyperparameters using the trial object\n",
    "        total_amount_quote = 1000\n",
    "        max_executors_per_side = trial.suggest_int(\"max_executors_per_side\", 1, 3)\n",
    "        take_profit = trial.suggest_float(\"take_profit\", 0.04, 0.05, step=0.01)\n",
    "        stop_loss = trial.suggest_float(\"stop_loss\", 0.01, 0.05, step=0.01)\n",
    "        trailing_stop_activation_price = trial.suggest_float(\"trailing_stop_activation_price\", 0.01, 0.02, step=0.005)\n",
    "        trailing_delta_ratio = trial.suggest_float(\"trailing_delta_ratio\", 0.1, 0.3, step=0.1)\n",
    "        trailing_stop_trailing_delta = trailing_stop_activation_price * trailing_delta_ratio\n",
    "        time_limit = 60 * 60 * 24 * 2\n",
    "        cooldown_time = 60 * 15\n",
    "\n",
    "        # Create the strategy configuration\n",
    "        config = SmugPlugControllerConfig(\n",
    "            connector_name=connector_name,\n",
    "            trading_pair=trading_pair,\n",
    "            interval=interval,\n",
    "            macd_fast=macd_fast,\n",
    "            macd_slow=macd_slow,\n",
    "            macd_signal=macd_signal,\n",
    "            atr_length=atr_length,\n",
    "            atr_multiplier=atr_multiplier,\n",
    "            ema_short=short_ema,\n",
    "            ema_medium=medium_ema,\n",
    "            ema_long=long_ema,\n",
    "            total_amount_quote=Decimal(total_amount_quote),\n",
    "            take_profit=Decimal(take_profit),\n",
    "            stop_loss=Decimal(stop_loss),\n",
    "            trailing_stop=TrailingStop(\n",
    "                activation_price=Decimal(trailing_stop_activation_price),\n",
    "                trailing_delta=Decimal(trailing_stop_trailing_delta),\n",
    "            ),\n",
    "            time_limit=time_limit,\n",
    "            max_executors_per_side=max_executors_per_side,\n",
    "            cooldown_time=cooldown_time,\n",
    "        )\n",
    "\n",
    "        # Return the configuration encapsulated in BacktestingConfig\n",
    "        return BacktestingConfig(config=config, start=self.start, end=self.end)"
   ],
   "outputs": [],
   "execution_count": null
  },
  {
   "cell_type": "code",
   "metadata": {},
   "source": [
    "from core.backtesting.optimizer import StrategyOptimizer\n",
    "import datetime\n",
    "\n",
    "start_date = datetime.datetime(2024, 8, 1)\n",
    "end_date = datetime.datetime(2024, 10, 1)\n",
    "config_generator = SmugPlugConfigGenerator(start_date=start_date, end_date=end_date)\n",
    "\n",
    "optimizer = StrategyOptimizer(root_path=root_path)\n",
    "# await optimizer.optimize(\n",
    "#     study_name=\"smugplug_v1_with_optimizer\",\n",
    "#     config_generator=config_generator,\n",
    "#     n_trials=100,\n",
    "# )"
   ],
   "outputs": [],
   "execution_count": null
  },
  {
   "cell_type": "code",
   "metadata": {
    "collapsed": false
   },
   "source": [
    "\n",
    "from core.backtesting.optimizer import StrategyOptimizer\n",
    "\n",
    "optimizer = StrategyOptimizer(root_path=root_path)\n",
    "optimizer.launch_optuna_dashboard()"
   ],
   "outputs": [],
   "execution_count": null
  },
  {
   "cell_type": "code",
   "metadata": {},
   "source": [],
   "outputs": [],
   "execution_count": null
  }
 ],
 "metadata": {
  "kernelspec": {
   "display_name": "Python 3",
   "language": "python",
   "name": "python3"
  },
  "language_info": {
   "codemirror_mode": {
    "name": "ipython",
    "version": 3
   },
   "file_extension": ".py",
   "mimetype": "text/x-python",
   "name": "python",
   "nbconvert_exporter": "python",
   "pygments_lexer": "ipython3",
   "version": "3.10.15"
  }
 },
 "nbformat": 4,
 "nbformat_minor": 0
}
