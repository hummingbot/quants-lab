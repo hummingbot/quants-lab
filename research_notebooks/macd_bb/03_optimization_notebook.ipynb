{
 "cells": [
  {
   "cell_type": "code",
   "execution_count": null,
   "metadata": {
    "collapsed": false
   },
   "outputs": [],
   "source": [
    "import os\n",
    "import sys\n",
    "\n",
    "root_path = os.path.abspath(os.path.join(os.getcwd(), \"../..\"))\n",
    "sys.path.append(root_path)"
   ]
  },
  {
   "cell_type": "code",
   "execution_count": null,
   "metadata": {},
   "outputs": [],
   "source": [
    "from decimal import Decimal\n",
    "\n",
    "from hummingbot.strategy_v2.executors.position_executor.data_types import TrailingStop\n",
    "\n",
    "from controllers.directional_trading.trend_example import TrendExampleControllerConfig\n",
    "from core.backtesting.optimizer import BacktestingConfig, BaseStrategyConfigGenerator\n",
    "\n",
    "\n",
    "class TrendExampleConfigGenerator(BaseStrategyConfigGenerator):\n",
    "    \"\"\"\n",
    "    Strategy configuration generator for MACD and Bollinger Bands optimization.\n",
    "    \"\"\"\n",
    "\n",
    "    async def generate_config(self, trial) -> BacktestingConfig:\n",
    "        # Suggest hyperparameters using the trial object\n",
    "        interval = trial.suggest_categorical(\"interval\", [\"1m\"])\n",
    "        ema_short = trial.suggest_int(\"ema_short\", 9, 59, step=10)\n",
    "        ema_medium = trial.suggest_int(\"ema_medium\", 10, 60, step=10)\n",
    "        ema_long = trial.suggest_int(\"slow_ma\", 21, 201, step=10)\n",
    "        total_amount_quote = 1000\n",
    "        max_executors_per_side = trial.suggest_int(\"max_executors_per_side\", 1, 3)\n",
    "        take_profit = trial.suggest_float(\"take_profit\", 0.04, 0.05, step=0.01)\n",
    "        stop_loss = trial.suggest_float(\"stop_loss\", 0.01, 0.05, step=0.01)\n",
    "        trailing_stop_activation_price = trial.suggest_float(\"trailing_stop_activation_price\", 0.005, 0.02, step=0.005)\n",
    "        trailing_delta_ratio = trial.suggest_float(\"trailing_delta_ratio\", 0.1, 0.3, step=0.1)\n",
    "        trailing_stop_trailing_delta = trailing_stop_activation_price * trailing_delta_ratio\n",
    "        time_limit = 60 * 60 * 24 * 2\n",
    "        cooldown_time = 60 * 15\n",
    "\n",
    "        # Create the strategy configuration\n",
    "        config = TrendExampleControllerConfig(\n",
    "            connector_name=\"binance_perpetual\",\n",
    "            trading_pair=\"1000BONK-USDT\",\n",
    "            interval=interval,\n",
    "            ema_short=ema_short,\n",
    "            ema_medium=ema_medium,\n",
    "            ema_long=ema_long,\n",
    "            total_amount_quote=Decimal(total_amount_quote),\n",
    "            take_profit=Decimal(take_profit),\n",
    "            stop_loss=Decimal(stop_loss),\n",
    "            trailing_stop=TrailingStop(\n",
    "                activation_price=Decimal(trailing_stop_activation_price),\n",
    "                trailing_delta=Decimal(trailing_stop_trailing_delta),\n",
    "            ),\n",
    "            time_limit=time_limit,\n",
    "            max_executors_per_side=max_executors_per_side,\n",
    "            cooldown_time=cooldown_time,\n",
    "        )\n",
    "\n",
    "        # Return the configuration encapsulated in BacktestingConfig\n",
    "        return BacktestingConfig(config=config, start=self.start, end=self.end)"
   ]
  },
  {
   "cell_type": "code",
   "execution_count": null,
   "metadata": {},
   "outputs": [],
   "source": [
    "import datetime\n",
    "\n",
    "from core.backtesting.optimizer import StrategyOptimizer\n",
    "\n",
    "start_date = datetime.datetime(2024, 11, 1)\n",
    "end_date = datetime.datetime(2024, 11, 16)\n",
    "config_generator = TrendExampleConfigGenerator(start_date=start_date, end_date=end_date)\n",
    "\n",
    "optimizer = StrategyOptimizer(root_path=root_path, load_cached_data=True)\n",
    "await optimizer.optimize(\n",
    "    study_name=\"trend_example\",\n",
    "    config_generator=config_generator,\n",
    "    n_trials=100,\n",
    ")"
   ]
  },
  {
   "cell_type": "code",
   "execution_count": null,
   "metadata": {
    "collapsed": false
   },
   "outputs": [],
   "source": [
    "from core.backtesting.optimizer import StrategyOptimizer\n",
    "\n",
    "optimizer.launch_optuna_dashboard()"
   ]
  },
  {
   "cell_type": "code",
   "execution_count": null,
   "metadata": {},
   "outputs": [],
   "source": []
  }
 ],
 "metadata": {
  "kernelspec": {
   "display_name": "Python 3",
   "language": "python",
   "name": "python3"
  },
  "language_info": {
   "codemirror_mode": {
    "name": "ipython",
    "version": 3
   },
   "file_extension": ".py",
   "mimetype": "text/x-python",
   "name": "python",
   "nbconvert_exporter": "python",
   "pygments_lexer": "ipython3",
   "version": "3.10.15"
  }
 },
 "nbformat": 4,
 "nbformat_minor": 0
}
