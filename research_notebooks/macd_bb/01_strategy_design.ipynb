{
 "cells": [
  {
   "cell_type": "markdown",
   "metadata": {
    "collapsed": false
   },
   "source": [
    "# RESEARCH NOTEBOOK --> MACDBB"
   ]
  },
  {
   "cell_type": "code",
   "execution_count": null,
   "metadata": {
    "collapsed": false
   },
   "outputs": [],
   "source": [
    "# This is necessary to recognize the modules\n",
    "import os\n",
    "import sys\n",
    "import warnings\n",
    "\n",
    "warnings.filterwarnings(\"ignore\")\n",
    "\n",
    "root_path = os.path.abspath(os.path.join(os.getcwd(), \"../..\"))\n",
    "sys.path.append(root_path)"
   ]
  },
  {
   "cell_type": "code",
   "execution_count": null,
   "metadata": {
    "collapsed": false
   },
   "outputs": [],
   "source": [
    "import pandas_ta as ta  # noqa: F401\n",
    "\n",
    "from core.data_sources import CLOBDataSource\n",
    "\n",
    "# Initialize the data source\n",
    "clob = CLOBDataSource()"
   ]
  },
  {
   "cell_type": "code",
   "execution_count": null,
   "metadata": {
    "collapsed": false
   },
   "outputs": [],
   "source": [
    "# Define the parameters\n",
    "exchange = \"binance_perpetual\"\n",
    "trading_pair = \"ETH-USDT\"\n",
    "timeframe = \"3m\"\n",
    "days = 4"
   ]
  },
  {
   "cell_type": "code",
   "execution_count": null,
   "metadata": {
    "collapsed": false
   },
   "outputs": [],
   "source": [
    "# Get the candles\n",
    "candles = await clob.get_candles_last_days(exchange, trading_pair, timeframe, days, from_trades=False)"
   ]
  },
  {
   "cell_type": "code",
   "execution_count": null,
   "metadata": {
    "collapsed": false
   },
   "outputs": [],
   "source": [
    "candles.data.head(2)"
   ]
  },
  {
   "cell_type": "code",
   "execution_count": null,
   "metadata": {
    "collapsed": false
   },
   "outputs": [],
   "source": [
    "candles.plot(type=\"returns\")"
   ]
  },
  {
   "cell_type": "code",
   "execution_count": null,
   "metadata": {
    "collapsed": false
   },
   "outputs": [],
   "source": [
    "# Bollinger Bands\n",
    "bb_length = 100\n",
    "bb_std = 1.5\n",
    "bb_long_threshold = 0\n",
    "bb_short_threshold = 1\n",
    "\n",
    "# MACD\n",
    "macd_fast = 21\n",
    "macd_slow = 42\n",
    "macd_signal = 9\n",
    "\n",
    "# Add indicators\n",
    "candles_df = candles.data\n",
    "candles_df.ta.bbands(length=bb_length, std=bb_std, append=True)\n",
    "candles_df.ta.macd(fast=macd_fast, slow=macd_slow, signal=macd_signal, append=True)\n",
    "candles_df[\n",
    "    [\n",
    "        \"timestamp\",\n",
    "        \"close\",\n",
    "        f\"BBU_{bb_length}_{bb_std}\",\n",
    "        f\"BBL_{bb_length}_{bb_std}\",\n",
    "        f\"MACD_{macd_fast}_{macd_slow}_{macd_signal}\",\n",
    "        f\"MACDs_{macd_fast}_{macd_slow}_{macd_signal}\",\n",
    "        f\"MACDh_{macd_fast}_{macd_slow}_{macd_signal}\",\n",
    "    ]\n",
    "].tail(5)"
   ]
  },
  {
   "cell_type": "code",
   "execution_count": null,
   "metadata": {
    "collapsed": false
   },
   "outputs": [],
   "source": [
    "import plotly.graph_objects as go\n",
    "from plotly.subplots import make_subplots\n",
    "\n",
    "# Create figure with secondary y-axis\n",
    "fig = make_subplots(\n",
    "    rows=2, cols=1, shared_xaxes=True, vertical_spacing=0.03, subplot_titles=(trading_pair, \"MACD\"), row_heights=[0.7, 0.3]\n",
    ")\n",
    "\n",
    "# Add candlestick\n",
    "fig.add_trace(\n",
    "    go.Candlestick(\n",
    "        x=candles_df.index,\n",
    "        open=candles_df[\"open\"],\n",
    "        high=candles_df[\"high\"],\n",
    "        low=candles_df[\"low\"],\n",
    "        close=candles_df[\"close\"],\n",
    "        name=\"OHLC\",\n",
    "    ),\n",
    "    row=1,\n",
    "    col=1,\n",
    ")\n",
    "\n",
    "# Add Bollinger Bands\n",
    "bb_upper = f\"BBU_{bb_length}_{bb_std}\"\n",
    "bb_lower = f\"BBL_{bb_length}_{bb_std}\"\n",
    "fig.add_trace(\n",
    "    go.Scatter(x=candles_df.index, y=candles_df[bb_upper], line=dict(color=\"rgba(173, 204, 255, 0.7)\"), name=\"BB Upper\"),\n",
    "    row=1,\n",
    "    col=1,\n",
    ")\n",
    "fig.add_trace(\n",
    "    go.Scatter(\n",
    "        x=candles_df.index,\n",
    "        y=candles_df[bb_lower],\n",
    "        line=dict(color=\"rgba(173, 204, 255, 0.7)\"),\n",
    "        fill=\"tonexty\",\n",
    "        fillcolor=\"rgba(173, 204, 255, 0.1)\",\n",
    "        name=\"BB Lower\",\n",
    "    ),\n",
    "    row=1,\n",
    "    col=1,\n",
    ")\n",
    "\n",
    "# Add MACD\n",
    "macd = f\"MACD_{macd_fast}_{macd_slow}_{macd_signal}\"\n",
    "macd_s = f\"MACDs_{macd_fast}_{macd_slow}_{macd_signal}\"\n",
    "macd_hist = f\"MACDh_{macd_fast}_{macd_slow}_{macd_signal}\"\n",
    "\n",
    "fig.add_trace(go.Scatter(x=candles_df.index, y=candles_df[macd], line=dict(color=\"#00FFFF\", width=2), name=\"MACD\"), row=2, col=1)\n",
    "fig.add_trace(\n",
    "    go.Scatter(x=candles_df.index, y=candles_df[macd_s], line=dict(color=\"#FFA500\", width=2), name=\"Signal\"), row=2, col=1\n",
    ")\n",
    "fig.add_trace(\n",
    "    go.Bar(\n",
    "        x=candles_df.index,\n",
    "        y=candles_df[macd_hist],\n",
    "        name=\"Histogram\",\n",
    "        marker_color=candles_df[macd_hist].apply(lambda x: \"#00FF00\" if x >= 0 else \"#FF0000\"),\n",
    "    ),\n",
    "    row=2,\n",
    "    col=1,\n",
    ")\n",
    "\n",
    "# Update layout for dark theme\n",
    "fig.update_layout(\n",
    "    title=f\"{exchange} - {trading_pair} - {timeframe}\",\n",
    "    width=1200,\n",
    "    height=800,\n",
    "    font=dict(color=\"#e1e1e1\"),\n",
    "    plot_bgcolor=\"#1e1e1e\",\n",
    "    paper_bgcolor=\"#1e1e1e\",\n",
    "    xaxis_rangeslider_visible=False,\n",
    "    legend=dict(bgcolor=\"rgba(0,0,0,0)\"),\n",
    "    yaxis=dict(title=\"Price\"),\n",
    "    yaxis2=dict(title=\"MACD\", showgrid=False),\n",
    "    showlegend=False,\n",
    ")\n",
    "\n",
    "# Update axes\n",
    "fig.update_xaxes(showgrid=True, gridwidth=1, gridcolor=\"#323232\", zeroline=False)\n",
    "fig.update_yaxes(showgrid=True, gridwidth=1, gridcolor=\"#323232\", zeroline=False)\n",
    "\n",
    "# Show the plot\n",
    "fig.show()"
   ]
  },
  {
   "cell_type": "code",
   "execution_count": null,
   "metadata": {
    "collapsed": false
   },
   "outputs": [],
   "source": [
    "# Generate signal\n",
    "\n",
    "candles_df[\"signal\"] = 0\n",
    "bbp = candles_df[f\"BBP_{bb_length}_{bb_std}\"]\n",
    "macdh = candles_df[f\"MACDh_{macd_fast}_{macd_slow}_{macd_signal}\"]\n",
    "macd = candles_df[f\"MACD_{macd_fast}_{macd_slow}_{macd_signal}\"]\n",
    "\n",
    "long_condition = (bbp < bb_long_threshold) & (macdh > 0) & (macd < 0)\n",
    "short_condition = (bbp > bb_short_threshold) & (macdh < 0) & (macd > 0)\n",
    "\n",
    "candles_df.loc[long_condition, \"signal\"] = 1\n",
    "candles_df.loc[short_condition, \"signal\"] = -1"
   ]
  },
  {
   "cell_type": "code",
   "execution_count": null,
   "metadata": {
    "collapsed": false
   },
   "outputs": [],
   "source": [
    "import plotly.graph_objects as go\n",
    "from plotly.subplots import make_subplots\n",
    "\n",
    "fig = make_subplots(\n",
    "    rows=3,\n",
    "    cols=1,\n",
    "    shared_xaxes=True,\n",
    "    vertical_spacing=0.02,\n",
    "    subplot_titles=(\"OHLC with BB\", \"MACD\", \"Signal\"),\n",
    "    row_heights=[0.6, 0.2, 0.2],\n",
    ")\n",
    "\n",
    "# Add candlestick\n",
    "fig.add_trace(\n",
    "    go.Candlestick(\n",
    "        x=candles_df.index,\n",
    "        open=candles_df[\"open\"],\n",
    "        high=candles_df[\"high\"],\n",
    "        low=candles_df[\"low\"],\n",
    "        close=candles_df[\"close\"],\n",
    "        name=\"Candlesticks\",\n",
    "    ),\n",
    "    row=1,\n",
    "    col=1,\n",
    ")\n",
    "\n",
    "# Add Bollinger Bands\n",
    "bb_upper = f\"BBU_{bb_length}_{bb_std}\"\n",
    "bb_lower = f\"BBL_{bb_length}_{bb_std}\"\n",
    "fig.add_trace(\n",
    "    go.Scatter(x=candles_df.index, y=candles_df[bb_upper], line=dict(color=\"rgba(173, 204, 255, 0.7)\"), name=\"BB Upper\"),\n",
    "    row=1,\n",
    "    col=1,\n",
    ")\n",
    "fig.add_trace(\n",
    "    go.Scatter(\n",
    "        x=candles_df.index,\n",
    "        y=candles_df[bb_lower],\n",
    "        line=dict(color=\"rgba(173, 204, 255, 0.7)\"),\n",
    "        fill=\"tonexty\",\n",
    "        fillcolor=\"rgba(173, 204, 255, 0.1)\",\n",
    "        name=\"BB Lower\",\n",
    "    ),\n",
    "    row=1,\n",
    "    col=1,\n",
    ")\n",
    "\n",
    "# Add MACD\n",
    "macd_line = f\"MACD_{macd_fast}_{macd_slow}_{macd_signal}\"\n",
    "signal_line = f\"MACDs_{macd_fast}_{macd_slow}_{macd_signal}\"\n",
    "hist_line = f\"MACDh_{macd_fast}_{macd_slow}_{macd_signal}\"\n",
    "\n",
    "fig.add_trace(\n",
    "    go.Scatter(x=candles_df.index, y=candles_df[macd_line], line=dict(color=\"#00FFFF\", width=2), name=\"MACD\"), row=2, col=1\n",
    ")\n",
    "fig.add_trace(\n",
    "    go.Scatter(x=candles_df.index, y=candles_df[signal_line], line=dict(color=\"#FFA500\", width=2), name=\"Signal\"), row=2, col=1\n",
    ")\n",
    "fig.add_trace(\n",
    "    go.Bar(\n",
    "        x=candles_df.index,\n",
    "        y=candles_df[hist_line],\n",
    "        name=\"Histogram\",\n",
    "        marker_color=candles_df[hist_line].apply(lambda x: \"#00FF00\" if x >= 0 else \"#FF0000\"),\n",
    "    ),\n",
    "    row=2,\n",
    "    col=1,\n",
    ")\n",
    "\n",
    "# Add the signal line\n",
    "fig.add_trace(\n",
    "    go.Scatter(x=candles_df.index, y=candles_df[\"signal\"], mode=\"lines\", name=\"Signal\", line=dict(color=\"white\")), row=3, col=1\n",
    ")\n",
    "\n",
    "# Update layout for dark theme\n",
    "fig.update_layout(\n",
    "    title=f\"{exchange} - {trading_pair} - {timeframe}\",\n",
    "    width=1200,\n",
    "    height=800,\n",
    "    font=dict(color=\"#e1e1e1\"),\n",
    "    plot_bgcolor=\"#1e1e1e\",\n",
    "    paper_bgcolor=\"#1e1e1e\",\n",
    "    xaxis_rangeslider_visible=False,\n",
    "    legend=dict(bgcolor=\"rgba(0,0,0,0)\"),\n",
    "    yaxis=dict(title=\"Price\"),\n",
    "    yaxis2=dict(title=\"MACD\", showgrid=False),\n",
    "    yaxis3=dict(title=\"Signal\", showgrid=False),\n",
    "    showlegend=False,\n",
    ")\n",
    "\n",
    "# Update axes\n",
    "fig.update_xaxes(showgrid=True, gridwidth=1, gridcolor=\"#323232\", zeroline=False)\n",
    "fig.update_yaxes(showgrid=True, gridwidth=1, gridcolor=\"#323232\", zeroline=False)\n",
    "\n",
    "# Show the plot\n",
    "fig.show()"
   ]
  },
  {
   "cell_type": "markdown",
   "metadata": {
    "collapsed": false
   },
   "source": [
    "# CONCLUSION\n",
    "\n",
    "In this notebook, we have implemented a strategy combining the MACD (Moving Average Convergence Divergence) indicator with Bollinger Bands. We've visualized these indicators along with the price data and generated signals based on their interactions. This approach provides a solid foundation for our trading strategy.\n",
    " \n",
    "## Key components of our strategy include:\n",
    " 1. MACD for trend identification\n",
    " 2. Bollinger Bands for volatility measurement and potential reversal points\n",
    " 3. A signal line derived from the combination of these indicators\n",
    " \n",
    " The next step is to backtest this strategy to evaluate its profitability and robustness. For this purpose, we have created a controller file named `macd_bb.py` in this folder. This file implements the logic we've developed here, allowing us to conduct comprehensive backtests in the subsequent notebook."
   ]
  },
  {
   "cell_type": "markdown",
   "metadata": {},
   "source": []
  }
 ],
 "metadata": {
  "kernelspec": {
   "display_name": "quants-lab",
   "language": "python",
   "name": "python3"
  },
  "language_info": {
   "codemirror_mode": {
    "name": "ipython",
    "version": 3
   },
   "file_extension": ".py",
   "mimetype": "text/x-python",
   "name": "python",
   "nbconvert_exporter": "python",
   "pygments_lexer": "ipython3",
   "version": "3.12.11"
  }
 },
 "nbformat": 4,
 "nbformat_minor": 0
}
