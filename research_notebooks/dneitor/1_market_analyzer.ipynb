{
 "cells": [
  {
   "cell_type": "code",
   "execution_count": null,
   "metadata": {
    "collapsed": false,
    "jupyter": {
     "outputs_hidden": false
    }
   },
   "outputs": [],
   "source": [
    "# This is necessary to recognize the modules\n",
    "import os\n",
    "import sys\n",
    "import warnings\n",
    "from decimal import Decimal\n",
    "\n",
    "warnings.filterwarnings(\"ignore\")\n",
    "\n",
    "root_path = os.path.abspath(os.path.join(os.getcwd(), \"../..\"))\n",
    "sys.path.append(root_path)"
   ]
  },
  {
   "cell_type": "code",
   "execution_count": null,
   "metadata": {
    "collapsed": false,
    "jupyter": {
     "outputs_hidden": false
    }
   },
   "outputs": [],
   "source": [
    "from core.data_sources.clob import CLOBDataSource\n",
    "\n",
    "# Get trading rules and candles\n",
    "clob = CLOBDataSource()"
   ]
  },
  {
   "cell_type": "code",
   "execution_count": null,
   "metadata": {
    "collapsed": false,
    "jupyter": {
     "outputs_hidden": false
    }
   },
   "outputs": [],
   "source": [
    "# Constants\n",
    "CONNECTOR_NAME = \"okx\"\n",
    "QUOTE_ASSET = \"USDT\"\n",
    "INTERVAL = \"1d\"\n",
    "MIN_NOTIONAL_SIZE = 5\n",
    "DAYS = 360\n",
    "FETCH_CANDLES = True\n",
    "# Features configuration\n",
    "VOLATILITY_WINDOW = 20\n",
    "VOLUME_SHORT_WINDOW = 20\n",
    "VOLUME_LONG_WINDOW = 50"
   ]
  },
  {
   "cell_type": "markdown",
   "metadata": {
    "collapsed": false,
    "jupyter": {
     "outputs_hidden": false
    }
   },
   "source": [
    "# Download data\n",
    "- Get trading rules\n",
    "- Get candles for the last x days"
   ]
  },
  {
   "cell_type": "code",
   "execution_count": null,
   "metadata": {
    "collapsed": false,
    "jupyter": {
     "outputs_hidden": false
    }
   },
   "outputs": [],
   "source": [
    "trading_rules = await clob.get_trading_rules(CONNECTOR_NAME)\n",
    "trading_pairs = (\n",
    "    trading_rules.filter_by_quote_asset(QUOTE_ASSET)\n",
    "    .filter_by_min_notional_size(Decimal(MIN_NOTIONAL_SIZE))\n",
    "    .get_all_trading_pairs()\n",
    ")"
   ]
  },
  {
   "cell_type": "code",
   "execution_count": null,
   "metadata": {
    "collapsed": false
   },
   "outputs": [],
   "source": [
    "trading_pairs"
   ]
  },
  {
   "cell_type": "code",
   "execution_count": null,
   "metadata": {
    "collapsed": false
   },
   "outputs": [],
   "source": [
    "BATCH_CANDLES_REQUEST = 2\n",
    "SLEEP_REQUEST = 2.0\n",
    "\n",
    "\n",
    "if FETCH_CANDLES:\n",
    "    candles = await clob.get_candles_batch_last_days(\n",
    "        CONNECTOR_NAME, trading_pairs, INTERVAL, DAYS, BATCH_CANDLES_REQUEST, SLEEP_REQUEST\n",
    "    )\n",
    "    clob.dump_candles_cache(root_path)\n",
    "else:\n",
    "    clob.load_candles_cache(root_path)"
   ]
  },
  {
   "cell_type": "code",
   "execution_count": null,
   "metadata": {
    "collapsed": false
   },
   "outputs": [],
   "source": [
    "candles = [value for key, value in clob.candles_cache.items() if key[2] == INTERVAL and key[0] == CONNECTOR_NAME]"
   ]
  },
  {
   "cell_type": "code",
   "execution_count": null,
   "metadata": {
    "collapsed": false,
    "jupyter": {
     "outputs_hidden": false
    }
   },
   "outputs": [],
   "source": [
    "from core.features.candles.volatility import VolatilityConfig\n",
    "from core.features.candles.volume import VolumeConfig\n",
    "from research_notebooks.dneitor.utils import generate_report\n",
    "\n",
    "report = generate_report(\n",
    "    candles=candles,\n",
    "    volatility_config=VolatilityConfig(window=VOLATILITY_WINDOW),\n",
    "    volume_config=VolumeConfig(short_window=VOLUME_SHORT_WINDOW, long_window=VOLUME_LONG_WINDOW),\n",
    ")\n",
    "report"
   ]
  },
  {
   "cell_type": "code",
   "execution_count": null,
   "metadata": {},
   "outputs": [],
   "source": [
    "VOLUME_QUANTILE = 0.5\n",
    "NATR_QUANTILE = 0.5\n",
    "CURRENT_POSITION_THRESHOLD = 0.8\n",
    "TOP_X_MARKETS = 20\n",
    "\n",
    "top_markets = report[\n",
    "    (report[\"average_volume_per_hour\"] > report[\"average_volume_per_hour\"].quantile(VOLUME_QUANTILE))\n",
    "    & (report[\"mean_natr\"] > report[\"mean_natr\"].quantile(NATR_QUANTILE))\n",
    "    & (report[\"current_position\"] > CURRENT_POSITION_THRESHOLD)\n",
    "]\n",
    "top_markets = top_markets.sort_values(by=\"current_position\", ascending=False).head(TOP_X_MARKETS)\n",
    "top_markets_candles = {\n",
    "    candle.trading_pair: candle for candle in candles if candle.trading_pair in top_markets[\"trading_pair\"].values\n",
    "}"
   ]
  },
  {
   "cell_type": "code",
   "execution_count": null,
   "metadata": {},
   "outputs": [],
   "source": [
    "top_markets_candles[\"DOGS-USDT\"].plot()"
   ]
  },
  {
   "cell_type": "code",
   "execution_count": null,
   "metadata": {
    "collapsed": false,
    "jupyter": {
     "outputs_hidden": false
    }
   },
   "outputs": [],
   "source": [
    "from hummingbot.core.data_type.common import OrderType\n",
    "\n",
    "from core.utils import dump_dict_to_yaml\n",
    "from research_notebooks.dneitor.utils import generate_config\n",
    "\n",
    "TOTAL_AMOUNT = 500  # General total amount for all markets\n",
    "ACTIVATION_BOUNDS = 0.002  # Input activation bounds\n",
    "MAX_OPEN_ORDERS = 1  # Input max open orders for each market\n",
    "MIN_ORDER_AMOUNT = 5  # Minimum order amount for each market\n",
    "LEVERAGE = 1  # Leverage for each market\n",
    "TAKE_PROFIT_ORDER_TYPE = OrderType.MARKET\n",
    "\n",
    "TAKE_PROFIT_MULTIPLIER = 0.2  # Multiplier for take profit based on NATR\n",
    "AMOUNTS_QUOTE_PCT = [0.1, 0.1, 0.1, 0.1, 0.2, 0.2]  # Weights for each cluster\n",
    "\n",
    "strategy_config = generate_config(\n",
    "    id=f\"dneitor-{CONNECTOR_NAME}_0.6\",\n",
    "    connector_name=CONNECTOR_NAME,\n",
    "    candles=top_markets_candles,\n",
    "    top_markets=top_markets,\n",
    "    total_amount=TOTAL_AMOUNT,\n",
    "    amounts_quote_pct=AMOUNTS_QUOTE_PCT,\n",
    "    activation_bounds=ACTIVATION_BOUNDS,\n",
    "    take_profit_multiplier=TAKE_PROFIT_MULTIPLIER,\n",
    "    max_open_orders=MAX_OPEN_ORDERS,\n",
    "    min_order_amount=MIN_ORDER_AMOUNT,\n",
    "    leverage=LEVERAGE,\n",
    "    take_profit_order_type=TAKE_PROFIT_ORDER_TYPE,\n",
    ")"
   ]
  },
  {
   "cell_type": "code",
   "execution_count": null,
   "metadata": {
    "collapsed": false
   },
   "outputs": [],
   "source": [
    "strategy_config"
   ]
  },
  {
   "cell_type": "code",
   "execution_count": null,
   "metadata": {
    "collapsed": false
   },
   "outputs": [],
   "source": [
    "for config in strategy_config:\n",
    "    dump_dict_to_yaml(config, \"configs\")"
   ]
  },
  {
   "cell_type": "code",
   "execution_count": null,
   "metadata": {
    "collapsed": false
   },
   "outputs": [],
   "source": []
  }
 ],
 "metadata": {
  "kernelspec": {
   "display_name": "Python 3 (ipykernel)",
   "language": "python",
   "name": "python3"
  },
  "language_info": {
   "codemirror_mode": {
    "name": "ipython",
    "version": 3
   },
   "file_extension": ".py",
   "mimetype": "text/x-python",
   "name": "python",
   "nbconvert_exporter": "python",
   "pygments_lexer": "ipython3",
   "version": "3.10.15"
  }
 },
 "nbformat": 4,
 "nbformat_minor": 4
}
