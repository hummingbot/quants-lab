{
 "cells": [
  {
   "cell_type": "code",
   "metadata": {},
   "source": [
    "import os\n",
    "import sys\n",
    "from decimal import Decimal\n",
    "import asyncio\n",
    "\n",
    "root_path = os.path.abspath(os.path.join(os.getcwd(), '../..'))\n",
    "sys.path.append(root_path)\n",
    "\n",
    "\n",
    "from core.data_sources.clob import CLOBDataSource\n",
    "from core.utils import load_all_yaml_files\n",
    "\n",
    "clob = CLOBDataSource()\n",
    "configs = load_all_yaml_files('configs')\n",
    "FETCH_CANDLES = False\n",
    "trading_pairs = [config[\"trading_pair\"] for config in configs]\n",
    "CONNECTOR_NAME = configs[0][\"connector_name\"]\n",
    "DAYS = 30\n",
    "INTERVAL = \"1h\""
   ],
   "outputs": [],
   "execution_count": null
  },
  {
   "cell_type": "code",
   "metadata": {
    "collapsed": false,
    "jupyter": {
     "outputs_hidden": false
    }
   },
   "source": [
    "BATCH_CANDLES_REQUEST = 1\n",
    "SLEEP_REQUEST = 2.0\n",
    "\n",
    "\n",
    "if FETCH_CANDLES:\n",
    "    candles = await clob.get_candles_batch_last_days(CONNECTOR_NAME, trading_pairs, INTERVAL, DAYS, BATCH_CANDLES_REQUEST, SLEEP_REQUEST)\n",
    "    clob.dump_candles_cache(root_path)\n",
    "else:\n",
    "    clob.load_candles_cache(root_path)"
   ],
   "outputs": [],
   "execution_count": null
  },
  {
   "cell_type": "code",
   "metadata": {
    "collapsed": false,
    "jupyter": {
     "outputs_hidden": false
    }
   },
   "source": [
    "for market_config in configs:\n",
    "    candle = clob.candles_cache[(market_config[\"connector_name\"], market_config[\"trading_pair\"], INTERVAL)]\n",
    "    fig = candle.fig(\"candles\")\n",
    "    for price in market_config['prices']:\n",
    "        fig.add_hline(y=price, line=dict(color='blue', dash='dash'))\n",
    "    fig.show()"
   ],
   "outputs": [],
   "execution_count": null
  },
  {
   "cell_type": "code",
   "source": [
    "client = BackendAPIClient(servers[0])\n",
    "client.add_controller_config(config)"
   ],
   "metadata": {
    "collapsed": false
   },
   "outputs": [],
   "execution_count": null
  },
  {
   "cell_type": "code",
   "source": [
    "client.deploy_script_with_controllers(\n",
    "    bot_name=\"dneitor\",\n",
    "    controller_configs=[\"dneitor-binance_0.4.yml\"],\n",
    "    image_name=\"hummingbot/hummingbot:development\"\n",
    ")"
   ],
   "metadata": {
    "collapsed": false
   },
   "outputs": [],
   "execution_count": null
  },
  {
   "cell_type": "code",
   "source": [
    "client.get_accounts_state()"
   ],
   "metadata": {
    "collapsed": false
   },
   "outputs": [],
   "execution_count": null
  }
 ],
 "metadata": {
  "kernelspec": {
   "display_name": "Python 3 (ipykernel)",
   "language": "python",
   "name": "python3"
  },
  "language_info": {
   "codemirror_mode": {
    "name": "ipython",
    "version": 3
   },
   "file_extension": ".py",
   "mimetype": "text/x-python",
   "name": "python",
   "nbconvert_exporter": "python",
   "pygments_lexer": "ipython3",
   "version": "3.10.14"
  }
 },
 "nbformat": 4,
 "nbformat_minor": 4
}
