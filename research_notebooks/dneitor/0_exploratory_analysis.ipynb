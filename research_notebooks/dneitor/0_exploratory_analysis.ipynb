{
 "cells": [
  {
   "cell_type": "code",
   "metadata": {
    "collapsed": true
   },
   "source": [
    "# This is necessary to recognize the modules\n",
    "import os\n",
    "import sys\n",
    "from decimal import Decimal\n",
    "\n",
    "root_path = os.path.abspath(os.path.join(os.getcwd(), '../..'))\n",
    "sys.path.append(root_path)"
   ],
   "outputs": [],
   "execution_count": null
  },
  {
   "cell_type": "code",
   "source": [
    "from core.data_sources import CLOBDataSource\n",
    "\n",
    "# Get trading rules and candles\n",
    "clob = CLOBDataSource()"
   ],
   "metadata": {
    "collapsed": false
   },
   "outputs": [],
   "execution_count": null
  },
  {
   "cell_type": "code",
   "source": [
    "candles = await clob.get_candles_last_days(\"binance_perpetual\", \"1000PEPE-USDT\", \"1m\", 1)"
   ],
   "metadata": {
    "collapsed": false
   },
   "outputs": [],
   "execution_count": null
  },
  {
   "cell_type": "code",
   "source": [
    "import numpy as np\n",
    "import pandas as pd\n",
    "from sklearn.linear_model import LinearRegression\n",
    "import plotly.graph_objects as go\n",
    "\n",
    "# Define the length of the regression\n",
    "short_regression_length = 200\n",
    "long_regression_length = 500\n",
    "\n",
    "# Get the subset of data for regression\n",
    "short_regression_data = candles.data[-short_regression_length:]\n",
    "long_regression_data = candles.data[-long_regression_length:]\n",
    "\n",
    "# Prepare the data for linear regression\n",
    "X_short = np.arange(len(short_regression_data)).reshape(-1, 1)  # Time indices\n",
    "y_short = short_regression_data['close'].values  # Close prices\n",
    "\n",
    "# Fit the linear regression model\n",
    "model = LinearRegression().fit(X_short, y_short)\n",
    "\n",
    "# Predict the values for the regression line\n",
    "short_regression_line = model.predict(X_short)\n",
    "\n",
    "X_long = np.arange(len(long_regression_data)).reshape(-1, 1)  # Time indices\n",
    "y_long = long_regression_data['close'].values  # Close prices\n",
    "\n",
    "# Fit the linear regression model\n",
    "model = LinearRegression().fit(X_long, y_long)\n",
    "\n",
    "# Predict the values for the regression line\n",
    "long_regression_line = model.predict(X_long)\n",
    "\n",
    "fig = candles.fig()\n",
    "# Add the regression line to the figure\n",
    "fig.add_trace(go.Scatter(x=short_regression_data.index,\n",
    "                         y=short_regression_line,\n",
    "                         mode='lines',\n",
    "                         name='Linear Regression',\n",
    "                         line=dict(color=\"blue\", width=4)))\n",
    "\n",
    "fig.add_trace(go.Scatter(x=long_regression_data.index,\n",
    "                         y=long_regression_line,\n",
    "                         mode='lines',\n",
    "                         name='Linear Regression',\n",
    "                         line=dict(color=\"yellow\", width=4)))\n",
    "\n",
    "# Show the figure\n",
    "fig.show()\n"
   ],
   "metadata": {
    "collapsed": false
   },
   "outputs": [],
   "execution_count": null
  },
  {
   "cell_type": "code",
   "source": [],
   "metadata": {
    "collapsed": false
   },
   "outputs": [],
   "execution_count": null
  }
 ],
 "metadata": {
  "kernelspec": {
   "display_name": "Python 3",
   "language": "python",
   "name": "python3"
  },
  "language_info": {
   "codemirror_mode": {
    "name": "ipython",
    "version": 2
   },
   "file_extension": ".py",
   "mimetype": "text/x-python",
   "name": "python",
   "nbconvert_exporter": "python",
   "pygments_lexer": "ipython2",
   "version": "2.7.6"
  }
 },
 "nbformat": 4,
 "nbformat_minor": 0
}
