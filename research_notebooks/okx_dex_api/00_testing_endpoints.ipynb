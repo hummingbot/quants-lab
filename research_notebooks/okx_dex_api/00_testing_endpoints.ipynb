{
 "cells": [
  {
   "cell_type": "code",
   "metadata": {},
   "source": [
    "# This is necessary to recognize the modules\n",
    "import os\n",
    "import sys\n",
    "from decimal import Decimal\n",
    "import warnings\n",
    "\n",
    "warnings.filterwarnings(\"ignore\")\n",
    "\n",
    "root_path = os.path.abspath(os.path.join(os.getcwd(), '../..'))\n",
    "sys.path.append(root_path)"
   ],
   "outputs": [],
   "execution_count": null
  },
  {
   "cell_type": "code",
   "metadata": {},
   "source": [
    "from core.services.okx_dex_api import OKXDexAPI\n",
    "from dotenv import load_dotenv\n",
    "\n",
    "load_dotenv()\n",
    "\n",
    "client = OKXDexAPI(\n",
    "    api_key=os.getenv(\"OKX_API_KEY\"),\n",
    "    secret_key=os.getenv(\"OKX_SECRET_KEY\"),\n",
    "    passphrase=os.getenv(\"OKX_PASSPHRASE\"),\n",
    "    access_project=os.getenv(\"OKX_ACCESS_PROJECT\"),\n",
    "    solana_private_key=os.getenv(\"SOLANA_PRIVATE_KEY\")\n",
    ")\n"
   ],
   "outputs": [],
   "execution_count": null
  },
  {
   "cell_type": "code",
   "metadata": {},
   "source": [
    "chains = await client.get_supported_chains()\n",
    "\n",
    "# get chain id of solana\n",
    "solana_chain_id = next(chain.chain_id for chain in chains.data if chain.chain_name == \"Solana\")\n",
    "\n",
    "# get tokens of solana\n",
    "tokens = await client.get_tokens(chain_id=solana_chain_id)\n",
    "\n",
    "# get liquidity sources of solana\n",
    "liquidity_sources = await client.get_liquidity_sources(chain_id=solana_chain_id)\n"
   ],
   "outputs": [],
   "execution_count": null
  },
  {
   "cell_type": "code",
   "metadata": {},
   "source": [
    "solana_chain_id"
   ],
   "outputs": [],
   "execution_count": null
  },
  {
   "cell_type": "code",
   "metadata": {},
   "source": [
    "tokens.data[0].dict()"
   ],
   "outputs": [],
   "execution_count": null
  },
  {
   "cell_type": "code",
   "metadata": {},
   "source": [
    "liquidity_sources.data[3]"
   ],
   "outputs": [],
   "execution_count": null
  },
  {
   "cell_type": "code",
   "metadata": {},
   "source": [
    "# Get USDT token info from tokens list\n",
    "usdt_token = next(token for token in tokens.data if token.token_symbol == \"USDT\")\n",
    "\n",
    "# Get SOL token info from tokens list \n",
    "sol_token = next(token for token in tokens.data if token.token_symbol == \"SOL\")\n",
    "\n",
    "amount_to_swap = \"10\"\n",
    "\n",
    "# Get quote for swapping 100 USDT to SOL\n",
    "quote = await client.get_quote(\n",
    "    chain_id=solana_chain_id,\n",
    "    from_token_address=usdt_token.token_contract_address,\n",
    "    to_token_address=sol_token.token_contract_address,\n",
    "    amount=amount_to_swap,\n",
    ")\n",
    "\n",
    "result = quote.result\n",
    "\n",
    "print(\"Quote Details:\")\n",
    "print(f\"Chain ID: {result.chain_id}\")\n",
    "\n",
    "print(\"\\nFrom Token Info:\")\n",
    "print(f\"Symbol: {result.from_token.token_symbol}\")\n",
    "print(f\"Contract: {result.from_token.token_contract_address}\")\n",
    "print(f\"Decimals: {result.from_token.decimal}\")\n",
    "print(f\"Price: ${result.from_token.price}\")\n",
    "print(f\"Is Honeypot: {result.from_token.is_honey_pot}\")\n",
    "print(f\"Tax Rate: {result.from_token.tax_rate}\")\n",
    "\n",
    "print(\"\\nTo Token Info:\")\n",
    "print(f\"Symbol: {result.to_token.token_symbol}\")\n",
    "print(f\"Contract: {result.to_token.token_contract_address}\")\n",
    "print(f\"Decimals: {result.to_token.decimal}\")\n",
    "print(f\"Price: ${result.to_token.price}\")\n",
    "print(f\"Is Honeypot: {result.to_token.is_honey_pot}\")\n",
    "print(f\"Tax Rate: {result.to_token.tax_rate}\")\n",
    "\n",
    "print(\"\\nTrade Details:\")\n",
    "print(f\"Input Amount: {result.from_amount_decimal:.6f} {result.from_token.token_symbol} (${result.value_in_usd:.2f})\")\n",
    "print(f\"Output Amount: {result.to_amount_decimal:.6f} {result.to_token.token_symbol}\")\n",
    "print(f\"Execution Price: {result.execution_price:.6f} {result.to_token.token_symbol}/{result.from_token.token_symbol}\")\n",
    "print(f\"Price Impact: {result.price_impact}%\")\n",
    "print(f\"Trading Fee: {result.trade_fee}\")\n",
    "print(f\"Estimated Gas Fee: {result.estimate_gas_fee}\")\n",
    "if result.origin_to_token_amount:\n",
    "    print(f\"Original Output Amount: {result.origin_to_token_amount}\")\n",
    "\n",
    "print(\"\\nDEX Router Breakdown:\")\n",
    "for router in result.dex_router_list:\n",
    "    print(f\"\\nRouter: {router.router} ({router.router_percent}%)\")\n",
    "    \n",
    "    for sub_route in router.sub_router_list:\n",
    "        print(\"\\nSub-route Details:\")\n",
    "        print(\"Protocol Distribution:\")\n",
    "        for protocol in sub_route.dex_protocol:\n",
    "            print(f\"  - {protocol.dex_name}: {protocol.percent}%\")\n",
    "            \n",
    "        print(\"\\nFrom Token Details:\")\n",
    "        print(f\"Symbol: {sub_route.from_token.token_symbol}\")\n",
    "        print(f\"Contract: {sub_route.from_token.token_contract_address}\")\n",
    "        print(f\"Price: ${sub_route.from_token.token_unit_price}\")\n",
    "        \n",
    "        print(\"\\nTo Token Details:\")\n",
    "        print(f\"Symbol: {sub_route.to_token.token_symbol}\")\n",
    "        print(f\"Contract: {sub_route.to_token.token_contract_address}\")\n",
    "        print(f\"Price: ${sub_route.to_token.token_unit_price}\")\n",
    "\n",
    "print(\"\\nQuote Comparison Across DEXs:\")\n",
    "for quote_compare in result.quote_compare_list:\n",
    "    print(f\"\\nDEX: {quote_compare.dex_name}\")\n",
    "    print(f\"Logo URL: {quote_compare.dex_logo}\")\n",
    "    print(f\"Output Amount: {quote_compare.get_output_amount():.6f} {result.to_token.token_symbol}\")\n",
    "    print(f\"Trading Fee: {quote_compare.trade_fee}\")\n",
    "    print(f\"Price: {quote_compare.get_price(result.from_amount_decimal):.6f} {result.to_token.token_symbol}/{result.from_token.token_symbol}\")\n",
    "\n",
    "print(\"\\nBest Venue Details:\")\n",
    "best = result.best_venue\n",
    "print(f\"Best DEX: {best.dex_name}\")\n",
    "print(f\"Best Output: {best.get_output_amount():.6f} {result.to_token.token_symbol}\")\n",
    "\n",
    "print(\"\\nVenue Price Comparison:\")\n",
    "print(result.get_price_comparison())\n"
   ],
   "outputs": [],
   "execution_count": null
  },
  {
   "cell_type": "code",
   "metadata": {},
   "source": [
    "# Find SOL and USDC token addresses from supported tokens\n",
    "sol_token = next((token for token in client.tokens if token.token_symbol == \"SOL\"), None)\n",
    "usdc_token = next((token for token in client.tokens if token.token_symbol == \"USDC\"), None)\n",
    "\n",
    "if not sol_token or not usdc_token:\n",
    "    raise ValueError(\"Could not find SOL or USDC in supported tokens\")\n",
    "\n",
    "ADDRESS = \"D9tajKXejZdFMVE8qQ7uKrU3K3JhB4DMeLWNwTKcLBW7\"\n",
    "\n",
    "# Execute swap of 0.1 SOL to USDC\n",
    "swap_response = await client.execute_solana_swap(\n",
    "    from_token_address=sol_token.token_contract_address,\n",
    "    to_token_address=usdc_token.token_contract_address,\n",
    "    amount=\"0.001\",  # 0.1 USDC\n",
    "    slippage=\"0.05\",  # 1% slippage\n",
    "    wallet_address=ADDRESS,\n",
    "    private_key=os.getenv(\"SOLANA_PRIVATE_KEY\")\n",
    ")\n",
    "# await client.solana_client.confirm_transaction(\n",
    "#     tx_sig=swap_response,\n",
    "#     commitment=\"confirmed\",\n",
    "#     sleep_seconds=0.5\n",
    "# )"
   ],
   "outputs": [],
   "execution_count": null
  },
  {
   "cell_type": "code",
   "metadata": {},
   "source": [
    "await client.solana_client.confirm_transaction(\n",
    "    tx_sig=swap_response,\n",
    "    commitment=\"confirmed\",\n",
    "    sleep_seconds=0.5\n",
    ")"
   ],
   "outputs": [],
   "execution_count": null
  },
  {
   "cell_type": "code",
   "metadata": {},
   "source": [
    "swap_response"
   ],
   "outputs": [],
   "execution_count": null
  },
  {
   "cell_type": "code",
   "metadata": {},
   "source": [
    "# Find SOL and USDC token addresses from supported tokens\n",
    "sol_token = next((token for token in client.tokens if token.token_symbol == \"SOL\"), None)\n",
    "usdc_token = next((token for token in client.tokens if token.token_symbol == \"USDC\"), None)\n",
    "\n",
    "if not sol_token or not usdc_token:\n",
    "    raise ValueError(\"Could not find SOL or USDC in supported tokens\")\n",
    "\n",
    "ADDRESS = \"D9tajKXejZdFMVE8qQ7uKrU3K3JhB4DMeLWNwTKcLBW7\"\n",
    "\n",
    "# Execute swap using OKX broadcast method\n",
    "order_id = await client.execute_solana_swap_via_okx(\n",
    "    from_token_address=sol_token.token_contract_address,\n",
    "    to_token_address=usdc_token.token_contract_address,\n",
    "    amount=\"0.001\",  # 10 USDC\n",
    "    slippage=\"0.05\",  # 5% slippage\n",
    "    wallet_address=ADDRESS,\n",
    "    private_key=os.getenv(\"SOLANA_PRIVATE_KEY\")\n",
    ")\n",
    "\n",
    "print(f\"Order ID: {order_id}\")"
   ],
   "outputs": [],
   "execution_count": null
  },
  {
   "cell_type": "code",
   "metadata": {},
   "source": [
    "order = await client.get_transaction_orders(\n",
    "    address=ADDRESS,\n",
    "    order_id=order_id,\n",
    "    chain_index=\"501\"\n",
    ")"
   ],
   "outputs": [],
   "execution_count": null
  },
  {
   "cell_type": "code",
   "metadata": {},
   "source": [
    "order.data[0].dict()"
   ],
   "outputs": [],
   "execution_count": null
  },
  {
   "cell_type": "code",
   "metadata": {},
   "source": [
    "\n",
    "raw_swap.data[0].dict()"
   ],
   "outputs": [],
   "execution_count": null
  },
  {
   "cell_type": "code",
   "metadata": {},
   "source": [
    "raw_swap.data[0].tx.data"
   ],
   "outputs": [],
   "execution_count": null
  },
  {
   "cell_type": "code",
   "metadata": {},
   "source": [
    "from solders.hash import Hash\n",
    "from solders.keypair import Keypair\n",
    "from solders.message import MessageV0\n",
    "from solders.transaction import VersionedTransaction\n",
    "from base58 import b58decode, b58encode\n",
    "\n",
    "raw_swap = await client.swap(\n",
    "    chain_id=\"501\",\n",
    "    from_token_address=usdc_token.token_contract_address,\n",
    "    to_token_address=sol_token.token_contract_address,\n",
    "    amount=\"1\",\n",
    "    slippage=\"0.05\",\n",
    "    user_wallet_address=ADDRESS\n",
    ")\n",
    "\n",
    "private_key = os.getenv(\"SOLANA_PRIVATE_KEY\")\n",
    "\n",
    "# 2. Get latest blockhash\n",
    "recent_blockhash = await client.solana_client.get_latest_blockhash()\n",
    "\n",
    "# 3. Create keypair from private key bytes\n",
    "fee_payer = Keypair.from_bytes(b58decode(private_key))\n",
    "\n",
    "# 4. Decode transaction bytes and get min receive amount\n",
    "tx_bytes = b58decode(raw_swap.data[0].tx.data)\n",
    "\n",
    "original_tx = VersionedTransaction.from_bytes(tx_bytes)\n",
    "\n",
    "new_message = MessageV0(\n",
    "                header=original_tx.message.header,\n",
    "    account_keys=original_tx.message.account_keys,\n",
    "    recent_blockhash=recent_blockhash.value.blockhash,\n",
    "    instructions=original_tx.message.instructions,\n",
    "    address_table_lookups=original_tx.message.address_table_lookups,\n",
    ")\n",
    "tx = VersionedTransaction(new_message, [fee_payer])\n",
    "\n",
    "# Convert transaction to base58 string for OKX API\n",
    "signed_tx_str = b58encode(bytes(tx)).decode('utf-8')\n",
    "order_id = await client.broadcast_transaction(\n",
    "                signed_tx=signed_tx_str,  # Use transaction data directly from OKX\n",
    "                chain_index=\"501\",\n",
    "                address=ADDRESS\n",
    "            )\n",
    "signed_tx_str"
   ],
   "outputs": [],
   "execution_count": null
  },
  {
   "cell_type": "code",
   "metadata": {},
   "source": [
    "orders = await client.get_transaction_orders(\n",
    "    address=ADDRESS,\n",
    "    order_id=order_id,\n",
    "    chain_index=\"501\"\n",
    ")\n",
    "orders.data[0].dict()"
   ],
   "outputs": [],
   "execution_count": null
  },
  {
   "cell_type": "code",
   "metadata": {},
   "source": [
    "import pandas as pd\n",
    "pd.DataFrame([order.dict() for order in orders.data])"
   ],
   "outputs": [],
   "execution_count": null
  },
  {
   "cell_type": "code",
   "metadata": {},
   "source": [],
   "outputs": [],
   "execution_count": null
  }
 ],
 "metadata": {
  "kernelspec": {
   "display_name": "quants-lab",
   "language": "python",
   "name": "python3"
  },
  "language_info": {
   "codemirror_mode": {
    "name": "ipython",
    "version": 3
   },
   "file_extension": ".py",
   "mimetype": "text/x-python",
   "name": "python",
   "nbconvert_exporter": "python",
   "pygments_lexer": "ipython3",
   "version": "3.10.16"
  }
 },
 "nbformat": 4,
 "nbformat_minor": 2
}
