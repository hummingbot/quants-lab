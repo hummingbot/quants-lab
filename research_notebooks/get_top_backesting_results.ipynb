{
 "cells": [
  {
   "cell_type": "code",
   "execution_count": 1,
   "metadata": {
    "collapsed": false
   },
   "outputs": [],
   "source": [
    "import os\n",
    "import sys\n",
    "import pandas as pd\n",
    "\n",
    "root_path = os.path.abspath(os.path.join(os.getcwd(), '..'))\n",
    "sys.path.append(root_path)"
   ]
  },
  {
   "cell_type": "code",
   "execution_count": 2,
   "metadata": {
    "collapsed": false
   },
   "outputs": [
    {
     "data": {
      "text/plain": [
       "['macd_bb_v1_with_optimizer',\n",
       " 'pmm_simple_with_optimizer',\n",
       " 'smugplug_v1_with_optimizer']"
      ]
     },
     "execution_count": 2,
     "metadata": {},
     "output_type": "execute_result"
    }
   ],
   "source": [
    "from core.backtesting.optimizer import StrategyOptimizer\n",
    "\n",
    "optimizer = StrategyOptimizer(root_path=root_path, database_name=\"optimization_database\")\n",
    "trials = pd.concat([optimizer.get_study_trials_df(study_name) for study_name in optimizer.get_all_study_names()])\n",
    "\n",
    "trials['from_timestamp'] = pd.to_datetime(trials['from_timestamp'])\n",
    "trials['to_timestamp'] = pd.to_datetime(trials['to_timestamp'])\n",
    "trials['days_diff'] = (trials['to_timestamp'] - trials['from_timestamp']).dt.total_seconds() / 86400\n",
    "trials['executors_per_day'] = trials['total_executors'] / trials['days_diff']\n",
    "trials['volume_per_day'] = trials['total_volume'] / trials['days_diff']\n",
    "\n",
    "import ast\n",
    "def str_to_dict(x):\n",
    "    return ast.literal_eval(x)\n",
    "\n",
    "trials['trading_pair'] = trials['config'].apply(lambda x: str_to_dict(x)['trading_pair'])"
   ]
  },
  {
   "cell_type": "code",
   "execution_count": null,
   "metadata": {},
   "outputs": [],
   "source": [
    "\n",
    "def get_best_trials(df):\n",
    "    final_df = pd.DataFrame()\n",
    "\n",
    "    for trading_pair in df['trading_pair'].unique():\n",
    "        trading_pair_df = df[(df['trading_pair'] == trading_pair) & (df['executors'])]\n",
    "        filtered = trading_pair_df[\n",
    "            (trading_pair_df['executors_per_day'] >= trading_pair_df['executors_per_day'].median()) &\n",
    "            (trading_pair_df['volume_per_day'] >= trading_pair_df['volume_per_day'].median()) &\n",
    "            (trading_pair_df['sharpe_ratio'] >= trading_pair_df['sharpe_ratio'].median()) &\n",
    "            (trading_pair_df['max_drawdown_pct'] <= trading_pair_df['max_drawdown_pct'].median()) \n",
    "        ]\n",
    "\n",
    "        if filtered.empty: \n",
    "            continue\n",
    "\n",
    "        normalized_columns = ['executors_per_day', 'volume_per_day', 'sharpe_ratio', 'max_drawdown_pct']\n",
    "        for col in normalized_columns:\n",
    "            filtered[col] = filtered[col] / filtered[col].max()\n",
    "\n",
    "        filtered['score'] = (\n",
    "            filtered['executors_per_day'] *\n",
    "            filtered['volume_per_day'] *\n",
    "            filtered['sharpe_ratio'] *\n",
    "            (1 / filtered['max_drawdown_pct'])\n",
    "        )\n",
    "        filtered['score'] = filtered['score'] / filtered['score'].max()\n",
    "        filtered = filtered.dropna().sort_values(by='score', ascending=False).head(2)\n",
    "\n",
    "        final_df = pd.concat([final_df, filtered[['study_name', 'config', 'trading_pair', 'max_drawdown_pct', 'executors_per_day', 'sharpe_ratio', 'volume_per_day', 'score']]])\n",
    "    return final_df\n",
    "\n",
    "# Call the function and pass the dataframe\n",
    "best_trials = get_best_trials(trials)\n",
    "best_trials"
   ]
  },
  {
   "cell_type": "code",
   "execution_count": null,
   "metadata": {
    "collapsed": false
   },
   "outputs": [],
   "source": [
    "import json\n",
    "from core.services.backend_api_client import BackendAPIClient\n",
    "\n",
    "client = BackendAPIClient()\n",
    "\n",
    "for index, row in best_trials.iterrows():\n",
    "    bot_config = str_to_dict(row.config)\n",
    "    await client.add_controller_config(json.loads(bot_config.json()))\n",
    "    await client.deploy_script_with_controllers(\n",
    "        bot_name=\"test_1\",\n",
    "        controller_configs=[bot_config.id + \".yml\"],\n",
    "        image_name=\"dardonacci/hummingbot:latest\",\n",
    "        max_global_drawdown=50,\n",
    "        max_controller_drawdown=20,\n",
    "    )"
   ]
  }
 ],
 "metadata": {
  "kernelspec": {
   "display_name": "Python 3",
   "language": "python",
   "name": "python3"
  },
  "language_info": {
   "codemirror_mode": {
    "name": "ipython",
    "version": 3
   },
   "file_extension": ".py",
   "mimetype": "text/x-python",
   "name": "python",
   "nbconvert_exporter": "python",
   "pygments_lexer": "ipython3",
   "version": "3.10.15"
  }
 },
 "nbformat": 4,
 "nbformat_minor": 0
}
