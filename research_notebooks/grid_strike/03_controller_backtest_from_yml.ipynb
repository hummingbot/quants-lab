{
 "cells": [
  {
   "cell_type": "code",
   "metadata": {
    "collapsed": false
   },
   "source": [
    "# This is necessary to recognize the modules\n",
    "import os\n",
    "import sys\n",
    "from decimal import Decimal\n",
    "import warnings\n",
    "\n",
    "warnings.filterwarnings(\"ignore\")\n",
    "\n",
    "root_path = os.path.abspath(os.path.join(os.getcwd(), '../..'))\n",
    "sys.path.append(root_path)"
   ],
   "outputs": [],
   "execution_count": null
  },
  {
   "cell_type": "code",
   "metadata": {
    "collapsed": false,
    "jupyter": {
     "outputs_hidden": false
    }
   },
   "source": [
    "from core.backtesting import BacktestingEngine\n",
    "\n",
    "backtesting = BacktestingEngine(root_path=root_path, load_cached_data=False)"
   ],
   "outputs": [],
   "execution_count": null
  },
  {
   "cell_type": "code",
   "source": [
    "from core.utils import list_all_yaml_files, load_dict_from_yaml\n",
    "configs = list_all_yaml_files(\"configs\")\n",
    "configs"
   ],
   "metadata": {
    "collapsed": false
   },
   "outputs": [],
   "execution_count": null
  },
  {
   "cell_type": "code",
   "source": [
    "config_to_backtest = load_dict_from_yaml(configs[0], \"configs\")\n",
    "\n",
    "# This is only for backtesting purposes\n",
    "config_to_backtest[\"rebalanced\"] = True"
   ],
   "metadata": {
    "collapsed": false
   },
   "outputs": [],
   "execution_count": null
  },
  {
   "cell_type": "code",
   "metadata": {
    "collapsed": false,
    "jupyter": {
     "outputs_hidden": false
    }
   },
   "source": [
    "from research_notebooks.grid_strike.grid_strike_bt import GridStrikeBT\n",
    "\n",
    "import datetime\n",
    "\n",
    "\n",
    "\n",
    "start = int(datetime.datetime(2024, 9, 1).timestamp())\n",
    "end = int(datetime.datetime(2024, 9, 12).timestamp())\n",
    "\n",
    "config = backtesting.get_controller_config_instance_from_dict(config_to_backtest)\n",
    "# Running the backtesting this will output a backtesting result object that has built in methods to visualize the results\n",
    "backtester = GridStrikeBT()\n",
    "backtesting_result = await backtesting.run_backtesting(\n",
    "    config=config,\n",
    "    start=start,\n",
    "    end=end,\n",
    "    backtesting_resolution=\"3m\",\n",
    "    trade_cost=0,\n",
    "    backtester=backtester,\n",
    ")\n"
   ],
   "outputs": [],
   "execution_count": null
  },
  {
   "cell_type": "code",
   "metadata": {},
   "source": [
    "# Let's see what is inside the backtesting results\n",
    "print(backtesting_result.get_results_summary())\n",
    "backtesting_result.get_backtesting_figure()"
   ],
   "outputs": [],
   "execution_count": null
  }
 ],
 "metadata": {
  "kernelspec": {
   "display_name": "Python 3 (ipykernel)",
   "language": "python",
   "name": "python3"
  },
  "language_info": {
   "codemirror_mode": {
    "name": "ipython",
    "version": 3
   },
   "file_extension": ".py",
   "mimetype": "text/x-python",
   "name": "python",
   "nbconvert_exporter": "python",
   "pygments_lexer": "ipython3",
   "version": "3.10.14"
  }
 },
 "nbformat": 4,
 "nbformat_minor": 4
}
