{
 "cells": [
  {
   "cell_type": "code",
   "metadata": {
    "collapsed": false
   },
   "source": [
    "import os\n",
    "import sys\n",
    "\n",
    "root_path = os.path.abspath(os.path.join(os.getcwd(), '../..'))\n",
    "sys.path.append(root_path)"
   ],
   "outputs": [],
   "execution_count": null
  },
  {
   "cell_type": "code",
   "metadata": {},
   "source": [
    "from research_notebooks.grid_strike.grid_strike_bt import GridStrikeBT\n",
    "from core.features.candles.volume import VolumeConfig\n",
    "from core.features.candles.volatility import VolatilityConfig\n",
    "from research_notebooks.grid_strike.utils import generate_report\n",
    "import pandas as pd\n",
    "import datetime\n",
    "from controllers.generic.grid_strike import GridStrikeConfig\n",
    "from core.backtesting.optimizer import BacktestingConfig, BaseStrategyConfigGenerator\n",
    "from decimal import Decimal\n",
    "from core.data_sources.clob import CLOBDataSource\n",
    "\n",
    "\n",
    "\n",
    "class GridStrikeConfigGenerator(BaseStrategyConfigGenerator):\n",
    "    def __init__(self, start_date: datetime.datetime, end_date: datetime.datetime, backtester= GridStrikeBT()):\n",
    "        super().__init__(start_date, end_date, backtester)\n",
    "        self.report = None\n",
    "        self.trading_pairs = None\n",
    "        self.candles = None\n",
    "\n",
    "    async def generate_top_markets_report(self,\n",
    "                                          connector_name: str,\n",
    "                                          interval: str,\n",
    "                                          days: int,\n",
    "                                          quote_asset: str,\n",
    "                                          min_notional_size: float,\n",
    "                                          volatility_window: int,\n",
    "                                          batch_size: int,\n",
    "                                          sleep_time: float,\n",
    "                                          volatility_threshold: float,\n",
    "                                          volume_threshold: float,\n",
    "                                          ) -> pd.DataFrame:\n",
    "        clob = CLOBDataSource()\n",
    "        trading_rules = await clob.get_trading_rules(connector_name)\n",
    "        trading_pairs = trading_rules.filter_by_quote_asset(quote_asset).filter_by_min_notional_size(Decimal(min_notional_size)).get_all_trading_pairs()\n",
    "        candles = await clob.get_candles_batch_last_days(connector_name, trading_pairs, interval, days, batch_size, sleep_time)\n",
    "        report_df = generate_report(candles, volatility_config=VolatilityConfig(window=volatility_window), volume_config=VolumeConfig(short_window=5, long_window=20))\n",
    "        natr_percentile = report_df['mean_natr'].quantile(volatility_threshold)\n",
    "        volume_percentile = report_df['average_volume_per_hour'].quantile(volume_threshold)\n",
    "\n",
    "        filtered_df = report_df[\n",
    "            (report_df['mean_natr'] > natr_percentile) &\n",
    "            (report_df['average_volume_per_hour'] > volume_percentile)\n",
    "            ]\n",
    "        self.report = filtered_df.sort_values(by='normalized_score', ascending=False)\n",
    "        self.trading_pairs = self.report['trading_pair'].to_list()\n",
    "        self.candles = {candle.trading_pair: candle for candle in candles}\n",
    "\n",
    "    def generate_config(self, trial) -> BacktestingConfig:\n",
    "        # Suggest hyperparameters using the trial object\n",
    "        connector_name = \"binance\"\n",
    "        total_amount_quote = 1000\n",
    "        trading_pair = trial.suggest_categorical(\"trading_pair\", self.trading_pairs)\n",
    "        grid_mid_price = self.report[self.report['trading_pair'] == trading_pair]['grid_mid_price'].values[0]\n",
    "        sniper_upper_price = self.report[self.report['trading_pair'] == trading_pair]['sniper_upper_price'].values[0]\n",
    "        sniper_lower_price = self.report[self.report['trading_pair'] == trading_pair]['sniper_lower_price'].values[0]\n",
    "        grid_step = trial.suggest_float(\"grid_step\", 0.005, 0.02, step=0.005)\n",
    "        grid_upper_price_quantile = trial.suggest_float(\"grid_upper_price_quantile\", 0.75, 0.95, step=0.05)\n",
    "        grid_lower_price_quantile = trial.suggest_float(\"grid_lower_price_quantile\", 0.05, 0.25, step=0.05)\n",
    "        candles = self.candles[trading_pair]\n",
    "        grid_upper_price = candles.data.close.quantile(grid_upper_price_quantile)\n",
    "        grid_lower_price = candles.data.close.quantile(grid_lower_price_quantile)\n",
    "\n",
    "        # Create the strategy configuration\n",
    "        config = GridStrikeConfig(\n",
    "            connector_name=connector_name,\n",
    "            trading_pair=trading_pair,\n",
    "            total_amount_quote=Decimal(total_amount_quote),\n",
    "            grid_upper_price=grid_upper_price,\n",
    "            grid_mid_price=grid_mid_price,\n",
    "            grid_lower_price=grid_lower_price,\n",
    "            sniper_upper_price=sniper_upper_price,\n",
    "            sniper_lower_price=sniper_lower_price,\n",
    "            grid_step=grid_step,\n",
    "            rebalanced=True,\n",
    "        )\n",
    "\n",
    "        # Return the configuration encapsulated in BacktestingConfig\n",
    "        return BacktestingConfig(config=config, start=self.start, end=self.end)"
   ],
   "outputs": [],
   "execution_count": null
  },
  {
   "cell_type": "code",
   "metadata": {},
   "source": [
    "from core.backtesting.optimizer import StrategyOptimizer\n",
    "import datetime\n",
    "\n",
    "connector_name = \"binance\"\n",
    "interval = \"15m\"\n",
    "days = 30\n",
    "quote_asset = \"USDT\"\n",
    "min_notional_size = 1\n",
    "volatility_window = 20\n",
    "batch_size = 100\n",
    "sleep_time = 2.0\n",
    "volatility_threshold = 0.4\n",
    "volume_threshold = 0.4\n",
    "\n",
    "start_date = datetime.datetime(2024, 9, 10)\n",
    "end_date = datetime.datetime(2024, 9, 12)\n",
    "config_generator = GridStrikeConfigGenerator(start_date=start_date, end_date=end_date)\n",
    "await config_generator.generate_top_markets_report(\n",
    "    connector_name=connector_name, interval=interval, days=days, quote_asset=quote_asset,\n",
    "    min_notional_size=min_notional_size, volatility_window=volatility_window, batch_size=batch_size, sleep_time=sleep_time, volatility_threshold=volatility_threshold, volume_threshold=volume_threshold)\n"
   ],
   "outputs": [],
   "execution_count": null
  },
  {
   "cell_type": "code",
   "source": [
    "optimizer = StrategyOptimizer(root_path=root_path)\n",
    "await optimizer.optimize(\n",
    "    study_name=\"grid_strike_2\",\n",
    "    config_generator=config_generator,\n",
    "    n_trials=1000,\n",
    ")"
   ],
   "metadata": {
    "collapsed": false
   },
   "outputs": [],
   "execution_count": null
  },
  {
   "cell_type": "code",
   "source": [
    "optimizer.launch_optuna_dashboard()"
   ],
   "metadata": {
    "collapsed": false
   },
   "outputs": [],
   "execution_count": null
  },
  {
   "cell_type": "code",
   "source": [],
   "metadata": {
    "collapsed": false
   },
   "outputs": [],
   "execution_count": null
  }
 ],
 "metadata": {
  "kernelspec": {
   "display_name": "Python 3",
   "language": "python",
   "name": "python3"
  },
  "language_info": {
   "codemirror_mode": {
    "name": "ipython",
    "version": 3
   },
   "file_extension": ".py",
   "mimetype": "text/x-python",
   "name": "python",
   "nbconvert_exporter": "python",
   "pygments_lexer": "ipython3",
   "version": "3.10.14"
  }
 },
 "nbformat": 4,
 "nbformat_minor": 0
}
