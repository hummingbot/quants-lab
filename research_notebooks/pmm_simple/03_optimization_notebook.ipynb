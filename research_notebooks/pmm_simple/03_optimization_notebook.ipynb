{
 "cells": [
  {
   "cell_type": "code",
   "metadata": {
    "collapsed": false
   },
   "source": [
    "import os\n",
    "import sys\n",
    "\n",
    "root_path = os.path.abspath(os.path.join(os.getcwd(), '../..'))\n",
    "sys.path.append(root_path)"
   ],
   "outputs": [],
   "execution_count": null
  },
  {
   "cell_type": "code",
   "metadata": {},
   "source": [
    "from hummingbot.strategy_v2.utils.distributions import Distributions\n",
    "from controllers.market_making.pmm_simple import PMMSimpleConfig\n",
    "from core.backtesting.optimizer import BacktestingConfig, BaseStrategyConfigGenerator\n",
    "from hummingbot.strategy_v2.executors.position_executor.data_types import TrailingStop\n",
    "from decimal import Decimal\n",
    "\n",
    "\n",
    "class PMMSimpleConfigGenerator(BaseStrategyConfigGenerator):\n",
    "    \"\"\"\n",
    "    Strategy configuration generator for PMM Simple optimization.\n",
    "    \"\"\"\n",
    "    async def generate_config(self, trial) -> BacktestingConfig:\n",
    "        # Controller configuration\n",
    "        connector_name = \"binance_perpetual\"\n",
    "        trading_pair = \"1000PEPE-USDT\"\n",
    "        total_amount_quote = 1000\n",
    "        take_profit = trial.suggest_float(\"take_profit\", 0.01, 0.03, step=0.01)\n",
    "        stop_loss = trial.suggest_float(\"stop_loss\", 0.01, 0.05, step=0.01)\n",
    "        levels = trial.suggest_int(\"levels\", 3, 5)\n",
    "        start_spread = trial.suggest_float(\"start_spread\", 0.002, 0.005, step=0.001)\n",
    "        step_spread = trial.suggest_float(\"step_spread\", 0.001, 0.002, step=0.001)\n",
    "        spreads = Distributions.arithmetic(levels, start_spread, step_spread)\n",
    "        trailing_stop_activation_price = trial.suggest_float(\"trailing_stop_activation_price\", 0.005, 0.015, step=0.01)\n",
    "        trailing_delta_ratio = trial.suggest_float(\"trailing_delta_ratio\", 0.05, 0.1, step=0.01)\n",
    "        trailing_stop_trailing_delta = trailing_stop_activation_price * trailing_delta_ratio\n",
    "        time_limit = trial.suggest_int(\"time_limit\", 60 * 60 * 2, 60 * 60 * 4, step=60 * 60)\n",
    "        executor_refresh_time = trial.suggest_int(\"executor_refresh_time\", 60 * 2, 60 * 10, step=60)\n",
    "        cooldown_time = trial.suggest_int(\"cooldown_time\", 60 * 5, 60 * 10, step=60)\n",
    "\n",
    "\n",
    "        # Creating the instance of the configuration and the controller\n",
    "        config = PMMSimpleConfig(\n",
    "            connector_name=connector_name,\n",
    "            trading_pair=trading_pair,\n",
    "            sell_spreads=spreads,\n",
    "            buy_spreads=spreads,\n",
    "            total_amount_quote=Decimal(total_amount_quote),\n",
    "            take_profit=Decimal(take_profit),\n",
    "            stop_loss=Decimal(stop_loss),\n",
    "            trailing_stop=TrailingStop(activation_price=Decimal(trailing_stop_activation_price), trailing_delta=Decimal(trailing_stop_trailing_delta)),\n",
    "            time_limit=time_limit,\n",
    "            cooldown_time=cooldown_time,\n",
    "            executor_refresh_time=executor_refresh_time\n",
    "        )\n",
    "\n",
    "        # Return the configuration encapsulated in BacktestingConfig\n",
    "        return BacktestingConfig(config=config, start=self.start, end=self.end)"
   ],
   "outputs": [],
   "execution_count": null
  },
  {
   "cell_type": "code",
   "metadata": {
    "is_executing": true
   },
   "source": [
    "from core.backtesting.optimizer import StrategyOptimizer\n",
    "import datetime\n",
    "\n",
    "start_date = datetime.datetime(2024, 8, 1)\n",
    "end_date = datetime.datetime(2024, 8, 3)\n",
    "config_generator = PMMSimpleConfigGenerator(start_date=start_date, end_date=end_date)\n",
    "\n",
    "optimizer = StrategyOptimizer(root_path=root_path)\n",
    "await optimizer.optimize(\n",
    "    study_name=\"pmm_simple_with_optimizer\",\n",
    "    config_generator=config_generator,\n",
    "    n_trials=100,\n",
    ")"
   ],
   "outputs": [],
   "execution_count": null
  },
  {
   "cell_type": "code",
   "source": [
    "optimizer.launch_optuna_dashboard()"
   ],
   "metadata": {
    "collapsed": false
   },
   "outputs": [],
   "execution_count": null
  },
  {
   "cell_type": "code",
   "source": [],
   "metadata": {
    "collapsed": false
   },
   "outputs": [],
   "execution_count": null
  }
 ],
 "metadata": {
  "kernelspec": {
   "display_name": "Python 3",
   "language": "python",
   "name": "python3"
  },
  "language_info": {
   "codemirror_mode": {
    "name": "ipython",
    "version": 3
   },
   "file_extension": ".py",
   "mimetype": "text/x-python",
   "name": "python",
   "nbconvert_exporter": "python",
   "pygments_lexer": "ipython3",
   "version": "3.10.14"
  }
 },
 "nbformat": 4,
 "nbformat_minor": 0
}
