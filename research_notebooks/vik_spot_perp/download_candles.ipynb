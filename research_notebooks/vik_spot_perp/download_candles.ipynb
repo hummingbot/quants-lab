{
 "cells": [
  {
   "cell_type": "code",
   "execution_count": null,
   "metadata": {
    "collapsed": false,
    "jupyter": {
     "outputs_hidden": false
    }
   },
   "outputs": [],
   "source": [
    "# This is necessary to recognize the modules\n",
    "import os\n",
    "import sys\n",
    "import warnings\n",
    "\n",
    "warnings.filterwarnings(\"ignore\")\n",
    "\n",
    "root_path = os.path.abspath(os.path.join(os.getcwd(), \"../..\"))\n",
    "sys.path.append(root_path)"
   ]
  },
  {
   "cell_type": "code",
   "execution_count": null,
   "metadata": {
    "collapsed": false,
    "jupyter": {
     "outputs_hidden": false
    }
   },
   "outputs": [],
   "source": [
    "from core.data_sources.clob import CLOBDataSource\n",
    "\n",
    "# Get trading rules and candles\n",
    "clob = CLOBDataSource()"
   ]
  },
  {
   "cell_type": "code",
   "execution_count": null,
   "metadata": {
    "collapsed": false,
    "jupyter": {
     "outputs_hidden": false
    }
   },
   "outputs": [],
   "source": [
    "# Constants\n",
    "CONNECTOR_NAME = \"binance_perpetual\"\n",
    "INTERVALS = [\"1m\"]\n",
    "trading_pairs = [\n",
    "    \"1000SHIB-USDT\",\n",
    "    \"WLD-USDT\",\n",
    "    \"ACT-USDT\",\n",
    "    \"1000BONK-USDT\",\n",
    "    \"DOGE-USDT\",\n",
    "    \"AGLD-USDT\",\n",
    "    \"SUI-USDT\",\n",
    "    \"1000SATS-USDT\",\n",
    "    \"MOODENG-USDT\",\n",
    "    \"NEIRO-USDT\",\n",
    "    \"HBAR-USDT\",\n",
    "    \"ENA-USDT\",\n",
    "    \"HMSTR-USDT\",\n",
    "    \"TROY-USDT\",\n",
    "    \"1000PEPE-USDT\",\n",
    "    \"1000X-USDT\",\n",
    "    \"PNUT-USDT\",\n",
    "    \"SOL-USDT\",\n",
    "    \"XRP-USDT\",\n",
    "]\n",
    "DAYS = 30"
   ]
  },
  {
   "cell_type": "markdown",
   "metadata": {
    "collapsed": false,
    "jupyter": {
     "outputs_hidden": false
    }
   },
   "source": [
    "# Download data\n",
    "- Get trading rules\n",
    "- Get candles for the last x days"
   ]
  },
  {
   "cell_type": "code",
   "execution_count": null,
   "metadata": {
    "collapsed": false
   },
   "outputs": [],
   "source": [
    "BATCH_CANDLES_REQUEST = 10\n",
    "SLEEP_REQUEST = 0.5\n",
    "\n",
    "all_candles = {\n",
    "    interval: await clob.get_candles_batch_last_days(\n",
    "        CONNECTOR_NAME, trading_pairs, interval, DAYS, BATCH_CANDLES_REQUEST, SLEEP_REQUEST\n",
    "    )\n",
    "    for interval in INTERVALS\n",
    "}\n",
    "clob.dump_candles_cache(root_path)"
   ]
  }
 ],
 "metadata": {
  "kernelspec": {
   "display_name": "Python 3 (ipykernel)",
   "language": "python",
   "name": "python3"
  },
  "language_info": {
   "codemirror_mode": {
    "name": "ipython",
    "version": 3
   },
   "file_extension": ".py",
   "mimetype": "text/x-python",
   "name": "python",
   "nbconvert_exporter": "python",
   "pygments_lexer": "ipython3",
   "version": "3.10.15"
  }
 },
 "nbformat": 4,
 "nbformat_minor": 4
}
