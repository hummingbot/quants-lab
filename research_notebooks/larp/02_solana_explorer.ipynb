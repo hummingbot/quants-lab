{
 "cells": [
  {
   "cell_type": "code",
   "metadata": {},
   "source": [
    "import asyncio\n",
    "# This is necessary to recognize the modules\n",
    "import os\n",
    "import sys\n",
    "from decimal import Decimal\n",
    "import warnings\n",
    "\n",
    "import pandas as pd\n",
    "\n",
    "warnings.filterwarnings(\"ignore\")\n",
    "\n",
    "root_path = os.path.abspath(os.path.join(os.getcwd(), '../..'))\n",
    "sys.path.append(root_path)"
   ],
   "outputs": [],
   "execution_count": null
  },
  {
   "cell_type": "code",
   "metadata": {},
   "source": [
    "from core.data_sources.solana import SolanaClient\n",
    "\n",
    "# Initialize the client\n",
    "solana_client = SolanaClient()\n",
    "\n",
    "# Get token information\n",
    "# token_address = \"your-token-address\"\n",
    "# token_info = solana_client.get_token_info(token_address)\n",
    "\n",
    "# Get account information\n",
    "account_address = \"4DeaBhUpXxsCxLJ6xnmpBq6MXroTrHEFJjJmiZthjxih\"\n",
    "account_info = solana_client.get_account_info(account_address)\n",
    "\n",
    "# Get token transactions\n",
    "# transactions = solana_client.get_token_transactions(token_address)\n",
    "\n",
    "# Calculate token metrics (requires price input)\n",
    "token_price = 1.23  # Get this from an external source\n",
    "# metrics = solana_client.calculate_token_metrics(token_address, token_price)"
   ],
   "outputs": [],
   "execution_count": null
  },
  {
   "cell_type": "code",
   "metadata": {},
   "source": [],
   "outputs": [],
   "execution_count": null
  }
 ],
 "metadata": {
  "kernelspec": {
   "display_name": "quants-lab",
   "language": "python",
   "name": "python3"
  },
  "language_info": {
   "codemirror_mode": {
    "name": "ipython",
    "version": 3
   },
   "file_extension": ".py",
   "mimetype": "text/x-python",
   "name": "python",
   "nbconvert_exporter": "python",
   "pygments_lexer": "ipython3",
   "version": "3.10.15"
  }
 },
 "nbformat": 4,
 "nbformat_minor": 2
}
