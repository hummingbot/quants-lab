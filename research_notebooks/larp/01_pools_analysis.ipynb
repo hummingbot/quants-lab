{
 "cells": [
  {
   "cell_type": "code",
   "metadata": {},
   "source": [
    "import asyncio\n",
    "# This is necessary to recognize the modules\n",
    "import os\n",
    "import sys\n",
    "from decimal import Decimal\n",
    "import warnings\n",
    "\n",
    "import pandas as pd\n",
    "\n",
    "warnings.filterwarnings(\"ignore\")\n",
    "\n",
    "root_path = os.path.abspath(os.path.join(os.getcwd(), '../..'))\n",
    "sys.path.append(root_path)"
   ],
   "outputs": [],
   "execution_count": null
  },
  {
   "cell_type": "code",
   "metadata": {},
   "source": [
    "from core.services.larp_client import LarpClient\n",
    "from geckoterminal_py import GeckoTerminalAsyncClient\n",
    "import pandas as pd\n",
    "import asyncio\n",
    "\n",
    "\n",
    "client = LarpClient()\n",
    "gt = GeckoTerminalAsyncClient()"
   ],
   "outputs": [],
   "execution_count": null
  },
  {
   "cell_type": "code",
   "metadata": {
    "collapsed": false
   },
   "source": [
    "# Criteria\n",
    "MIN_POOL_AGE_DAYS = 7\n",
    "MAX_POOL_AGE_DAYS = 720\n",
    "MIN_MARKET_CAP = 1_000_000\n",
    "MAX_MARKET_CAP = 100_000_000\n",
    "MIN_VOLUME_24H = 100_000\n",
    "MIN_LIQUIDITY = 10_000\n",
    "NETWORK = \"solana\"\n",
    "DEX = \"meteora\"\n",
    "QUOTE_ASSET = \"SOL\""
   ],
   "outputs": [],
   "execution_count": null
  },
  {
   "cell_type": "code",
   "metadata": {
    "collapsed": false
   },
   "source": [
    "pools = await gt.get_top_pools_by_network_dex(NETWORK, DEX)"
   ],
   "outputs": [],
   "execution_count": null
  },
  {
   "cell_type": "code",
   "metadata": {
    "collapsed": false
   },
   "source": [
    "pools[\"market_cap_usd\"] = pd.to_numeric(pools[\"market_cap_usd\"])\n",
    "pools[\"volume_usd_h24\"] = pd.to_numeric(pools[\"volume_usd_h24\"])\n",
    "pools[\"reserve_in_usd\"] = pd.to_numeric(pools[\"reserve_in_usd\"])\n",
    "pools[\"pool_created_at\"] = pd.to_datetime(pools[\"pool_created_at\"]).dt.tz_localize(None)\n",
    "pools[\"base\"] = pools[\"name\"].apply(lambda x: x.split(\"/\")[0].strip())\n",
    "pools[\"quote\"] = pools[\"name\"].apply(lambda x: x.split(\"/\")[1].strip())\n",
    "pools[\"volume_liquidity_ratio\"] = pools[\"volume_usd_h24\"] / pools[\"reserve_in_usd\"]"
   ],
   "outputs": [],
   "execution_count": null
  },
  {
   "cell_type": "code",
   "metadata": {
    "collapsed": false
   },
   "source": [
    "pools"
   ],
   "outputs": [],
   "execution_count": null
  },
  {
   "cell_type": "code",
   "metadata": {
    "collapsed": false
   },
   "source": [
    "from datetime import datetime, timedelta\n",
    "\n",
    "min_pool_date_created = datetime.utcnow() - timedelta(days=MIN_POOL_AGE_DAYS)\n",
    "max_pool_date_created = datetime.utcnow() - timedelta(days=MAX_POOL_AGE_DAYS)\n",
    "pools_filtered = pools[(pools[\"market_cap_usd\"] > MIN_MARKET_CAP) & (pools[\"market_cap_usd\"] < MAX_MARKET_CAP) & (pools[\"volume_usd_h24\"] > MIN_VOLUME_24H) & (pools[\"reserve_in_usd\"] > MIN_LIQUIDITY) & (pools[\"pool_created_at\"] < min_pool_date_created) & (pools[\"pool_created_at\"] > max_pool_date_created) & (pools[\"quote\"] == QUOTE_ASSET)]\n",
    "fee_rates = []\n",
    "tick_spacings = []\n",
    "liquidity = []\n",
    "for i, pool in pools_filtered.iterrows():\n",
    "    try:\n",
    "        pool_info = await client.get_pool_info(pool[\"address\"])\n",
    "        fee_rates.append(pool_info[\"feeRateBps\"])\n",
    "        tick_spacings.append(pool_info[\"tickSpacing\"])\n",
    "        liquidity.append(pool_info[\"liquidity\"])\n",
    "        await asyncio.sleep(2)\n",
    "    except:\n",
    "        fee_rates.append(None)\n",
    "        tick_spacings.append(None)\n",
    "        liquidity.append(None)\n",
    "        print(f\"Error with pool {pool['address']}\")\n",
    "pools_filtered[\"fee_rate\"] = fee_rates\n",
    "pools_filtered[\"tick_spacing\"] = tick_spacings\n",
    "pools_filtered[\"liquidity\"] = liquidity"
   ],
   "outputs": [],
   "execution_count": null
  },
  {
   "cell_type": "code",
   "metadata": {
    "collapsed": false
   },
   "source": [
    "pools_filtered.sort_values(\"volume_liquidity_ratio\", ascending=False, inplace=True)\n",
    "pools_filtered"
   ],
   "outputs": [],
   "execution_count": null
  },
  {
   "cell_type": "code",
   "metadata": {
    "collapsed": false
   },
   "source": [
    "from core.data_structures.candles import Candles\n",
    "\n",
    "\n",
    "async def get_candles(pool, interval):\n",
    "    trading_pair = f\"{pool['base']}/{pool['quote']}\"\n",
    "    address = pool[\"address\"]\n",
    "    ohlc = await gt.get_ohlcv(NETWORK, address, interval, currency=\"token\")\n",
    "    ohlc.index = pd.to_datetime(ohlc[\"timestamp\"], unit=\"s\")\n",
    "    return Candles(candles_df=ohlc, connector_name=\"orca\", trading_pair=trading_pair, interval=interval)\n",
    "\n",
    "def add_position_metrics(candle, lookback_periods):\n",
    "    df = candle.data\n",
    "    results = []\n",
    "    \n",
    "    for period in lookback_periods:\n",
    "        df_period = df.iloc[-period:]\n",
    "        max_price = df_period['high'].max()\n",
    "        min_price = df_period['low'].min()\n",
    "        range_price = max_price - min_price\n",
    "        range_price_pct = (max_price - df_period['close'].iloc[-1]) / df_period['close'].iloc[-1]\n",
    "        current_position = (max_price - df_period['close'].iloc[-1]) / range_price if range_price != 0 else 0\n",
    "        \n",
    "        results.append({\n",
    "            'period': period,\n",
    "            'max_price': max_price,\n",
    "            'min_price': min_price,\n",
    "            'current_position': current_position,\n",
    "            'range_price_pct': range_price_pct,\n",
    "            'current_price': df_period['close'].iloc[-1]\n",
    "        })\n",
    "    \n",
    "    return results"
   ],
   "outputs": [],
   "execution_count": null
  },
  {
   "cell_type": "code",
   "metadata": {
    "collapsed": false
   },
   "source": [
    "pools_data = {}\n",
    "interval = \"1d\"\n",
    "\n",
    "for i, pool in pools_filtered.iterrows():\n",
    "    candle = await get_candles(pool, interval)\n",
    "    pools_data[pool[\"address\"]] = {\n",
    "        \"candle\": candle,\n",
    "        \"metrics\": add_position_metrics(candle, [len(candle.data)])[0],\n",
    "        \"pool\": pool\n",
    "    }"
   ],
   "outputs": [],
   "execution_count": null
  },
  {
   "cell_type": "code",
   "metadata": {},
   "source": [
    "# SORT BY CURRENT POSITION\n",
    "pools_data = dict(sorted(pools_data.items(), key=lambda item: item[1]['metrics']['current_position'], reverse=True))\n"
   ],
   "outputs": [],
   "execution_count": null
  },
  {
   "cell_type": "code",
   "metadata": {
    "collapsed": false
   },
   "source": [
    "potential_positions = []\n",
    "\n",
    "for pool_id, pool_data in pools_data.items():\n",
    "    candle = pool_data[\"candle\"]\n",
    "    metrics = pool_data[\"metrics\"]\n",
    "    fig = candle.fig()\n",
    "    period = metrics['period']\n",
    "    max_price = metrics['max_price']\n",
    "    min_price = metrics['min_price']\n",
    "    current_position = metrics['current_position']\n",
    "    current_price = metrics['current_price']\n",
    "    # tick_spacing = pool_data[\"pool\"][\"tick_spacing\"]\n",
    "    # if current_position < 0.8 or pd.isna(tick_spacing):\n",
    "    if current_position < 0.8:\n",
    "        continue\n",
    "    potential_positions.append({\n",
    "        \"base_symbol\": pool_data[\"pool\"][\"base\"],\n",
    "        \"quote_symbol\": pool_data[\"pool\"][\"quote\"],\n",
    "        # \"tick_spacing\": int(tick_spacing),\n",
    "        \"lower_price\": str(min_price),\n",
    "        \"upper_price\": str(current_price),\n",
    "        \"number_of_positions\": 1,\n",
    "    })\n",
    "    # Add horizontal lines for max price, min price, and current position\n",
    "    fig.add_hline(y=max_price, line_dash=\"dash\", line_color=\"green\", annotation_text=f\"Max Price ({period})\", annotation_position=\"right\")\n",
    "    fig.add_hline(y=min_price, line_dash=\"dash\", line_color=\"red\", annotation_text=f\"Min Price ({period})\", annotation_position=\"right\")\n",
    "    fig.add_hline(y=current_price, line_dash=\"dash\", line_color=\"orange\", annotation_text=f\"Current Position ({current_position})\", annotation_position=\"right\")\n",
    "\n",
    "    fig.update_layout(title=f\"{candle.trading_pair} - Price Range and Current Position\",\n",
    "                      xaxis_title=\"Date\",\n",
    "                      yaxis_title=\"Price\",\n",
    "                      showlegend=True)\n",
    "\n",
    "    fig.show()\n"
   ],
   "outputs": [],
   "execution_count": null
  },
  {
   "cell_type": "code",
   "metadata": {},
   "source": [
    "potential_positions"
   ],
   "outputs": [],
   "execution_count": null
  },
  {
   "cell_type": "code",
   "metadata": {},
   "source": [
    "position_bundle = await client.create_orca_position_bundle()"
   ],
   "outputs": [],
   "execution_count": null
  },
  {
   "cell_type": "code",
   "metadata": {},
   "source": [
    "position_bundle"
   ],
   "outputs": [],
   "execution_count": null
  },
  {
   "cell_type": "code",
   "metadata": {},
   "source": [
    "pools_filtered"
   ],
   "outputs": [],
   "execution_count": null
  },
  {
   "cell_type": "code",
   "metadata": {},
   "source": [
    "position_to_create = potential_positions[1]\n",
    "position_to_create[\"position_bundle_address\"] = position_bundle[\"positionBundleAddress\"]\n",
    "position_to_create"
   ],
   "outputs": [],
   "execution_count": null
  },
  {
   "cell_type": "code",
   "metadata": {},
   "source": [
    "await client.open_orca_positions_in_bundle(\n",
    "    **position_to_create\n",
    ")"
   ],
   "outputs": [],
   "execution_count": null
  },
  {
   "cell_type": "code",
   "metadata": {},
   "source": [],
   "outputs": [],
   "execution_count": null
  }
 ],
 "metadata": {
  "kernelspec": {
   "display_name": "quants-lab",
   "language": "python",
   "name": "python3"
  },
  "language_info": {
   "codemirror_mode": {
    "name": "ipython",
    "version": 3
   },
   "file_extension": ".py",
   "mimetype": "text/x-python",
   "name": "python",
   "nbconvert_exporter": "python",
   "pygments_lexer": "ipython3",
   "version": "3.10.16"
  }
 },
 "nbformat": 4,
 "nbformat_minor": 2
}
