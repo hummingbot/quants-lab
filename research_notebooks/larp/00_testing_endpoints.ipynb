{
 "cells": [
  {
   "cell_type": "code",
   "metadata": {},
   "source": [
    "# This is necessary to recognize the modules\n",
    "import os\n",
    "import sys\n",
    "from decimal import Decimal\n",
    "import warnings\n",
    "\n",
    "warnings.filterwarnings(\"ignore\")\n",
    "\n",
    "root_path = os.path.abspath(os.path.join(os.getcwd(), '../..'))\n",
    "sys.path.append(root_path)"
   ],
   "outputs": [],
   "execution_count": null
  },
  {
   "cell_type": "code",
   "metadata": {},
   "source": [
    "from core.services.larp_client import LarpClient\n",
    "\n",
    "client = LarpClient()\n",
    "\n",
    "await client.get_tokens()"
   ],
   "outputs": [],
   "execution_count": null
  },
  {
   "cell_type": "code",
   "metadata": {},
   "source": [
    "# Test get_balance\n",
    "await client.get_balance(symbols=[\"devUSDC\"])"
   ],
   "outputs": [],
   "execution_count": null
  },
  {
   "cell_type": "code",
   "metadata": {},
   "source": [
    "await client.get_orca_positions_owned()"
   ],
   "outputs": [],
   "execution_count": null
  },
  {
   "cell_type": "code",
   "metadata": {
    "collapsed": false
   },
   "source": [
    "await client.get_orca_bundles_owned()"
   ],
   "outputs": [],
   "execution_count": null
  },
  {
   "cell_type": "code",
   "metadata": {
    "collapsed": false
   },
   "source": [
    "await client.get_orca_positions_in_bundle(\"G3sXXZxYNgs8N3j5aCnNjjDRW5MJtMX7ra915ENn1Bo9\")"
   ],
   "outputs": [],
   "execution_count": null
  },
  {
   "cell_type": "code",
   "metadata": {},
   "source": [
    "await client.create_orca_position_bundle()"
   ],
   "outputs": [],
   "execution_count": null
  },
  {
   "cell_type": "code",
   "metadata": {},
   "source": [
    "await client.get_orca_positions_in_bundle(\"G176a3hzm7m3e6sDgcGrhM44FrYhvsrsn7vjap29zq46\")"
   ],
   "outputs": [],
   "execution_count": null
  },
  {
   "cell_type": "code",
   "metadata": {},
   "source": [
    "await client.open_orca_positions_in_bundle(\n",
    "    base_symbol=\"devSAMO\",\n",
    "    quote_symbol=\"devUSDC\",\n",
    "    tick_spacing=64,\n",
    "    lower_price=\"0.005\",\n",
    "    upper_price=\"0.03\",\n",
    "    position_bundle_address=\"G176a3hzm7m3e6sDgcGrhM44FrYhvsrsn7vjap29zq46\",\n",
    "    number_of_positions=10\n",
    ")\n"
   ],
   "outputs": [],
   "execution_count": null
  },
  {
   "cell_type": "code",
   "metadata": {
    "collapsed": false
   },
   "source": [
    "await client.get_orca_position(\"61jkB96mRTpfzd83L1Uut1y2xyjg9x5FKzaFz24aVksC\")"
   ],
   "outputs": [],
   "execution_count": null
  },
  {
   "cell_type": "code",
   "metadata": {},
   "source": [
    "await client.add_liquidity(\n",
    "    position_address=\"61jkB96mRTpfzd83L1Uut1y2xyjg9x5FKzaFz24aVksC\",\n",
    "    quote_token_amount=10,\n",
    "    slippage_pct=0.5\n",
    ")"
   ],
   "outputs": [],
   "execution_count": null
  },
  {
   "cell_type": "code",
   "metadata": {},
   "source": [],
   "outputs": [],
   "execution_count": null
  }
 ],
 "metadata": {
  "kernelspec": {
   "display_name": "quants-lab",
   "language": "python",
   "name": "python3"
  },
  "language_info": {
   "codemirror_mode": {
    "name": "ipython",
    "version": 3
   },
   "file_extension": ".py",
   "mimetype": "text/x-python",
   "name": "python",
   "nbconvert_exporter": "python",
   "pygments_lexer": "ipython3",
   "version": "3.10.15"
  }
 },
 "nbformat": 4,
 "nbformat_minor": 2
}
