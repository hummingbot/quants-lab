{
 "cells": [
  {
   "cell_type": "code",
   "execution_count": null,
   "metadata": {},
   "outputs": [],
   "source": [
    "# This is necessary to recognize the modules\n",
    "import os\n",
    "import sys\n",
    "import warnings\n",
    "\n",
    "warnings.filterwarnings(\"ignore\")\n",
    "\n",
    "root_path = os.path.abspath(os.path.join(os.getcwd(), \"../..\"))\n",
    "sys.path.append(root_path)"
   ]
  },
  {
   "cell_type": "code",
   "execution_count": null,
   "metadata": {},
   "outputs": [],
   "source": [
    "from core.services.larp_client import LarpClient\n",
    "\n",
    "client = LarpClient()\n",
    "\n",
    "await client.get_tokens()"
   ]
  },
  {
   "cell_type": "code",
   "execution_count": null,
   "metadata": {},
   "outputs": [],
   "source": [
    "# Test get_balance\n",
    "await client.get_balance(symbols=[\"devUSDC\"])"
   ]
  },
  {
   "cell_type": "code",
   "execution_count": null,
   "metadata": {},
   "outputs": [],
   "source": [
    "await client.get_orca_positions_owned()"
   ]
  },
  {
   "cell_type": "code",
   "execution_count": null,
   "metadata": {
    "collapsed": false
   },
   "outputs": [],
   "source": [
    "await client.get_orca_bundles_owned()"
   ]
  },
  {
   "cell_type": "code",
   "execution_count": null,
   "metadata": {
    "collapsed": false
   },
   "outputs": [],
   "source": [
    "await client.get_orca_positions_in_bundle(\"G3sXXZxYNgs8N3j5aCnNjjDRW5MJtMX7ra915ENn1Bo9\")"
   ]
  },
  {
   "cell_type": "code",
   "execution_count": null,
   "metadata": {},
   "outputs": [],
   "source": [
    "await client.create_orca_position_bundle()"
   ]
  },
  {
   "cell_type": "code",
   "execution_count": null,
   "metadata": {},
   "outputs": [],
   "source": [
    "await client.get_orca_positions_in_bundle(\"G176a3hzm7m3e6sDgcGrhM44FrYhvsrsn7vjap29zq46\")"
   ]
  },
  {
   "cell_type": "code",
   "execution_count": null,
   "metadata": {},
   "outputs": [],
   "source": [
    "await client.open_orca_positions_in_bundle(\n",
    "    base_symbol=\"devSAMO\",\n",
    "    quote_symbol=\"devUSDC\",\n",
    "    tick_spacing=64,\n",
    "    lower_price=\"0.005\",\n",
    "    upper_price=\"0.03\",\n",
    "    position_bundle_address=\"G176a3hzm7m3e6sDgcGrhM44FrYhvsrsn7vjap29zq46\",\n",
    "    number_of_positions=10,\n",
    ")"
   ]
  },
  {
   "cell_type": "code",
   "execution_count": null,
   "metadata": {
    "collapsed": false
   },
   "outputs": [],
   "source": [
    "await client.get_orca_position(\"61jkB96mRTpfzd83L1Uut1y2xyjg9x5FKzaFz24aVksC\")"
   ]
  },
  {
   "cell_type": "code",
   "execution_count": null,
   "metadata": {},
   "outputs": [],
   "source": [
    "await client.add_liquidity(\n",
    "    position_address=\"61jkB96mRTpfzd83L1Uut1y2xyjg9x5FKzaFz24aVksC\", quote_token_amount=10, slippage_pct=0.5\n",
    ")"
   ]
  },
  {
   "cell_type": "code",
   "execution_count": null,
   "metadata": {},
   "outputs": [],
   "source": []
  }
 ],
 "metadata": {
  "kernelspec": {
   "display_name": "quants-lab",
   "language": "python",
   "name": "python3"
  },
  "language_info": {
   "codemirror_mode": {
    "name": "ipython",
    "version": 3
   },
   "file_extension": ".py",
   "mimetype": "text/x-python",
   "name": "python",
   "nbconvert_exporter": "python",
   "pygments_lexer": "ipython3",
   "version": "3.10.15"
  }
 },
 "nbformat": 4,
 "nbformat_minor": 2
}
