{
 "cells": [
  {
   "cell_type": "code",
   "execution_count": 1,
   "metadata": {
    "ExecuteTime": {
     "end_time": "2025-02-14T17:31:49.704972Z",
     "start_time": "2025-02-14T17:31:49.701731Z"
    },
    "collapsed": false,
    "jupyter": {
     "outputs_hidden": false
    }
   },
   "outputs": [],
   "source": [
    "# This is necessary to recognize the modules\n",
    "import os\n",
    "import sys\n",
    "import warnings\n",
    "\n",
    "import joblib\n",
    "import pandas as pd\n",
    "from sklearn.ensemble import RandomForestClassifier\n",
    "from sklearn.metrics import classification_report\n",
    "from sklearn.model_selection import train_test_split\n",
    "\n",
    "warnings.filterwarnings(\"ignore\")\n",
    "\n",
    "root_path = os.path.abspath(os.path.join(os.getcwd(), \"../..\"))\n",
    "sys.path.append(root_path)"
   ]
  },
  {
   "cell_type": "code",
   "execution_count": 8,
   "metadata": {},
   "outputs": [
    {
     "name": "stdout",
     "output_type": "stream",
     "text": [
      "Initial class distribution:\n",
      "close_type\n",
      "-1     63411\n",
      " 0    112671\n",
      " 1     64574\n",
      "Name: count, dtype: int64\n",
      "\n",
      "\n",
      "Balanced class distribution:\n",
      "close_type\n",
      "-1    63411\n",
      " 0    63992\n",
      " 1    64574\n",
      "Name: count, dtype: int64\n",
      "\n",
      "\n",
      "Training model...\n",
      "\n",
      "Classification Report:\n",
      "              precision    recall  f1-score   support\n",
      "\n",
      "          -1       0.50      0.24      0.32     25212\n",
      "           0       0.46      0.76      0.57     25566\n",
      "           1       0.48      0.43      0.45     26013\n",
      "\n",
      "    accuracy                           0.47     76791\n",
      "   macro avg       0.48      0.47      0.45     76791\n",
      "weighted avg       0.48      0.47      0.45     76791\n",
      "\n",
      "\n",
      "Saving model and scaler...\n",
      "Model saved to: /Users/dman/Documents/code/quants-lab/models/binance_BTC-USDT_1s_xgb_model.joblib\n"
     ]
    }
   ],
   "source": [
    "# Load data\n",
    "connector_name = \"binance\"\n",
    "trading_pair = \"BTC-USDT\"\n",
    "interval = \"1s\"\n",
    "\n",
    "df_with_features = pd.read_parquet(\n",
    "    os.path.join(root_path, \"data\", \"features_df\", f\"{connector_name}|{trading_pair}|{interval}.parquet\")\n",
    ")\n",
    "\n",
    "# Prepare features and target\n",
    "feature_columns = [\n",
    "    col\n",
    "    for col in df_with_features.columns\n",
    "    if col not in [\"timestamp\", \"tl\", \"stop_loss_time\", \"take_profit_time\", \"close_time\", \"close_type\", \"real_class\", \"ret\"]\n",
    "]\n",
    "\n",
    "X = df_with_features[feature_columns]\n",
    "y = df_with_features[\"close_type\"]\n",
    "\n",
    "# Print initial class distribution\n",
    "print(\"Initial class distribution:\")\n",
    "print(y.value_counts().sort_index())\n",
    "print(\"\\n\")\n",
    "\n",
    "\n",
    "# Get the size of the smaller classes\n",
    "target_size = df_with_features[df_with_features[\"close_type\"] != 0].shape[0] // 2\n",
    "df_neg = df_with_features[df_with_features[\"close_type\"] == -1]\n",
    "df_pos = df_with_features[df_with_features[\"close_type\"] == 1]\n",
    "df_mid = df_with_features[df_with_features[\"close_type\"] == 0].sample(n=target_size, random_state=42)\n",
    "\n",
    "# Combine the balanced dataset\n",
    "balanced_df = pd.concat([df_neg, df_mid, df_pos])\n",
    "\n",
    "X_balanced = balanced_df[feature_columns]\n",
    "y_balanced = balanced_df[\"close_type\"]\n",
    "\n",
    "# Print balanced distribution\n",
    "print(\"Balanced class distribution:\")\n",
    "print(y_balanced.value_counts().sort_index())\n",
    "print(\"\\n\")\n",
    "\n",
    "\n",
    "# Split the data first\n",
    "X_train, X_test, y_train, y_test = train_test_split(X_balanced, y_balanced, test_size=0.4, random_state=42, shuffle=True)\n",
    "\n",
    "\n",
    "# Initialize and train XGBoost\n",
    "model = RandomForestClassifier(\n",
    "    n_estimators=500,\n",
    "    max_depth=3,\n",
    "    random_state=42,\n",
    "    n_jobs=-1,\n",
    "    class_weight=\"balanced\",\n",
    ")\n",
    "# Train the model\n",
    "print(\"Training model...\")\n",
    "model.fit(X_train, y_train)\n",
    "\n",
    "# Make predictions\n",
    "y_pred = model.predict(X_test)\n",
    "\n",
    "\n",
    "# Print model performance\n",
    "print(\"\\nClassification Report:\")\n",
    "print(classification_report(y_test, y_pred))\n",
    "\n",
    "# Save the model and scaler\n",
    "print(\"\\nSaving model and scaler...\")\n",
    "model_path = os.path.join(root_path, \"models\", f\"{connector_name}_{trading_pair}_{interval}_xgb_model.joblib\")\n",
    "scaler_path = os.path.join(root_path, \"models\", f\"{connector_name}_{trading_pair}_{interval}_scaler.joblib\")\n",
    "\n",
    "# Create models directory if it doesn't exist\n",
    "os.makedirs(os.path.dirname(model_path), exist_ok=True)\n",
    "\n",
    "# Save both model and scaler\n",
    "joblib.dump(model, model_path)\n",
    "\n",
    "print(f\"Model saved to: {model_path}\")"
   ]
  },
  {
   "cell_type": "code",
   "execution_count": 9,
   "metadata": {},
   "outputs": [
    {
     "data": {
      "text/plain": [
       "close_type\n",
       " 1    26013\n",
       " 0    25566\n",
       "-1    25212\n",
       "Name: count, dtype: int64"
      ]
     },
     "execution_count": 9,
     "metadata": {},
     "output_type": "execute_result"
    }
   ],
   "source": [
    "y_test.value_counts()"
   ]
  },
  {
   "cell_type": "code",
   "execution_count": 11,
   "metadata": {},
   "outputs": [
    {
     "data": {
      "text/plain": [
       "close_type\n",
       " 1    38561\n",
       " 0    38426\n",
       "-1    38199\n",
       "Name: count, dtype: int64"
      ]
     },
     "execution_count": 11,
     "metadata": {},
     "output_type": "execute_result"
    }
   ],
   "source": [
    "y_train.value_counts()"
   ]
  },
  {
   "cell_type": "code",
   "execution_count": null,
   "metadata": {},
   "outputs": [],
   "source": []
  }
 ],
 "metadata": {
  "kernelspec": {
   "display_name": "Python 3 (ipykernel)",
   "language": "python",
   "name": "python3"
  },
  "language_info": {
   "codemirror_mode": {
    "name": "ipython",
    "version": 3
   },
   "file_extension": ".py",
   "mimetype": "text/x-python",
   "name": "python",
   "nbconvert_exporter": "python",
   "pygments_lexer": "ipython3",
   "version": "3.10.16"
  }
 },
 "nbformat": 4,
 "nbformat_minor": 4
}
