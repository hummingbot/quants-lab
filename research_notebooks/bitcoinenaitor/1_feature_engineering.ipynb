{
 "cells": [
  {
   "cell_type": "code",
   "execution_count": 1,
   "metadata": {
    "collapsed": false,
    "jupyter": {
     "outputs_hidden": false
    }
   },
   "outputs": [],
   "source": [
    "# This is necessary to recognize the modules\n",
    "import os\n",
    "import sys\n",
    "import warnings\n",
    "\n",
    "warnings.filterwarnings(\"ignore\")\n",
    "\n",
    "root_path = os.path.abspath(os.path.join(os.getcwd(), \"../..\"))\n",
    "sys.path.append(root_path)"
   ]
  },
  {
   "cell_type": "code",
   "execution_count": 2,
   "metadata": {
    "collapsed": false,
    "jupyter": {
     "outputs_hidden": false
    }
   },
   "outputs": [],
   "source": [
    "from core.data_sources.clob import CLOBDataSource\n",
    "\n",
    "# Get trading rules and candles\n",
    "clob = CLOBDataSource()"
   ]
  },
  {
   "cell_type": "code",
   "execution_count": 3,
   "metadata": {},
   "outputs": [],
   "source": [
    "clob.load_candles_cache(root_path)"
   ]
  },
  {
   "cell_type": "code",
   "execution_count": 4,
   "metadata": {},
   "outputs": [],
   "source": [
    "candles = clob.candles_cache[(\"binance\", \"BTC-USDT\", \"1s\")]"
   ]
  },
  {
   "cell_type": "code",
   "execution_count": 5,
   "metadata": {},
   "outputs": [],
   "source": [
    "df = candles.data"
   ]
  },
  {
   "cell_type": "code",
   "execution_count": 22,
   "metadata": {},
   "outputs": [
    {
     "data": {
      "text/plain": [
       "(259201, 11)"
      ]
     },
     "execution_count": 22,
     "metadata": {},
     "output_type": "execute_result"
    }
   ],
   "source": [
    "df.shape"
   ]
  },
  {
   "cell_type": "code",
   "execution_count": 23,
   "metadata": {},
   "outputs": [],
   "source": [
    "from core.backtesting.triple_barrier_method import triple_barrier_method\n",
    "\n",
    "df[\"side\"] = 1\n",
    "df_with_tbm = triple_barrier_method(df, tp=3.5, sl=3.5, tl=300, std_span=200, trade_cost=0.0000)"
   ]
  },
  {
   "cell_type": "code",
   "execution_count": 24,
   "metadata": {},
   "outputs": [
    {
     "data": {
      "text/plain": [
       "close_type\n",
       " 0    120953\n",
       " 1     69658\n",
       "-1     68391\n",
       "Name: count, dtype: int64"
      ]
     },
     "execution_count": 24,
     "metadata": {},
     "output_type": "execute_result"
    }
   ],
   "source": [
    "df_with_tbm.close_type.value_counts()"
   ]
  },
  {
   "cell_type": "code",
   "execution_count": 25,
   "metadata": {},
   "outputs": [
    {
     "data": {
      "text/plain": [
       "count       259002\n",
       "mean    0.00029277\n",
       "std     0.00023568\n",
       "min              0\n",
       "25%       0.000147\n",
       "50%     0.00022979\n",
       "75%     0.00036489\n",
       "max     0.00276736\n",
       "Name: target, dtype: float64"
      ]
     },
     "execution_count": 25,
     "metadata": {},
     "output_type": "execute_result"
    }
   ],
   "source": [
    "df_with_tbm.target.describe()"
   ]
  },
  {
   "cell_type": "code",
   "execution_count": 26,
   "metadata": {},
   "outputs": [
    {
     "name": "stdout",
     "output_type": "stream",
     "text": [
      "Processed dataset shape: (240656, 37)\n"
     ]
    },
    {
     "data": {
      "text/html": [
       "<div>\n",
       "<style scoped>\n",
       "    .dataframe tbody tr th:only-of-type {\n",
       "        vertical-align: middle;\n",
       "    }\n",
       "\n",
       "    .dataframe tbody tr th {\n",
       "        vertical-align: top;\n",
       "    }\n",
       "\n",
       "    .dataframe thead th {\n",
       "        text-align: right;\n",
       "    }\n",
       "</style>\n",
       "<table border=\"1\" class=\"dataframe\">\n",
       "  <thead>\n",
       "    <tr style=\"text-align: right;\">\n",
       "      <th></th>\n",
       "      <th>quote_asset_volume</th>\n",
       "      <th>n_trades</th>\n",
       "      <th>target</th>\n",
       "      <th>close_type</th>\n",
       "      <th>BBL_20_2.0</th>\n",
       "      <th>BBM_20_2.0</th>\n",
       "      <th>BBU_20_2.0</th>\n",
       "      <th>BBB_20_2.0</th>\n",
       "      <th>BBP_20_2.0</th>\n",
       "      <th>BBL_50_2.0</th>\n",
       "      <th>...</th>\n",
       "      <th>STOCHk_14_3_3</th>\n",
       "      <th>STOCHd_14_3_3</th>\n",
       "      <th>ADX_14</th>\n",
       "      <th>DMP_14</th>\n",
       "      <th>DMN_14</th>\n",
       "      <th>open_ret</th>\n",
       "      <th>high_ret</th>\n",
       "      <th>low_ret</th>\n",
       "      <th>close_ret</th>\n",
       "      <th>buy_volume_ratio</th>\n",
       "    </tr>\n",
       "    <tr>\n",
       "      <th>timestamp</th>\n",
       "      <th></th>\n",
       "      <th></th>\n",
       "      <th></th>\n",
       "      <th></th>\n",
       "      <th></th>\n",
       "      <th></th>\n",
       "      <th></th>\n",
       "      <th></th>\n",
       "      <th></th>\n",
       "      <th></th>\n",
       "      <th></th>\n",
       "      <th></th>\n",
       "      <th></th>\n",
       "      <th></th>\n",
       "      <th></th>\n",
       "      <th></th>\n",
       "      <th></th>\n",
       "      <th></th>\n",
       "      <th></th>\n",
       "      <th></th>\n",
       "      <th></th>\n",
       "    </tr>\n",
       "  </thead>\n",
       "  <tbody>\n",
       "    <tr>\n",
       "      <th>2025-02-18 16:20:10</th>\n",
       "      <td>-0.17323493</td>\n",
       "      <td>-0.27235869</td>\n",
       "      <td>3.70589097</td>\n",
       "      <td>0</td>\n",
       "      <td>-0.94909502</td>\n",
       "      <td>-0.94882988</td>\n",
       "      <td>-0.94842439</td>\n",
       "      <td>0.15942773</td>\n",
       "      <td>-0.12233273</td>\n",
       "      <td>-0.93843517</td>\n",
       "      <td>...</td>\n",
       "      <td>0.00328006</td>\n",
       "      <td>-0.48793767</td>\n",
       "      <td>-1.13720323</td>\n",
       "      <td>0.05946534</td>\n",
       "      <td>0.09147632</td>\n",
       "      <td>0.95714205</td>\n",
       "      <td>-0.00608311</td>\n",
       "      <td>0.96638133</td>\n",
       "      <td>-0.00232992</td>\n",
       "      <td>-0.2627434</td>\n",
       "    </tr>\n",
       "    <tr>\n",
       "      <th>2025-02-18 16:20:11</th>\n",
       "      <td>-0.14077429</td>\n",
       "      <td>1.18096547</td>\n",
       "      <td>3.66904575</td>\n",
       "      <td>0</td>\n",
       "      <td>-0.94909502</td>\n",
       "      <td>-0.94882988</td>\n",
       "      <td>-0.94842439</td>\n",
       "      <td>0.15942773</td>\n",
       "      <td>0.54074167</td>\n",
       "      <td>-0.93842534</td>\n",
       "      <td>...</td>\n",
       "      <td>0.52590183</td>\n",
       "      <td>0.01921942</td>\n",
       "      <td>-1.1568574</td>\n",
       "      <td>0.42010618</td>\n",
       "      <td>-0.26705432</td>\n",
       "      <td>-0.00291423</td>\n",
       "      <td>1.69027923</td>\n",
       "      <td>0.00279518</td>\n",
       "      <td>1.66164269</td>\n",
       "      <td>1.20429389</td>\n",
       "    </tr>\n",
       "    <tr>\n",
       "      <th>2025-02-18 16:20:12</th>\n",
       "      <td>5.62551405</td>\n",
       "      <td>0.53735048</td>\n",
       "      <td>3.63117929</td>\n",
       "      <td>0</td>\n",
       "      <td>-0.94909502</td>\n",
       "      <td>-0.94882988</td>\n",
       "      <td>-0.94842439</td>\n",
       "      <td>0.15942773</td>\n",
       "      <td>0.54074167</td>\n",
       "      <td>-0.9384501</td>\n",
       "      <td>...</td>\n",
       "      <td>0.85837151</td>\n",
       "      <td>0.47667918</td>\n",
       "      <td>-1.17492212</td>\n",
       "      <td>0.42010618</td>\n",
       "      <td>-0.26705432</td>\n",
       "      <td>1.67560285</td>\n",
       "      <td>-0.00608311</td>\n",
       "      <td>1.69250618</td>\n",
       "      <td>-0.00232992</td>\n",
       "      <td>1.20429389</td>\n",
       "    </tr>\n",
       "    <tr>\n",
       "      <th>2025-02-18 16:20:13</th>\n",
       "      <td>0.02445977</td>\n",
       "      <td>-0.28273958</td>\n",
       "      <td>3.59182243</td>\n",
       "      <td>0</td>\n",
       "      <td>-0.94909502</td>\n",
       "      <td>-0.94882988</td>\n",
       "      <td>-0.94842439</td>\n",
       "      <td>0.15942773</td>\n",
       "      <td>0.54074167</td>\n",
       "      <td>-0.93847355</td>\n",
       "      <td>...</td>\n",
       "      <td>1.19084119</td>\n",
       "      <td>0.88457741</td>\n",
       "      <td>-1.19166855</td>\n",
       "      <td>0.41947157</td>\n",
       "      <td>-0.26641645</td>\n",
       "      <td>-0.00490991</td>\n",
       "      <td>-0.00608311</td>\n",
       "      <td>-0.00122777</td>\n",
       "      <td>-0.00232992</td>\n",
       "      <td>1.18995635</td>\n",
       "    </tr>\n",
       "    <tr>\n",
       "      <th>2025-02-18 16:20:14</th>\n",
       "      <td>-0.16962355</td>\n",
       "      <td>-0.33464401</td>\n",
       "      <td>3.5551323</td>\n",
       "      <td>0</td>\n",
       "      <td>-0.94909502</td>\n",
       "      <td>-0.94882988</td>\n",
       "      <td>-0.94842439</td>\n",
       "      <td>0.15942773</td>\n",
       "      <td>0.53995323</td>\n",
       "      <td>-0.93849558</td>\n",
       "      <td>...</td>\n",
       "      <td>1.19044587</td>\n",
       "      <td>1.11283205</td>\n",
       "      <td>-1.20708365</td>\n",
       "      <td>0.41878862</td>\n",
       "      <td>-0.26681826</td>\n",
       "      <td>-0.00091855</td>\n",
       "      <td>-0.00608311</td>\n",
       "      <td>0.00078361</td>\n",
       "      <td>-0.00430831</td>\n",
       "      <td>-0.66041691</td>\n",
       "    </tr>\n",
       "  </tbody>\n",
       "</table>\n",
       "<p>5 rows × 37 columns</p>\n",
       "</div>"
      ],
      "text/plain": [
       "                     quote_asset_volume    n_trades     target  close_type  \\\n",
       "timestamp                                                                    \n",
       "2025-02-18 16:20:10         -0.17323493 -0.27235869 3.70589097           0   \n",
       "2025-02-18 16:20:11         -0.14077429  1.18096547 3.66904575           0   \n",
       "2025-02-18 16:20:12          5.62551405  0.53735048 3.63117929           0   \n",
       "2025-02-18 16:20:13          0.02445977 -0.28273958 3.59182243           0   \n",
       "2025-02-18 16:20:14         -0.16962355 -0.33464401  3.5551323           0   \n",
       "\n",
       "                     BBL_20_2.0  BBM_20_2.0  BBU_20_2.0  BBB_20_2.0  \\\n",
       "timestamp                                                             \n",
       "2025-02-18 16:20:10 -0.94909502 -0.94882988 -0.94842439  0.15942773   \n",
       "2025-02-18 16:20:11 -0.94909502 -0.94882988 -0.94842439  0.15942773   \n",
       "2025-02-18 16:20:12 -0.94909502 -0.94882988 -0.94842439  0.15942773   \n",
       "2025-02-18 16:20:13 -0.94909502 -0.94882988 -0.94842439  0.15942773   \n",
       "2025-02-18 16:20:14 -0.94909502 -0.94882988 -0.94842439  0.15942773   \n",
       "\n",
       "                     BBP_20_2.0  BBL_50_2.0  ...  STOCHk_14_3_3  \\\n",
       "timestamp                                    ...                  \n",
       "2025-02-18 16:20:10 -0.12233273 -0.93843517  ...     0.00328006   \n",
       "2025-02-18 16:20:11  0.54074167 -0.93842534  ...     0.52590183   \n",
       "2025-02-18 16:20:12  0.54074167  -0.9384501  ...     0.85837151   \n",
       "2025-02-18 16:20:13  0.54074167 -0.93847355  ...     1.19084119   \n",
       "2025-02-18 16:20:14  0.53995323 -0.93849558  ...     1.19044587   \n",
       "\n",
       "                     STOCHd_14_3_3      ADX_14     DMP_14      DMN_14  \\\n",
       "timestamp                                                               \n",
       "2025-02-18 16:20:10    -0.48793767 -1.13720323 0.05946534  0.09147632   \n",
       "2025-02-18 16:20:11     0.01921942  -1.1568574 0.42010618 -0.26705432   \n",
       "2025-02-18 16:20:12     0.47667918 -1.17492212 0.42010618 -0.26705432   \n",
       "2025-02-18 16:20:13     0.88457741 -1.19166855 0.41947157 -0.26641645   \n",
       "2025-02-18 16:20:14     1.11283205 -1.20708365 0.41878862 -0.26681826   \n",
       "\n",
       "                       open_ret    high_ret     low_ret   close_ret  \\\n",
       "timestamp                                                             \n",
       "2025-02-18 16:20:10  0.95714205 -0.00608311  0.96638133 -0.00232992   \n",
       "2025-02-18 16:20:11 -0.00291423  1.69027923  0.00279518  1.66164269   \n",
       "2025-02-18 16:20:12  1.67560285 -0.00608311  1.69250618 -0.00232992   \n",
       "2025-02-18 16:20:13 -0.00490991 -0.00608311 -0.00122777 -0.00232992   \n",
       "2025-02-18 16:20:14 -0.00091855 -0.00608311  0.00078361 -0.00430831   \n",
       "\n",
       "                     buy_volume_ratio  \n",
       "timestamp                              \n",
       "2025-02-18 16:20:10        -0.2627434  \n",
       "2025-02-18 16:20:11        1.20429389  \n",
       "2025-02-18 16:20:12        1.20429389  \n",
       "2025-02-18 16:20:13        1.18995635  \n",
       "2025-02-18 16:20:14       -0.66041691  \n",
       "\n",
       "[5 rows x 37 columns]"
      ]
     },
     "execution_count": 26,
     "metadata": {},
     "output_type": "execute_result"
    }
   ],
   "source": [
    "from sklearn.preprocessing import StandardScaler\n",
    "\n",
    "# Add technical indicators using pandas_ta\n",
    "\n",
    "# Create a copy to work with\n",
    "df_with_indicators = df_with_tbm.copy()\n",
    "\n",
    "# Bollinger Bands with different lengths\n",
    "df_with_indicators.ta.bbands(length=20, std=2, append=True)  # Standard BB\n",
    "df_with_indicators.ta.bbands(length=50, std=2, append=True)  # Longer term BB\n",
    "\n",
    "# MACD with different parameters\n",
    "df_with_indicators.ta.macd(fast=12, slow=26, signal=9, append=True)  # Standard MACD\n",
    "df_with_indicators.ta.macd(fast=8, slow=21, signal=5, append=True)  # Faster MACD\n",
    "\n",
    "# RSI with different lengths\n",
    "df_with_indicators.ta.rsi(length=14, append=True)  # Standard RSI\n",
    "df_with_indicators.ta.rsi(length=21, append=True)  # Longer RSI\n",
    "\n",
    "# Moving averages\n",
    "df_with_indicators.ta.sma(length=20, append=True)  # Short MA\n",
    "df_with_indicators.ta.sma(length=50, append=True)  # Medium MA\n",
    "df_with_indicators.ta.ema(length=20, append=True)  # Short EMA\n",
    "df_with_indicators.ta.ema(length=50, append=True)  # Medium EMA\n",
    "\n",
    "# Volatility and momentum indicators\n",
    "df_with_indicators.ta.atr(length=14, append=True)  # ATR\n",
    "df_with_indicators.ta.stoch(k=14, d=3, append=True)  # Stochastic\n",
    "df_with_indicators.ta.adx(length=14, append=True)  # ADX\n",
    "\n",
    "# Replace df_with_tbm with df_with_indicators for further processing\n",
    "df_processed = df_with_indicators.copy()\n",
    "\n",
    "# df_processed.reset_index(inplace=True, drop=True)\n",
    "\n",
    "# 1. Remove unnecessary columns\n",
    "columns_to_drop = [\n",
    "    \"timestamp\",\n",
    "    \"taker_buy_base_volume\",\n",
    "    \"volume\",\n",
    "    \"close_time\",\n",
    "    \"real_class\",\n",
    "    \"ret\",\n",
    "    \"tp\",\n",
    "    \"sl\",\n",
    "    \"take_profit_time\",\n",
    "    \"stop_loss_time\",\n",
    "    \"tl\",\n",
    "    \"side\",\n",
    "]\n",
    "df_processed = df_processed.drop(columns=columns_to_drop)\n",
    "# 2. Convert prices to returns\n",
    "price_columns = [\"open\", \"high\", \"low\", \"close\"]\n",
    "for col in price_columns:\n",
    "    df_processed[f\"{col}_ret\"] = df_processed[col].pct_change()\n",
    "df_processed = df_processed.drop(columns=price_columns)\n",
    "\n",
    "# 3. Create buy/sell volume ratio\n",
    "df_processed[\"buy_volume_ratio\"] = df_processed[\"taker_buy_quote_volume\"] / df_processed[\"quote_asset_volume\"]\n",
    "df_processed = df_processed.drop(columns=[\"taker_buy_quote_volume\"])\n",
    "\n",
    "# 4. Drop any rows with NaN values (first row will have NaN due to returns calculation)\n",
    "df_processed = df_processed.dropna()\n",
    "\n",
    "# 5. Get all numeric columns for scaling (excluding the target 'close_type')\n",
    "numeric_columns = df_processed.select_dtypes(include=[\"float64\", \"int64\"]).columns.tolist()\n",
    "numeric_columns.remove(\"close_type\")  # Don't scale the target variable\n",
    "\n",
    "# 6. Apply StandardScaler to all numeric columns\n",
    "scaler = StandardScaler()\n",
    "df_processed[numeric_columns] = scaler.fit_transform(df_processed[numeric_columns])\n",
    "\n",
    "# Show the first few rows of the processed dataset\n",
    "print(\"Processed dataset shape:\", df_processed.shape)\n",
    "df_processed.head()"
   ]
  },
  {
   "cell_type": "code",
   "execution_count": 28,
   "metadata": {},
   "outputs": [],
   "source": [
    "candles_path = os.path.join(root_path, \"data\", \"features_df\")\n",
    "filename = os.path.join(candles_path, f\"{candles.connector_name}|{candles.trading_pair}|{candles.interval}.parquet\")\n",
    "df_processed.to_parquet(filename, engine=\"pyarrow\", compression=\"snappy\", index=True)"
   ]
  },
  {
   "cell_type": "code",
   "execution_count": 29,
   "metadata": {},
   "outputs": [
    {
     "data": {
      "text/plain": [
       "['/Users/dman/Documents/code/quants-lab/data/scaler.pkl']"
      ]
     },
     "execution_count": 29,
     "metadata": {},
     "output_type": "execute_result"
    }
   ],
   "source": [
    "# dump the scaler\n",
    "import joblib\n",
    "\n",
    "joblib.dump(scaler, os.path.join(root_path, \"models\", \"scaler.pkl\"))"
   ]
  },
  {
   "cell_type": "code",
   "execution_count": null,
   "metadata": {},
   "outputs": [],
   "source": []
  }
 ],
 "metadata": {
  "kernelspec": {
   "display_name": "Python 3 (ipykernel)",
   "language": "python",
   "name": "python3"
  },
  "language_info": {
   "codemirror_mode": {
    "name": "ipython",
    "version": 3
   },
   "file_extension": ".py",
   "mimetype": "text/x-python",
   "name": "python",
   "nbconvert_exporter": "python",
   "pygments_lexer": "ipython3",
   "version": "3.10.16"
  }
 },
 "nbformat": 4,
 "nbformat_minor": 4
}
