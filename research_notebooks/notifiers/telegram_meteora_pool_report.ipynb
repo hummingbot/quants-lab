{
 "cells": [
  {
   "cell_type": "markdown",
   "metadata": {},
   "source": [
    "# Telegram Meteora Pool Analyzer Report Generator\n",
    "\n",
    "## 📊 Overview\n",
    "This notebook generates automated liquidity pool analysis reports using Gateway's Meteora CLMM endpoints and distributes them via Telegram. It fetches real-time pool data, analyzes liquidity distribution, price movements, and generates comprehensive reports with charts.\n",
    "\n",
    "## 🎯 Objectives\n",
    "1. **Pool Data Fetching**: Connect to Gateway API and fetch Meteora pool information\n",
    "2. **Liquidity Analysis**: Analyze bin distribution, liquidity concentration, and price ranges\n",
    "3. **Price Monitoring**: Track current price, active bins, and price movements\n",
    "4. **Report Generation**: Create formatted pool analysis reports with key metrics\n",
    "5. **Telegram Integration**: Send reports via Telegram bot using notification system\n",
    "6. **Chart Creation**: Generate liquidity depth charts and price visualizations\n",
    "\n",
    "## 📋 Prerequisites\n",
    "- Gateway service running locally (default: http://localhost:15888)\n",
    "- Telegram bot configuration (bot token and chat ID in .env)\n",
    "- QuantsLab notification system setup\n",
    "- Environment variables configured (.env file)\n",
    "- Plotly and pandas for analysis\n",
    "\n",
    "## ⚠️ Important Notes\n",
    "- **Data Source**: Uses Gateway API for real-time Meteora pool data\n",
    "- **Default Pool**: SOL-USDC pool (configurable)\n",
    "- **Update Interval**: Configurable interval for periodic updates\n",
    "- **Rate Limiting**: Be mindful of API rate limits for both Gateway and Telegram\n",
    "\n",
    "## 📈 Expected Outputs\n",
    "- Real-time pool metrics and liquidity analysis\n",
    "- Liquidity distribution charts showing bin concentrations\n",
    "- Price range analysis with support/resistance levels\n",
    "- CSV reports with detailed bin data\n",
    "- Automated Telegram notifications with pool updates"
   ]
  },
  {
   "cell_type": "code",
   "execution_count": 178,
   "metadata": {},
   "outputs": [
    {
     "name": "stdout",
     "output_type": "stream",
     "text": [
      "✅ Libraries imported successfully\n",
      "📊 Services available: Gateway HTTP Client (from hummingbot), Notification system\n",
      "⚙️ Environment variables loaded from .env\n"
     ]
    }
   ],
   "source": [
    "# 🔌 Initialize Core Services and Libraries\n",
    "\n",
    "## ⚙️ Configuration and Gateway API Client\n",
    "\n",
    "import warnings\n",
    "warnings.filterwarnings(\"ignore\")\n",
    "\n",
    "import sys\n",
    "import pandas as pd\n",
    "import numpy as np\n",
    "import plotly.graph_objects as go\n",
    "from plotly.subplots import make_subplots\n",
    "import os\n",
    "from datetime import datetime, timezone, timedelta\n",
    "from dotenv import load_dotenv\n",
    "from typing import Dict, List, Optional, Any\n",
    "import json\n",
    "\n",
    "# Import Gateway HTTP Client from hummingbot library\n",
    "from hummingbot.core.gateway.gateway_http_client import GatewayHttpClient\n",
    "from hummingbot.client.config.client_config_map import GatewayConfigMap\n",
    "\n",
    "# Import QuantsLab notification system\n",
    "from core.notifiers import NotificationManager, NotificationMessage\n",
    "\n",
    "# Load environment variables\n",
    "load_dotenv()\n",
    "\n",
    "print(\"✅ Libraries imported successfully\")\n",
    "print(\"📊 Services available: Gateway HTTP Client (from hummingbot), Notification system\")\n",
    "print(\"⚙️ Environment variables loaded from .env\")"
   ]
  },
  {
   "cell_type": "code",
   "execution_count": 187,
   "metadata": {},
   "outputs": [
    {
     "name": "stdout",
     "output_type": "stream",
     "text": [
      "📊 Configuration loaded:\n",
      "  - Gateway URL: http://localhost:15888\n",
      "  - Gateway Host: localhost\n",
      "  - Gateway Port: 15888\n",
      "  - SSL Enabled: False\n",
      "  - Network: mainnet-beta\n",
      "  - Update Interval: 300s\n",
      "  - Pool Addresses: 3 configured\n",
      "    1. 2sf5NYcY4zUPXUSmG6f66mskb24t5F8S11pC1Nz5nQT3\n",
      "    2. C8Gr6AUuq9hEdSYJzoEpNcdjpojPZwqG5MtQbeouNNwg\n",
      "    3. 9d9mb8kooFfaD3SctgZtkxQypkshx6ezhbKio89ixyy2\n",
      "🔔 Enabled notifiers: telegram\n",
      "✅ Gateway HTTP Client ready\n",
      "✅ Meteora Pool Analyzer initialized with Gateway HTTP Client\n",
      "📤 Telegram reports will be collected and sent at the end\n",
      "🗂️ Token cache initialized for efficient lookups\n"
     ]
    }
   ],
   "source": [
    "# Configuration Parameters and Gateway Setup\n",
    "GATEWAY_URL = os.getenv('GATEWAY_URL', 'http://localhost:15888')\n",
    "NETWORK = 'mainnet-beta'\n",
    "UPDATE_INTERVAL_SECONDS = 300  # 5 minutes between updates\n",
    "\n",
    "# Pool addresses to analyze - add your pool addresses here\n",
    "POOL_ADDRESSES = [\n",
    "    '2sf5NYcY4zUPXUSmG6f66mskb24t5F8S11pC1Nz5nQT3',  # SOL-USDC\n",
    "    'C8Gr6AUuq9hEdSYJzoEpNcdjpojPZwqG5MtQbeouNNwg',  # JUP-SOL\n",
    "    '9d9mb8kooFfaD3SctgZtkxQypkshx6ezhbKio89ixyy2',  # TRUMP-USDC\n",
    "    # Add more pool addresses here as needed\n",
    "    # 'your_pool_address_here',\n",
    "]\n",
    "\n",
    "# Initialize Gateway Client\n",
    "gateway_config = GatewayConfigMap()\n",
    "gateway_config.gateway_api_host = GATEWAY_URL.replace('http://', '').replace('https://', '').split(':')[0]\n",
    "gateway_config.gateway_api_port = str(GATEWAY_URL.split(':')[-1])\n",
    "gateway_config.gateway_use_ssl = False\n",
    "\n",
    "# Get the Gateway client instance\n",
    "gateway_client = GatewayHttpClient.get_instance(gateway_config)\n",
    "\n",
    "# Initialize notification manager\n",
    "notification_manager = NotificationManager()\n",
    "enabled_notifiers = notification_manager.get_enabled_notifiers()\n",
    "\n",
    "# Initialize collections for Telegram sending\n",
    "telegram_reports = {\n",
    "    'text_reports': [],\n",
    "    'chart_files': [],\n",
    "    'csv_files': [],\n",
    "    'report_message': None\n",
    "}\n",
    "\n",
    "# Global token cache to avoid re-fetching\n",
    "token_cache = {}\n",
    "\n",
    "# 📊 Meteora Pool Analyzer Class\n",
    "class MeteorPoolAnalyzer:\n",
    "    \"\"\"Helper class for fetching and analyzing Meteora pools using Gateway HTTP Client\"\"\"\n",
    "    \n",
    "    def __init__(self, gateway_client: GatewayHttpClient):\n",
    "        self.client = gateway_client\n",
    "        \n",
    "    async def fetch_pool_info(self, pool_address: str, network: str = 'mainnet-beta') -> Optional[Dict]:\n",
    "        \"\"\"Fetch Meteora pool information from Gateway\"\"\"\n",
    "        try:\n",
    "            # Make request to Gateway's Meteora endpoint\n",
    "            response = await self.client.api_request(\n",
    "                method=\"get\",\n",
    "                path_url=\"connectors/meteora/clmm/pool-info\",\n",
    "                params={\n",
    "                    'network': network,\n",
    "                    'poolAddress': pool_address\n",
    "                }\n",
    "            )\n",
    "            return response\n",
    "        except Exception as e:\n",
    "            print(f\"❌ Error fetching pool info: {e}\")\n",
    "            return None\n",
    "    \n",
    "    async def fetch_token_info(self, token_address: str, network: str = 'mainnet-beta') -> Optional[Dict]:\n",
    "        \"\"\"Fetch token information from Gateway with caching\"\"\"\n",
    "        # Check cache first\n",
    "        if token_address in token_cache:\n",
    "            return token_cache[token_address]\n",
    "            \n",
    "        try:\n",
    "            response = await self.client.api_request(\n",
    "                method=\"get\",\n",
    "                path_url=f\"tokens/{token_address}\",\n",
    "                params={\n",
    "                    'chain': 'solana',\n",
    "                    'network': network\n",
    "                }\n",
    "            )\n",
    "            token_info = response.get('token', {})\n",
    "            # Cache the result\n",
    "            token_cache[token_address] = token_info\n",
    "            return token_info\n",
    "        except Exception as e:\n",
    "            print(f\"❌ Error fetching token info for {token_address}: {e}\")\n",
    "            # Cache the failure so we don't retry\n",
    "            token_cache[token_address] = None\n",
    "            return None\n",
    "    \n",
    "    def calculate_liquidity_distribution(self, bins_df, current_price: float, total_liquidity: float) -> Dict[str, float]:\n",
    "        \"\"\"Calculate liquidity distribution at different price ranges\"\"\"\n",
    "        distributions = {}\n",
    "        \n",
    "        for pct in [5, 10, 15, 20]:\n",
    "            lower_price = current_price * (1 - pct/100)\n",
    "            upper_price = current_price * (1 + pct/100)\n",
    "            \n",
    "            bins_in_range = bins_df[\n",
    "                (bins_df['price'] >= lower_price) & \n",
    "                (bins_df['price'] <= upper_price)\n",
    "            ]\n",
    "            \n",
    "            liquidity_in_range = bins_in_range['total_value'].sum() if not bins_in_range.empty else 0\n",
    "            pct_of_total = (liquidity_in_range / total_liquidity * 100) if total_liquidity > 0 else 0\n",
    "            \n",
    "            distributions[pct] = pct_of_total\n",
    "            \n",
    "        return distributions\n",
    "    \n",
    "    def analyze_pool(self, pool_data: Dict, metadata: Dict = None) -> Dict:\n",
    "        \"\"\"Analyze pool data and calculate metrics\"\"\"\n",
    "        # Add metadata if provided\n",
    "        if metadata:\n",
    "            pool_data.update(metadata)\n",
    "            \n",
    "        # Calculate total liquidity\n",
    "        price = pool_data['price']\n",
    "        base_amount = pool_data['baseTokenAmount']\n",
    "        quote_amount = pool_data['quoteTokenAmount']\n",
    "        total_liquidity_usd = quote_amount + (base_amount * price)\n",
    "        \n",
    "        analysis = {\n",
    "            'address': pool_data['address'],\n",
    "            'pool_name': pool_data.get('pool_name', 'Unknown'),\n",
    "            'base_token': pool_data.get('base_token_symbol', pool_data.get('base_token', 'BASE')),\n",
    "            'quote_token': pool_data.get('quote_token_symbol', pool_data.get('quote_token', 'QUOTE')),\n",
    "            'base_token_address': pool_data.get('baseTokenAddress'),\n",
    "            'quote_token_address': pool_data.get('quoteTokenAddress'),\n",
    "            'current_price': price,\n",
    "            'fee_pct': pool_data['feePct'],\n",
    "            'dynamic_fee_pct': pool_data.get('dynamicFeePct', pool_data['feePct']),\n",
    "            'bin_step': pool_data.get('binStep', 0),\n",
    "            'active_bin_id': pool_data.get('activeBinId'),\n",
    "            'base_liquidity': base_amount,\n",
    "            'quote_liquidity': quote_amount,\n",
    "            'total_liquidity_usd': total_liquidity_usd,\n",
    "            'num_bins': len(pool_data.get('bins', [])),\n",
    "            'liquidity_concentration': 0,\n",
    "            'liquidity_distribution': {},\n",
    "            'price_range': {'min': 0, 'max': 0},\n",
    "            'timestamp': datetime.now(timezone.utc)\n",
    "        }\n",
    "        \n",
    "        # Analyze bins if available\n",
    "        bins = pool_data.get('bins', [])\n",
    "        if bins:\n",
    "            bins_df = pd.DataFrame(bins)\n",
    "            \n",
    "            # Calculate price range\n",
    "            analysis['price_range']['min'] = bins_df['price'].min()\n",
    "            analysis['price_range']['max'] = bins_df['price'].max()\n",
    "            \n",
    "            # Calculate bin values\n",
    "            bins_df['total_value'] = (\n",
    "                bins_df['quoteTokenAmount'] + \n",
    "                bins_df['baseTokenAmount'] * price\n",
    "            )\n",
    "            \n",
    "            total_liq = bins_df['total_value'].sum()\n",
    "            \n",
    "            # Calculate concentration around active bin\n",
    "            if analysis['active_bin_id'] is not None:\n",
    "                active_bin_id = analysis['active_bin_id']\n",
    "                nearby_bins = bins_df[\n",
    "                    (bins_df['binId'] >= active_bin_id - 5) &\n",
    "                    (bins_df['binId'] <= active_bin_id + 5)\n",
    "                ]\n",
    "                \n",
    "                nearby_liq = nearby_bins['total_value'].sum() if not nearby_bins.empty else 0\n",
    "                \n",
    "                if total_liq > 0:\n",
    "                    analysis['liquidity_concentration'] = (nearby_liq / total_liq) * 100\n",
    "            \n",
    "            # Calculate liquidity distribution at different price ranges\n",
    "            analysis['liquidity_distribution'] = self.calculate_liquidity_distribution(\n",
    "                bins_df, price, total_liq\n",
    "            )\n",
    "            \n",
    "            # Find key liquidity levels\n",
    "            top_bins = bins_df.nlargest(5, 'total_value')\n",
    "            analysis['key_levels'] = [\n",
    "                {'price': row['price'], 'total_value': row['total_value']}\n",
    "                for _, row in top_bins.iterrows()\n",
    "            ]\n",
    "            \n",
    "            analysis['bins_df'] = bins_df\n",
    "            \n",
    "        return analysis\n",
    "\n",
    "# Initialize the analyzer\n",
    "pool_analyzer = MeteorPoolAnalyzer(gateway_client)\n",
    "\n",
    "def format_number(value: float, decimals: int = 2, is_currency: bool = False) -> str:\n",
    "    \"\"\"Format numbers for display\"\"\"\n",
    "    if is_currency:\n",
    "        if value >= 1_000_000:\n",
    "            return f\"${value/1_000_000:.{decimals}f}M\"\n",
    "        elif value >= 1_000:\n",
    "            return f\"${value/1_000:.{decimals}f}K\"\n",
    "        else:\n",
    "            return f\"${value:.{decimals}f}\"\n",
    "    else:\n",
    "        if value >= 1_000_000:\n",
    "            return f\"{value/1_000_000:.{decimals}f}M\"\n",
    "        elif value >= 1_000:\n",
    "            return f\"{value/1_000:.{decimals}f}K\"\n",
    "        else:\n",
    "            return f\"{value:.{decimals}f}\"\n",
    "\n",
    "def format_price(price: float) -> str:\n",
    "    \"\"\"Format price with appropriate decimal places based on magnitude\"\"\"\n",
    "    if price >= 100:\n",
    "        return f\"${price:.2f}\"\n",
    "    elif price >= 10:\n",
    "        return f\"${price:.3f}\"\n",
    "    elif price >= 1:\n",
    "        return f\"${price:.4f}\"\n",
    "    elif price >= 0.1:\n",
    "        return f\"${price:.5f}\"\n",
    "    elif price >= 0.01:\n",
    "        return f\"${price:.6f}\"\n",
    "    elif price >= 0.001:\n",
    "        return f\"${price:.7f}\"\n",
    "    elif price >= 0.0001:\n",
    "        return f\"${price:.8f}\"\n",
    "    elif price > 0:\n",
    "        # For very small prices, use scientific notation if needed\n",
    "        if price < 0.00000001:\n",
    "            return f\"${price:.2e}\"\n",
    "        else:\n",
    "            return f\"${price:.10f}\"\n",
    "    else:\n",
    "        return \"$0.00\"\n",
    "\n",
    "async def generate_pool_report(analyses: List[Dict]) -> str:\n",
    "    \"\"\"Generate formatted pool analysis report for Telegram using cached token symbols\"\"\"\n",
    "    \n",
    "    if not analyses:\n",
    "        return \"⚠️ No pool data available for analysis\"\n",
    "    \n",
    "    # Generate report timestamp\n",
    "    report_time = datetime.now(timezone.utc).strftime('%Y-%m-%d %H:%M UTC')\n",
    "    \n",
    "    # Build the report message\n",
    "    report_message = f\"\"\"🏊 <b>Meteora Pool Analysis Report</b>\n",
    "📅 {report_time}\n",
    "🔗 Network: Solana {NETWORK}\n",
    "⚡ Powered by Gateway (via Hummingbot)\n",
    "\n",
    "\"\"\"\n",
    "    \n",
    "    # Add analysis for each pool\n",
    "    for analysis in analyses:\n",
    "        # Use cached token symbols from initial pool fetching\n",
    "        base_symbol = analysis['base_token']\n",
    "        quote_symbol = analysis['quote_token']\n",
    "        \n",
    "        # Only try to fetch if we don't already have symbols and they're not addresses\n",
    "        if analysis.get('base_token_address') and len(base_symbol) > 10:  # Likely an address, not symbol\n",
    "            if analysis['base_token_address'] in token_cache:\n",
    "                cached_info = token_cache[analysis['base_token_address']]\n",
    "                if cached_info and 'symbol' in cached_info:\n",
    "                    base_symbol = cached_info['symbol']\n",
    "                    \n",
    "        if analysis.get('quote_token_address') and len(quote_symbol) > 10:  # Likely an address, not symbol\n",
    "            if analysis['quote_token_address'] in token_cache:\n",
    "                cached_info = token_cache[analysis['quote_token_address']]\n",
    "                if cached_info and 'symbol' in cached_info:\n",
    "                    quote_symbol = cached_info['symbol']\n",
    "        \n",
    "        # Create token pair name with fee tier and bin step\n",
    "        token_pair = f\"{base_symbol}/{quote_symbol}\"\n",
    "        fee_tier = f\"{analysis['fee_pct']:.2f}%\"\n",
    "        bin_step = analysis['bin_step']\n",
    "        \n",
    "        # Pool header with token pair, fee tier, and bin step\n",
    "        report_message += f\"\"\"📊 <b>{token_pair} • {fee_tier} • Bin:{bin_step}</b>\n",
    "<i>Pool: {analysis['pool_name']}</i>\n",
    "━━━━━━━━━━━━━━━━━━━━\n",
    "\"\"\"\n",
    "        \n",
    "        # Price and liquidity info with smart formatting\n",
    "        price = analysis['current_price']\n",
    "        price_str = format_price(price)\n",
    "        report_message += f\"\"\"💰 <b>Price & Liquidity</b>\n",
    "• Current Price: <code>{price_str}</code>\n",
    "• Total Liquidity: <code>{format_number(analysis['total_liquidity_usd'], is_currency=True)}</code>\n",
    "• {base_symbol}: <code>{format_number(analysis['base_liquidity'], decimals=2)}</code>\n",
    "• {quote_symbol}: <code>{format_number(analysis['quote_liquidity'], decimals=2)}</code>\n",
    "\n",
    "\"\"\"\n",
    "        \n",
    "        # Pool parameters\n",
    "        report_message += f\"\"\"⚙️ <b>Pool Parameters</b>\n",
    "• Fee: <code>{analysis['fee_pct']:.2f}%</code>\n",
    "• Bin Step: <code>{analysis['bin_step']}</code>\n",
    "• Active Bin: <code>{analysis['active_bin_id']}</code>\n",
    "• Total Bins: <code>{analysis['num_bins']}</code>\n",
    "\n",
    "\"\"\"\n",
    "        \n",
    "        # Liquidity distribution with smart price formatting\n",
    "        min_price_str = format_price(analysis['price_range']['min'])\n",
    "        max_price_str = format_price(analysis['price_range']['max'])\n",
    "        report_message += f\"\"\"📈 <b>Liquidity Distribution</b>\n",
    "• Price Range: <code>{min_price_str} - {max_price_str}</code>\n",
    "\"\"\"\n",
    "        \n",
    "        # Show liquidity at different ranges instead of key levels\n",
    "        if analysis.get('liquidity_distribution'):\n",
    "            report_message += f\"\\n🎯 <b>Liquidity Around Price</b>\\n\"\n",
    "            for pct in [5, 10, 15, 20]:\n",
    "                if pct in analysis['liquidity_distribution']:\n",
    "                    liquidity_pct = analysis['liquidity_distribution'][pct]\n",
    "                    report_message += f\"• ±{pct}%: <code>{liquidity_pct:.1f}%</code> of total liquidity\\n\"\n",
    "        \n",
    "        report_message += \"\\n\"\n",
    "    \n",
    "    # Add footer\n",
    "    report_message += f\"\"\"━━━━━━━━━━━━━━━━━━━━\n",
    "💡 <i>Data from Gateway Meteora CLMM | QuantsLab</i>\"\"\"\n",
    "    \n",
    "    return report_message\n",
    "\n",
    "def create_liquidity_chart(analysis: Dict) -> go.Figure:\n",
    "    \"\"\"Create liquidity distribution chart for a pool\"\"\"\n",
    "    \n",
    "    if 'bins_df' not in analysis or analysis['bins_df'].empty:\n",
    "        return None\n",
    "        \n",
    "    bins_df = analysis['bins_df']\n",
    "    \n",
    "    # Create single chart figure\n",
    "    fig = go.Figure()\n",
    "    \n",
    "    # Color bins based on active bin\n",
    "    active_bin_id = analysis['active_bin_id']\n",
    "    colors = ['red' if bid < active_bin_id else 'green' if bid > active_bin_id else 'yellow' \n",
    "              for bid in bins_df['binId']]\n",
    "    \n",
    "    # Main liquidity chart\n",
    "    fig.add_trace(\n",
    "        go.Bar(\n",
    "            x=bins_df['price'],\n",
    "            y=bins_df['total_value'],\n",
    "            name='Liquidity (USD)',\n",
    "            marker=dict(color=colors, opacity=0.7),\n",
    "            hovertemplate=(\n",
    "                'Price: $%{x:.8f}<br>'\n",
    "                'Liquidity: $%{y:,.0f}<br>'\n",
    "                'Bin ID: %{customdata}<br>'\n",
    "                '<extra></extra>'\n",
    "            ),\n",
    "            customdata=bins_df['binId']\n",
    "        )\n",
    "    )\n",
    "    \n",
    "    # Add current price line\n",
    "    fig.add_vline(\n",
    "        x=analysis['current_price'],\n",
    "        line_dash=\"dash\",\n",
    "        line_color=\"blue\",\n",
    "        line_width=2,\n",
    "        annotation_text=f\"Current Price: {format_price(analysis['current_price'])}\",\n",
    "        annotation_position=\"top\"\n",
    "    )\n",
    "    \n",
    "    # Update layout\n",
    "    fig.update_xaxes(title_text=\"Price (USD)\", showgrid=True, gridwidth=1, gridcolor='#E0E0E0')\n",
    "    fig.update_yaxes(title_text=\"Liquidity (USD)\")\n",
    "    \n",
    "    # Create comprehensive title with token pair, fee tier, and bin step\n",
    "    base_token = analysis.get('base_token', 'BASE')\n",
    "    quote_token = analysis.get('quote_token', 'QUOTE')\n",
    "    fee_tier = f\"{analysis['fee_pct']:.2f}%\"\n",
    "    bin_step = analysis['bin_step']\n",
    "    timestamp = datetime.now(timezone.utc).strftime('%Y-%m-%d %H:%M UTC')\n",
    "    \n",
    "    fig.update_layout(\n",
    "        title=dict(\n",
    "            text=f\"{base_token}/{quote_token} • {fee_tier} Fee • Bin Step: {bin_step}<br><sub>{timestamp}</sub>\",\n",
    "            x=0.5,\n",
    "            xanchor='center',\n",
    "            font=dict(size=18, family='Arial Bold')\n",
    "        ),\n",
    "        height=600,\n",
    "        width=1200,\n",
    "        showlegend=True,\n",
    "        template=\"plotly_white\",\n",
    "        hovermode='x unified'\n",
    "    )\n",
    "    \n",
    "    return fig\n",
    "\n",
    "print(f\"📊 Configuration loaded:\")\n",
    "print(f\"  - Gateway URL: {GATEWAY_URL}\")\n",
    "print(f\"  - Gateway Host: {gateway_config.gateway_api_host}\")\n",
    "print(f\"  - Gateway Port: {gateway_config.gateway_api_port}\")\n",
    "print(f\"  - SSL Enabled: {gateway_config.gateway_use_ssl}\")\n",
    "print(f\"  - Network: {NETWORK}\")\n",
    "print(f\"  - Update Interval: {UPDATE_INTERVAL_SECONDS}s\")\n",
    "print(f\"  - Pool Addresses: {len(POOL_ADDRESSES)} configured\")\n",
    "for i, addr in enumerate(POOL_ADDRESSES, 1):\n",
    "    print(f\"    {i}. {addr}\")\n",
    "print(f\"🔔 Enabled notifiers: {', '.join(enabled_notifiers) if enabled_notifiers else 'None configured'}\")\n",
    "print(f\"✅ Gateway HTTP Client ready\")\n",
    "print(\"✅ Meteora Pool Analyzer initialized with Gateway HTTP Client\")\n",
    "print(\"📤 Telegram reports will be collected and sent at the end\")\n",
    "print(\"🗂️ Token cache initialized for efficient lookups\")"
   ]
  },
  {
   "cell_type": "code",
   "execution_count": 188,
   "metadata": {},
   "outputs": [
    {
     "name": "stdout",
     "output_type": "stream",
     "text": [
      "🔄 Fetching pool data from Gateway...\n",
      "📍 Gateway URL: http://localhost:15888\n",
      "🔗 Network: mainnet-beta\n",
      "🏊 Pools to analyze: 3\n",
      "\n",
      "✅ Gateway connection successful\n",
      "\n",
      "🔄 Fetching data for all pools with token metadata...\n",
      "\n",
      "📊 Pool 1/3: 2sf5NYcY4zUPXUSmG6f66mskb24t5F8S11pC1Nz5nQT3\n",
      "✅ Raw pool data fetched\n",
      "🏊 RAW POOL DATA:\n",
      "  Pool Address: 2sf5NYcY4zUPXUSmG6f66mskb24t5F8S11pC1Nz5nQT3\n",
      "  Base Token Address: So11111111111111111111111111111111111111112\n",
      "  Quote Token Address: EPjFWdd5AufqSSqeM2qN1xzybapC8G4wEGGkZwyTDt1v\n",
      "  Current Price: $211.7706\n",
      "  Fee: 0.04%\n",
      "  Bin Step: 100\n",
      "  Active Bin ID: -156\n",
      "  Total Bins: 141\n",
      "🔍 Looking up token metadata...\n",
      "  ✅ Base Token: Wrapped Solana (SOL)\n",
      "    Address: So11111111111111111111111111111111111111112\n",
      "    Decimals: 9\n",
      "  ✅ Quote Token: USDC (USDC)\n",
      "    Address: EPjFWdd5AufqSSqeM2qN1xzybapC8G4wEGGkZwyTDt1v\n",
      "    Decimals: 6\n",
      "🏷️ Identified Pool: SOL/USDC\n",
      "📊 Analysis Summary:\n",
      "  Price: $211.7706\n",
      "  Liquidity: $64.43K\n",
      "  Base (SOL): 151.25\n",
      "  Quote (USDC): 32.40K\n",
      "  Bins: 141\n",
      "\n",
      "📊 Pool 2/3: C8Gr6AUuq9hEdSYJzoEpNcdjpojPZwqG5MtQbeouNNwg\n",
      "✅ Raw pool data fetched\n",
      "🏊 RAW POOL DATA:\n",
      "  Pool Address: C8Gr6AUuq9hEdSYJzoEpNcdjpojPZwqG5MtQbeouNNwg\n",
      "  Base Token Address: JUPyiwrYJFskUPiHa7hkeR8VUtAeFoSYbKedZNsDvCN\n",
      "  Quote Token Address: So11111111111111111111111111111111111111112\n",
      "  Current Price: $0.0022\n",
      "  Fee: 0.15%\n",
      "  Bin Step: 80\n",
      "  Active Bin ID: 98\n",
      "  Total Bins: 141\n",
      "🔍 Looking up token metadata...\n",
      "  ✅ Base Token: Jupiter (JUP)\n",
      "    Address: JUPyiwrYJFskUPiHa7hkeR8VUtAeFoSYbKedZNsDvCN\n",
      "    Decimals: 6\n",
      "  ✅ Quote Token: Wrapped Solana (SOL)\n",
      "    Address: So11111111111111111111111111111111111111112\n",
      "    Decimals: 9\n",
      "🏷️ Identified Pool: JUP/SOL\n",
      "📊 Analysis Summary:\n",
      "  Price: $0.0022\n",
      "  Liquidity: $14.91K\n",
      "  Base (JUP): 3.93M\n",
      "  Quote (SOL): 6.33K\n",
      "  Bins: 141\n",
      "\n",
      "📊 Pool 3/3: 9d9mb8kooFfaD3SctgZtkxQypkshx6ezhbKio89ixyy2\n"
     ]
    },
    {
     "name": "stderr",
     "output_type": "stream",
     "text": [
      "2025-09-23 20:28:40,274 - hummingbot.core.gateway.gateway_http_client - WARNING - Call to http://localhost:15888/tokens/6p6xgHyF7AeE6TZkSmFsko444wqoP15icUSqi2jfGiPN failed. See logs for more details.\n"
     ]
    },
    {
     "name": "stdout",
     "output_type": "stream",
     "text": [
      "✅ Raw pool data fetched\n",
      "🏊 RAW POOL DATA:\n",
      "  Pool Address: 9d9mb8kooFfaD3SctgZtkxQypkshx6ezhbKio89ixyy2\n",
      "  Base Token Address: 6p6xgHyF7AeE6TZkSmFsko444wqoP15icUSqi2jfGiPN\n",
      "  Quote Token Address: EPjFWdd5AufqSSqeM2qN1xzybapC8G4wEGGkZwyTDt1v\n",
      "  Current Price: $7.6135\n",
      "  Fee: 0.10%\n",
      "  Bin Step: 50\n",
      "  Active Bin ID: 407\n",
      "  Total Bins: 141\n",
      "🔍 Looking up token metadata...\n",
      "❌ Error fetching token info for 6p6xgHyF7AeE6TZkSmFsko444wqoP15icUSqi2jfGiPN: Error on GET http://localhost:15888/tokens/6p6xgHyF7AeE6TZkSmFsko444wqoP15icUSqi2jfGiPN Error: NotFoundError\n",
      "  ⚠️ Base Token: Could not fetch metadata\n",
      "  ✅ Quote Token: USDC (USDC)\n",
      "    Address: EPjFWdd5AufqSSqeM2qN1xzybapC8G4wEGGkZwyTDt1v\n",
      "    Decimals: 6\n",
      "🏷️ Identified Pool: 6p6xgHyF7AeE6TZkSmFsko444wqoP15icUSqi2jfGiPN/USDC\n",
      "📊 Analysis Summary:\n",
      "  Price: $7.6135\n",
      "  Liquidity: $317.36M\n",
      "  Base (6p6xgHyF7AeE6TZkSmFsko444wqoP15icUSqi2jfGiPN): 15.46M\n",
      "  Quote (USDC): 199.64M\n",
      "  Bins: 141\n",
      "\n",
      "✅ Successfully analyzed 3 out of 3 pools\n",
      "💰 Total Liquidity Across All Pools: $317.44M\n",
      "\n",
      "📊 POOL ANALYSIS SUMMARY:\n",
      "================================================================================\n",
      "SOL/USDC Pool        | $211.7706 | $64.43K      |  141 bins\n",
      "JUP/SOL Pool         | $0.0022   | $14.91K      |  141 bins\n",
      "6p6xgHyF7AeE6TZkSmFsko444wqoP15icUSqi2jfGiPN/USDC Pool | $7.6135   | $317.36M     |  141 bins\n",
      "================================================================================\n"
     ]
    }
   ],
   "source": [
    "# 📡 Fetch Pool Data and Token Metadata from Gateway\n",
    "print(f\"🔄 Fetching pool data from Gateway...\")\n",
    "print(f\"📍 Gateway URL: {GATEWAY_URL}\")\n",
    "print(f\"🔗 Network: {NETWORK}\")\n",
    "print(f\"🏊 Pools to analyze: {len(POOL_ADDRESSES)}\\n\")\n",
    "\n",
    "# Test gateway connection\n",
    "try:\n",
    "    is_online = await gateway_client.ping_gateway()\n",
    "    if is_online:\n",
    "        print(\"✅ Gateway connection successful\\n\")\n",
    "    else:\n",
    "        print(\"⚠️ Gateway is offline, trying to connect...\\n\")\n",
    "except Exception as e:\n",
    "    print(f\"❌ Gateway connection error: {e}\\n\")\n",
    "    is_online = False\n",
    "\n",
    "# Fetch all pool data if online\n",
    "all_pool_analyses = []\n",
    "if is_online:\n",
    "    print(\"🔄 Fetching data for all pools with token metadata...\")\n",
    "    \n",
    "    for i, pool_address in enumerate(POOL_ADDRESSES, 1):\n",
    "        print(f\"\\n📊 Pool {i}/{len(POOL_ADDRESSES)}: {pool_address}\")\n",
    "        \n",
    "        try:\n",
    "            # Fetch pool data\n",
    "            pool_data = await pool_analyzer.fetch_pool_info(pool_address, NETWORK)\n",
    "            \n",
    "            if pool_data:\n",
    "                print(f\"✅ Raw pool data fetched\")\n",
    "                \n",
    "                # Display raw pool info\n",
    "                print(f\"🏊 RAW POOL DATA:\")\n",
    "                print(f\"  Pool Address: {pool_data['address']}\")\n",
    "                print(f\"  Base Token Address: {pool_data['baseTokenAddress']}\")\n",
    "                print(f\"  Quote Token Address: {pool_data['quoteTokenAddress']}\")\n",
    "                print(f\"  Current Price: ${pool_data['price']:.4f}\")\n",
    "                print(f\"  Fee: {pool_data['feePct']:.2f}%\")\n",
    "                print(f\"  Bin Step: {pool_data['binStep']}\")\n",
    "                print(f\"  Active Bin ID: {pool_data['activeBinId']}\")\n",
    "                print(f\"  Total Bins: {len(pool_data.get('bins', []))}\")\n",
    "                \n",
    "                # Fetch token metadata\n",
    "                print(f\"🔍 Looking up token metadata...\")\n",
    "                base_token_info = None\n",
    "                quote_token_info = None\n",
    "                base_symbol = pool_data['baseTokenAddress']  # Use address as fallback\n",
    "                quote_symbol = pool_data['quoteTokenAddress']  # Use address as fallback\n",
    "                \n",
    "                # Lookup base token\n",
    "                if pool_data.get('baseTokenAddress'):\n",
    "                    try:\n",
    "                        base_token_info = await pool_analyzer.fetch_token_info(pool_data['baseTokenAddress'], NETWORK)\n",
    "                        if base_token_info and 'symbol' in base_token_info:\n",
    "                            base_symbol = base_token_info['symbol']\n",
    "                            print(f\"  ✅ Base Token: {base_token_info['name']} ({base_token_info['symbol']})\")\n",
    "                            print(f\"    Address: {base_token_info['address']}\")\n",
    "                            print(f\"    Decimals: {base_token_info['decimals']}\")\n",
    "                        else:\n",
    "                            print(f\"  ⚠️ Base Token: Could not fetch metadata\")\n",
    "                    except Exception as e:\n",
    "                        print(f\"  ❌ Base Token lookup error: {e}\")\n",
    "                \n",
    "                # Lookup quote token  \n",
    "                if pool_data.get('quoteTokenAddress'):\n",
    "                    try:\n",
    "                        quote_token_info = await pool_analyzer.fetch_token_info(pool_data['quoteTokenAddress'], NETWORK)\n",
    "                        if quote_token_info and 'symbol' in quote_token_info:\n",
    "                            quote_symbol = quote_token_info['symbol']\n",
    "                            print(f\"  ✅ Quote Token: {quote_token_info['name']} ({quote_token_info['symbol']})\")\n",
    "                            print(f\"    Address: {quote_token_info['address']}\")\n",
    "                            print(f\"    Decimals: {quote_token_info['decimals']}\")\n",
    "                        else:\n",
    "                            print(f\"  ⚠️ Quote Token: Could not fetch metadata\")\n",
    "                    except Exception as e:\n",
    "                        print(f\"  ❌ Quote Token lookup error: {e}\")\n",
    "                \n",
    "                # Create token pair name\n",
    "                token_pair = f\"{base_symbol}/{quote_symbol}\"\n",
    "                pool_name = f\"{token_pair} Pool\"\n",
    "                \n",
    "                print(f\"🏷️ Identified Pool: {token_pair}\")\n",
    "                \n",
    "                # Create metadata with token info\n",
    "                metadata = {\n",
    "                    'pool_name': pool_name,\n",
    "                    'token_pair': token_pair,\n",
    "                    'base_token_symbol': base_symbol,\n",
    "                    'quote_token_symbol': quote_symbol,\n",
    "                    'base_token_info': base_token_info,\n",
    "                    'quote_token_info': quote_token_info\n",
    "                }\n",
    "                \n",
    "                # Perform analysis\n",
    "                analysis = pool_analyzer.analyze_pool(pool_data, metadata)\n",
    "                all_pool_analyses.append(analysis)\n",
    "                \n",
    "                print(f\"📊 Analysis Summary:\")\n",
    "                print(f\"  Price: ${analysis['current_price']:.4f}\")\n",
    "                print(f\"  Liquidity: {format_number(analysis['total_liquidity_usd'], is_currency=True)}\")\n",
    "                print(f\"  Base ({base_symbol}): {format_number(analysis['base_liquidity'], decimals=2)}\")\n",
    "                print(f\"  Quote ({quote_symbol}): {format_number(analysis['quote_liquidity'], decimals=2)}\")\n",
    "                print(f\"  Bins: {analysis['num_bins']}\")\n",
    "                \n",
    "            else:\n",
    "                print(f\"❌ Failed to fetch data for pool {pool_address}\")\n",
    "                \n",
    "        except Exception as e:\n",
    "            print(f\"❌ Error analyzing pool {pool_address}: {e}\")\n",
    "    \n",
    "    print(f\"\\n✅ Successfully analyzed {len(all_pool_analyses)} out of {len(POOL_ADDRESSES)} pools\")\n",
    "    \n",
    "    if all_pool_analyses:\n",
    "        total_liquidity = sum(a['total_liquidity_usd'] for a in all_pool_analyses)\n",
    "        print(f\"💰 Total Liquidity Across All Pools: {format_number(total_liquidity, is_currency=True)}\")\n",
    "        \n",
    "        # Display summary with token pairs\n",
    "        print(f\"\\n📊 POOL ANALYSIS SUMMARY:\")\n",
    "        print(\"=\" * 80)\n",
    "        for analysis in all_pool_analyses:\n",
    "            token_pair = analysis.get('token_pair', analysis['pool_name'])\n",
    "            print(f\"{token_pair:<20} | \"\n",
    "                  f\"${analysis['current_price']:<8.4f} | \"\n",
    "                  f\"{format_number(analysis['total_liquidity_usd'], is_currency=True):<12} | \"\n",
    "                  f\"{analysis['num_bins']:>4} bins\")\n",
    "        print(\"=\" * 80)\n",
    "        \n",
    "else:\n",
    "    print(\"❌ Cannot fetch pool data - Gateway is offline\")\n",
    "    all_pool_analyses = []"
   ]
  },
  {
   "cell_type": "code",
   "execution_count": 189,
   "metadata": {},
   "outputs": [
    {
     "name": "stdout",
     "output_type": "stream",
     "text": [
      "🔍 Looking up token symbols and generating report...\n",
      "📤 Pool analysis report generated successfully\n",
      "📊 Report includes 3 pool(s) with token symbols\n",
      "📋 Report stored for Telegram sending at the end\n",
      "\n",
      "📊 DETAILED POOL ANALYSIS\n",
      "================================================================================\n",
      "\n",
      "📊 POOL 1 - SOL/USDC Pool\n",
      "============================================================\n",
      "Address: 2sf5NYcY4zUPXUSmG6f66mskb24t5F8S11pC1Nz5nQT3\n",
      "Current Price: $211.77\n",
      "Total Liquidity (USD): $64.43K\n",
      "Base Liquidity: 151.25 SOL\n",
      "Quote Liquidity: 32.40K USDC\n",
      "Liquidity Concentration: 9.9% (within ±5 bins)\n",
      "Number of Bins: 141\n",
      "Price Range: $106.58 - $429.22\n",
      "Fee: 0.04%\n",
      "Bin Step: 100\n",
      "Active Bin ID: -156\n",
      "\n",
      "🎯 KEY LIQUIDITY LEVELS:\n",
      "  1. Price: $224.80 | Liquidity: $815.66\n",
      "  2. Price: $227.05 | Liquidity: $812.26\n",
      "  3. Price: $229.32 | Liquidity: $782.04\n",
      "  4. Price: $231.61 | Liquidity: $778.85\n",
      "  5. Price: $233.93 | Liquidity: $774.44\n",
      "============================================================\n",
      "\n",
      "📊 POOL 2 - JUP/SOL Pool\n",
      "============================================================\n",
      "Address: C8Gr6AUuq9hEdSYJzoEpNcdjpojPZwqG5MtQbeouNNwg\n",
      "Current Price: $0.0021834\n",
      "Total Liquidity (USD): $14.91K\n",
      "Base Liquidity: 3.93M JUP\n",
      "Quote Liquidity: 6.33K SOL\n",
      "Liquidity Concentration: 20.2% (within ±5 bins)\n",
      "Number of Bins: 141\n",
      "Price Range: $0.0012500 - $0.0038139\n",
      "Fee: 0.15%\n",
      "Bin Step: 80\n",
      "Active Bin ID: 98\n",
      "\n",
      "🎯 KEY LIQUIDITY LEVELS:\n",
      "  1. Price: $0.0021834 | Liquidity: $264.98\n",
      "  2. Price: $0.0022009 | Liquidity: $263.84\n",
      "  3. Price: $0.0022185 | Liquidity: $254.93\n",
      "  4. Price: $0.0022362 | Liquidity: $249.47\n",
      "  5. Price: $0.0022541 | Liquidity: $247.65\n",
      "============================================================\n",
      "\n",
      "📊 POOL 3 - 6p6xgHyF7AeE6TZkSmFsko444wqoP15icUSqi2jfGiPN/USDC Pool\n",
      "============================================================\n",
      "Address: 9d9mb8kooFfaD3SctgZtkxQypkshx6ezhbKio89ixyy2\n",
      "Current Price: $7.6135\n",
      "Total Liquidity (USD): $317.36M\n",
      "Base Liquidity: 15.46M 6p6xgHyF7AeE6TZkSmFsko444wqoP15icUSqi2jfGiPN\n",
      "Quote Liquidity: 199.64M USDC\n",
      "Liquidity Concentration: 8.7% (within ±5 bins)\n",
      "Number of Bins: 141\n",
      "Price Range: $5.3967 - $10.849\n",
      "Fee: 0.10%\n",
      "Bin Step: 50\n",
      "Active Bin ID: 407\n",
      "\n",
      "🎯 KEY LIQUIDITY LEVELS:\n",
      "  1. Price: $9.9172 | Liquidity: $1.50M\n",
      "  2. Price: $6.9598 | Liquidity: $1.45M\n",
      "  3. Price: $9.8188 | Liquidity: $1.25M\n",
      "  4. Price: $9.8678 | Liquidity: $1.25M\n",
      "  5. Price: $7.6135 | Liquidity: $730.99K\n",
      "============================================================\n",
      "\n",
      "📋 TELEGRAM REPORT PREVIEW:\n",
      "==================================================\n",
      "🏊 **Meteora Pool Analysis Report**\n",
      "📅 2025-09-24 03:28 UTC\n",
      "🔗 Network: Solana mainnet-beta\n",
      "⚡ Powered by Gateway (via Hummingbot)\n",
      "\n",
      "📊 **SOL/USDC • 0.04% • Bin:100**\n",
      "_Pool: SOL/USDC Pool_\n",
      "━━━━━━━━━━━━━━━━━━━━\n",
      "💰 **Price & Liquidity**\n",
      "• Current Price: `$211.77`\n",
      "• Total Liquidity: `$64.43K`\n",
      "• SOL: `151.25`\n",
      "• USDC: `32.40K`\n",
      "\n",
      "⚙️ **Pool Parameters**\n",
      "• Fee: `0.04%`\n",
      "• Bin Step: `100`\n",
      "• Active Bin: `-156`\n",
      "• Total Bins: `141`\n",
      "\n",
      "📈 **Liquidity Distribution**\n",
      "• Price Range: `$106.58 - $429.22`\n",
      "\n",
      "🎯 **Liquidity Around Price**\n",
      "• ±5%: `9.0%` of total liquidity\n",
      "• ±10%: `20.5%` of total liquidity\n",
      "• ±15%: `32.9%` of total liquidity\n",
      "• ±20%: `43.5%` of total liquidity\n",
      "\n",
      "📊 **JUP/SOL • 0.15% • Bin:80**\n",
      "_Pool: JUP/SOL Pool_\n",
      "━━━━━━━━━━━━━━━━━━━━\n",
      "💰 **Price & Liquidity**\n",
      "• Current Price: `$0.0021834`\n",
      "• Total Liquidity: `$14.91K`\n",
      "• JUP: `3.93M`\n",
      "• SOL: `6.33K`\n",
      "\n",
      "⚙️ **Pool Parameters**\n",
      "• Fee: `0.15%`\n",
      "• Bin Step: `80`\n",
      "• Active Bin: `98`\n",
      "• Total Bins: `141`\n",
      "\n",
      "📈 **Liquidity Distribution**\n",
      "• Price Range: `$0.0012500 - $0.0038139`\n",
      "\n",
      "🎯 **Liquidity Around Price**\n",
      "• ±5%: `23.7%` of total liquidity\n",
      "• ±10%: `43.9%` of total liquidity\n",
      "• ±15%: `65.0%` of total liquidity\n",
      "• ±20%: `84.2%` of total liquidity\n",
      "\n",
      "📊 **6p6xgHyF7AeE6TZkSmFsko444wqoP15icUSqi2jfGiPN/USDC • 0.10% • Bin:50**\n",
      "_Pool: 6p6xgHyF7AeE6TZkSmFsko444wqoP15icUSqi2jfGiPN/USDC Pool_\n",
      "━━━━━━━━━━━━━━━━━━━━\n",
      "💰 **Price & Liquidity**\n",
      "• Current Price: `$7.6135`\n",
      "• Total Liquidity: `$317.36M`\n",
      "• 6p6xgHyF7AeE6TZkSmFsko444wqoP15icUSqi2jfGiPN: `15.46M`\n",
      "• USDC: `199.64M`\n",
      "\n",
      "⚙️ **Pool Parameters**\n",
      "• Fee: `0.10%`\n",
      "• Bin Step: `50`\n",
      "• Active Bin: `407`\n",
      "• Total Bins: `141`\n",
      "\n",
      "📈 **Liquidity Distribution**\n",
      "• Price Range: `$5.3967 - $10.849`\n",
      "\n",
      "🎯 **Liquidity Around Price**\n",
      "• ±5%: `15.7%` of total liquidity\n",
      "• ±10%: `32.6%` of total liquidity\n",
      "• ±15%: `47.7%` of total liquidity\n",
      "• ±20%: `62.5%` of total liquidity\n",
      "\n",
      "━━━━━━━━━━━━━━━━━━━━\n",
      "💡 _Data from Gateway Meteora CLMM | QuantsLab_\n",
      "==================================================\n"
     ]
    }
   ],
   "source": [
    "# 🚀 Generate Pool Analysis Report with Token Lookup (Preview Only)\n",
    "if all_pool_analyses:\n",
    "    print(\"🔍 Looking up token symbols and generating report...\")\n",
    "    \n",
    "    # Generate report with token symbol lookup\n",
    "    report_message = await generate_pool_report(all_pool_analyses)\n",
    "    \n",
    "    # Store the report for sending later\n",
    "    telegram_reports['report_message'] = report_message\n",
    "    \n",
    "    print(\"📤 Pool analysis report generated successfully\")\n",
    "    print(f\"📊 Report includes {len(all_pool_analyses)} pool(s) with token symbols\")\n",
    "    print(\"📋 Report stored for Telegram sending at the end\\n\")\n",
    "    \n",
    "    # Display detailed analysis for each pool\n",
    "    print(\"📊 DETAILED POOL ANALYSIS\")\n",
    "    print(\"=\" * 80)\n",
    "    for i, analysis in enumerate(all_pool_analyses, 1):\n",
    "        print(f\"\\n📊 POOL {i} - {analysis['pool_name']}\")\n",
    "        print(\"=\" * 60)\n",
    "        print(f\"Address: {analysis['address']}\")\n",
    "        print(f\"Current Price: {format_price(analysis['current_price'])}\")\n",
    "        print(f\"Total Liquidity (USD): {format_number(analysis['total_liquidity_usd'], is_currency=True)}\")\n",
    "        print(f\"Base Liquidity: {format_number(analysis['base_liquidity'], decimals=2)} {analysis['base_token']}\")\n",
    "        print(f\"Quote Liquidity: {format_number(analysis['quote_liquidity'], decimals=2)} {analysis['quote_token']}\")\n",
    "        print(f\"Liquidity Concentration: {analysis['liquidity_concentration']:.1f}% (within ±5 bins)\")\n",
    "        print(f\"Number of Bins: {analysis['num_bins']}\")\n",
    "        print(f\"Price Range: {format_price(analysis['price_range']['min'])} - {format_price(analysis['price_range']['max'])}\")\n",
    "        print(f\"Fee: {analysis['fee_pct']:.2f}%\")\n",
    "        print(f\"Bin Step: {analysis['bin_step']}\")\n",
    "        print(f\"Active Bin ID: {analysis['active_bin_id']}\")\n",
    "        \n",
    "        if analysis.get('key_levels'):\n",
    "            print(f\"\\n🎯 KEY LIQUIDITY LEVELS:\")\n",
    "            for j, level in enumerate(analysis['key_levels'], 1):\n",
    "                print(f\"  {j}. Price: {format_price(level['price'])} | Liquidity: {format_number(level['total_value'], is_currency=True)}\")\n",
    "        \n",
    "        print(\"=\" * 60)\n",
    "    \n",
    "    print(\"\\n📋 TELEGRAM REPORT PREVIEW:\")\n",
    "    print(\"=\" * 50)\n",
    "    print(report_message.replace('<b>', '**').replace('</b>', '**')\n",
    "          .replace('<code>', '`').replace('</code>', '`')\n",
    "          .replace('<i>', '_').replace('</i>', '_'))\n",
    "    print(\"=\" * 50)\n",
    "        \n",
    "else:\n",
    "    report_message = await generate_pool_report([])\n",
    "    print(\"⚠️ No pool data available for report generation\")"
   ]
  },
  {
   "cell_type": "code",
   "execution_count": 190,
   "metadata": {},
   "outputs": [
    {
     "name": "stdout",
     "output_type": "stream",
     "text": [
      "📊 Generating liquidity distribution charts with token symbols...\n",
      "\n",
      "🎨 Chart 1/3: SOL/USDC Pool\n",
      "  ✅ Chart generated for SOL/USDC\n"
     ]
    },
    {
     "data": {
      "application/vnd.plotly.v1+json": {
       "config": {
        "plotlyServerURL": "https://plot.ly"
       },
       "data": [
        {
         "customdata": {
          "bdata": "H/8g/yH/Iv8j/yT/Jf8m/yf/KP8p/yr/K/8s/y3/Lv8v/zD/Mf8y/zP/NP81/zb/N/84/zn/Ov87/zz/Pf8+/z//QP9B/0L/Q/9E/0X/Rv9H/0j/Sf9K/0v/TP9N/07/T/9Q/1H/Uv9T/1T/Vf9W/1f/WP9Z/1r/W/9c/13/Xv9f/2D/Yf9i/2P/ZP9l/2b/Z/9o/2n/av9r/2z/bf9u/2//cP9x/3L/c/90/3X/dv93/3j/ef96/3v/fP99/37/f/+A/4H/gv+D/4T/hf+G/4f/iP+J/4r/i/+M/43/jv+P/5D/kf+S/5P/lP+V/5b/l/+Y/5n/mv+b/5z/nf+e/5//oP+h/6L/o/+k/6X/pv+n/6j/qf+q/6v/",
          "dtype": "i2"
         },
         "hovertemplate": "Price: $%{x:.8f}<br>Liquidity: $%{y:,.0f}<br>Bin ID: %{customdata}<br><extra></extra>",
         "marker": {
          "color": [
           "red",
           "red",
           "red",
           "red",
           "red",
           "red",
           "red",
           "red",
           "red",
           "red",
           "red",
           "red",
           "red",
           "red",
           "red",
           "red",
           "red",
           "red",
           "red",
           "red",
           "red",
           "red",
           "red",
           "red",
           "red",
           "red",
           "red",
           "red",
           "red",
           "red",
           "red",
           "red",
           "red",
           "red",
           "red",
           "red",
           "red",
           "red",
           "red",
           "red",
           "red",
           "red",
           "red",
           "red",
           "red",
           "red",
           "red",
           "red",
           "red",
           "red",
           "red",
           "red",
           "red",
           "red",
           "red",
           "red",
           "red",
           "red",
           "red",
           "red",
           "red",
           "red",
           "red",
           "red",
           "red",
           "red",
           "red",
           "red",
           "red",
           "yellow",
           "green",
           "green",
           "green",
           "green",
           "green",
           "green",
           "green",
           "green",
           "green",
           "green",
           "green",
           "green",
           "green",
           "green",
           "green",
           "green",
           "green",
           "green",
           "green",
           "green",
           "green",
           "green",
           "green",
           "green",
           "green",
           "green",
           "green",
           "green",
           "green",
           "green",
           "green",
           "green",
           "green",
           "green",
           "green",
           "green",
           "green",
           "green",
           "green",
           "green",
           "green",
           "green",
           "green",
           "green",
           "green",
           "green",
           "green",
           "green",
           "green",
           "green",
           "green",
           "green",
           "green",
           "green",
           "green",
           "green",
           "green",
           "green",
           "green",
           "green",
           "green",
           "green",
           "green",
           "green",
           "green",
           "green",
           "green",
           "green",
           "green",
           "green",
           "green"
          ],
          "opacity": 0.7
         },
         "name": "Liquidity (USD)",
         "type": "bar",
         "x": {
          "bdata": "O6bKxFulWkBLjkdykulaQFHpOMB3LltA2R6qbQ10W0COBR8+VbpbQPlUn/lQAVxAizTCbAJJXEBE6Lloa5FcQDubX8ON2lxATUg/V2skXUBYwaMDBm9dQDPVoqxful1AxZQpO3oGXkCKtwidV1NeQMYfAcX5oF5A0H7QqmLvXkCuGT5LlD5fQGuuJ6iQjl9AZ3qOyFnfX0ADMVLceBhgQAad7EStQWBAeRl0KUtrYEBUs/KXU5VgQHvEJaHHv2BAfN2EWKjqYED7wEjU9hVhQP1wci20QWFASE7Sf+FtYUDxSQ/qf5phQGcpro2Qx2FABN0YjxT1YUB36aUVDSNiQB/kn0t7UWJAkAJNXmCAYkB4vfZ9va9iQAuH8d2T32JAMZWktOQPY0Clv5E7sUBjQDRyXa/6cWNAWLPWT8KjY0BgP/9fCdZjQFW4EybRCGRA0OqT6xo8ZEALKEv9529kQD61WKs5pGRAqFA4SRHZZEBXzMotcA5lQAa/XrNXRGVALUu5N8l6ZUCR/B4cxrFlQIi8XMVP6WVAI93Qm2chZkCCO3QLD1pmQIt544NHk2ZAPU9oeBLNZkDf8wJgcQdnQEWfc7VlQmdAbCNE9/B9Z0ContGnFLpnQKVGVk3S9mdAeUzzcSs0aEAJ2rqjIXJoQAQpunS2sGhAq7MDe+vvaEC0f7lQwi9pQIqDF5Q8cGlAIyZ+51uxaUC32XzxIfNpQKfR3FyQNWpAwNOr2Kh4akA6JUcYbbxqQK6TZtPeAGtAR5onxv9Fa0CAoxix0YtrQLJnRFlW0mtAu2g9iI8ZbEAPiykMf2FsQHPMzbcmqmxAvBiaYojzbEDSPLXopT1tQE/4CCuBiG1A/i1ODxzUbUCTMxmAeCBuQONA5myYbW5A+v4lyn27bkBJN0qRKgpvQFyj0sCgWW9AUN1ZXOKpb0BycaJs8fpvQKcI0v9nJnBAQnRMFMBPcEDmiQUAgnlwQDMd8dGuo3BALKW4m0fOcEDxK8JxTflwQDlQN2vBJHFAtFgMoqRQcUCXWQcz+HxxQGhsxz29qXFASvrL5PTWcUD0GHxNoARyQHz6LaDAMnJAMHAuCFdhckCsgMizZJByQFERTdTqv3JAaaManurvckALJaVIZSBzQA7WfQ5cUXNAKEFbLdCCc0B9SSHmwrRzQMhM6Xw153NAWVoKOSkadEAYfyFln010QMMmGk+ZgXRArJI2SBi2dEAPZhilHet0QFxIyb2qIHVAkJ3D7cBWdUDmVPuTYY11QBHO5hKOxHVAP9WH0Ef8dUAatnQ2kDR2QABm4bFobXZAvsWos9KmdkDr+lWwz+B2QEThLSBhG3dAKZQ4f4hWd0CGEEtNR5J3QGjvEA6fzndAezkWSZELeECoU9GJH0l4QCIFrV9Lh3hAG5cSXhbGeEBgDnQcggV5QCl/VjaQRXlAT3tcS0KGeUBDm1D/mcd5QPAhMPqYCXpA4Ls16EBMekDqWeR5k496QJ0nEmSS03pA",
          "dtype": "f8"
         },
         "y": {
          "bdata": "yQBQxQ3eY0D4UnjQ7GVkQMFwrmGGiGZAr30BvfCGZkCk4v+OKIRmQPiov15hgWZAysStgph+ZkAShCug0HtmQEme6/tw0mlAyQImcOvQaUDjUSrhic5pQLVwWYXNy2lABwsnaf7IaUARxeQNMMZpQA0zNJ4IEmpAZePBFrsPakDgTEwX4g1qQIZwzLKnC2pAecxAZXw7akDWcfxQaTlqQGnDYWlgN2pAOX09XzNHakDUu3g/7lZqQLywNVt5u25AAI49ey7AbkAIkQw5tsZuQIjxmle1/n5AM8FwriGKf0DRH5p5sjB/QOlkqfU+DH9ATU7tDNPJfkDbMuAspXR+QBEBh1AlxH5AvceZJmx+fkC4yagyTCp+QP+z5sffAX5AhGHAkusgfkAUtMnhE4x/QGyTisa6/4BA+l+uRWv2gEA0n3O3y8mAQEwao3VUnYBAV+wvu4eegED1EI3uIH+AQCLi5lTyoYBANfEO8GSHgEAqApze5VuAQOXxtPwAbYBAAn6NJKHFgEDql4i3DqGBQIld29tN7YBAjGmme90egUDhDP5+UUKBQIo8SbpmeIFAC9XNxf+fgUBjmule5ymCQFcKgVwCzIJAQbeXNAYWg0B9PPTdzQuEQFezzvj+D4NAYB4y5QMtg0CZ2Hxc20qDQFsHB3vzZYNAo5I6AY0lg0B3vwrwvQKDQLmLMEXZ5IFApdx9jg/VgUDIPzOID8WBQJI9Qs1wxIBA8k2ksh0lgEA7SOyvK99/QOdByv96mn5AbCzaynB3fkDu//F+Y1R+QLxEvlMDOH5ASgc28EJ9iUCwLnkjEGKJQBlssHBTcIhA8oUbz8hWiECg2AHfjjOIQJEoSmX9CYhAaBoY/B7ch0B/xYfZ/rKHQM4wwa0XeYdA5kSYZZZQh0BnuYyceCiHQNv3yO/w/YZAeAtIA9jLhkAGYpble6SGQCMXCt5UfYZAKUPX3Z8nhkAbBcjkl/KFQC0TBimk+YRAWfsgDhzVhEAMsxpkxrCEQI54bXK473xA9kVSxgbPe0ALZT9lBmV7QMXkfLszoHpAyn/GtlwwekBhVTI5PS55QIk16tOVy3dASCK5Wq8Cd0AGqCE9FC12QGGAyotKgnRArYEyaMQhdEDWowXDmfBzQNsbwQXnv3NA4vxWjluAc0BG/jYFZkVzQAlMuT9tAHNAqhj515eVckBD/TkECVJyQFJ6eIkmuXFAxW2SP2w4cUC8EkrgfslwQBv3IJJ3InBArRfUNppxb0Avy5+PIQlvQIj1X/eeXG5Al/hCri/+bUBErn5NyqBsQKpejhXtSGxAFy0Sam4CbECvVmcblMNqQAPh3EDqgGpA6ash65E2akAFu1GOR/VpQPqEpsKftGlAniGl9ph0aUAJzraVMTVpQK6AQhdo9mhAKI/M7Tq4aEBapfOWqHpoQIoImTES3WdAtxvq2HdnZ0B7O5ZBYCxnQOgeDd3d8WZAf1DPMe+3ZkCb+z/Lkn5mQNLXTzjHRWZA",
          "dtype": "f8"
         }
        }
       ],
       "layout": {
        "annotations": [
         {
          "showarrow": false,
          "text": "Current Price: $211.77",
          "x": 211.77061112937918,
          "xanchor": "center",
          "xref": "x",
          "y": 1,
          "yanchor": "bottom",
          "yref": "y domain"
         }
        ],
        "height": 600,
        "hovermode": "x unified",
        "shapes": [
         {
          "line": {
           "color": "blue",
           "dash": "dash",
           "width": 2
          },
          "type": "line",
          "x0": 211.77061112937918,
          "x1": 211.77061112937918,
          "xref": "x",
          "y0": 0,
          "y1": 1,
          "yref": "y domain"
         }
        ],
        "showlegend": true,
        "template": {
         "data": {
          "bar": [
           {
            "error_x": {
             "color": "#2a3f5f"
            },
            "error_y": {
             "color": "#2a3f5f"
            },
            "marker": {
             "line": {
              "color": "white",
              "width": 0.5
             },
             "pattern": {
              "fillmode": "overlay",
              "size": 10,
              "solidity": 0.2
             }
            },
            "type": "bar"
           }
          ],
          "barpolar": [
           {
            "marker": {
             "line": {
              "color": "white",
              "width": 0.5
             },
             "pattern": {
              "fillmode": "overlay",
              "size": 10,
              "solidity": 0.2
             }
            },
            "type": "barpolar"
           }
          ],
          "carpet": [
           {
            "aaxis": {
             "endlinecolor": "#2a3f5f",
             "gridcolor": "#C8D4E3",
             "linecolor": "#C8D4E3",
             "minorgridcolor": "#C8D4E3",
             "startlinecolor": "#2a3f5f"
            },
            "baxis": {
             "endlinecolor": "#2a3f5f",
             "gridcolor": "#C8D4E3",
             "linecolor": "#C8D4E3",
             "minorgridcolor": "#C8D4E3",
             "startlinecolor": "#2a3f5f"
            },
            "type": "carpet"
           }
          ],
          "choropleth": [
           {
            "colorbar": {
             "outlinewidth": 0,
             "ticks": ""
            },
            "type": "choropleth"
           }
          ],
          "contour": [
           {
            "colorbar": {
             "outlinewidth": 0,
             "ticks": ""
            },
            "colorscale": [
             [
              0,
              "#0d0887"
             ],
             [
              0.1111111111111111,
              "#46039f"
             ],
             [
              0.2222222222222222,
              "#7201a8"
             ],
             [
              0.3333333333333333,
              "#9c179e"
             ],
             [
              0.4444444444444444,
              "#bd3786"
             ],
             [
              0.5555555555555556,
              "#d8576b"
             ],
             [
              0.6666666666666666,
              "#ed7953"
             ],
             [
              0.7777777777777778,
              "#fb9f3a"
             ],
             [
              0.8888888888888888,
              "#fdca26"
             ],
             [
              1,
              "#f0f921"
             ]
            ],
            "type": "contour"
           }
          ],
          "contourcarpet": [
           {
            "colorbar": {
             "outlinewidth": 0,
             "ticks": ""
            },
            "type": "contourcarpet"
           }
          ],
          "heatmap": [
           {
            "colorbar": {
             "outlinewidth": 0,
             "ticks": ""
            },
            "colorscale": [
             [
              0,
              "#0d0887"
             ],
             [
              0.1111111111111111,
              "#46039f"
             ],
             [
              0.2222222222222222,
              "#7201a8"
             ],
             [
              0.3333333333333333,
              "#9c179e"
             ],
             [
              0.4444444444444444,
              "#bd3786"
             ],
             [
              0.5555555555555556,
              "#d8576b"
             ],
             [
              0.6666666666666666,
              "#ed7953"
             ],
             [
              0.7777777777777778,
              "#fb9f3a"
             ],
             [
              0.8888888888888888,
              "#fdca26"
             ],
             [
              1,
              "#f0f921"
             ]
            ],
            "type": "heatmap"
           }
          ],
          "histogram": [
           {
            "marker": {
             "pattern": {
              "fillmode": "overlay",
              "size": 10,
              "solidity": 0.2
             }
            },
            "type": "histogram"
           }
          ],
          "histogram2d": [
           {
            "colorbar": {
             "outlinewidth": 0,
             "ticks": ""
            },
            "colorscale": [
             [
              0,
              "#0d0887"
             ],
             [
              0.1111111111111111,
              "#46039f"
             ],
             [
              0.2222222222222222,
              "#7201a8"
             ],
             [
              0.3333333333333333,
              "#9c179e"
             ],
             [
              0.4444444444444444,
              "#bd3786"
             ],
             [
              0.5555555555555556,
              "#d8576b"
             ],
             [
              0.6666666666666666,
              "#ed7953"
             ],
             [
              0.7777777777777778,
              "#fb9f3a"
             ],
             [
              0.8888888888888888,
              "#fdca26"
             ],
             [
              1,
              "#f0f921"
             ]
            ],
            "type": "histogram2d"
           }
          ],
          "histogram2dcontour": [
           {
            "colorbar": {
             "outlinewidth": 0,
             "ticks": ""
            },
            "colorscale": [
             [
              0,
              "#0d0887"
             ],
             [
              0.1111111111111111,
              "#46039f"
             ],
             [
              0.2222222222222222,
              "#7201a8"
             ],
             [
              0.3333333333333333,
              "#9c179e"
             ],
             [
              0.4444444444444444,
              "#bd3786"
             ],
             [
              0.5555555555555556,
              "#d8576b"
             ],
             [
              0.6666666666666666,
              "#ed7953"
             ],
             [
              0.7777777777777778,
              "#fb9f3a"
             ],
             [
              0.8888888888888888,
              "#fdca26"
             ],
             [
              1,
              "#f0f921"
             ]
            ],
            "type": "histogram2dcontour"
           }
          ],
          "mesh3d": [
           {
            "colorbar": {
             "outlinewidth": 0,
             "ticks": ""
            },
            "type": "mesh3d"
           }
          ],
          "parcoords": [
           {
            "line": {
             "colorbar": {
              "outlinewidth": 0,
              "ticks": ""
             }
            },
            "type": "parcoords"
           }
          ],
          "pie": [
           {
            "automargin": true,
            "type": "pie"
           }
          ],
          "scatter": [
           {
            "fillpattern": {
             "fillmode": "overlay",
             "size": 10,
             "solidity": 0.2
            },
            "type": "scatter"
           }
          ],
          "scatter3d": [
           {
            "line": {
             "colorbar": {
              "outlinewidth": 0,
              "ticks": ""
             }
            },
            "marker": {
             "colorbar": {
              "outlinewidth": 0,
              "ticks": ""
             }
            },
            "type": "scatter3d"
           }
          ],
          "scattercarpet": [
           {
            "marker": {
             "colorbar": {
              "outlinewidth": 0,
              "ticks": ""
             }
            },
            "type": "scattercarpet"
           }
          ],
          "scattergeo": [
           {
            "marker": {
             "colorbar": {
              "outlinewidth": 0,
              "ticks": ""
             }
            },
            "type": "scattergeo"
           }
          ],
          "scattergl": [
           {
            "marker": {
             "colorbar": {
              "outlinewidth": 0,
              "ticks": ""
             }
            },
            "type": "scattergl"
           }
          ],
          "scattermap": [
           {
            "marker": {
             "colorbar": {
              "outlinewidth": 0,
              "ticks": ""
             }
            },
            "type": "scattermap"
           }
          ],
          "scattermapbox": [
           {
            "marker": {
             "colorbar": {
              "outlinewidth": 0,
              "ticks": ""
             }
            },
            "type": "scattermapbox"
           }
          ],
          "scatterpolar": [
           {
            "marker": {
             "colorbar": {
              "outlinewidth": 0,
              "ticks": ""
             }
            },
            "type": "scatterpolar"
           }
          ],
          "scatterpolargl": [
           {
            "marker": {
             "colorbar": {
              "outlinewidth": 0,
              "ticks": ""
             }
            },
            "type": "scatterpolargl"
           }
          ],
          "scatterternary": [
           {
            "marker": {
             "colorbar": {
              "outlinewidth": 0,
              "ticks": ""
             }
            },
            "type": "scatterternary"
           }
          ],
          "surface": [
           {
            "colorbar": {
             "outlinewidth": 0,
             "ticks": ""
            },
            "colorscale": [
             [
              0,
              "#0d0887"
             ],
             [
              0.1111111111111111,
              "#46039f"
             ],
             [
              0.2222222222222222,
              "#7201a8"
             ],
             [
              0.3333333333333333,
              "#9c179e"
             ],
             [
              0.4444444444444444,
              "#bd3786"
             ],
             [
              0.5555555555555556,
              "#d8576b"
             ],
             [
              0.6666666666666666,
              "#ed7953"
             ],
             [
              0.7777777777777778,
              "#fb9f3a"
             ],
             [
              0.8888888888888888,
              "#fdca26"
             ],
             [
              1,
              "#f0f921"
             ]
            ],
            "type": "surface"
           }
          ],
          "table": [
           {
            "cells": {
             "fill": {
              "color": "#EBF0F8"
             },
             "line": {
              "color": "white"
             }
            },
            "header": {
             "fill": {
              "color": "#C8D4E3"
             },
             "line": {
              "color": "white"
             }
            },
            "type": "table"
           }
          ]
         },
         "layout": {
          "annotationdefaults": {
           "arrowcolor": "#2a3f5f",
           "arrowhead": 0,
           "arrowwidth": 1
          },
          "autotypenumbers": "strict",
          "coloraxis": {
           "colorbar": {
            "outlinewidth": 0,
            "ticks": ""
           }
          },
          "colorscale": {
           "diverging": [
            [
             0,
             "#8e0152"
            ],
            [
             0.1,
             "#c51b7d"
            ],
            [
             0.2,
             "#de77ae"
            ],
            [
             0.3,
             "#f1b6da"
            ],
            [
             0.4,
             "#fde0ef"
            ],
            [
             0.5,
             "#f7f7f7"
            ],
            [
             0.6,
             "#e6f5d0"
            ],
            [
             0.7,
             "#b8e186"
            ],
            [
             0.8,
             "#7fbc41"
            ],
            [
             0.9,
             "#4d9221"
            ],
            [
             1,
             "#276419"
            ]
           ],
           "sequential": [
            [
             0,
             "#0d0887"
            ],
            [
             0.1111111111111111,
             "#46039f"
            ],
            [
             0.2222222222222222,
             "#7201a8"
            ],
            [
             0.3333333333333333,
             "#9c179e"
            ],
            [
             0.4444444444444444,
             "#bd3786"
            ],
            [
             0.5555555555555556,
             "#d8576b"
            ],
            [
             0.6666666666666666,
             "#ed7953"
            ],
            [
             0.7777777777777778,
             "#fb9f3a"
            ],
            [
             0.8888888888888888,
             "#fdca26"
            ],
            [
             1,
             "#f0f921"
            ]
           ],
           "sequentialminus": [
            [
             0,
             "#0d0887"
            ],
            [
             0.1111111111111111,
             "#46039f"
            ],
            [
             0.2222222222222222,
             "#7201a8"
            ],
            [
             0.3333333333333333,
             "#9c179e"
            ],
            [
             0.4444444444444444,
             "#bd3786"
            ],
            [
             0.5555555555555556,
             "#d8576b"
            ],
            [
             0.6666666666666666,
             "#ed7953"
            ],
            [
             0.7777777777777778,
             "#fb9f3a"
            ],
            [
             0.8888888888888888,
             "#fdca26"
            ],
            [
             1,
             "#f0f921"
            ]
           ]
          },
          "colorway": [
           "#636efa",
           "#EF553B",
           "#00cc96",
           "#ab63fa",
           "#FFA15A",
           "#19d3f3",
           "#FF6692",
           "#B6E880",
           "#FF97FF",
           "#FECB52"
          ],
          "font": {
           "color": "#2a3f5f"
          },
          "geo": {
           "bgcolor": "white",
           "lakecolor": "white",
           "landcolor": "white",
           "showlakes": true,
           "showland": true,
           "subunitcolor": "#C8D4E3"
          },
          "hoverlabel": {
           "align": "left"
          },
          "hovermode": "closest",
          "mapbox": {
           "style": "light"
          },
          "paper_bgcolor": "white",
          "plot_bgcolor": "white",
          "polar": {
           "angularaxis": {
            "gridcolor": "#EBF0F8",
            "linecolor": "#EBF0F8",
            "ticks": ""
           },
           "bgcolor": "white",
           "radialaxis": {
            "gridcolor": "#EBF0F8",
            "linecolor": "#EBF0F8",
            "ticks": ""
           }
          },
          "scene": {
           "xaxis": {
            "backgroundcolor": "white",
            "gridcolor": "#DFE8F3",
            "gridwidth": 2,
            "linecolor": "#EBF0F8",
            "showbackground": true,
            "ticks": "",
            "zerolinecolor": "#EBF0F8"
           },
           "yaxis": {
            "backgroundcolor": "white",
            "gridcolor": "#DFE8F3",
            "gridwidth": 2,
            "linecolor": "#EBF0F8",
            "showbackground": true,
            "ticks": "",
            "zerolinecolor": "#EBF0F8"
           },
           "zaxis": {
            "backgroundcolor": "white",
            "gridcolor": "#DFE8F3",
            "gridwidth": 2,
            "linecolor": "#EBF0F8",
            "showbackground": true,
            "ticks": "",
            "zerolinecolor": "#EBF0F8"
           }
          },
          "shapedefaults": {
           "line": {
            "color": "#2a3f5f"
           }
          },
          "ternary": {
           "aaxis": {
            "gridcolor": "#DFE8F3",
            "linecolor": "#A2B1C6",
            "ticks": ""
           },
           "baxis": {
            "gridcolor": "#DFE8F3",
            "linecolor": "#A2B1C6",
            "ticks": ""
           },
           "bgcolor": "white",
           "caxis": {
            "gridcolor": "#DFE8F3",
            "linecolor": "#A2B1C6",
            "ticks": ""
           }
          },
          "title": {
           "x": 0.05
          },
          "xaxis": {
           "automargin": true,
           "gridcolor": "#EBF0F8",
           "linecolor": "#EBF0F8",
           "ticks": "",
           "title": {
            "standoff": 15
           },
           "zerolinecolor": "#EBF0F8",
           "zerolinewidth": 2
          },
          "yaxis": {
           "automargin": true,
           "gridcolor": "#EBF0F8",
           "linecolor": "#EBF0F8",
           "ticks": "",
           "title": {
            "standoff": 15
           },
           "zerolinecolor": "#EBF0F8",
           "zerolinewidth": 2
          }
         }
        },
        "title": {
         "font": {
          "family": "Arial Bold",
          "size": 18
         },
         "text": "SOL/USDC • 0.04% Fee • Bin Step: 100<br><sub>2025-09-24 03:28 UTC</sub>",
         "x": 0.5,
         "xanchor": "center"
        },
        "width": 1200,
        "xaxis": {
         "gridcolor": "#E0E0E0",
         "gridwidth": 1,
         "showgrid": true,
         "title": {
          "text": "Price (USD)"
         }
        },
        "yaxis": {
         "title": {
          "text": "Liquidity (USD)"
         }
        }
       }
      }
     },
     "metadata": {},
     "output_type": "display_data"
    },
    {
     "name": "stdout",
     "output_type": "stream",
     "text": [
      "  💾 Chart saved: /tmp/meteora_SOL_USDC_0p04pct_bin100_chart.png\n",
      "  📋 Chart stored for Telegram sending\n",
      "\n",
      "🎨 Chart 2/3: JUP/SOL Pool\n",
      "  ✅ Chart generated for JUP/SOL\n"
     ]
    },
    {
     "data": {
      "application/vnd.plotly.v1+json": {
       "config": {
        "plotlyServerURL": "https://plot.ly"
       },
       "data": [
        {
         "customdata": {
          "bdata": "HAAdAB4AHwAgACEAIgAjACQAJQAmACcAKAApACoAKwAsAC0ALgAvADAAMQAyADMANAA1ADYANwA4ADkAOgA7ADwAPQA+AD8AQABBAEIAQwBEAEUARgBHAEgASQBKAEsATABNAE4ATwBQAFEAUgBTAFQAVQBWAFcAWABZAFoAWwBcAF0AXgBfAGAAYQBiAGMAZABlAGYAZwBoAGkAagBrAGwAbQBuAG8AcABxAHIAcwB0AHUAdgB3AHgAeQB6AHsAfAB9AH4AfwCAAIEAggCDAIQAhQCGAIcAiACJAIoAiwCMAI0AjgCPAJAAkQCSAJMAlACVAJYAlwCYAJkAmgCbAJwAnQCeAJ8AoAChAKIAowCkAKUApgCnAKgA",
          "dtype": "i2"
         },
         "hovertemplate": "Price: $%{x:.8f}<br>Liquidity: $%{y:,.0f}<br>Bin ID: %{customdata}<br><extra></extra>",
         "marker": {
          "color": [
           "red",
           "red",
           "red",
           "red",
           "red",
           "red",
           "red",
           "red",
           "red",
           "red",
           "red",
           "red",
           "red",
           "red",
           "red",
           "red",
           "red",
           "red",
           "red",
           "red",
           "red",
           "red",
           "red",
           "red",
           "red",
           "red",
           "red",
           "red",
           "red",
           "red",
           "red",
           "red",
           "red",
           "red",
           "red",
           "red",
           "red",
           "red",
           "red",
           "red",
           "red",
           "red",
           "red",
           "red",
           "red",
           "red",
           "red",
           "red",
           "red",
           "red",
           "red",
           "red",
           "red",
           "red",
           "red",
           "red",
           "red",
           "red",
           "red",
           "red",
           "red",
           "red",
           "red",
           "red",
           "red",
           "red",
           "red",
           "red",
           "red",
           "red",
           "yellow",
           "green",
           "green",
           "green",
           "green",
           "green",
           "green",
           "green",
           "green",
           "green",
           "green",
           "green",
           "green",
           "green",
           "green",
           "green",
           "green",
           "green",
           "green",
           "green",
           "green",
           "green",
           "green",
           "green",
           "green",
           "green",
           "green",
           "green",
           "green",
           "green",
           "green",
           "green",
           "green",
           "green",
           "green",
           "green",
           "green",
           "green",
           "green",
           "green",
           "green",
           "green",
           "green",
           "green",
           "green",
           "green",
           "green",
           "green",
           "green",
           "green",
           "green",
           "green",
           "green",
           "green",
           "green",
           "green",
           "green",
           "green",
           "green",
           "green",
           "green",
           "green",
           "green",
           "green",
           "green",
           "green",
           "green",
           "green",
           "green",
           "green",
           "green"
          ],
          "opacity": 0.7
         },
         "name": "Liquidity (USD)",
         "type": "bar",
         "x": {
          "bdata": "ZPBOkrJ6VD+/BLido6RUPwK5mI7qzlQ/AHvbFIj5VD8O/9LhfCRVP90hPajJT1U/N9BFHG97VT+z9InzbadVP2RrGuXG01U/nPt+qXoAVj+8V7n6iS1WPzAjSJT1WlY/m/4pM76IVj8+muCV5LZWP63Oc3xp5VY/2rt0qE0UVz+B7gDdkUNXPxCMxd42c1c//YQCdD2jVz+8zY1kptNXPzqe1nlyBFg/ErjofqI1WD9ms29AN2dYP4dSuowxmVg/aNy9M5LLWD/qfRkHWv5YPx+yGdqJMVk/f7G7gSJlWT8q6LDUJJlZPz1zYquRzVk/UKX032kCWj8okkpOrjdaP6mhCdRfbVo/HyqdUH+jWj/iETqlDdpaP2144rQLEVs/9WZpZHpIWz+MiHaaWoBbP+bpiT+tuFs/w8D/PXPxWz8iOxSCrSpcPztW5/lcZFw/Ur2AlYKeXD+AsNNGH9lcP3PzwgE0FF0/PsQkvMFPXT9L2sZtyYtdP3JtchBMyF0/XUXwn0oFXj8v0QwaxkJeP5dHnH6/gF4/Vc9+zze/Xj85sKQQMP5eP8WMEkipPV8/bKTlfaR9Xz+SHli8Ir5fP01exQ8l/18/hy9XQ1YgYD8YDd8YXUFgP8T65pGnYmA/ih31ODaEYD/hTKuZCaZgP7xXyUAiyGA/Mk4vvIDqYD/Zz9+aJQ1hP9JeAm0RMGE/pbflw0RTYT/ZLQIywHZhP3MN/EqEmmE/RAGmo5G+YT81fgPS6OJhP3AzS22KB2I/oH/pDXcsYj8l64JNr1FiP2Wn9sYzd2I/OhNhFgWdYj+JRB7ZI8NiPwCXzK2Q6WI/JUBPNEwQYz+Y6NANVzdjP7ZKxtyxXmM/k9bwRF2GYz9dW2HrWa5jPzS2enao1mM/g4b0jUn/Yz/Y593aPShkP2ExoAeGUWQ//boBwCJ7ZD8BqCixFKVkP6+3nYlcz2Q/dRtP+fr5ZD/5UpOx8CRlPwEOLGU+UGU/QxRJyOR7ZT8lM4uQ5KdlP4ExB3U+1GU/dMlILvMAZj9AqFV2Ay5mP1l0sAhwW2Y/odlbojmJZj/im90BYbdmP5CvQefm5WY/51gdFMwUZz9sUZJLEURnP93zUVK3c2c/pm6g7r6jZz/Y/FfoKNRnP8cl7Aj2BGg/RANtGyc2aD+OjorsvGdoPwz0l0q4mWg/z+2OBRrMaD/1JBPv4v5oP/6ZddoTMmk/DhS4nK1laT9Jl5AMsZlpPzribAIfzmk/X/J1WPgCaj/1j5PqPThqP/vgb5bwbWo/jQN7OxGkaj+cr+66oNpqPx7g0fefEWs/tIP81g9Jaz/jNBs/8YBrP+v5shhFuWs/TQwlTgzyaz8MqLLLRytsP7zigH/4ZGw/cIqcWR+fbD+RDP5LvdlsP7tkjUrTFG0/nhMmS2JQbT8EHptFa4xtPwQUuzPvyG0/dyBUEe8Fbj+5IDjca0NuP9PEQJRmgW4/ELhTO+C/bj8d0mbV2f5uP7lQhGhUPm8/",
          "dtype": "f8"
         },
         "y": {
          "bdata": "wJMWLquwWT/AkxYuq7BZP8LNvv9KP60/R/xxmLvYrD/MKiUxLHKsP1FZ2MmcC6w/1YeLYg2lqz9atj77fT6rP9/k8ZPu16o/31+QNobnqz9MTt7hJaG0P5pATu4wU7Q/5zK++jsFtD81JS4HR7ezP0zbE7JgU7Q/mc2DvmsFtD/nv/PKdrezPzWyY9eBabM/gqTT44wbsz/QlkPwl82yPx6Js/yif7I/a3sjCa4xsj+5bZMVueOxPwdgAyLElbE/VVJzLs9HsT+iROM62vmwP4deyOhVJLU/4ZSEB3cutj8vh/QTguC1P3x5ZCCNkrU/oVgbIQtqtT/LgOs+ixu1P/olcFgLzbQ/lQ9QABYQtT9SgsHfdhvcP+tuuj/AJeE/wide5Ozt4z/RBzh1/xfnPzJpFBFMtfg/D4+XSkzL+D86FIzqd+j+P5fqyrMHwANAaW3E2rL4A0D2C8cKpgFrQIW1zktHBWtABPbBxxoGa0B6kSKVJgZrQAuGcFXkHmtAP0lCoewja0CCkzU20DRrQG5xS7OyOGtAyzEXwD1Pa0B17vKEUFFrQJXG17ouUWtAWwoiNI1Ra0BucjJQrVJrQIjXQZqLU2tAyJQPQVVda0BGQS1cb19rQMlQLO9OYmtA8gyRCFpja0Dhb8BWhWVrQI8SW0T7bGtA9ohhHx5ta0DIs5t+iHVrQPuz/hrpeWtAssEivFaRa0DHCmo3q+trQE5u69kJOGxAE95nWufXbkAfM4rEoI9wQICZlQZ3fXBAi2CuGNHdb0Cqep8eGi9vQLwLv/fn9G5AJbo+dUpmbkCVPkWPEzFuQEppZi5/921ALJsYAQ68bUAfOtJ+R7ZrQM7XzIvg82pAqY5JU7/AakAM4EWhSZdqQLXSRXvbYGpA2tHU3awzakCHzWhz9QNqQFX1FUhV8WlA4tPQoF7EaUASVl9XD59pQGPpcJPdb2lAaM4sYvY/aUA+lekmeg9pQGwzE9wB5GhAIc6Eara4aEBRFT1PD3g3QPfS/0l4gjdAIGMYt7gtOECtMG8DiYU4QGsrNrH7ejlANhhqfuaROUDpNQvLM605QLkoZkF7tDlAPGeC2qXEOUDJJZ7wetg5QIcqLJmKIjlAv4ikQisTOUDSMkQaWpQ5QOeOSYK6PTlA5bmrOfecOkBgnw1PJy5MQBig7Vo4u0tA1u7q0FefS0CVFUVotDJMQLFk7hEm6EpAiwodGUmfSkAAa4p+WXBKQJ8ZDHElAkpAeUQSu+siSkClRIUNycNJQOIX813rgUlAUv+WyzZ4SUDZ29qAmzhJQDa+asH5DklAPR2DuB/pSEAhqO98js5IQGuQbf4+wkhA9JBFJKqoSEBynAgxp5RIQDKAiFCTOkhAEN9kDdkaSEDO0WE/hhBIQPWg8TCPtUdA9YelLlBNSUAqZ7Yx2tZJQHsrg9BBKUpAED1ei28VPECMJof8VSE7QOPQXFhe2TpACDTkD1y4O0DyKIo5L+M5QHM7OnMF7TlA",
          "dtype": "f8"
         }
        }
       ],
       "layout": {
        "annotations": [
         {
          "showarrow": false,
          "text": "Current Price: $0.0021834",
          "x": 0.0021833941719789037,
          "xanchor": "center",
          "xref": "x",
          "y": 1,
          "yanchor": "bottom",
          "yref": "y domain"
         }
        ],
        "height": 600,
        "hovermode": "x unified",
        "shapes": [
         {
          "line": {
           "color": "blue",
           "dash": "dash",
           "width": 2
          },
          "type": "line",
          "x0": 0.0021833941719789037,
          "x1": 0.0021833941719789037,
          "xref": "x",
          "y0": 0,
          "y1": 1,
          "yref": "y domain"
         }
        ],
        "showlegend": true,
        "template": {
         "data": {
          "bar": [
           {
            "error_x": {
             "color": "#2a3f5f"
            },
            "error_y": {
             "color": "#2a3f5f"
            },
            "marker": {
             "line": {
              "color": "white",
              "width": 0.5
             },
             "pattern": {
              "fillmode": "overlay",
              "size": 10,
              "solidity": 0.2
             }
            },
            "type": "bar"
           }
          ],
          "barpolar": [
           {
            "marker": {
             "line": {
              "color": "white",
              "width": 0.5
             },
             "pattern": {
              "fillmode": "overlay",
              "size": 10,
              "solidity": 0.2
             }
            },
            "type": "barpolar"
           }
          ],
          "carpet": [
           {
            "aaxis": {
             "endlinecolor": "#2a3f5f",
             "gridcolor": "#C8D4E3",
             "linecolor": "#C8D4E3",
             "minorgridcolor": "#C8D4E3",
             "startlinecolor": "#2a3f5f"
            },
            "baxis": {
             "endlinecolor": "#2a3f5f",
             "gridcolor": "#C8D4E3",
             "linecolor": "#C8D4E3",
             "minorgridcolor": "#C8D4E3",
             "startlinecolor": "#2a3f5f"
            },
            "type": "carpet"
           }
          ],
          "choropleth": [
           {
            "colorbar": {
             "outlinewidth": 0,
             "ticks": ""
            },
            "type": "choropleth"
           }
          ],
          "contour": [
           {
            "colorbar": {
             "outlinewidth": 0,
             "ticks": ""
            },
            "colorscale": [
             [
              0,
              "#0d0887"
             ],
             [
              0.1111111111111111,
              "#46039f"
             ],
             [
              0.2222222222222222,
              "#7201a8"
             ],
             [
              0.3333333333333333,
              "#9c179e"
             ],
             [
              0.4444444444444444,
              "#bd3786"
             ],
             [
              0.5555555555555556,
              "#d8576b"
             ],
             [
              0.6666666666666666,
              "#ed7953"
             ],
             [
              0.7777777777777778,
              "#fb9f3a"
             ],
             [
              0.8888888888888888,
              "#fdca26"
             ],
             [
              1,
              "#f0f921"
             ]
            ],
            "type": "contour"
           }
          ],
          "contourcarpet": [
           {
            "colorbar": {
             "outlinewidth": 0,
             "ticks": ""
            },
            "type": "contourcarpet"
           }
          ],
          "heatmap": [
           {
            "colorbar": {
             "outlinewidth": 0,
             "ticks": ""
            },
            "colorscale": [
             [
              0,
              "#0d0887"
             ],
             [
              0.1111111111111111,
              "#46039f"
             ],
             [
              0.2222222222222222,
              "#7201a8"
             ],
             [
              0.3333333333333333,
              "#9c179e"
             ],
             [
              0.4444444444444444,
              "#bd3786"
             ],
             [
              0.5555555555555556,
              "#d8576b"
             ],
             [
              0.6666666666666666,
              "#ed7953"
             ],
             [
              0.7777777777777778,
              "#fb9f3a"
             ],
             [
              0.8888888888888888,
              "#fdca26"
             ],
             [
              1,
              "#f0f921"
             ]
            ],
            "type": "heatmap"
           }
          ],
          "histogram": [
           {
            "marker": {
             "pattern": {
              "fillmode": "overlay",
              "size": 10,
              "solidity": 0.2
             }
            },
            "type": "histogram"
           }
          ],
          "histogram2d": [
           {
            "colorbar": {
             "outlinewidth": 0,
             "ticks": ""
            },
            "colorscale": [
             [
              0,
              "#0d0887"
             ],
             [
              0.1111111111111111,
              "#46039f"
             ],
             [
              0.2222222222222222,
              "#7201a8"
             ],
             [
              0.3333333333333333,
              "#9c179e"
             ],
             [
              0.4444444444444444,
              "#bd3786"
             ],
             [
              0.5555555555555556,
              "#d8576b"
             ],
             [
              0.6666666666666666,
              "#ed7953"
             ],
             [
              0.7777777777777778,
              "#fb9f3a"
             ],
             [
              0.8888888888888888,
              "#fdca26"
             ],
             [
              1,
              "#f0f921"
             ]
            ],
            "type": "histogram2d"
           }
          ],
          "histogram2dcontour": [
           {
            "colorbar": {
             "outlinewidth": 0,
             "ticks": ""
            },
            "colorscale": [
             [
              0,
              "#0d0887"
             ],
             [
              0.1111111111111111,
              "#46039f"
             ],
             [
              0.2222222222222222,
              "#7201a8"
             ],
             [
              0.3333333333333333,
              "#9c179e"
             ],
             [
              0.4444444444444444,
              "#bd3786"
             ],
             [
              0.5555555555555556,
              "#d8576b"
             ],
             [
              0.6666666666666666,
              "#ed7953"
             ],
             [
              0.7777777777777778,
              "#fb9f3a"
             ],
             [
              0.8888888888888888,
              "#fdca26"
             ],
             [
              1,
              "#f0f921"
             ]
            ],
            "type": "histogram2dcontour"
           }
          ],
          "mesh3d": [
           {
            "colorbar": {
             "outlinewidth": 0,
             "ticks": ""
            },
            "type": "mesh3d"
           }
          ],
          "parcoords": [
           {
            "line": {
             "colorbar": {
              "outlinewidth": 0,
              "ticks": ""
             }
            },
            "type": "parcoords"
           }
          ],
          "pie": [
           {
            "automargin": true,
            "type": "pie"
           }
          ],
          "scatter": [
           {
            "fillpattern": {
             "fillmode": "overlay",
             "size": 10,
             "solidity": 0.2
            },
            "type": "scatter"
           }
          ],
          "scatter3d": [
           {
            "line": {
             "colorbar": {
              "outlinewidth": 0,
              "ticks": ""
             }
            },
            "marker": {
             "colorbar": {
              "outlinewidth": 0,
              "ticks": ""
             }
            },
            "type": "scatter3d"
           }
          ],
          "scattercarpet": [
           {
            "marker": {
             "colorbar": {
              "outlinewidth": 0,
              "ticks": ""
             }
            },
            "type": "scattercarpet"
           }
          ],
          "scattergeo": [
           {
            "marker": {
             "colorbar": {
              "outlinewidth": 0,
              "ticks": ""
             }
            },
            "type": "scattergeo"
           }
          ],
          "scattergl": [
           {
            "marker": {
             "colorbar": {
              "outlinewidth": 0,
              "ticks": ""
             }
            },
            "type": "scattergl"
           }
          ],
          "scattermap": [
           {
            "marker": {
             "colorbar": {
              "outlinewidth": 0,
              "ticks": ""
             }
            },
            "type": "scattermap"
           }
          ],
          "scattermapbox": [
           {
            "marker": {
             "colorbar": {
              "outlinewidth": 0,
              "ticks": ""
             }
            },
            "type": "scattermapbox"
           }
          ],
          "scatterpolar": [
           {
            "marker": {
             "colorbar": {
              "outlinewidth": 0,
              "ticks": ""
             }
            },
            "type": "scatterpolar"
           }
          ],
          "scatterpolargl": [
           {
            "marker": {
             "colorbar": {
              "outlinewidth": 0,
              "ticks": ""
             }
            },
            "type": "scatterpolargl"
           }
          ],
          "scatterternary": [
           {
            "marker": {
             "colorbar": {
              "outlinewidth": 0,
              "ticks": ""
             }
            },
            "type": "scatterternary"
           }
          ],
          "surface": [
           {
            "colorbar": {
             "outlinewidth": 0,
             "ticks": ""
            },
            "colorscale": [
             [
              0,
              "#0d0887"
             ],
             [
              0.1111111111111111,
              "#46039f"
             ],
             [
              0.2222222222222222,
              "#7201a8"
             ],
             [
              0.3333333333333333,
              "#9c179e"
             ],
             [
              0.4444444444444444,
              "#bd3786"
             ],
             [
              0.5555555555555556,
              "#d8576b"
             ],
             [
              0.6666666666666666,
              "#ed7953"
             ],
             [
              0.7777777777777778,
              "#fb9f3a"
             ],
             [
              0.8888888888888888,
              "#fdca26"
             ],
             [
              1,
              "#f0f921"
             ]
            ],
            "type": "surface"
           }
          ],
          "table": [
           {
            "cells": {
             "fill": {
              "color": "#EBF0F8"
             },
             "line": {
              "color": "white"
             }
            },
            "header": {
             "fill": {
              "color": "#C8D4E3"
             },
             "line": {
              "color": "white"
             }
            },
            "type": "table"
           }
          ]
         },
         "layout": {
          "annotationdefaults": {
           "arrowcolor": "#2a3f5f",
           "arrowhead": 0,
           "arrowwidth": 1
          },
          "autotypenumbers": "strict",
          "coloraxis": {
           "colorbar": {
            "outlinewidth": 0,
            "ticks": ""
           }
          },
          "colorscale": {
           "diverging": [
            [
             0,
             "#8e0152"
            ],
            [
             0.1,
             "#c51b7d"
            ],
            [
             0.2,
             "#de77ae"
            ],
            [
             0.3,
             "#f1b6da"
            ],
            [
             0.4,
             "#fde0ef"
            ],
            [
             0.5,
             "#f7f7f7"
            ],
            [
             0.6,
             "#e6f5d0"
            ],
            [
             0.7,
             "#b8e186"
            ],
            [
             0.8,
             "#7fbc41"
            ],
            [
             0.9,
             "#4d9221"
            ],
            [
             1,
             "#276419"
            ]
           ],
           "sequential": [
            [
             0,
             "#0d0887"
            ],
            [
             0.1111111111111111,
             "#46039f"
            ],
            [
             0.2222222222222222,
             "#7201a8"
            ],
            [
             0.3333333333333333,
             "#9c179e"
            ],
            [
             0.4444444444444444,
             "#bd3786"
            ],
            [
             0.5555555555555556,
             "#d8576b"
            ],
            [
             0.6666666666666666,
             "#ed7953"
            ],
            [
             0.7777777777777778,
             "#fb9f3a"
            ],
            [
             0.8888888888888888,
             "#fdca26"
            ],
            [
             1,
             "#f0f921"
            ]
           ],
           "sequentialminus": [
            [
             0,
             "#0d0887"
            ],
            [
             0.1111111111111111,
             "#46039f"
            ],
            [
             0.2222222222222222,
             "#7201a8"
            ],
            [
             0.3333333333333333,
             "#9c179e"
            ],
            [
             0.4444444444444444,
             "#bd3786"
            ],
            [
             0.5555555555555556,
             "#d8576b"
            ],
            [
             0.6666666666666666,
             "#ed7953"
            ],
            [
             0.7777777777777778,
             "#fb9f3a"
            ],
            [
             0.8888888888888888,
             "#fdca26"
            ],
            [
             1,
             "#f0f921"
            ]
           ]
          },
          "colorway": [
           "#636efa",
           "#EF553B",
           "#00cc96",
           "#ab63fa",
           "#FFA15A",
           "#19d3f3",
           "#FF6692",
           "#B6E880",
           "#FF97FF",
           "#FECB52"
          ],
          "font": {
           "color": "#2a3f5f"
          },
          "geo": {
           "bgcolor": "white",
           "lakecolor": "white",
           "landcolor": "white",
           "showlakes": true,
           "showland": true,
           "subunitcolor": "#C8D4E3"
          },
          "hoverlabel": {
           "align": "left"
          },
          "hovermode": "closest",
          "mapbox": {
           "style": "light"
          },
          "paper_bgcolor": "white",
          "plot_bgcolor": "white",
          "polar": {
           "angularaxis": {
            "gridcolor": "#EBF0F8",
            "linecolor": "#EBF0F8",
            "ticks": ""
           },
           "bgcolor": "white",
           "radialaxis": {
            "gridcolor": "#EBF0F8",
            "linecolor": "#EBF0F8",
            "ticks": ""
           }
          },
          "scene": {
           "xaxis": {
            "backgroundcolor": "white",
            "gridcolor": "#DFE8F3",
            "gridwidth": 2,
            "linecolor": "#EBF0F8",
            "showbackground": true,
            "ticks": "",
            "zerolinecolor": "#EBF0F8"
           },
           "yaxis": {
            "backgroundcolor": "white",
            "gridcolor": "#DFE8F3",
            "gridwidth": 2,
            "linecolor": "#EBF0F8",
            "showbackground": true,
            "ticks": "",
            "zerolinecolor": "#EBF0F8"
           },
           "zaxis": {
            "backgroundcolor": "white",
            "gridcolor": "#DFE8F3",
            "gridwidth": 2,
            "linecolor": "#EBF0F8",
            "showbackground": true,
            "ticks": "",
            "zerolinecolor": "#EBF0F8"
           }
          },
          "shapedefaults": {
           "line": {
            "color": "#2a3f5f"
           }
          },
          "ternary": {
           "aaxis": {
            "gridcolor": "#DFE8F3",
            "linecolor": "#A2B1C6",
            "ticks": ""
           },
           "baxis": {
            "gridcolor": "#DFE8F3",
            "linecolor": "#A2B1C6",
            "ticks": ""
           },
           "bgcolor": "white",
           "caxis": {
            "gridcolor": "#DFE8F3",
            "linecolor": "#A2B1C6",
            "ticks": ""
           }
          },
          "title": {
           "x": 0.05
          },
          "xaxis": {
           "automargin": true,
           "gridcolor": "#EBF0F8",
           "linecolor": "#EBF0F8",
           "ticks": "",
           "title": {
            "standoff": 15
           },
           "zerolinecolor": "#EBF0F8",
           "zerolinewidth": 2
          },
          "yaxis": {
           "automargin": true,
           "gridcolor": "#EBF0F8",
           "linecolor": "#EBF0F8",
           "ticks": "",
           "title": {
            "standoff": 15
           },
           "zerolinecolor": "#EBF0F8",
           "zerolinewidth": 2
          }
         }
        },
        "title": {
         "font": {
          "family": "Arial Bold",
          "size": 18
         },
         "text": "JUP/SOL • 0.15% Fee • Bin Step: 80<br><sub>2025-09-24 03:28 UTC</sub>",
         "x": 0.5,
         "xanchor": "center"
        },
        "width": 1200,
        "xaxis": {
         "gridcolor": "#E0E0E0",
         "gridwidth": 1,
         "showgrid": true,
         "title": {
          "text": "Price (USD)"
         }
        },
        "yaxis": {
         "title": {
          "text": "Liquidity (USD)"
         }
        }
       }
      }
     },
     "metadata": {},
     "output_type": "display_data"
    },
    {
     "name": "stdout",
     "output_type": "stream",
     "text": [
      "  💾 Chart saved: /tmp/meteora_JUP_SOL_0p15pct_bin80_chart.png\n",
      "  📋 Chart stored for Telegram sending\n",
      "\n",
      "🎨 Chart 3/3: 6p6xgHyF7AeE6TZkSmFsko444wqoP15icUSqi2jfGiPN/USDC Pool\n",
      "  ✅ Chart generated for 6p6xgHyF7AeE6TZkSmFsko444wqoP15icUSqi2jfGiPN/USDC\n"
     ]
    },
    {
     "data": {
      "application/vnd.plotly.v1+json": {
       "config": {
        "plotlyServerURL": "https://plot.ly"
       },
       "data": [
        {
         "customdata": {
          "bdata": "UgFTAVQBVQFWAVcBWAFZAVoBWwFcAV0BXgFfAWABYQFiAWMBZAFlAWYBZwFoAWkBagFrAWwBbQFuAW8BcAFxAXIBcwF0AXUBdgF3AXgBeQF6AXsBfAF9AX4BfwGAAYEBggGDAYQBhQGGAYcBiAGJAYoBiwGMAY0BjgGPAZABkQGSAZMBlAGVAZYBlwGYAZkBmgGbAZwBnQGeAZ8BoAGhAaIBowGkAaUBpgGnAagBqQGqAasBrAGtAa4BrwGwAbEBsgGzAbQBtQG2AbcBuAG5AboBuwG8Ab0BvgG/AcABwQHCAcMBxAHFAcYBxwHIAckBygHLAcwBzQHOAc8B0AHRAdIB0wHUAdUB1gHXAdgB2QHaAdsB3AHdAd4B",
          "dtype": "i2"
         },
         "hovertemplate": "Price: $%{x:.8f}<br>Liquidity: $%{y:,.0f}<br>Bin ID: %{customdata}<br><extra></extra>",
         "marker": {
          "color": [
           "red",
           "red",
           "red",
           "red",
           "red",
           "red",
           "red",
           "red",
           "red",
           "red",
           "red",
           "red",
           "red",
           "red",
           "red",
           "red",
           "red",
           "red",
           "red",
           "red",
           "red",
           "red",
           "red",
           "red",
           "red",
           "red",
           "red",
           "red",
           "red",
           "red",
           "red",
           "red",
           "red",
           "red",
           "red",
           "red",
           "red",
           "red",
           "red",
           "red",
           "red",
           "red",
           "red",
           "red",
           "red",
           "red",
           "red",
           "red",
           "red",
           "red",
           "red",
           "red",
           "red",
           "red",
           "red",
           "red",
           "red",
           "red",
           "red",
           "red",
           "red",
           "red",
           "red",
           "red",
           "red",
           "red",
           "red",
           "red",
           "red",
           "yellow",
           "green",
           "green",
           "green",
           "green",
           "green",
           "green",
           "green",
           "green",
           "green",
           "green",
           "green",
           "green",
           "green",
           "green",
           "green",
           "green",
           "green",
           "green",
           "green",
           "green",
           "green",
           "green",
           "green",
           "green",
           "green",
           "green",
           "green",
           "green",
           "green",
           "green",
           "green",
           "green",
           "green",
           "green",
           "green",
           "green",
           "green",
           "green",
           "green",
           "green",
           "green",
           "green",
           "green",
           "green",
           "green",
           "green",
           "green",
           "green",
           "green",
           "green",
           "green",
           "green",
           "green",
           "green",
           "green",
           "green",
           "green",
           "green",
           "green",
           "green",
           "green",
           "green",
           "green",
           "green",
           "green",
           "green",
           "green",
           "green",
           "green",
           "green",
           "green"
          ],
          "opacity": 0.7
         },
         "name": "Liquidity (USD)",
         "type": "bar",
         "x": {
          "bdata": "jg5beDqWFUDUoeAK3LEVQDJlkvugzRVA8a+1d4npFUCzy8mslQUWQKQ+iMjFIRZA/hXl+Bk+FkD8MA9skloWQByMcFAvdxZAz4yu1PCTFkCDTaon17AWQA/qgHjizRZAg8yL9hLrFkBV+mDRaAgXQPxh0zjkJRdA4CjzXIVDF0C4+Q1uTGEXQEpTr5w5fxdAi9egGU2dF0Aum+oVh7sXQI9108Ln2RdABlHhUW/4F0Cse9n0HRcYQHP4wN3zNRhAu9DcPvFUGEBBZrJKFnQYQHzFBzRjkxhAZfjjLdiyGECjWY9rddIYQCrokyA78hhAPpu9gCkSGUDmthrAQDIZQMYg/BKBUhlAa7X1repyGUABnt7FfZMZQHqm0Y86tBlAHJQtQSHVGUCHfJUPMvYZQCcd8TBtFxpADzNt29I4GkBQ03tFY1oaQLvD1KUefBpAEdR1MwWeGkCwN6MlF8AaQKXf57NU4hpAP9UVFr4EG0AIlUaEUycbQEJq2zYVShtAysp9ZgNtG0B7sx9MHpAbQAUF/CBmsxtANOGWHtvWG0C7CL5+ffobQGo5iXtNHhxA54xaT0tCHEDY1940d2YcQJAJDmfRihxALIwrIVqvHEAxpcaeEdQcQKnWuhv4+BxAsUAw1A0eHUCTA5wEU0MdQFCiwOnHaB1Ar2WuwGyOHUDLv8PGQbQdQB2wrTlH2h1ACChoV30AHkDqbz5e5CYeQKKMy4x8TR5AqKX6IUZ0HkCbawddQZseQFh/fn1uwh5AlNk9w83pHkD9MnVuXxEfQNdspr8jOR9AMPql9xphH0CESZtXRYkfQAEvASGjsR9APU+mlTTaH0BCxdb7fAEgQFM0x8T5FSBAqsIKx5AqIECFfjIkQj8gQDtt+v0NVCBAQsJJdvRoIEBuFjOv9X0gQICf9MoRkyBA+2f460ioIEA4h9Q0m70gQNFZS8gI0yBARLpLyZHoIEDqOfFaNv4gQDRahKD2EyFALcZ6vdIpIUBJjHfVyj8hQIJYSwzfVSFAtq70hQ9sIUBYJaBmXIIhQGmgqNLFmCFAvIyX7kuvIUCEGyXf7sUhQDd+OMmu3CFAryLo0YvzIUCp73kehgoiQH+BY9SdISJARGdKGdM4IkAaYAQTJlAiQOeYl+eWZyJATuo6vSV/IkD/Fla60pYiQFAKggWeriJAKheJxYfGIkBIN2chkN4iQMJKSkC39iJA7leSSf0OI0CSy9FkYicjQGO5zbnmPyNA4Bx+cIpYI0B1Gg6xTXEjQP5A3KMwiiNAjst6cTOjI0Cd469CVrwjQHnjdUCZ1SNAF5n7k/zuI0A3iaRmgAgkQNwyCeIkIiRAHVP3L+o7JEBKKXJ60FUkQGu7suvXbyRAExsorgCKJECSqnfsSqQkQHZifdG2viRAbxdMiETZJECDwC089PMkQKK9oxjGDiVAlR5nSbopJUBB6mj60EQlQE9m0lcKYCVAI18FjmZ7JUBBcJzJ5ZYlQPpMazeIsiVA",
          "dtype": "f8"
         },
         "y": {
          "bdata": "MbYQPIgNJkExthA8iA0mQTG2EDyIDSZBMbYQPIgNJkExthA8iA0mQTG2EDyIDSZBCTVDOogNJkEJNUM6iA0mQQk1QzqIDSZBCTVDOogNJkEJNUM6iA0mQQk1QzqIDSZBCTVDOogNJkEJNUM6iA0mQQk1QzqIDSZBCTVDOogNJkEJNUM6iA0mQdRfr0iIDSZBZY16SIgNJkGD3EVIiA0mQRMKEUiIDSZBxJlfBY8NJkEAOPYEjw0mQWraxQSPDSZBNZpcBI8NJkFxOPMDjw0mQTz4iQOPDSZBeJYgA48NJkGXOV3ekQ0mQWL5892RDSZBsB9iA5INJkH/dW4Ckg0mQcGqegGSDSZBnyKHAJINJkHVdagulg0mQaQXtSOWDSZB46lHIpkNJkGci78Fmw0mQaZfIi6cDSZB8YPzIZwNJkHRArS1og0mQZ3UlxWpDSZBfzDwrKgNJkEu5XxBqA0mQYf+CdanDSZBGXCWaqcNJkG8zLBZqA0mQfcA3V+oDSZBaXBb66cNJkExe9l2pw0mQb4tWAKnDSZBHuIfcnMpNkHp8uZgXkUmQZuQ1vBdRSZBIPErjmFFJkHnVZ1N/kcmQZayDOH1RyZBEkpf6PFHJkFgsBtm/EcmQc9Nm9HzRyZBqRH6EetHJkEudZAX4UcmQeer5GsVSCZBRE/KlAtIJkF0mZo0GEgmQaJ+Fw4hSCZBwmwCTLNOJkGQ2O4Guk4mQYNNnTfCTiZBKa7C19lOJkGl8odCkDImQdRhOmhxFiZBRgfBwhr0JUGRnnP0MdglQff0Gz65vCVBRD8NFByhJUELCziHmoUlQZl7zDI9aiVB5xzMTkdPJUE+SZEBJTQlQaOMQaCOGSVBjgFI7rX+JEHXzMyF/+MkQStUmYwpyiRBMAv+JLavJEGxhfYTZJUkQUvuBIL4eyRBCKol5/FhJEHJUn/WCk4kQeQ479tENCRB9Oc2qn0aJEHxoFbv7wAkQUBNGoN05yNB691QqgzOI0G+uf7L2LQjQbgkgOzUmyNB7hb4gLKCI0G7Il+n62kjQUstZB9CUSNBHuLzQVc5I0E7FpXDWiEjQcDu3mkNCSNBPpCKu+PwIkFCv4581tgiQUGFr0vHwSJBMfWbrK6oIkFG8iw1z5AiQTZJ89j2eiJB77QonzJjIkFJauCjs0siQRnRxgGfNSJB85E2eVweIkFpw4+VKwQiQcFTEScN7SFBAd8uPivWIUGvucB+SL8hQex0+DGgqCFBu2TmqBWSIUFtzerkqHshQfh8gPH/xAZBrfYZvZYlM0EhJPtTLQ0zQZa3T7at6TZBnE0xcVSnD0GHxTNV734PQWO5iRR2Vg9BUXCsGXsuD0EbS4b3ygYPQSE8KnSD3w5BDNRwadq3DkGhx2BGvZAOQYBL9loVaQ5BPfjb6lpCDkHW4oV2mxsOQQvjGcxF8w1Bx2D8u5vNDUEQm5MLP6kNQcpb6YTWhA1BELM8m1tfDUHX4YOEVTsNQZAslrAqFw1B",
          "dtype": "f8"
         }
        }
       ],
       "layout": {
        "annotations": [
         {
          "showarrow": false,
          "text": "Current Price: $7.6135",
          "x": 7.613548785136494,
          "xanchor": "center",
          "xref": "x",
          "y": 1,
          "yanchor": "bottom",
          "yref": "y domain"
         }
        ],
        "height": 600,
        "hovermode": "x unified",
        "shapes": [
         {
          "line": {
           "color": "blue",
           "dash": "dash",
           "width": 2
          },
          "type": "line",
          "x0": 7.613548785136494,
          "x1": 7.613548785136494,
          "xref": "x",
          "y0": 0,
          "y1": 1,
          "yref": "y domain"
         }
        ],
        "showlegend": true,
        "template": {
         "data": {
          "bar": [
           {
            "error_x": {
             "color": "#2a3f5f"
            },
            "error_y": {
             "color": "#2a3f5f"
            },
            "marker": {
             "line": {
              "color": "white",
              "width": 0.5
             },
             "pattern": {
              "fillmode": "overlay",
              "size": 10,
              "solidity": 0.2
             }
            },
            "type": "bar"
           }
          ],
          "barpolar": [
           {
            "marker": {
             "line": {
              "color": "white",
              "width": 0.5
             },
             "pattern": {
              "fillmode": "overlay",
              "size": 10,
              "solidity": 0.2
             }
            },
            "type": "barpolar"
           }
          ],
          "carpet": [
           {
            "aaxis": {
             "endlinecolor": "#2a3f5f",
             "gridcolor": "#C8D4E3",
             "linecolor": "#C8D4E3",
             "minorgridcolor": "#C8D4E3",
             "startlinecolor": "#2a3f5f"
            },
            "baxis": {
             "endlinecolor": "#2a3f5f",
             "gridcolor": "#C8D4E3",
             "linecolor": "#C8D4E3",
             "minorgridcolor": "#C8D4E3",
             "startlinecolor": "#2a3f5f"
            },
            "type": "carpet"
           }
          ],
          "choropleth": [
           {
            "colorbar": {
             "outlinewidth": 0,
             "ticks": ""
            },
            "type": "choropleth"
           }
          ],
          "contour": [
           {
            "colorbar": {
             "outlinewidth": 0,
             "ticks": ""
            },
            "colorscale": [
             [
              0,
              "#0d0887"
             ],
             [
              0.1111111111111111,
              "#46039f"
             ],
             [
              0.2222222222222222,
              "#7201a8"
             ],
             [
              0.3333333333333333,
              "#9c179e"
             ],
             [
              0.4444444444444444,
              "#bd3786"
             ],
             [
              0.5555555555555556,
              "#d8576b"
             ],
             [
              0.6666666666666666,
              "#ed7953"
             ],
             [
              0.7777777777777778,
              "#fb9f3a"
             ],
             [
              0.8888888888888888,
              "#fdca26"
             ],
             [
              1,
              "#f0f921"
             ]
            ],
            "type": "contour"
           }
          ],
          "contourcarpet": [
           {
            "colorbar": {
             "outlinewidth": 0,
             "ticks": ""
            },
            "type": "contourcarpet"
           }
          ],
          "heatmap": [
           {
            "colorbar": {
             "outlinewidth": 0,
             "ticks": ""
            },
            "colorscale": [
             [
              0,
              "#0d0887"
             ],
             [
              0.1111111111111111,
              "#46039f"
             ],
             [
              0.2222222222222222,
              "#7201a8"
             ],
             [
              0.3333333333333333,
              "#9c179e"
             ],
             [
              0.4444444444444444,
              "#bd3786"
             ],
             [
              0.5555555555555556,
              "#d8576b"
             ],
             [
              0.6666666666666666,
              "#ed7953"
             ],
             [
              0.7777777777777778,
              "#fb9f3a"
             ],
             [
              0.8888888888888888,
              "#fdca26"
             ],
             [
              1,
              "#f0f921"
             ]
            ],
            "type": "heatmap"
           }
          ],
          "histogram": [
           {
            "marker": {
             "pattern": {
              "fillmode": "overlay",
              "size": 10,
              "solidity": 0.2
             }
            },
            "type": "histogram"
           }
          ],
          "histogram2d": [
           {
            "colorbar": {
             "outlinewidth": 0,
             "ticks": ""
            },
            "colorscale": [
             [
              0,
              "#0d0887"
             ],
             [
              0.1111111111111111,
              "#46039f"
             ],
             [
              0.2222222222222222,
              "#7201a8"
             ],
             [
              0.3333333333333333,
              "#9c179e"
             ],
             [
              0.4444444444444444,
              "#bd3786"
             ],
             [
              0.5555555555555556,
              "#d8576b"
             ],
             [
              0.6666666666666666,
              "#ed7953"
             ],
             [
              0.7777777777777778,
              "#fb9f3a"
             ],
             [
              0.8888888888888888,
              "#fdca26"
             ],
             [
              1,
              "#f0f921"
             ]
            ],
            "type": "histogram2d"
           }
          ],
          "histogram2dcontour": [
           {
            "colorbar": {
             "outlinewidth": 0,
             "ticks": ""
            },
            "colorscale": [
             [
              0,
              "#0d0887"
             ],
             [
              0.1111111111111111,
              "#46039f"
             ],
             [
              0.2222222222222222,
              "#7201a8"
             ],
             [
              0.3333333333333333,
              "#9c179e"
             ],
             [
              0.4444444444444444,
              "#bd3786"
             ],
             [
              0.5555555555555556,
              "#d8576b"
             ],
             [
              0.6666666666666666,
              "#ed7953"
             ],
             [
              0.7777777777777778,
              "#fb9f3a"
             ],
             [
              0.8888888888888888,
              "#fdca26"
             ],
             [
              1,
              "#f0f921"
             ]
            ],
            "type": "histogram2dcontour"
           }
          ],
          "mesh3d": [
           {
            "colorbar": {
             "outlinewidth": 0,
             "ticks": ""
            },
            "type": "mesh3d"
           }
          ],
          "parcoords": [
           {
            "line": {
             "colorbar": {
              "outlinewidth": 0,
              "ticks": ""
             }
            },
            "type": "parcoords"
           }
          ],
          "pie": [
           {
            "automargin": true,
            "type": "pie"
           }
          ],
          "scatter": [
           {
            "fillpattern": {
             "fillmode": "overlay",
             "size": 10,
             "solidity": 0.2
            },
            "type": "scatter"
           }
          ],
          "scatter3d": [
           {
            "line": {
             "colorbar": {
              "outlinewidth": 0,
              "ticks": ""
             }
            },
            "marker": {
             "colorbar": {
              "outlinewidth": 0,
              "ticks": ""
             }
            },
            "type": "scatter3d"
           }
          ],
          "scattercarpet": [
           {
            "marker": {
             "colorbar": {
              "outlinewidth": 0,
              "ticks": ""
             }
            },
            "type": "scattercarpet"
           }
          ],
          "scattergeo": [
           {
            "marker": {
             "colorbar": {
              "outlinewidth": 0,
              "ticks": ""
             }
            },
            "type": "scattergeo"
           }
          ],
          "scattergl": [
           {
            "marker": {
             "colorbar": {
              "outlinewidth": 0,
              "ticks": ""
             }
            },
            "type": "scattergl"
           }
          ],
          "scattermap": [
           {
            "marker": {
             "colorbar": {
              "outlinewidth": 0,
              "ticks": ""
             }
            },
            "type": "scattermap"
           }
          ],
          "scattermapbox": [
           {
            "marker": {
             "colorbar": {
              "outlinewidth": 0,
              "ticks": ""
             }
            },
            "type": "scattermapbox"
           }
          ],
          "scatterpolar": [
           {
            "marker": {
             "colorbar": {
              "outlinewidth": 0,
              "ticks": ""
             }
            },
            "type": "scatterpolar"
           }
          ],
          "scatterpolargl": [
           {
            "marker": {
             "colorbar": {
              "outlinewidth": 0,
              "ticks": ""
             }
            },
            "type": "scatterpolargl"
           }
          ],
          "scatterternary": [
           {
            "marker": {
             "colorbar": {
              "outlinewidth": 0,
              "ticks": ""
             }
            },
            "type": "scatterternary"
           }
          ],
          "surface": [
           {
            "colorbar": {
             "outlinewidth": 0,
             "ticks": ""
            },
            "colorscale": [
             [
              0,
              "#0d0887"
             ],
             [
              0.1111111111111111,
              "#46039f"
             ],
             [
              0.2222222222222222,
              "#7201a8"
             ],
             [
              0.3333333333333333,
              "#9c179e"
             ],
             [
              0.4444444444444444,
              "#bd3786"
             ],
             [
              0.5555555555555556,
              "#d8576b"
             ],
             [
              0.6666666666666666,
              "#ed7953"
             ],
             [
              0.7777777777777778,
              "#fb9f3a"
             ],
             [
              0.8888888888888888,
              "#fdca26"
             ],
             [
              1,
              "#f0f921"
             ]
            ],
            "type": "surface"
           }
          ],
          "table": [
           {
            "cells": {
             "fill": {
              "color": "#EBF0F8"
             },
             "line": {
              "color": "white"
             }
            },
            "header": {
             "fill": {
              "color": "#C8D4E3"
             },
             "line": {
              "color": "white"
             }
            },
            "type": "table"
           }
          ]
         },
         "layout": {
          "annotationdefaults": {
           "arrowcolor": "#2a3f5f",
           "arrowhead": 0,
           "arrowwidth": 1
          },
          "autotypenumbers": "strict",
          "coloraxis": {
           "colorbar": {
            "outlinewidth": 0,
            "ticks": ""
           }
          },
          "colorscale": {
           "diverging": [
            [
             0,
             "#8e0152"
            ],
            [
             0.1,
             "#c51b7d"
            ],
            [
             0.2,
             "#de77ae"
            ],
            [
             0.3,
             "#f1b6da"
            ],
            [
             0.4,
             "#fde0ef"
            ],
            [
             0.5,
             "#f7f7f7"
            ],
            [
             0.6,
             "#e6f5d0"
            ],
            [
             0.7,
             "#b8e186"
            ],
            [
             0.8,
             "#7fbc41"
            ],
            [
             0.9,
             "#4d9221"
            ],
            [
             1,
             "#276419"
            ]
           ],
           "sequential": [
            [
             0,
             "#0d0887"
            ],
            [
             0.1111111111111111,
             "#46039f"
            ],
            [
             0.2222222222222222,
             "#7201a8"
            ],
            [
             0.3333333333333333,
             "#9c179e"
            ],
            [
             0.4444444444444444,
             "#bd3786"
            ],
            [
             0.5555555555555556,
             "#d8576b"
            ],
            [
             0.6666666666666666,
             "#ed7953"
            ],
            [
             0.7777777777777778,
             "#fb9f3a"
            ],
            [
             0.8888888888888888,
             "#fdca26"
            ],
            [
             1,
             "#f0f921"
            ]
           ],
           "sequentialminus": [
            [
             0,
             "#0d0887"
            ],
            [
             0.1111111111111111,
             "#46039f"
            ],
            [
             0.2222222222222222,
             "#7201a8"
            ],
            [
             0.3333333333333333,
             "#9c179e"
            ],
            [
             0.4444444444444444,
             "#bd3786"
            ],
            [
             0.5555555555555556,
             "#d8576b"
            ],
            [
             0.6666666666666666,
             "#ed7953"
            ],
            [
             0.7777777777777778,
             "#fb9f3a"
            ],
            [
             0.8888888888888888,
             "#fdca26"
            ],
            [
             1,
             "#f0f921"
            ]
           ]
          },
          "colorway": [
           "#636efa",
           "#EF553B",
           "#00cc96",
           "#ab63fa",
           "#FFA15A",
           "#19d3f3",
           "#FF6692",
           "#B6E880",
           "#FF97FF",
           "#FECB52"
          ],
          "font": {
           "color": "#2a3f5f"
          },
          "geo": {
           "bgcolor": "white",
           "lakecolor": "white",
           "landcolor": "white",
           "showlakes": true,
           "showland": true,
           "subunitcolor": "#C8D4E3"
          },
          "hoverlabel": {
           "align": "left"
          },
          "hovermode": "closest",
          "mapbox": {
           "style": "light"
          },
          "paper_bgcolor": "white",
          "plot_bgcolor": "white",
          "polar": {
           "angularaxis": {
            "gridcolor": "#EBF0F8",
            "linecolor": "#EBF0F8",
            "ticks": ""
           },
           "bgcolor": "white",
           "radialaxis": {
            "gridcolor": "#EBF0F8",
            "linecolor": "#EBF0F8",
            "ticks": ""
           }
          },
          "scene": {
           "xaxis": {
            "backgroundcolor": "white",
            "gridcolor": "#DFE8F3",
            "gridwidth": 2,
            "linecolor": "#EBF0F8",
            "showbackground": true,
            "ticks": "",
            "zerolinecolor": "#EBF0F8"
           },
           "yaxis": {
            "backgroundcolor": "white",
            "gridcolor": "#DFE8F3",
            "gridwidth": 2,
            "linecolor": "#EBF0F8",
            "showbackground": true,
            "ticks": "",
            "zerolinecolor": "#EBF0F8"
           },
           "zaxis": {
            "backgroundcolor": "white",
            "gridcolor": "#DFE8F3",
            "gridwidth": 2,
            "linecolor": "#EBF0F8",
            "showbackground": true,
            "ticks": "",
            "zerolinecolor": "#EBF0F8"
           }
          },
          "shapedefaults": {
           "line": {
            "color": "#2a3f5f"
           }
          },
          "ternary": {
           "aaxis": {
            "gridcolor": "#DFE8F3",
            "linecolor": "#A2B1C6",
            "ticks": ""
           },
           "baxis": {
            "gridcolor": "#DFE8F3",
            "linecolor": "#A2B1C6",
            "ticks": ""
           },
           "bgcolor": "white",
           "caxis": {
            "gridcolor": "#DFE8F3",
            "linecolor": "#A2B1C6",
            "ticks": ""
           }
          },
          "title": {
           "x": 0.05
          },
          "xaxis": {
           "automargin": true,
           "gridcolor": "#EBF0F8",
           "linecolor": "#EBF0F8",
           "ticks": "",
           "title": {
            "standoff": 15
           },
           "zerolinecolor": "#EBF0F8",
           "zerolinewidth": 2
          },
          "yaxis": {
           "automargin": true,
           "gridcolor": "#EBF0F8",
           "linecolor": "#EBF0F8",
           "ticks": "",
           "title": {
            "standoff": 15
           },
           "zerolinecolor": "#EBF0F8",
           "zerolinewidth": 2
          }
         }
        },
        "title": {
         "font": {
          "family": "Arial Bold",
          "size": 18
         },
         "text": "6p6xgHyF7AeE6TZkSmFsko444wqoP15icUSqi2jfGiPN/USDC • 0.10% Fee • Bin Step: 50<br><sub>2025-09-24 03:28 UTC</sub>",
         "x": 0.5,
         "xanchor": "center"
        },
        "width": 1200,
        "xaxis": {
         "gridcolor": "#E0E0E0",
         "gridwidth": 1,
         "showgrid": true,
         "title": {
          "text": "Price (USD)"
         }
        },
        "yaxis": {
         "title": {
          "text": "Liquidity (USD)"
         }
        }
       }
      }
     },
     "metadata": {},
     "output_type": "display_data"
    },
    {
     "name": "stdout",
     "output_type": "stream",
     "text": [
      "  💾 Chart saved: /tmp/meteora_6p6xgHyF7AeE6TZkSmFsko444wqoP15icUSqi2jfGiPN_USDC_0p10pct_bin50_chart.png\n",
      "  📋 Chart stored for Telegram sending\n",
      "\n",
      "✅ Chart generation completed for 3 pool(s)\n",
      "📋 3 charts stored for Telegram sending\n"
     ]
    }
   ],
   "source": [
    "# 🎨 Generate Liquidity Distribution Charts with Token Symbols (Save for Later)\n",
    "if all_pool_analyses:\n",
    "    print(\"📊 Generating liquidity distribution charts with token symbols...\\n\")\n",
    "    \n",
    "    # Clear any existing chart files from previous runs\n",
    "    telegram_reports['chart_files'] = []\n",
    "    \n",
    "    for i, analysis in enumerate(all_pool_analyses, 1):\n",
    "        print(f\"🎨 Chart {i}/{len(all_pool_analyses)}: {analysis['pool_name']}\")\n",
    "        \n",
    "        # Use cached token symbols from initial pool fetching\n",
    "        base_symbol = analysis['base_token']\n",
    "        quote_symbol = analysis['quote_token']\n",
    "        \n",
    "        # Use cache if available and token symbols are still addresses\n",
    "        if analysis.get('base_token_address') and len(base_symbol) > 10:\n",
    "            if analysis['base_token_address'] in token_cache:\n",
    "                cached_info = token_cache[analysis['base_token_address']]\n",
    "                if cached_info and 'symbol' in cached_info:\n",
    "                    base_symbol = cached_info['symbol']\n",
    "                    \n",
    "        if analysis.get('quote_token_address') and len(quote_symbol) > 10:\n",
    "            if analysis['quote_token_address'] in token_cache:\n",
    "                cached_info = token_cache[analysis['quote_token_address']]\n",
    "                if cached_info and 'symbol' in cached_info:\n",
    "                    quote_symbol = cached_info['symbol']\n",
    "        \n",
    "        # Update analysis with proper symbols for chart generation\n",
    "        analysis_with_symbols = analysis.copy()\n",
    "        analysis_with_symbols['base_token'] = base_symbol\n",
    "        analysis_with_symbols['quote_token'] = quote_symbol\n",
    "        analysis_with_symbols['token_pair'] = f\"{base_symbol}/{quote_symbol}\"\n",
    "        \n",
    "        # Create chart for this pool with proper token symbols\n",
    "        fig = create_liquidity_chart(analysis_with_symbols)\n",
    "        \n",
    "        if fig:\n",
    "            print(f\"  ✅ Chart generated for {analysis_with_symbols['token_pair']}\")\n",
    "            fig.show()\n",
    "            \n",
    "            # Save chart as PNG with token pair, fee tier, and bin step in filename\n",
    "            safe_pair_name = analysis_with_symbols['token_pair'].replace('/', '_')\n",
    "            fee_tier = f\"{analysis['fee_pct']:.2f}\".replace('.', 'p')  # 0.04 -> 0p04\n",
    "            bin_step = analysis['bin_step']\n",
    "            chart_filename = f\"/tmp/meteora_{safe_pair_name}_{fee_tier}pct_bin{bin_step}_chart.png\"\n",
    "            \n",
    "            try:\n",
    "                fig.write_image(chart_filename, width=1200, height=800, scale=2)\n",
    "                print(f\"  💾 Chart saved: {chart_filename}\")\n",
    "                \n",
    "                # Store chart info for Telegram sending later with enhanced caption\n",
    "                chart_info = {\n",
    "                    'filename': chart_filename,\n",
    "                    'pool_name': analysis['pool_name'],\n",
    "                    'token_pair': analysis_with_symbols['token_pair'],\n",
    "                    'caption': f\"\"\"📊 <b>Liquidity Distribution Chart</b>\n",
    "🏊 Pool: {analysis_with_symbols['token_pair']} • {analysis['fee_pct']:.2f}% Fee • Bin:{analysis['bin_step']}\n",
    "💰 Total Liquidity: {format_number(analysis['total_liquidity_usd'], is_currency=True)}\n",
    "📍 Current Price: ${analysis['current_price']:.4f}\n",
    "🎯 Concentration: {analysis['liquidity_concentration']:.1f}% near price\n",
    "⚙️ Active Bin: {analysis['active_bin_id']} | Total Bins: {analysis['num_bins']}\n",
    "\n",
    "<i>Generated by QuantsLab Pool Analyzer</i>\"\"\"\n",
    "                }\n",
    "                telegram_reports['chart_files'].append(chart_info)\n",
    "                print(f\"  📋 Chart stored for Telegram sending\")\n",
    "                        \n",
    "            except ImportError as e:\n",
    "                print(f\"  ⚠️ Kaleido not installed: {e}\")\n",
    "                print(\"  💡 Install with: pip install kaleido\")\n",
    "                \n",
    "                # Save as HTML fallback\n",
    "                html_filename = chart_filename.replace('.png', '.html')\n",
    "                fig.write_html(html_filename)\n",
    "                print(f\"  📄 Saved as HTML: {html_filename}\")\n",
    "                \n",
    "            except Exception as e:\n",
    "                print(f\"  ❌ Error saving chart: {e}\")\n",
    "        else:\n",
    "            print(f\"  ⚠️ No bin data available for {analysis['pool_name']}\")\n",
    "            \n",
    "        print()  # Empty line between pools\n",
    "        \n",
    "    print(f\"✅ Chart generation completed for {len(all_pool_analyses)} pool(s)\")\n",
    "    print(f\"📋 {len(telegram_reports['chart_files'])} charts stored for Telegram sending\")\n",
    "else:\n",
    "    print(\"⚠️ No pool analyses available for chart generation\")"
   ]
  },
  {
   "cell_type": "code",
   "execution_count": 194,
   "metadata": {},
   "outputs": [
    {
     "name": "stdout",
     "output_type": "stream",
     "text": [
      "📋 Generating detailed CSV reports with token symbols...\n",
      "\n",
      "📄 CSV Report 1/3: SOL/USDC Pool\n",
      "  ✅ CSV saved: /tmp/meteora_SOL_USDC_0p04pct_bin100_20250924_0329.csv\n",
      "  📊 Records: 141\n",
      "  📋 CSV Preview (top 3 rows):\n",
      "    SOL/USDC 0.04% Bin100 | Bin -225: $106.58 | $158.94 (0.27%)\n",
      "    SOL/USDC 0.04% Bin100 | Bin -224: $107.65 | $163.19 (0.28%)\n",
      "    SOL/USDC 0.04% Bin100 | Bin -223: $108.73 | $180.27 (0.31%)\n",
      "  📋 CSV stored for Telegram sending\n",
      "\n",
      "📄 CSV Report 2/3: JUP/SOL Pool\n",
      "  ✅ CSV saved: /tmp/meteora_JUP_SOL_0p15pct_bin80_20250924_0329.csv\n",
      "  📊 Records: 141\n",
      "  📋 CSV Preview (top 3 rows):\n",
      "    JUP/SOL 0.15% Bin80 | Bin 28: $0.00 | $0.00 (0.00%)\n",
      "    JUP/SOL 0.15% Bin80 | Bin 29: $0.00 | $0.00 (0.00%)\n",
      "    JUP/SOL 0.15% Bin80 | Bin 30: $0.00 | $0.06 (0.00%)\n",
      "  📋 CSV stored for Telegram sending\n",
      "\n",
      "📄 CSV Report 3/3: 6p6xgHyF7AeE6TZkSmFsko444wqoP15icUSqi2jfGiPN/USDC Pool\n",
      "  ✅ CSV saved: /tmp/meteora_6p6xgHyF7AeE6TZkSmFsko444wqoP15icUSqi2jfGiPN_USDC_0p10pct_bin50_20250924_0329.csv\n",
      "  📊 Records: 141\n",
      "  📋 CSV Preview (top 3 rows):\n",
      "    6p6xgHyF7AeE6TZkSmFsko444wqoP15icUSqi2jfGiPN/USDC 0.10% Bin50 | Bin 338: $5.40 | $722.63K (0.79%)\n",
      "    6p6xgHyF7AeE6TZkSmFsko444wqoP15icUSqi2jfGiPN/USDC 0.10% Bin50 | Bin 339: $5.42 | $722.63K (0.79%)\n",
      "    6p6xgHyF7AeE6TZkSmFsko444wqoP15icUSqi2jfGiPN/USDC 0.10% Bin50 | Bin 340: $5.45 | $722.63K (0.79%)\n",
      "  📋 CSV stored for Telegram sending\n",
      "\n",
      "✅ CSV report generation completed for all pools\n",
      "📋 3 CSV files stored for Telegram sending\n"
     ]
    }
   ],
   "source": [
    "# 📊 Generate CSV Reports with Token Symbols (Save for Later)\n",
    "if all_pool_analyses:\n",
    "    print(\"📋 Generating detailed CSV reports with token symbols...\\n\")\n",
    "    \n",
    "    # Clear any existing CSV files from previous runs\n",
    "    telegram_reports['csv_files'] = []\n",
    "    \n",
    "    for i, analysis in enumerate(all_pool_analyses, 1):\n",
    "        if 'bins_df' in analysis and not analysis['bins_df'].empty:\n",
    "            print(f\"📄 CSV Report {i}/{len(all_pool_analyses)}: {analysis['pool_name']}\")\n",
    "            \n",
    "            # Use cached token symbols from initial pool fetching\n",
    "            base_symbol = analysis['base_token']\n",
    "            quote_symbol = analysis['quote_token']\n",
    "            \n",
    "            # Use cache if available and token symbols are still addresses\n",
    "            if analysis.get('base_token_address') and len(base_symbol) > 10:\n",
    "                if analysis['base_token_address'] in token_cache:\n",
    "                    cached_info = token_cache[analysis['base_token_address']]\n",
    "                    if cached_info and 'symbol' in cached_info:\n",
    "                        base_symbol = cached_info['symbol']\n",
    "                        \n",
    "            if analysis.get('quote_token_address') and len(quote_symbol) > 10:\n",
    "                if analysis['quote_token_address'] in token_cache:\n",
    "                    cached_info = token_cache[analysis['quote_token_address']]\n",
    "                    if cached_info and 'symbol' in cached_info:\n",
    "                        quote_symbol = cached_info['symbol']\n",
    "            \n",
    "            token_pair = f\"{base_symbol}/{quote_symbol}\"\n",
    "            \n",
    "            # Prepare detailed DataFrame\n",
    "            detailed_df = analysis['bins_df'].copy()\n",
    "            \n",
    "            # Add calculated fields with proper token symbols, fee tier, and bin step\n",
    "            detailed_df['token_pair'] = token_pair\n",
    "            detailed_df['base_token_symbol'] = base_symbol\n",
    "            detailed_df['quote_token_symbol'] = quote_symbol\n",
    "            detailed_df['fee_pct'] = analysis['fee_pct']\n",
    "            detailed_df['bin_step'] = analysis['bin_step']\n",
    "            detailed_df['pool_name'] = analysis['pool_name']\n",
    "            detailed_df['pool_address'] = analysis['address']\n",
    "            detailed_df['base_token_address'] = analysis.get('base_token_address', '')\n",
    "            detailed_df['quote_token_address'] = analysis.get('quote_token_address', '')\n",
    "            detailed_df['current_price'] = analysis['current_price']\n",
    "            detailed_df['is_active_bin'] = detailed_df['binId'] == analysis['active_bin_id']\n",
    "            detailed_df['distance_from_price'] = ((detailed_df['price'] - analysis['current_price']) / analysis['current_price'] * 100)\n",
    "            detailed_df['total_value_usd'] = (\n",
    "                detailed_df['baseTokenAmount'] * analysis['current_price'] + \n",
    "                detailed_df['quoteTokenAmount']\n",
    "            )\n",
    "            detailed_df['liquidity_share_pct'] = (detailed_df['total_value_usd'] / detailed_df['total_value_usd'].sum() * 100)\n",
    "            detailed_df['report_timestamp'] = datetime.now(timezone.utc).strftime('%Y-%m-%d %H:%M:%S UTC')\n",
    "            \n",
    "            # Reorder columns with token information, fee tier, and bin step first\n",
    "            column_order = [\n",
    "                'token_pair', 'base_token_symbol', 'quote_token_symbol', 'fee_pct', 'bin_step',\n",
    "                'pool_name', 'pool_address', 'base_token_address', 'quote_token_address',\n",
    "                'binId', 'price', 'is_active_bin',\n",
    "                'baseTokenAmount', 'quoteTokenAmount', 'total_value_usd',\n",
    "                'liquidity_share_pct', 'distance_from_price', 'current_price',\n",
    "                'report_timestamp'\n",
    "            ]\n",
    "            \n",
    "            detailed_df = detailed_df[column_order]\n",
    "            \n",
    "            # Save to CSV with token pair, fee tier, and bin step in filename\n",
    "            timestamp_str = datetime.now(timezone.utc).strftime(\"%Y%m%d_%H%M\")\n",
    "            safe_pair_name = token_pair.replace('/', '_')\n",
    "            fee_tier = f\"{analysis['fee_pct']:.2f}\".replace('.', 'p')  # 0.04 -> 0p04\n",
    "            bin_step = analysis['bin_step']\n",
    "            csv_filename = f\"/tmp/meteora_{safe_pair_name}_{fee_tier}pct_bin{bin_step}_{timestamp_str}.csv\"\n",
    "            detailed_df.to_csv(csv_filename, index=False, float_format='%.8f')\n",
    "            \n",
    "            print(f\"  ✅ CSV saved: {csv_filename}\")\n",
    "            print(f\"  📊 Records: {len(detailed_df)}\")\n",
    "            \n",
    "            # Display sample data with token symbols, fee tier, and bin step\n",
    "            print(f\"  📋 CSV Preview (top 3 rows):\")\n",
    "            display_df = detailed_df.head(3)[['token_pair', 'fee_pct', 'bin_step', 'binId', 'price', 'total_value_usd', 'liquidity_share_pct']]\n",
    "            for _, row in display_df.iterrows():\n",
    "                print(f\"    {row['token_pair']} {row['fee_pct']:.2f}% Bin{row['bin_step']} | Bin {row['binId']}: ${row['price']:.2f} | {format_number(row['total_value_usd'], is_currency=True)} ({row['liquidity_share_pct']:.2f}%)\")\n",
    "            \n",
    "            # Store CSV info for Telegram sending later with enhanced caption\n",
    "            csv_info = {\n",
    "                'filename': csv_filename,\n",
    "                'pool_name': analysis['pool_name'],\n",
    "                'token_pair': token_pair,\n",
    "                'caption': f\"\"\"📋 <b>Detailed Pool Data Export</b>\n",
    "🏊 Pool: {token_pair} • {analysis['fee_pct']:.2f}% Fee • Bin:{analysis['bin_step']}\n",
    "📅 {datetime.now(timezone.utc).strftime('%Y-%m-%d %H:%M UTC')}\n",
    "\n",
    "📊 Dataset Summary:\n",
    "• Total Bins: {len(detailed_df)}\n",
    "• Active Bin: {analysis['active_bin_id']}\n",
    "• Price Range: ${detailed_df['price'].min():.2f} - ${detailed_df['price'].max():.2f}\n",
    "• Total Liquidity: {format_number(analysis['total_liquidity_usd'], is_currency=True)}\n",
    "• Fee Tier: {analysis['fee_pct']:.2f}% | Bin Step: {analysis['bin_step']}\n",
    "\n",
    "🔍 <i>Complete bin-level data for {base_symbol}/{quote_symbol} analysis</i>\"\"\"\n",
    "            }\n",
    "            telegram_reports['csv_files'].append(csv_info)\n",
    "            print(f\"  📋 CSV stored for Telegram sending\")\n",
    "            \n",
    "            print()  # Empty line between pools\n",
    "            \n",
    "        else:\n",
    "            print(f\"  ⚠️ No bin data available for {analysis['pool_name']}\")\n",
    "    \n",
    "    print(f\"✅ CSV report generation completed for all pools\")\n",
    "    print(f\"📋 {len(telegram_reports['csv_files'])} CSV files stored for Telegram sending\")\n",
    "else:\n",
    "    print(\"⚠️ No pool analyses available for CSV export\")"
   ]
  },
  {
   "cell_type": "code",
   "execution_count": 195,
   "metadata": {},
   "outputs": [
    {
     "name": "stdout",
     "output_type": "stream",
     "text": [
      "🚀 SENDING ALL REPORTS TO TELEGRAM\n",
      "============================================================\n",
      "📊 Sending 7 items to Telegram:\n",
      "  • 1 text report\n",
      "  • 3 chart files\n",
      "  • 3 CSV files\n",
      "\n",
      "1️⃣ Sending text report...\n",
      "  ✅ Text report sent successfully\n",
      "\n",
      "2️⃣ Sending chart files...\n",
      "  📊 Chart 1/3: SOL/USDC Pool\n",
      "    ✅ Chart sent successfully\n",
      "  📊 Chart 2/3: JUP/SOL Pool\n",
      "    ✅ Chart sent successfully\n",
      "  📊 Chart 3/3: 6p6xgHyF7AeE6TZkSmFsko444wqoP15icUSqi2jfGiPN/USDC Pool\n",
      "    ✅ Chart sent successfully\n",
      "\n",
      "3️⃣ Sending CSV files...\n",
      "  📄 CSV 1/3: SOL/USDC Pool\n",
      "    ✅ CSV sent successfully\n",
      "  📄 CSV 2/3: JUP/SOL Pool\n",
      "    ✅ CSV sent successfully\n",
      "  📄 CSV 3/3: 6p6xgHyF7AeE6TZkSmFsko444wqoP15icUSqi2jfGiPN/USDC Pool\n",
      "    ✅ CSV sent successfully\n",
      "\n",
      "📊 TELEGRAM SENDING SUMMARY\n",
      "========================================\n",
      "✅ Successfully sent: 7/7\n",
      "❌ Failed to send: 0/7\n",
      "\n",
      "🎉 Check your Telegram for 7 new messages!\n"
     ]
    }
   ],
   "source": [
    "# 📤 Send All Reports to Telegram\n",
    "print(\"🚀 SENDING ALL REPORTS TO TELEGRAM\")\n",
    "print(\"=\" * 60)\n",
    "\n",
    "telegram_notifier = notification_manager.get_notifier('telegram')\n",
    "if not telegram_notifier:\n",
    "    print(\"❌ Telegram notifier not configured\")\n",
    "    print(\"💡 Configure Telegram in .env to send reports\")\n",
    "else:\n",
    "    # Summary of what will be sent\n",
    "    text_count = 1 if telegram_reports['report_message'] else 0\n",
    "    chart_count = len(telegram_reports['chart_files'])\n",
    "    csv_count = len(telegram_reports['csv_files'])\n",
    "    total_items = text_count + chart_count + csv_count\n",
    "    \n",
    "    print(f\"📊 Sending {total_items} items to Telegram:\")\n",
    "    print(f\"  • {text_count} text report\")\n",
    "    print(f\"  • {chart_count} chart files\")\n",
    "    print(f\"  • {csv_count} CSV files\")\n",
    "    print()\n",
    "    \n",
    "    sent_count = 0\n",
    "    failed_count = 0\n",
    "    \n",
    "    # Send text report first\n",
    "    if telegram_reports['report_message']:\n",
    "        print(\"1️⃣ Sending text report...\")\n",
    "        try:\n",
    "            notification_msg = NotificationMessage(\n",
    "                title=\"Meteora Pool Analysis\",\n",
    "                message=telegram_reports['report_message'],\n",
    "                level=\"info\"\n",
    "            )\n",
    "            \n",
    "            if await telegram_notifier.send_notification(notification_msg):\n",
    "                print(\"  ✅ Text report sent successfully\")\n",
    "                sent_count += 1\n",
    "            else:\n",
    "                print(\"  ❌ Failed to send text report\")\n",
    "                failed_count += 1\n",
    "        except Exception as e:\n",
    "            print(f\"  ❌ Error sending text report: {e}\")\n",
    "            failed_count += 1\n",
    "        print()\n",
    "    \n",
    "    # Send chart files\n",
    "    if telegram_reports['chart_files']:\n",
    "        print(\"2️⃣ Sending chart files...\")\n",
    "        for i, chart_info in enumerate(telegram_reports['chart_files'], 1):\n",
    "            print(f\"  📊 Chart {i}/{chart_count}: {chart_info['pool_name']}\")\n",
    "            try:\n",
    "                if await telegram_notifier.send_photo(chart_info['filename'], chart_info['caption']):\n",
    "                    print(f\"    ✅ Chart sent successfully\")\n",
    "                    sent_count += 1\n",
    "                else:\n",
    "                    print(f\"    ❌ Failed to send chart\")\n",
    "                    failed_count += 1\n",
    "            except Exception as e:\n",
    "                print(f\"    ❌ Error sending chart: {e}\")\n",
    "                failed_count += 1\n",
    "        print()\n",
    "    \n",
    "    # Send CSV files\n",
    "    if telegram_reports['csv_files']:\n",
    "        print(\"3️⃣ Sending CSV files...\")\n",
    "        for i, csv_info in enumerate(telegram_reports['csv_files'], 1):\n",
    "            print(f\"  📄 CSV {i}/{csv_count}: {csv_info['pool_name']}\")\n",
    "            try:\n",
    "                if await telegram_notifier.send_document(csv_info['filename'], csv_info['caption']):\n",
    "                    print(f\"    ✅ CSV sent successfully\")\n",
    "                    sent_count += 1\n",
    "                else:\n",
    "                    print(f\"    ❌ Failed to send CSV\")\n",
    "                    failed_count += 1\n",
    "            except Exception as e:\n",
    "                print(f\"    ❌ Error sending CSV: {e}\")\n",
    "                failed_count += 1\n",
    "        print()\n",
    "    \n",
    "    # Final summary\n",
    "    print(\"📊 TELEGRAM SENDING SUMMARY\")\n",
    "    print(\"=\" * 40)\n",
    "    print(f\"✅ Successfully sent: {sent_count}/{total_items}\")\n",
    "    print(f\"❌ Failed to send: {failed_count}/{total_items}\")\n",
    "    \n",
    "    if sent_count > 0:\n",
    "        print(f\"\\n🎉 Check your Telegram for {sent_count} new messages!\")\n",
    "    \n",
    "    if failed_count > 0:\n",
    "        print(f\"\\n⚠️ {failed_count} items failed to send - check error messages above\")"
   ]
  },
  {
   "cell_type": "code",
   "execution_count": 197,
   "metadata": {},
   "outputs": [
    {
     "name": "stdout",
     "output_type": "stream",
     "text": [
      "✅ Meteora pool analysis completed successfully\n",
      "\n",
      "\n",
      "📊 EXECUTION SUMMARY\n",
      "==================================================\n",
      "🌐 Data Source: Gateway API (http://localhost:15888)\n",
      "📡 Using: Hummingbot Gateway HTTP Client\n",
      "🔗 Network: Solana mainnet-beta\n",
      "🏊 Pool Analyzed: SOL-USDC\n",
      "💰 Total Liquidity: $64.74K\n",
      "📤 Reports Sent: ✅ Yes\n",
      "📊 Charts Generated: ✅ Yes\n",
      "📋 CSV Exports: ✅ Yes\n",
      "\n",
      "🎉 Meteora pool analysis complete!\n",
      "📱 Check your Telegram for delivered reports, charts, and data files\n"
     ]
    }
   ],
   "source": [
    "# 🔒 Cleanup and Execution Summary\n",
    "print(\"✅ Meteora pool analysis completed successfully\\n\")\n",
    "\n",
    "# Clean up temporary files (optional)\n",
    "import os\n",
    "import glob\n",
    "\n",
    "temp_files = glob.glob('/tmp/meteora_*.png') + glob.glob('/tmp/meteora_*.html') + glob.glob('/tmp/meteora_*.csv')\n",
    "cleanup_count = 0\n",
    "\n",
    "for file_path in temp_files:\n",
    "    try:\n",
    "        # Keep the most recent files\n",
    "        file_age = datetime.now() - datetime.fromtimestamp(os.path.getctime(file_path))\n",
    "        if file_age.days > 0:  # Clean files older than 1 day\n",
    "            os.remove(file_path)\n",
    "            cleanup_count += 1\n",
    "            print(f\"🗑️ Cleaned up: {os.path.basename(file_path)}\")\n",
    "    except Exception as e:\n",
    "        print(f\"⚠️ Could not remove {file_path}: {e}\")\n",
    "\n",
    "if cleanup_count > 0:\n",
    "    print(f\"\\n🧹 Cleaned up {cleanup_count} old temporary files\")\n",
    "\n",
    "# Execution Summary\n",
    "print(\"\\n📊 EXECUTION SUMMARY\")\n",
    "print(\"=\" * 50)\n",
    "print(f\"🌐 Data Source: Gateway API ({GATEWAY_URL})\")\n",
    "print(f\"📡 Using: Hummingbot Gateway HTTP Client\")\n",
    "print(f\"🔗 Network: Solana {NETWORK}\")\n",
    "\n",
    "if 'pool_analysis' in locals() and pool_analysis:\n",
    "    print(f\"🏊 Pool Analyzed: {pool_analysis['pool_name']}\")\n",
    "    print(f\"💰 Total Liquidity: {format_number(pool_analysis['total_liquidity_usd'], is_currency=True)}\")\n",
    "    print(f\"📤 Reports Sent: {'✅ Yes' if enabled_notifiers else '❌ No notifiers configured'}\")\n",
    "    print(f\"📊 Charts Generated: ✅ Yes\")\n",
    "    print(f\"📋 CSV Exports: ✅ Yes\")\n",
    "elif 'all_pool_analyses' in locals() and all_pool_analyses:\n",
    "    total_liquidity = sum(a['total_liquidity_usd'] for a in all_pool_analyses)\n",
    "    print(f\"🏊 Pools Analyzed: {len(all_pool_analyses)}\")\n",
    "    print(f\"💰 Total Liquidity: {format_number(total_liquidity, is_currency=True)}\")\n",
    "    print(f\"📤 Reports Sent: {'✅ Yes' if enabled_notifiers else '❌ No notifiers configured'}\")\n",
    "else:\n",
    "    print(f\"⚠️ No pools analyzed - check Gateway connection\")\n",
    "\n",
    "print(\"\\n🎉 Meteora pool analysis complete!\")\n",
    "\n",
    "if 'telegram' in enabled_notifiers:\n",
    "    print(\"📱 Check your Telegram for delivered reports, charts, and data files\")\n",
    "else:\n",
    "    print(\"💡 Configure Telegram in .env to receive automated reports\")"
   ]
  },
  {
   "cell_type": "code",
   "execution_count": null,
   "metadata": {},
   "outputs": [],
   "source": []
  }
 ],
 "metadata": {
  "kernelspec": {
   "display_name": "Python 3",
   "language": "python",
   "name": "python3"
  },
  "language_info": {
   "codemirror_mode": {
    "name": "ipython",
    "version": 3
   },
   "file_extension": ".py",
   "mimetype": "text/x-python",
   "name": "python",
   "nbconvert_exporter": "python",
   "pygments_lexer": "ipython3",
   "version": "3.9.0"
  }
 },
 "nbformat": 4,
 "nbformat_minor": 4
}
