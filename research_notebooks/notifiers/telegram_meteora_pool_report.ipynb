{
 "cells": [
  {
   "cell_type": "markdown",
   "metadata": {},
   "source": [
    "# Telegram Meteora Pool Analyzer Report Generator\n",
    "\n",
    "## 📊 Overview\n",
    "This notebook generates automated liquidity pool analysis reports using Gateway's Meteora CLMM endpoints and distributes them via Telegram. It fetches real-time pool data, analyzes liquidity distribution, price movements, and generates comprehensive reports with charts.\n",
    "\n",
    "## 📋 Prerequisites\n",
    "- Gateway service running locally (default: http://localhost:15888)\n",
    "- Telegram bot configuration (bot token and chat ID in .env)\n",
    "\n",
    "## 📈 Expected Outputs\n",
    "- Real-time pool metrics and liquidity analysis\n",
    "- Liquidity distribution charts showing bin concentrations\n",
    "- CSV reports with detailed bin data"
   ]
  },
  {
   "cell_type": "code",
   "execution_count": 208,
   "metadata": {},
   "outputs": [
    {
     "name": "stdout",
     "output_type": "stream",
     "text": [
      "✅ GatewayDataSource imported successfully\n",
      "✅ Libraries imported successfully\n",
      "📊 Services available: GatewayDataSource (QuantsLab), Notification system\n",
      "⚙️ Environment variables loaded from .env\n"
     ]
    }
   ],
   "source": [
    "# 🔌 Initialize Core Services and Libraries\n",
    "\n",
    "## ⚙️ Configuration and Gateway API Client\n",
    "\n",
    "import warnings\n",
    "warnings.filterwarnings(\"ignore\")\n",
    "\n",
    "import sys\n",
    "import os\n",
    "import pandas as pd\n",
    "import numpy as np\n",
    "import plotly.graph_objects as go\n",
    "from plotly.subplots import make_subplots\n",
    "from datetime import datetime, timezone, timedelta\n",
    "from dotenv import load_dotenv\n",
    "from typing import Dict, List, Optional, Any\n",
    "import json\n",
    "\n",
    "# Add the project root to the path to ensure imports work\n",
    "project_root = os.path.dirname(os.path.dirname(os.path.dirname(os.path.abspath('__file__'))))\n",
    "if project_root not in sys.path:\n",
    "    sys.path.insert(0, project_root)\n",
    "\n",
    "# Import QuantsLab Gateway Data Source (our new utility class)\n",
    "try:\n",
    "    from core.data_sources.gateway import GatewayDataSource\n",
    "    print(\"✅ GatewayDataSource imported successfully\")\n",
    "    FALLBACK_MODE = False\n",
    "except ImportError as e:\n",
    "    print(f\"❌ Failed to import GatewayDataSource: {e}\")\n",
    "    print(\"💡 Falling back to direct Hummingbot imports...\")\n",
    "    FALLBACK_MODE = True\n",
    "    \n",
    "    # Fallback to direct imports\n",
    "    from hummingbot.core.gateway.gateway_http_client import GatewayHttpClient\n",
    "    from hummingbot.client.config.client_config_map import GatewayConfigMap\n",
    "    \n",
    "    # Create a minimal fallback class with essential methods\n",
    "    class GatewayDataSource:\n",
    "        def __init__(self, gateway_url: str, network: str):\n",
    "            self.gateway_url = gateway_url\n",
    "            self.network = network\n",
    "            self.gateway_config = GatewayConfigMap()\n",
    "            self.gateway_config.gateway_api_host = gateway_url.replace('http://', '').replace('https://', '').split(':')[0]\n",
    "            self.gateway_config.gateway_api_port = str(gateway_url.split(':')[-1])\n",
    "            self.gateway_config.gateway_use_ssl = False\n",
    "            self.client = GatewayHttpClient.get_instance(self.gateway_config)\n",
    "            self.token_cache = {}\n",
    "        \n",
    "        async def ping_gateway(self):\n",
    "            return await self.client.ping_gateway()\n",
    "        \n",
    "        async def fetch_token_info(self, token_address: str, network: Optional[str] = None) -> Optional[Dict]:\n",
    "            \"\"\"Fetch token information from Gateway with caching\"\"\"\n",
    "            network = network or self.network\n",
    "            cache_key = f\"{token_address}_{network}\"\n",
    "            \n",
    "            if cache_key in self.token_cache:\n",
    "                return self.token_cache[cache_key]\n",
    "                \n",
    "            try:\n",
    "                response = await self.client.api_request(\n",
    "                    method=\"get\",\n",
    "                    path_url=f\"tokens/{token_address}\",\n",
    "                    params={\n",
    "                        'chain': 'solana',\n",
    "                        'network': network\n",
    "                    }\n",
    "                )\n",
    "                token_info = response.get('token', {})\n",
    "                self.token_cache[cache_key] = token_info\n",
    "                return token_info\n",
    "            except Exception as e:\n",
    "                print(f\"❌ Error fetching token info for {token_address}: {e}\")\n",
    "                self.token_cache[cache_key] = None\n",
    "                return None\n",
    "        \n",
    "        def calculate_price_range_distribution(self, bins_data, current_price: float, price_col='price', liquidity_col='total_value', ranges=[5, 10, 15, 20]):\n",
    "            \"\"\"Calculate liquidity distribution at different price ranges\"\"\"\n",
    "            total_liquidity = bins_data[liquidity_col].sum()\n",
    "            if total_liquidity == 0:\n",
    "                return {pct: 0.0 for pct in ranges}\n",
    "            \n",
    "            distributions = {}\n",
    "            for pct in ranges:\n",
    "                lower_price = current_price * (1 - pct/100)\n",
    "                upper_price = current_price * (1 + pct/100)\n",
    "                \n",
    "                bins_in_range = bins_data[\n",
    "                    (bins_data[price_col] >= lower_price) &\n",
    "                    (bins_data[price_col] <= upper_price)\n",
    "                ]\n",
    "                \n",
    "                liquidity_in_range = bins_in_range[liquidity_col].sum() if not bins_in_range.empty else 0\n",
    "                pct_of_total = (liquidity_in_range / total_liquidity * 100) if total_liquidity > 0 else 0\n",
    "                \n",
    "                distributions[pct] = pct_of_total\n",
    "            \n",
    "            return distributions\n",
    "        \n",
    "        def create_liquidity_chart(self, bins_data, price_col='price', liquidity_col='total_value', bin_id_col='binId', current_price=None, active_bin_id=None, title=\"Liquidity Distribution\"):\n",
    "            \"\"\"Create a basic liquidity chart\"\"\"\n",
    "            if bins_data.empty:\n",
    "                return None\n",
    "                \n",
    "            fig = go.Figure()\n",
    "            \n",
    "            # Color bins based on active bin\n",
    "            colors = ['red' if (active_bin_id and bid < active_bin_id)\n",
    "                     else 'green' if (active_bin_id and bid > active_bin_id)\n",
    "                     else 'yellow' for bid in bins_data[bin_id_col]]\n",
    "            \n",
    "            fig.add_trace(\n",
    "                go.Bar(\n",
    "                    x=bins_data[price_col],\n",
    "                    y=bins_data[liquidity_col],\n",
    "                    name='Liquidity',\n",
    "                    marker=dict(color=colors, opacity=0.7),\n",
    "                    hovertemplate=(\n",
    "                        f'Price: %{{x:.8f}}<br>'\n",
    "                        f'Liquidity: %{{y:,.0f}}<br>'\n",
    "                        f'Bin ID: %{{customdata}}<br>'\n",
    "                        '<extra></extra>'\n",
    "                    ),\n",
    "                    customdata=bins_data[bin_id_col]\n",
    "                )\n",
    "            )\n",
    "            \n",
    "            if current_price:\n",
    "                fig.add_vline(x=current_price, line_dash=\"dash\", line_color=\"blue\", line_width=2,\n",
    "                             annotation_text=f\"Current Price: {self.format_price(current_price)}\")\n",
    "            \n",
    "            fig.update_xaxes(title_text=\"Price\", showgrid=True)\n",
    "            fig.update_yaxes(title_text=\"Liquidity\")\n",
    "            fig.update_layout(title=f\"{title}<br><sub>{self.format_timestamp(datetime.now(timezone.utc))}</sub>\",\n",
    "                            height=600, width=1200, template=\"plotly_white\")\n",
    "            \n",
    "            return fig\n",
    "        \n",
    "        def save_chart(self, fig, filename: str, format: str = \"png\") -> bool:\n",
    "            \"\"\"Save chart to file\"\"\"\n",
    "            try:\n",
    "                if format.lower() == \"png\":\n",
    "                    fig.write_image(filename, width=1200, height=800, scale=2)\n",
    "                elif format.lower() == \"html\":\n",
    "                    fig.write_html(filename)\n",
    "                return True\n",
    "            except ImportError:\n",
    "                # Fallback to HTML if kaleido not available\n",
    "                html_filename = filename.replace('.png', '.html')\n",
    "                fig.write_html(html_filename)\n",
    "                return True\n",
    "            except Exception as e:\n",
    "                print(f\"❌ Error saving chart: {e}\")\n",
    "                return False\n",
    "        \n",
    "        def export_to_csv(self, data, filename: str, metadata=None) -> bool:\n",
    "            \"\"\"Export DataFrame to CSV\"\"\"\n",
    "            try:\n",
    "                if metadata:\n",
    "                    for key, value in metadata.items():\n",
    "                        if key not in data.columns:\n",
    "                            data[key] = value\n",
    "                data['export_timestamp'] = datetime.now(timezone.utc).strftime('%Y-%m-%d %H:%M:%S UTC')\n",
    "                data.to_csv(filename, index=False, float_format='%.8f')\n",
    "                return True\n",
    "            except Exception as e:\n",
    "                print(f\"❌ Error exporting CSV: {e}\")\n",
    "                return False\n",
    "        \n",
    "        @staticmethod\n",
    "        def format_number(value, decimals=2, is_currency=False):\n",
    "            if is_currency:\n",
    "                if value >= 1_000_000: return f\"${value/1_000_000:.{decimals}f}M\"\n",
    "                elif value >= 1_000: return f\"${value/1_000:.{decimals}f}K\"\n",
    "                else: return f\"${value:.{decimals}f}\"\n",
    "            else:\n",
    "                if value >= 1_000_000: return f\"{value/1_000_000:.{decimals}f}M\"\n",
    "                elif value >= 1_000: return f\"{value/1_000:.{decimals}f}K\"\n",
    "                else: return f\"{value:.{decimals}f}\"\n",
    "        \n",
    "        @staticmethod\n",
    "        def format_price(price):\n",
    "            if price >= 100: return f\"${price:.2f}\"\n",
    "            elif price >= 10: return f\"${price:.3f}\"\n",
    "            elif price >= 1: return f\"${price:.4f}\"\n",
    "            elif price >= 0.1: return f\"${price:.5f}\"\n",
    "            elif price >= 0.01: return f\"${price:.6f}\"\n",
    "            elif price >= 0.001: return f\"${price:.7f}\"\n",
    "            elif price >= 0.0001: return f\"${price:.8f}\"\n",
    "            elif price > 0:\n",
    "                if price < 0.00000001: return f\"${price:.2e}\"\n",
    "                else: return f\"${price:.10f}\"\n",
    "            else: return \"$0.00\"\n",
    "        \n",
    "        @staticmethod\n",
    "        def format_percentage(value, decimals=2):\n",
    "            return f\"{value:.{decimals}f}%\"\n",
    "        \n",
    "        @staticmethod\n",
    "        def format_timestamp(timestamp, format_str='%Y-%m-%d %H:%M UTC'):\n",
    "            if timestamp.tzinfo is None:\n",
    "                timestamp = timestamp.replace(tzinfo=timezone.utc)\n",
    "            return timestamp.strftime(format_str)\n",
    "        \n",
    "        def get_cache_stats(self):\n",
    "            cached_tokens = len([k for k, v in self.token_cache.items() if v is not None])\n",
    "            failed_lookups = len([k for k, v in self.token_cache.items() if v is None])\n",
    "            return {\n",
    "                'token_cache_size': len(self.token_cache),\n",
    "                'cached_tokens': cached_tokens,\n",
    "                'failed_lookups': failed_lookups\n",
    "            }\n",
    "\n",
    "# Import QuantsLab notification system\n",
    "from core.notifiers import NotificationManager, NotificationMessage\n",
    "\n",
    "# Load environment variables\n",
    "load_dotenv()\n",
    "\n",
    "print(\"✅ Libraries imported successfully\")\n",
    "if FALLBACK_MODE:\n",
    "    print(\"📊 Services available: GatewayDataSource (Fallback mode), Notification system\")\n",
    "else:\n",
    "    print(\"📊 Services available: GatewayDataSource (QuantsLab), Notification system\")\n",
    "print(\"⚙️ Environment variables loaded from .env\")"
   ]
  },
  {
   "cell_type": "code",
   "execution_count": 209,
   "metadata": {},
   "outputs": [
    {
     "name": "stdout",
     "output_type": "stream",
     "text": [
      "📊 Configuration loaded:\n",
      "  - Gateway URL: http://localhost:15888\n",
      "  - Network: mainnet-beta\n",
      "  - Update Interval: 300s\n",
      "  - Pool Addresses: 3 configured\n",
      "    1. 2sf5NYcY4zUPXUSmG6f66mskb24t5F8S11pC1Nz5nQT3\n",
      "    2. C8Gr6AUuq9hEdSYJzoEpNcdjpojPZwqG5MtQbeouNNwg\n",
      "    3. 9d9mb8kooFfaD3SctgZtkxQypkshx6ezhbKio89ixyy2\n",
      "🔔 Enabled notifiers: telegram\n",
      "✅ GatewayDataSource initialized with Gateway HTTP Client\n",
      "✅ Meteora Pool Analyzer initialized with GatewayDataSource\n",
      "📤 Telegram reports will be collected and sent at the end\n",
      "🗂️ Token cache initialized for efficient lookups\n",
      "📈 Cache stats: {'token_cache_size': 0, 'cached_tokens': 0, 'failed_lookups': 0}\n"
     ]
    }
   ],
   "source": [
    "# Configuration Parameters and Gateway Setup\n",
    "GATEWAY_URL = os.getenv('GATEWAY_URL', 'http://localhost:15888')\n",
    "NETWORK = 'mainnet-beta'\n",
    "UPDATE_INTERVAL_SECONDS = 300  # 5 minutes between updates\n",
    "\n",
    "# Pool addresses to analyze - add your pool addresses here\n",
    "POOL_ADDRESSES = [\n",
    "    '2sf5NYcY4zUPXUSmG6f66mskb24t5F8S11pC1Nz5nQT3',  # SOL-USDC\n",
    "    'C8Gr6AUuq9hEdSYJzoEpNcdjpojPZwqG5MtQbeouNNwg',  # JUP-SOL\n",
    "    '9d9mb8kooFfaD3SctgZtkxQypkshx6ezhbKio89ixyy2',  # TRUMP-USDC\n",
    "    # Add more pool addresses here as needed\n",
    "    # 'your_pool_address_here',\n",
    "]\n",
    "\n",
    "# Initialize Gateway Data Source\n",
    "gateway_ds = GatewayDataSource(gateway_url=GATEWAY_URL, network=NETWORK)\n",
    "\n",
    "# Initialize notification manager\n",
    "notification_manager = NotificationManager()\n",
    "enabled_notifiers = notification_manager.get_enabled_notifiers()\n",
    "\n",
    "# Initialize collections for Telegram sending\n",
    "telegram_reports = {\n",
    "    'text_reports': [],\n",
    "    'chart_files': [],\n",
    "    'csv_files': [],\n",
    "    'report_message': None\n",
    "}\n",
    "\n",
    "# 📊 Meteora Pool Analyzer Class\n",
    "class MeteorPoolAnalyzer:\n",
    "    \"\"\"Helper class for fetching and analyzing Meteora pools using GatewayDataSource\"\"\"\n",
    "    \n",
    "    def __init__(self, gateway_ds: GatewayDataSource):\n",
    "        self.gateway_ds = gateway_ds\n",
    "        self.client = gateway_ds.client\n",
    "        \n",
    "    async def fetch_pool_info(self, pool_address: str, network: str = 'mainnet-beta') -> Optional[Dict]:\n",
    "        \"\"\"Fetch Meteora pool information from Gateway\"\"\"\n",
    "        try:\n",
    "            # Make request to Gateway's Meteora endpoint\n",
    "            response = await self.client.api_request(\n",
    "                method=\"get\",\n",
    "                path_url=\"connectors/meteora/clmm/pool-info\",\n",
    "                params={\n",
    "                    'network': network,\n",
    "                    'poolAddress': pool_address\n",
    "                }\n",
    "            )\n",
    "            return response\n",
    "        except Exception as e:\n",
    "            print(f\"❌ Error fetching pool info: {e}\")\n",
    "            return None\n",
    "    \n",
    "    async def fetch_token_info(self, token_address: str, network: str = 'mainnet-beta') -> Optional[Dict]:\n",
    "        \"\"\"Fetch token information from Gateway with caching\"\"\"\n",
    "        return await self.gateway_ds.fetch_token_info(token_address, network)\n",
    "    \n",
    "    def calculate_liquidity_distribution(self, bins_df, current_price: float, total_liquidity: float) -> Dict[str, float]:\n",
    "        \"\"\"Calculate liquidity distribution at different price ranges\"\"\"\n",
    "        return self.gateway_ds.calculate_price_range_distribution(\n",
    "            bins_df, current_price, 'price', 'total_value'\n",
    "        )\n",
    "    \n",
    "    def analyze_pool(self, pool_data: Dict, metadata: Dict = None) -> Dict:\n",
    "        \"\"\"Analyze pool data and calculate metrics\"\"\"\n",
    "        # Add metadata if provided\n",
    "        if metadata:\n",
    "            pool_data.update(metadata)\n",
    "            \n",
    "        # Calculate total liquidity\n",
    "        price = pool_data['price']\n",
    "        base_amount = pool_data['baseTokenAmount']\n",
    "        quote_amount = pool_data['quoteTokenAmount']\n",
    "        total_liquidity_usd = quote_amount + (base_amount * price)\n",
    "        \n",
    "        analysis = {\n",
    "            'address': pool_data['address'],\n",
    "            'pool_name': pool_data.get('pool_name', 'Unknown'),\n",
    "            'base_token': pool_data.get('base_token_symbol', pool_data.get('base_token', 'BASE')),\n",
    "            'quote_token': pool_data.get('quote_token_symbol', pool_data.get('quote_token', 'QUOTE')),\n",
    "            'base_token_address': pool_data.get('baseTokenAddress'),\n",
    "            'quote_token_address': pool_data.get('quoteTokenAddress'),\n",
    "            'current_price': price,\n",
    "            'fee_pct': pool_data['feePct'],\n",
    "            'dynamic_fee_pct': pool_data.get('dynamicFeePct', pool_data['feePct']),\n",
    "            'bin_step': pool_data.get('binStep', 0),\n",
    "            'active_bin_id': pool_data.get('activeBinId'),\n",
    "            'base_liquidity': base_amount,\n",
    "            'quote_liquidity': quote_amount,\n",
    "            'total_liquidity_usd': total_liquidity_usd,\n",
    "            'num_bins': len(pool_data.get('bins', [])),\n",
    "            'liquidity_concentration': 0,\n",
    "            'liquidity_distribution': {},\n",
    "            'price_range': {'min': 0, 'max': 0},\n",
    "            'timestamp': datetime.now(timezone.utc)\n",
    "        }\n",
    "        \n",
    "        # Analyze bins if available\n",
    "        bins = pool_data.get('bins', [])\n",
    "        if bins:\n",
    "            bins_df = pd.DataFrame(bins)\n",
    "            \n",
    "            # Calculate price range\n",
    "            analysis['price_range']['min'] = bins_df['price'].min()\n",
    "            analysis['price_range']['max'] = bins_df['price'].max()\n",
    "            \n",
    "            # Calculate bin values\n",
    "            bins_df['total_value'] = (\n",
    "                bins_df['quoteTokenAmount'] + \n",
    "                bins_df['baseTokenAmount'] * price\n",
    "            )\n",
    "            \n",
    "            total_liq = bins_df['total_value'].sum()\n",
    "            \n",
    "            # Calculate concentration around active bin\n",
    "            if analysis['active_bin_id'] is not None:\n",
    "                active_bin_id = analysis['active_bin_id']\n",
    "                nearby_bins = bins_df[\n",
    "                    (bins_df['binId'] >= active_bin_id - 5) &\n",
    "                    (bins_df['binId'] <= active_bin_id + 5)\n",
    "                ]\n",
    "                \n",
    "                nearby_liq = nearby_bins['total_value'].sum() if not nearby_bins.empty else 0\n",
    "                \n",
    "                if total_liq > 0:\n",
    "                    analysis['liquidity_concentration'] = (nearby_liq / total_liq) * 100\n",
    "            \n",
    "            # Calculate liquidity distribution at different price ranges using GatewayDataSource\n",
    "            analysis['liquidity_distribution'] = self.calculate_liquidity_distribution(\n",
    "                bins_df, price, total_liq\n",
    "            )\n",
    "            \n",
    "            # Find key liquidity levels\n",
    "            top_bins = bins_df.nlargest(5, 'total_value')\n",
    "            analysis['key_levels'] = [\n",
    "                {'price': row['price'], 'total_value': row['total_value']}\n",
    "                for _, row in top_bins.iterrows()\n",
    "            ]\n",
    "            \n",
    "            analysis['bins_df'] = bins_df\n",
    "            \n",
    "        return analysis\n",
    "\n",
    "# Initialize the analyzer\n",
    "pool_analyzer = MeteorPoolAnalyzer(gateway_ds)\n",
    "\n",
    "async def generate_pool_report(analyses: List[Dict]) -> str:\n",
    "    \"\"\"Generate formatted pool analysis report for Telegram using cached token symbols\"\"\"\n",
    "    \n",
    "    if not analyses:\n",
    "        return \"⚠️ No pool data available for analysis\"\n",
    "    \n",
    "    # Generate report timestamp\n",
    "    report_time = gateway_ds.format_timestamp(datetime.now(timezone.utc))\n",
    "    \n",
    "    # Build the report message\n",
    "    report_message = f\"\"\"🏊 <b>Meteora Pool Analysis Report</b>\n",
    "📅 {report_time}\n",
    "🔗 Network: Solana {NETWORK}\n",
    "\"\"\"\n",
    "    \n",
    "    # Add analysis for each pool\n",
    "    for analysis in analyses:\n",
    "        # Use cached token symbols from initial pool fetching\n",
    "        base_symbol = analysis['base_token']\n",
    "        quote_symbol = analysis['quote_token']\n",
    "        \n",
    "        # Only try to fetch if we don't already have symbols and they're not addresses\n",
    "        if analysis.get('base_token_address') and len(base_symbol) > 10:  # Likely an address, not symbol\n",
    "            cache_key = f\"{analysis['base_token_address']}_{NETWORK}\"\n",
    "            if cache_key in gateway_ds.token_cache:\n",
    "                cached_info = gateway_ds.token_cache[cache_key]\n",
    "                if cached_info and 'symbol' in cached_info:\n",
    "                    base_symbol = cached_info['symbol']\n",
    "                    \n",
    "        if analysis.get('quote_token_address') and len(quote_symbol) > 10:  # Likely an address, not symbol\n",
    "            cache_key = f\"{analysis['quote_token_address']}_{NETWORK}\"\n",
    "            if cache_key in gateway_ds.token_cache:\n",
    "                cached_info = gateway_ds.token_cache[cache_key]\n",
    "                if cached_info and 'symbol' in cached_info:\n",
    "                    quote_symbol = cached_info['symbol']\n",
    "        \n",
    "        # Create token pair name with fee tier and bin step\n",
    "        token_pair = f\"{base_symbol}/{quote_symbol}\"\n",
    "        fee_tier = f\"{analysis['fee_pct']:.2f}%\"\n",
    "        bin_step = analysis['bin_step']\n",
    "        \n",
    "        # Pool header with token pair, fee tier, and bin step\n",
    "        report_message += f\"\"\"📊 <b>{token_pair} • {fee_tier} • Bin:{bin_step}</b>\n",
    "<i>Pool: {analysis['pool_name']}</i>\n",
    "━━━━━━━━━━━━━━━━━━━━\n",
    "\"\"\"\n",
    "        \n",
    "        # Price and liquidity info with smart formatting using GatewayDataSource\n",
    "        price = analysis['current_price']\n",
    "        price_str = gateway_ds.format_price(price)\n",
    "        report_message += f\"\"\"💰 <b>Price & Liquidity</b>\n",
    "• Current Price: <code>{price_str}</code>\n",
    "• Total Liquidity: <code>{gateway_ds.format_number(analysis['total_liquidity_usd'], is_currency=True)}</code>\n",
    "• {base_symbol}: <code>{gateway_ds.format_number(analysis['base_liquidity'], decimals=2)}</code>\n",
    "• {quote_symbol}: <code>{gateway_ds.format_number(analysis['quote_liquidity'], decimals=2)}</code>\n",
    "\n",
    "\"\"\"\n",
    "        \n",
    "        # Pool parameters\n",
    "        report_message += f\"\"\"⚙️ <b>Pool Parameters</b>\n",
    "• Fee: <code>{gateway_ds.format_percentage(analysis['fee_pct'])}</code>\n",
    "• Bin Step: <code>{analysis['bin_step']}</code>\n",
    "• Active Bin: <code>{analysis['active_bin_id']}</code>\n",
    "• Total Bins: <code>{analysis['num_bins']}</code>\n",
    "\n",
    "\"\"\"\n",
    "        \n",
    "        # Liquidity distribution with smart price formatting\n",
    "        min_price_str = gateway_ds.format_price(analysis['price_range']['min'])\n",
    "        max_price_str = gateway_ds.format_price(analysis['price_range']['max'])\n",
    "        report_message += f\"\"\"📈 <b>Liquidity Distribution</b>\n",
    "• Price Range: <code>{min_price_str} - {max_price_str}</code>\n",
    "\"\"\"\n",
    "        \n",
    "        # Show liquidity at different ranges instead of key levels\n",
    "        if analysis.get('liquidity_distribution'):\n",
    "            report_message += f\"\\n🎯 <b>Liquidity Around Price</b>\\n\"\n",
    "            for pct in [5, 10, 15, 20]:\n",
    "                if pct in analysis['liquidity_distribution']:\n",
    "                    liquidity_pct = analysis['liquidity_distribution'][pct]\n",
    "                    report_message += f\"• ±{pct}%: <code>{liquidity_pct:.1f}%</code> of total liquidity\\n\"\n",
    "        \n",
    "        report_message += \"\\n\"\n",
    "        \n",
    "    return report_message\n",
    "\n",
    "def create_liquidity_chart(analysis: Dict) -> go.Figure:\n",
    "    \"\"\"Create liquidity distribution chart for a pool using GatewayDataSource\"\"\"\n",
    "    \n",
    "    if 'bins_df' not in analysis or analysis['bins_df'].empty:\n",
    "        return None\n",
    "    \n",
    "    bins_df = analysis['bins_df']\n",
    "    \n",
    "    # Use GatewayDataSource chart creation with enhanced title\n",
    "    base_token = analysis.get('base_token', 'BASE')\n",
    "    quote_token = analysis.get('quote_token', 'QUOTE')\n",
    "    fee_tier = f\"{analysis['fee_pct']:.2f}%\"\n",
    "    bin_step = analysis['bin_step']\n",
    "    \n",
    "    title = f\"{base_token}/{quote_token} • {fee_tier} Fee • Bin Step: {bin_step}\"\n",
    "    \n",
    "    fig = gateway_ds.create_liquidity_chart(\n",
    "        bins_data=bins_df,\n",
    "        price_col='price',\n",
    "        liquidity_col='total_value',\n",
    "        bin_id_col='binId',\n",
    "        current_price=analysis['current_price'],\n",
    "        active_bin_id=analysis['active_bin_id'],\n",
    "        title=title\n",
    "    )\n",
    "    \n",
    "    return fig\n",
    "\n",
    "print(f\"📊 Configuration loaded:\")\n",
    "print(f\"  - Gateway URL: {GATEWAY_URL}\")\n",
    "print(f\"  - Network: {NETWORK}\")\n",
    "print(f\"  - Update Interval: {UPDATE_INTERVAL_SECONDS}s\")\n",
    "print(f\"  - Pool Addresses: {len(POOL_ADDRESSES)} configured\")\n",
    "for i, addr in enumerate(POOL_ADDRESSES, 1):\n",
    "    print(f\"    {i}. {addr}\")\n",
    "print(f\"🔔 Enabled notifiers: {', '.join(enabled_notifiers) if enabled_notifiers else 'None configured'}\")\n",
    "print(f\"✅ GatewayDataSource initialized with Gateway HTTP Client\")\n",
    "print(\"✅ Meteora Pool Analyzer initialized with GatewayDataSource\")\n",
    "print(\"📤 Telegram reports will be collected and sent at the end\")\n",
    "print(\"🗂️ Token cache initialized for efficient lookups\")\n",
    "print(f\"📈 Cache stats: {gateway_ds.get_cache_stats()}\")"
   ]
  },
  {
   "cell_type": "code",
   "execution_count": 210,
   "metadata": {},
   "outputs": [
    {
     "name": "stdout",
     "output_type": "stream",
     "text": [
      "🔄 Fetching pool data from Gateway...\n",
      "📍 Gateway URL: http://localhost:15888\n",
      "🔗 Network: mainnet-beta\n",
      "🏊 Pools to analyze: 3\n",
      "\n",
      "✅ Gateway connection successful\n",
      "\n",
      "🔄 Fetching data for all pools with token metadata...\n",
      "\n",
      "📊 Pool 1/3: 2sf5NYcY4zUPXUSmG6f66mskb24t5F8S11pC1Nz5nQT3\n",
      "✅ Raw pool data fetched\n",
      "🏊 RAW POOL DATA:\n",
      "  Pool Address: 2sf5NYcY4zUPXUSmG6f66mskb24t5F8S11pC1Nz5nQT3\n",
      "  Base Token Address: So11111111111111111111111111111111111111112\n",
      "  Quote Token Address: EPjFWdd5AufqSSqeM2qN1xzybapC8G4wEGGkZwyTDt1v\n",
      "  Current Price: $209.67\n",
      "  Fee: 0.04%\n",
      "  Bin Step: 100\n",
      "  Active Bin ID: -157\n",
      "  Total Bins: 141\n",
      "🔍 Looking up token metadata...\n",
      "  ✅ Base Token: Wrapped Solana (SOL)\n",
      "    Address: So11111111111111111111111111111111111111112\n",
      "    Decimals: 9\n",
      "  ✅ Quote Token: USDC (USDC)\n",
      "    Address: EPjFWdd5AufqSSqeM2qN1xzybapC8G4wEGGkZwyTDt1v\n",
      "    Decimals: 6\n",
      "🏷️ Identified Pool: SOL/USDC\n",
      "📊 Analysis Summary:\n",
      "  Price: $209.67\n",
      "  Liquidity: $64.12K\n",
      "  Base (SOL): 153.82\n",
      "  Quote (USDC): 31.87K\n",
      "  Bins: 141\n",
      "\n",
      "📊 Pool 2/3: C8Gr6AUuq9hEdSYJzoEpNcdjpojPZwqG5MtQbeouNNwg\n",
      "✅ Raw pool data fetched\n",
      "🏊 RAW POOL DATA:\n",
      "  Pool Address: C8Gr6AUuq9hEdSYJzoEpNcdjpojPZwqG5MtQbeouNNwg\n",
      "  Base Token Address: JUPyiwrYJFskUPiHa7hkeR8VUtAeFoSYbKedZNsDvCN\n",
      "  Quote Token Address: So11111111111111111111111111111111111111112\n",
      "  Current Price: $0.0022009\n",
      "  Fee: 0.15%\n",
      "  Bin Step: 80\n",
      "  Active Bin ID: 99\n",
      "  Total Bins: 141\n",
      "🔍 Looking up token metadata...\n",
      "  ✅ Base Token: Jupiter (JUP)\n",
      "    Address: JUPyiwrYJFskUPiHa7hkeR8VUtAeFoSYbKedZNsDvCN\n",
      "    Decimals: 6\n",
      "  ✅ Quote Token: Wrapped Solana (SOL)\n",
      "    Address: So11111111111111111111111111111111111111112\n",
      "    Decimals: 9\n",
      "🏷️ Identified Pool: JUP/SOL\n",
      "📊 Analysis Summary:\n",
      "  Price: $0.0022009\n",
      "  Liquidity: $14.98K\n",
      "  Base (JUP): 3.81M\n",
      "  Quote (SOL): 6.60K\n",
      "  Bins: 141\n",
      "\n",
      "📊 Pool 3/3: 9d9mb8kooFfaD3SctgZtkxQypkshx6ezhbKio89ixyy2\n"
     ]
    },
    {
     "name": "stderr",
     "output_type": "stream",
     "text": [
      "2025-09-23 20:47:42,585 - hummingbot.core.gateway.gateway_http_client - WARNING - Call to http://localhost:15888/tokens/6p6xgHyF7AeE6TZkSmFsko444wqoP15icUSqi2jfGiPN failed. See logs for more details.\n",
      "2025-09-23 20:47:42,585 - core.data_sources.gateway - ERROR - Error fetching token info for 6p6xgHyF7AeE6TZkSmFsko444wqoP15icUSqi2jfGiPN: Error on GET http://localhost:15888/tokens/6p6xgHyF7AeE6TZkSmFsko444wqoP15icUSqi2jfGiPN Error: NotFoundError\n"
     ]
    },
    {
     "name": "stdout",
     "output_type": "stream",
     "text": [
      "✅ Raw pool data fetched\n",
      "🏊 RAW POOL DATA:\n",
      "  Pool Address: 9d9mb8kooFfaD3SctgZtkxQypkshx6ezhbKio89ixyy2\n",
      "  Base Token Address: 6p6xgHyF7AeE6TZkSmFsko444wqoP15icUSqi2jfGiPN\n",
      "  Quote Token Address: EPjFWdd5AufqSSqeM2qN1xzybapC8G4wEGGkZwyTDt1v\n",
      "  Current Price: $7.6135\n",
      "  Fee: 0.10%\n",
      "  Bin Step: 50\n",
      "  Active Bin ID: 407\n",
      "  Total Bins: 141\n",
      "🔍 Looking up token metadata...\n",
      "  ⚠️ Base Token: Could not fetch metadata\n",
      "  ✅ Quote Token: USDC (USDC)\n",
      "    Address: EPjFWdd5AufqSSqeM2qN1xzybapC8G4wEGGkZwyTDt1v\n",
      "    Decimals: 6\n",
      "🏷️ Identified Pool: 6p6xgHyF7AeE6TZkSmFsko444wqoP15icUSqi2jfGiPN/USDC\n",
      "📊 Analysis Summary:\n",
      "  Price: $7.6135\n",
      "  Liquidity: $317.37M\n",
      "  Base (6p6xgHyF7AeE6TZkSmFsko444wqoP15icUSqi2jfGiPN): 15.46M\n",
      "  Quote (USDC): 199.64M\n",
      "  Bins: 141\n",
      "\n",
      "✅ Successfully analyzed 3 out of 3 pools\n",
      "💰 Total Liquidity Across All Pools: $317.45M\n",
      "\n",
      "📊 POOL ANALYSIS SUMMARY:\n",
      "================================================================================\n",
      "SOL/USDC Pool        | $209.67      | $64.12K      |  141 bins\n",
      "JUP/SOL Pool         | $0.0022009   | $14.98K      |  141 bins\n",
      "6p6xgHyF7AeE6TZkSmFsko444wqoP15icUSqi2jfGiPN/USDC Pool | $7.6135      | $317.37M     |  141 bins\n",
      "================================================================================\n",
      "\n",
      "🗂️ Token Cache Stats: 3 tokens cached, 1 failed lookups\n"
     ]
    }
   ],
   "source": [
    "# 📡 Fetch Pool Data and Token Metadata from Gateway\n",
    "print(f\"🔄 Fetching pool data from Gateway...\")\n",
    "print(f\"📍 Gateway URL: {GATEWAY_URL}\")\n",
    "print(f\"🔗 Network: {NETWORK}\")\n",
    "print(f\"🏊 Pools to analyze: {len(POOL_ADDRESSES)}\\n\")\n",
    "\n",
    "# Test gateway connection using GatewayDataSource\n",
    "try:\n",
    "    is_online = await gateway_ds.ping_gateway()\n",
    "    if is_online:\n",
    "        print(\"✅ Gateway connection successful\\n\")\n",
    "    else:\n",
    "        print(\"⚠️ Gateway is offline, trying to connect...\\n\")\n",
    "except Exception as e:\n",
    "    print(f\"❌ Gateway connection error: {e}\\n\")\n",
    "    is_online = False\n",
    "\n",
    "# Fetch all pool data if online\n",
    "all_pool_analyses = []\n",
    "if is_online:\n",
    "    print(\"🔄 Fetching data for all pools with token metadata...\")\n",
    "    \n",
    "    for i, pool_address in enumerate(POOL_ADDRESSES, 1):\n",
    "        print(f\"\\n📊 Pool {i}/{len(POOL_ADDRESSES)}: {pool_address}\")\n",
    "        \n",
    "        try:\n",
    "            # Fetch pool data\n",
    "            pool_data = await pool_analyzer.fetch_pool_info(pool_address, NETWORK)\n",
    "            \n",
    "            if pool_data:\n",
    "                print(f\"✅ Raw pool data fetched\")\n",
    "                \n",
    "                # Display raw pool info\n",
    "                print(f\"🏊 RAW POOL DATA:\")\n",
    "                print(f\"  Pool Address: {pool_data['address']}\")\n",
    "                print(f\"  Base Token Address: {pool_data['baseTokenAddress']}\")\n",
    "                print(f\"  Quote Token Address: {pool_data['quoteTokenAddress']}\")\n",
    "                print(f\"  Current Price: {gateway_ds.format_price(pool_data['price'])}\")\n",
    "                print(f\"  Fee: {gateway_ds.format_percentage(pool_data['feePct'])}\")\n",
    "                print(f\"  Bin Step: {pool_data['binStep']}\")\n",
    "                print(f\"  Active Bin ID: {pool_data['activeBinId']}\")\n",
    "                print(f\"  Total Bins: {len(pool_data.get('bins', []))}\")\n",
    "                \n",
    "                # Fetch token metadata using GatewayDataSource\n",
    "                print(f\"🔍 Looking up token metadata...\")\n",
    "                base_token_info = None\n",
    "                quote_token_info = None\n",
    "                base_symbol = pool_data['baseTokenAddress']  # Use address as fallback\n",
    "                quote_symbol = pool_data['quoteTokenAddress']  # Use address as fallback\n",
    "                \n",
    "                # Lookup base token\n",
    "                if pool_data.get('baseTokenAddress'):\n",
    "                    try:\n",
    "                        base_token_info = await pool_analyzer.fetch_token_info(pool_data['baseTokenAddress'], NETWORK)\n",
    "                        if base_token_info and 'symbol' in base_token_info:\n",
    "                            base_symbol = base_token_info['symbol']\n",
    "                            print(f\"  ✅ Base Token: {base_token_info['name']} ({base_token_info['symbol']})\")\n",
    "                            print(f\"    Address: {base_token_info['address']}\")\n",
    "                            print(f\"    Decimals: {base_token_info['decimals']}\")\n",
    "                        else:\n",
    "                            print(f\"  ⚠️ Base Token: Could not fetch metadata\")\n",
    "                    except Exception as e:\n",
    "                        print(f\"  ❌ Base Token lookup error: {e}\")\n",
    "                \n",
    "                # Lookup quote token  \n",
    "                if pool_data.get('quoteTokenAddress'):\n",
    "                    try:\n",
    "                        quote_token_info = await pool_analyzer.fetch_token_info(pool_data['quoteTokenAddress'], NETWORK)\n",
    "                        if quote_token_info and 'symbol' in quote_token_info:\n",
    "                            quote_symbol = quote_token_info['symbol']\n",
    "                            print(f\"  ✅ Quote Token: {quote_token_info['name']} ({quote_token_info['symbol']})\")\n",
    "                            print(f\"    Address: {quote_token_info['address']}\")\n",
    "                            print(f\"    Decimals: {quote_token_info['decimals']}\")\n",
    "                        else:\n",
    "                            print(f\"  ⚠️ Quote Token: Could not fetch metadata\")\n",
    "                    except Exception as e:\n",
    "                        print(f\"  ❌ Quote Token lookup error: {e}\")\n",
    "                \n",
    "                # Create token pair name\n",
    "                token_pair = f\"{base_symbol}/{quote_symbol}\"\n",
    "                pool_name = f\"{token_pair} Pool\"\n",
    "                \n",
    "                print(f\"🏷️ Identified Pool: {token_pair}\")\n",
    "                \n",
    "                # Create metadata with token info\n",
    "                metadata = {\n",
    "                    'pool_name': pool_name,\n",
    "                    'token_pair': token_pair,\n",
    "                    'base_token_symbol': base_symbol,\n",
    "                    'quote_token_symbol': quote_symbol,\n",
    "                    'base_token_info': base_token_info,\n",
    "                    'quote_token_info': quote_token_info\n",
    "                }\n",
    "                \n",
    "                # Perform analysis\n",
    "                analysis = pool_analyzer.analyze_pool(pool_data, metadata)\n",
    "                all_pool_analyses.append(analysis)\n",
    "                \n",
    "                print(f\"📊 Analysis Summary:\")\n",
    "                print(f\"  Price: {gateway_ds.format_price(analysis['current_price'])}\")\n",
    "                print(f\"  Liquidity: {gateway_ds.format_number(analysis['total_liquidity_usd'], is_currency=True)}\")\n",
    "                print(f\"  Base ({base_symbol}): {gateway_ds.format_number(analysis['base_liquidity'], decimals=2)}\")\n",
    "                print(f\"  Quote ({quote_symbol}): {gateway_ds.format_number(analysis['quote_liquidity'], decimals=2)}\")\n",
    "                print(f\"  Bins: {analysis['num_bins']}\")\n",
    "                \n",
    "            else:\n",
    "                print(f\"❌ Failed to fetch data for pool {pool_address}\")\n",
    "                \n",
    "        except Exception as e:\n",
    "            print(f\"❌ Error analyzing pool {pool_address}: {e}\")\n",
    "    \n",
    "    print(f\"\\n✅ Successfully analyzed {len(all_pool_analyses)} out of {len(POOL_ADDRESSES)} pools\")\n",
    "    \n",
    "    if all_pool_analyses:\n",
    "        total_liquidity = sum(a['total_liquidity_usd'] for a in all_pool_analyses)\n",
    "        print(f\"💰 Total Liquidity Across All Pools: {gateway_ds.format_number(total_liquidity, is_currency=True)}\")\n",
    "        \n",
    "        # Display summary with token pairs using GatewayDataSource formatting\n",
    "        print(f\"\\n📊 POOL ANALYSIS SUMMARY:\")\n",
    "        print(\"=\" * 80)\n",
    "        for analysis in all_pool_analyses:\n",
    "            token_pair = analysis.get('token_pair', analysis['pool_name'])\n",
    "            print(f\"{token_pair:<20} | \"\n",
    "                  f\"{gateway_ds.format_price(analysis['current_price']):<12} | \"\n",
    "                  f\"{gateway_ds.format_number(analysis['total_liquidity_usd'], is_currency=True):<12} | \"\n",
    "                  f\"{analysis['num_bins']:>4} bins\")\n",
    "        print(\"=\" * 80)\n",
    "        \n",
    "        # Display cache statistics\n",
    "        cache_stats = gateway_ds.get_cache_stats()\n",
    "        print(f\"\\n🗂️ Token Cache Stats: {cache_stats['cached_tokens']} tokens cached, {cache_stats['failed_lookups']} failed lookups\")\n",
    "        \n",
    "else:\n",
    "    print(\"❌ Cannot fetch pool data - Gateway is offline\")\n",
    "    all_pool_analyses = []"
   ]
  },
  {
   "cell_type": "code",
   "execution_count": 211,
   "metadata": {},
   "outputs": [
    {
     "name": "stdout",
     "output_type": "stream",
     "text": [
      "📤 Pool analysis report generated successfully\n",
      "📊 Report includes 3 pool(s) with token symbols\n",
      "📋 Report stored for Telegram sending at the end\n",
      "\n",
      "📊 DETAILED POOL ANALYSIS\n",
      "================================================================================\n",
      "\n",
      "📊 POOL 1 - SOL/USDC Pool\n",
      "============================================================\n",
      "Address: 2sf5NYcY4zUPXUSmG6f66mskb24t5F8S11pC1Nz5nQT3\n",
      "Current Price: $209.67\n",
      "Total Liquidity (USD): $64.12K\n",
      "Base Liquidity: 153.82 SOL\n",
      "Quote Liquidity: 31.87K USDC\n",
      "Liquidity Concentration: 10.1% (within ±5 bins)\n",
      "Number of Bins: 141\n",
      "Price Range: $106.58 - $429.22\n",
      "Fee: 0.04%\n",
      "Bin Step: 100\n",
      "Active Bin ID: -157\n",
      "\n",
      "🎯 KEY LIQUIDITY LEVELS:\n",
      "  1. Price: $224.80 | Liquidity: $807.58\n",
      "  2. Price: $227.05 | Liquidity: $804.22\n",
      "  3. Price: $229.32 | Liquidity: $774.30\n",
      "  4. Price: $231.61 | Liquidity: $771.14\n",
      "  5. Price: $233.93 | Liquidity: $766.78\n",
      "============================================================\n",
      "\n",
      "📊 POOL 2 - JUP/SOL Pool\n",
      "============================================================\n",
      "Address: C8Gr6AUuq9hEdSYJzoEpNcdjpojPZwqG5MtQbeouNNwg\n",
      "Current Price: $0.0022009\n",
      "Total Liquidity (USD): $14.98K\n",
      "Base Liquidity: 3.81M JUP\n",
      "Quote Liquidity: 6.60K SOL\n",
      "Liquidity Concentration: 20.4% (within ±5 bins)\n",
      "Number of Bins: 141\n",
      "Price Range: $0.0012500 - $0.0038139\n",
      "Fee: 0.15%\n",
      "Bin Step: 80\n",
      "Active Bin ID: 99\n",
      "\n",
      "🎯 KEY LIQUIDITY LEVELS:\n",
      "  1. Price: $0.0022009 | Liquidity: $265.96\n",
      "  2. Price: $0.0021834 | Liquidity: $264.98\n",
      "  3. Price: $0.0022185 | Liquidity: $256.97\n",
      "  4. Price: $0.0022362 | Liquidity: $251.47\n",
      "  5. Price: $0.0022541 | Liquidity: $249.63\n",
      "============================================================\n",
      "\n",
      "📊 POOL 3 - 6p6xgHyF7AeE6TZkSmFsko444wqoP15icUSqi2jfGiPN/USDC Pool\n",
      "============================================================\n",
      "Address: 9d9mb8kooFfaD3SctgZtkxQypkshx6ezhbKio89ixyy2\n",
      "Current Price: $7.6135\n",
      "Total Liquidity (USD): $317.37M\n",
      "Base Liquidity: 15.46M 6p6xgHyF7AeE6TZkSmFsko444wqoP15icUSqi2jfGiPN\n",
      "Quote Liquidity: 199.64M USDC\n",
      "Liquidity Concentration: 8.7% (within ±5 bins)\n",
      "Number of Bins: 141\n",
      "Price Range: $5.3967 - $10.849\n",
      "Fee: 0.10%\n",
      "Bin Step: 50\n",
      "Active Bin ID: 407\n",
      "\n",
      "🎯 KEY LIQUIDITY LEVELS:\n",
      "  1. Price: $9.9172 | Liquidity: $1.50M\n",
      "  2. Price: $6.9598 | Liquidity: $1.45M\n",
      "  3. Price: $9.8188 | Liquidity: $1.25M\n",
      "  4. Price: $9.8678 | Liquidity: $1.25M\n",
      "  5. Price: $7.6135 | Liquidity: $730.99K\n",
      "============================================================\n",
      "\n",
      "📋 TELEGRAM REPORT PREVIEW:\n",
      "==================================================\n",
      "🏊 **Meteora Pool Analysis Report**\n",
      "📅 2025-09-24 03:47 UTC\n",
      "🔗 Network: Solana mainnet-beta\n",
      "📊 **SOL/USDC • 0.04% • Bin:100**\n",
      "_Pool: SOL/USDC Pool_\n",
      "━━━━━━━━━━━━━━━━━━━━\n",
      "💰 **Price & Liquidity**\n",
      "• Current Price: `$209.67`\n",
      "• Total Liquidity: `$64.12K`\n",
      "• SOL: `153.82`\n",
      "• USDC: `31.87K`\n",
      "\n",
      "⚙️ **Pool Parameters**\n",
      "• Fee: `0.04%`\n",
      "• Bin Step: `100`\n",
      "• Active Bin: `-157`\n",
      "• Total Bins: `141`\n",
      "\n",
      "📈 **Liquidity Distribution**\n",
      "• Price Range: `$106.58 - $429.22`\n",
      "\n",
      "🎯 **Liquidity Around Price**\n",
      "• ±5%: `9.3%` of total liquidity\n",
      "• ±10%: `20.2%` of total liquidity\n",
      "• ±15%: `32.6%` of total liquidity\n",
      "• ±20%: `43.1%` of total liquidity\n",
      "\n",
      "📊 **JUP/SOL • 0.15% • Bin:80**\n",
      "_Pool: JUP/SOL Pool_\n",
      "━━━━━━━━━━━━━━━━━━━━\n",
      "💰 **Price & Liquidity**\n",
      "• Current Price: `$0.0022009`\n",
      "• Total Liquidity: `$14.98K`\n",
      "• JUP: `3.81M`\n",
      "• SOL: `6.60K`\n",
      "\n",
      "⚙️ **Pool Parameters**\n",
      "• Fee: `0.15%`\n",
      "• Bin Step: `80`\n",
      "• Active Bin: `99`\n",
      "• Total Bins: `141`\n",
      "\n",
      "📈 **Liquidity Distribution**\n",
      "• Price Range: `$0.0012500 - $0.0038139`\n",
      "\n",
      "🎯 **Liquidity Around Price**\n",
      "• ±5%: `23.8%` of total liquidity\n",
      "• ±10%: `43.8%` of total liquidity\n",
      "• ±15%: `64.9%` of total liquidity\n",
      "• ±20%: `85.6%` of total liquidity\n",
      "\n",
      "📊 **6p6xgHyF7AeE6TZkSmFsko444wqoP15icUSqi2jfGiPN/USDC • 0.10% • Bin:50**\n",
      "_Pool: 6p6xgHyF7AeE6TZkSmFsko444wqoP15icUSqi2jfGiPN/USDC Pool_\n",
      "━━━━━━━━━━━━━━━━━━━━\n",
      "💰 **Price & Liquidity**\n",
      "• Current Price: `$7.6135`\n",
      "• Total Liquidity: `$317.37M`\n",
      "• 6p6xgHyF7AeE6TZkSmFsko444wqoP15icUSqi2jfGiPN: `15.46M`\n",
      "• USDC: `199.64M`\n",
      "\n",
      "⚙️ **Pool Parameters**\n",
      "• Fee: `0.10%`\n",
      "• Bin Step: `50`\n",
      "• Active Bin: `407`\n",
      "• Total Bins: `141`\n",
      "\n",
      "📈 **Liquidity Distribution**\n",
      "• Price Range: `$5.3967 - $10.849`\n",
      "\n",
      "🎯 **Liquidity Around Price**\n",
      "• ±5%: `15.7%` of total liquidity\n",
      "• ±10%: `32.6%` of total liquidity\n",
      "• ±15%: `47.7%` of total liquidity\n",
      "• ±20%: `62.5%` of total liquidity\n",
      "\n",
      "\n",
      "==================================================\n"
     ]
    }
   ],
   "source": [
    "# 🚀 Generate Pool Analysis Report with Token Lookup (Preview Only)\n",
    "if all_pool_analyses:    \n",
    "    # Generate report with token symbol lookup using GatewayDataSource\n",
    "    report_message = await generate_pool_report(all_pool_analyses)\n",
    "    \n",
    "    # Store the report for sending later\n",
    "    telegram_reports['report_message'] = report_message\n",
    "    \n",
    "    print(\"📤 Pool analysis report generated successfully\")\n",
    "    print(f\"📊 Report includes {len(all_pool_analyses)} pool(s) with token symbols\")\n",
    "    print(\"📋 Report stored for Telegram sending at the end\\n\")\n",
    "    \n",
    "    # Display detailed analysis for each pool using GatewayDataSource formatting\n",
    "    print(\"📊 DETAILED POOL ANALYSIS\")\n",
    "    print(\"=\" * 80)\n",
    "    for i, analysis in enumerate(all_pool_analyses, 1):\n",
    "        print(f\"\\n📊 POOL {i} - {analysis['pool_name']}\")\n",
    "        print(\"=\" * 60)\n",
    "        print(f\"Address: {analysis['address']}\")\n",
    "        print(f\"Current Price: {gateway_ds.format_price(analysis['current_price'])}\")\n",
    "        print(f\"Total Liquidity (USD): {gateway_ds.format_number(analysis['total_liquidity_usd'], is_currency=True)}\")\n",
    "        print(f\"Base Liquidity: {gateway_ds.format_number(analysis['base_liquidity'], decimals=2)} {analysis['base_token']}\")\n",
    "        print(f\"Quote Liquidity: {gateway_ds.format_number(analysis['quote_liquidity'], decimals=2)} {analysis['quote_token']}\")\n",
    "        print(f\"Liquidity Concentration: {gateway_ds.format_percentage(analysis['liquidity_concentration'], decimals=1)} (within ±5 bins)\")\n",
    "        print(f\"Number of Bins: {analysis['num_bins']}\")\n",
    "        print(f\"Price Range: {gateway_ds.format_price(analysis['price_range']['min'])} - {gateway_ds.format_price(analysis['price_range']['max'])}\")\n",
    "        print(f\"Fee: {gateway_ds.format_percentage(analysis['fee_pct'])}\")\n",
    "        print(f\"Bin Step: {analysis['bin_step']}\")\n",
    "        print(f\"Active Bin ID: {analysis['active_bin_id']}\")\n",
    "        \n",
    "        if analysis.get('key_levels'):\n",
    "            print(f\"\\n🎯 KEY LIQUIDITY LEVELS:\")\n",
    "            for j, level in enumerate(analysis['key_levels'], 1):\n",
    "                print(f\"  {j}. Price: {gateway_ds.format_price(level['price'])} | Liquidity: {gateway_ds.format_number(level['total_value'], is_currency=True)}\")\n",
    "        \n",
    "        print(\"=\" * 60)\n",
    "    \n",
    "    print(\"\\n📋 TELEGRAM REPORT PREVIEW:\")\n",
    "    print(\"=\" * 50)\n",
    "    print(report_message.replace('<b>', '**').replace('</b>', '**')\n",
    "          .replace('<code>', '`').replace('</code>', '`')\n",
    "          .replace('<i>', '_').replace('</i>', '_'))\n",
    "    print(\"=\" * 50)\n",
    "        \n",
    "else:\n",
    "    report_message = await generate_pool_report([])\n",
    "    print(\"⚠️ No pool data available for report generation\")"
   ]
  },
  {
   "cell_type": "code",
   "execution_count": 212,
   "metadata": {},
   "outputs": [
    {
     "name": "stdout",
     "output_type": "stream",
     "text": [
      "📊 Generating liquidity distribution charts...\n",
      "\n",
      "🎨 Chart 1/3: SOL/USDC Pool\n",
      "  ✅ Chart generated for SOL/USDC\n"
     ]
    },
    {
     "data": {
      "application/vnd.plotly.v1+json": {
       "config": {
        "plotlyServerURL": "https://plot.ly"
       },
       "data": [
        {
         "customdata": {
          "bdata": "H/8g/yH/Iv8j/yT/Jf8m/yf/KP8p/yr/K/8s/y3/Lv8v/zD/Mf8y/zP/NP81/zb/N/84/zn/Ov87/zz/Pf8+/z//QP9B/0L/Q/9E/0X/Rv9H/0j/Sf9K/0v/TP9N/07/T/9Q/1H/Uv9T/1T/Vf9W/1f/WP9Z/1r/W/9c/13/Xv9f/2D/Yf9i/2P/ZP9l/2b/Z/9o/2n/av9r/2z/bf9u/2//cP9x/3L/c/90/3X/dv93/3j/ef96/3v/fP99/37/f/+A/4H/gv+D/4T/hf+G/4f/iP+J/4r/i/+M/43/jv+P/5D/kf+S/5P/lP+V/5b/l/+Y/5n/mv+b/5z/nf+e/5//oP+h/6L/o/+k/6X/pv+n/6j/qf+q/6v/",
          "dtype": "i2"
         },
         "hovertemplate": "Price: %{x:.8f}<br>Liquidity: %{y:,.0f}<br>Bin ID: %{customdata}<br><extra></extra>",
         "marker": {
          "color": [
           "red",
           "red",
           "red",
           "red",
           "red",
           "red",
           "red",
           "red",
           "red",
           "red",
           "red",
           "red",
           "red",
           "red",
           "red",
           "red",
           "red",
           "red",
           "red",
           "red",
           "red",
           "red",
           "red",
           "red",
           "red",
           "red",
           "red",
           "red",
           "red",
           "red",
           "red",
           "red",
           "red",
           "red",
           "red",
           "red",
           "red",
           "red",
           "red",
           "red",
           "red",
           "red",
           "red",
           "red",
           "red",
           "red",
           "red",
           "red",
           "red",
           "red",
           "red",
           "red",
           "red",
           "red",
           "red",
           "red",
           "red",
           "red",
           "red",
           "red",
           "red",
           "red",
           "red",
           "red",
           "red",
           "red",
           "red",
           "red",
           "yellow",
           "green",
           "green",
           "green",
           "green",
           "green",
           "green",
           "green",
           "green",
           "green",
           "green",
           "green",
           "green",
           "green",
           "green",
           "green",
           "green",
           "green",
           "green",
           "green",
           "green",
           "green",
           "green",
           "green",
           "green",
           "green",
           "green",
           "green",
           "green",
           "green",
           "green",
           "green",
           "green",
           "green",
           "green",
           "green",
           "green",
           "green",
           "green",
           "green",
           "green",
           "green",
           "green",
           "green",
           "green",
           "green",
           "green",
           "green",
           "green",
           "green",
           "green",
           "green",
           "green",
           "green",
           "green",
           "green",
           "green",
           "green",
           "green",
           "green",
           "green",
           "green",
           "green",
           "green",
           "green",
           "green",
           "green",
           "green",
           "green",
           "green",
           "green",
           "green",
           "green"
          ],
          "opacity": 0.7
         },
         "name": "Liquidity",
         "type": "bar",
         "x": {
          "bdata": "O6bKxFulWkBLjkdykulaQFHpOMB3LltA2R6qbQ10W0COBR8+VbpbQPlUn/lQAVxAizTCbAJJXEBE6Lloa5FcQDubX8ON2lxATUg/V2skXUBYwaMDBm9dQDPVoqxful1AxZQpO3oGXkCKtwidV1NeQMYfAcX5oF5A0H7QqmLvXkCuGT5LlD5fQGuuJ6iQjl9AZ3qOyFnfX0ADMVLceBhgQAad7EStQWBAeRl0KUtrYEBUs/KXU5VgQHvEJaHHv2BAfN2EWKjqYED7wEjU9hVhQP1wci20QWFASE7Sf+FtYUDxSQ/qf5phQGcpro2Qx2FABN0YjxT1YUB36aUVDSNiQB/kn0t7UWJAkAJNXmCAYkB4vfZ9va9iQAuH8d2T32JAMZWktOQPY0Clv5E7sUBjQDRyXa/6cWNAWLPWT8KjY0BgP/9fCdZjQFW4EybRCGRA0OqT6xo8ZEALKEv9529kQD61WKs5pGRAqFA4SRHZZEBXzMotcA5lQAa/XrNXRGVALUu5N8l6ZUCR/B4cxrFlQIi8XMVP6WVAI93Qm2chZkCCO3QLD1pmQIt544NHk2ZAPU9oeBLNZkDf8wJgcQdnQEWfc7VlQmdAbCNE9/B9Z0ContGnFLpnQKVGVk3S9mdAeUzzcSs0aEAJ2rqjIXJoQAQpunS2sGhAq7MDe+vvaEC0f7lQwi9pQIqDF5Q8cGlAIyZ+51uxaUC32XzxIfNpQKfR3FyQNWpAwNOr2Kh4akA6JUcYbbxqQK6TZtPeAGtAR5onxv9Fa0CAoxix0YtrQLJnRFlW0mtAu2g9iI8ZbEAPiykMf2FsQHPMzbcmqmxAvBiaYojzbEDSPLXopT1tQE/4CCuBiG1A/i1ODxzUbUCTMxmAeCBuQONA5myYbW5A+v4lyn27bkBJN0qRKgpvQFyj0sCgWW9AUN1ZXOKpb0BycaJs8fpvQKcI0v9nJnBAQnRMFMBPcEDmiQUAgnlwQDMd8dGuo3BALKW4m0fOcEDxK8JxTflwQDlQN2vBJHFAtFgMoqRQcUCXWQcz+HxxQGhsxz29qXFASvrL5PTWcUD0GHxNoARyQHz6LaDAMnJAMHAuCFdhckCsgMizZJByQFERTdTqv3JAaaManurvckALJaVIZSBzQA7WfQ5cUXNAKEFbLdCCc0B9SSHmwrRzQMhM6Xw153NAWVoKOSkadEAYfyFln010QMMmGk+ZgXRArJI2SBi2dEAPZhilHet0QFxIyb2qIHVAkJ3D7cBWdUDmVPuTYY11QBHO5hKOxHVAP9WH0Ef8dUAatnQ2kDR2QABm4bFobXZAvsWos9KmdkDr+lWwz+B2QEThLSBhG3dAKZQ4f4hWd0CGEEtNR5J3QGjvEA6fzndAezkWSZELeECoU9GJH0l4QCIFrV9Lh3hAG5cSXhbGeEBgDnQcggV5QCl/VjaQRXlAT3tcS0KGeUBDm1D/mcd5QPAhMPqYCXpA4Ls16EBMekDqWeR5k496QJ0nEmSS03pA",
          "dtype": "f8"
         },
         "y": {
          "bdata": "yQBQxQ3eY0D4UnjQ7GVkQMFwrmGGiGZAr30BvfCGZkCk4v+OKIRmQPiov15hgWZAysStgph+ZkAShCug0HtmQEme6/tw0mlAyQImcOvQaUDjUSrhic5pQLVwWYXNy2lABwsnaf7IaUARxeQNMMZpQA0zNJ4IEmpAZePBFrsPakDgTEwX4g1qQIZwzLKnC2pAecxAZXw7akDWcfxQaTlqQGnDYWlgN2pAOX09XzNHakDUu3g/7lZqQLywNVt5u25AAI49ey7AbkAIkQw5tsZuQIjxmle1/n5AM8FwriGKf0DRH5p5sjB/QOlkqfU+DH9ATU7tDNPJfkDbMuAspXR+QBEBh1AlxH5AvceZJmx+fkC4yagyTCp+QP+z5sffAX5AhGHAkusgfkAUtMnhE4x/QGyTisa6/4BA+l+uRWv2gEA0n3O3y8mAQEwao3VUnYBAV+wvu4eegED1EI3uIH+AQCLi5lTyoYBANfEO8GSHgEAqApze5VuAQOXxtPwAbYBAAn6NJKHFgEDql4i3DqGBQIld29tN7YBAjGmme90egUDhDP5+UUKBQIo8SbpmeIFAC9XNxf+fgUBjmule5ymCQFcKgVwCzIJAQbeXNAYWg0B9PPTdzQuEQFezzvj+D4NAYB4y5QMtg0CZ2Hxc20qDQFsHB3vzZYNAo5I6AY0lg0B3vwrwvQKDQLmLMEXZ5IFApdx9jg/VgUBCrz+JD8WBQCXaedBwxIBAHiDjXGP4f0CLAFwEY45/QKjMXU7pTH5AElfL6TcqfkCdnxV2gwd+QJtsCDdr631A5qZlqac8iUBapfHMuSGJQEbGbNJhMohAeOcB7hcZiEC6MUFHN/aHQHZi/SkPzYdA8528A6Wfh0CuzVge7XaHQJlELLaYPYdAdp+MGH4Vh0C659n9xe2GQC3AkR2qw4ZACqvNKxCShkD8W5LRF2uGQPob7gZURIZABbKQQ3jvhUCUdOS09rqFQCpp/vp5xIRAocNxeE6ghEDRRurmVHyEQMFvS3FgpnxAn/F0goqIe0BwXLPOlh97QMPQqwW3XHpA8y+revvteUA8GrM9au54QM+4JMVFj3dAaB9hglzIdkBwPonP3vR1QK7NleBOTnRA/4ehZL3uc0C1WD1eD75zQDsC1g/YjXNAOMrPqO1Oc0BAspGQjRRzQFAE4JxD0HJAwZ5j/nxmckC5QQlnmSNyQBdTw246jHFAoPqQbMYMcUCMEsg28p5wQLbhSIkk829AS3r1Quchb0DTry5od7puQKWIzhCqD25AkDqqIyqybUBhfO9bOlhsQFLSgtg7AWxA5IcU22+7a0BZxdC6vX9qQF7ATNi8PWpAAy7x8iD0aUDCLT8TfLNpQOjepCh4c2lAMfagpRM0aUDZLp75TPVoQMGY5p8it2hA3gTuDpN5aEAWdibInDxoQBQ2ytCVoGdAsglDjSUsZ0B8ryK9o/FmQA6JoqW1t2ZAc/T/0Fl+ZkCojk7OjkVmQIF/JjBTDWZA",
          "dtype": "f8"
         }
        }
       ],
       "layout": {
        "annotations": [
         {
          "showarrow": false,
          "text": "Current Price: $209.67",
          "x": 209.6738724053259,
          "xanchor": "center",
          "xref": "x",
          "y": 1,
          "yanchor": "bottom",
          "yref": "y domain"
         }
        ],
        "height": 600,
        "hovermode": "x unified",
        "shapes": [
         {
          "line": {
           "color": "blue",
           "dash": "dash",
           "width": 2
          },
          "type": "line",
          "x0": 209.6738724053259,
          "x1": 209.6738724053259,
          "xref": "x",
          "y0": 0,
          "y1": 1,
          "yref": "y domain"
         }
        ],
        "showlegend": true,
        "template": {
         "data": {
          "bar": [
           {
            "error_x": {
             "color": "#2a3f5f"
            },
            "error_y": {
             "color": "#2a3f5f"
            },
            "marker": {
             "line": {
              "color": "white",
              "width": 0.5
             },
             "pattern": {
              "fillmode": "overlay",
              "size": 10,
              "solidity": 0.2
             }
            },
            "type": "bar"
           }
          ],
          "barpolar": [
           {
            "marker": {
             "line": {
              "color": "white",
              "width": 0.5
             },
             "pattern": {
              "fillmode": "overlay",
              "size": 10,
              "solidity": 0.2
             }
            },
            "type": "barpolar"
           }
          ],
          "carpet": [
           {
            "aaxis": {
             "endlinecolor": "#2a3f5f",
             "gridcolor": "#C8D4E3",
             "linecolor": "#C8D4E3",
             "minorgridcolor": "#C8D4E3",
             "startlinecolor": "#2a3f5f"
            },
            "baxis": {
             "endlinecolor": "#2a3f5f",
             "gridcolor": "#C8D4E3",
             "linecolor": "#C8D4E3",
             "minorgridcolor": "#C8D4E3",
             "startlinecolor": "#2a3f5f"
            },
            "type": "carpet"
           }
          ],
          "choropleth": [
           {
            "colorbar": {
             "outlinewidth": 0,
             "ticks": ""
            },
            "type": "choropleth"
           }
          ],
          "contour": [
           {
            "colorbar": {
             "outlinewidth": 0,
             "ticks": ""
            },
            "colorscale": [
             [
              0,
              "#0d0887"
             ],
             [
              0.1111111111111111,
              "#46039f"
             ],
             [
              0.2222222222222222,
              "#7201a8"
             ],
             [
              0.3333333333333333,
              "#9c179e"
             ],
             [
              0.4444444444444444,
              "#bd3786"
             ],
             [
              0.5555555555555556,
              "#d8576b"
             ],
             [
              0.6666666666666666,
              "#ed7953"
             ],
             [
              0.7777777777777778,
              "#fb9f3a"
             ],
             [
              0.8888888888888888,
              "#fdca26"
             ],
             [
              1,
              "#f0f921"
             ]
            ],
            "type": "contour"
           }
          ],
          "contourcarpet": [
           {
            "colorbar": {
             "outlinewidth": 0,
             "ticks": ""
            },
            "type": "contourcarpet"
           }
          ],
          "heatmap": [
           {
            "colorbar": {
             "outlinewidth": 0,
             "ticks": ""
            },
            "colorscale": [
             [
              0,
              "#0d0887"
             ],
             [
              0.1111111111111111,
              "#46039f"
             ],
             [
              0.2222222222222222,
              "#7201a8"
             ],
             [
              0.3333333333333333,
              "#9c179e"
             ],
             [
              0.4444444444444444,
              "#bd3786"
             ],
             [
              0.5555555555555556,
              "#d8576b"
             ],
             [
              0.6666666666666666,
              "#ed7953"
             ],
             [
              0.7777777777777778,
              "#fb9f3a"
             ],
             [
              0.8888888888888888,
              "#fdca26"
             ],
             [
              1,
              "#f0f921"
             ]
            ],
            "type": "heatmap"
           }
          ],
          "histogram": [
           {
            "marker": {
             "pattern": {
              "fillmode": "overlay",
              "size": 10,
              "solidity": 0.2
             }
            },
            "type": "histogram"
           }
          ],
          "histogram2d": [
           {
            "colorbar": {
             "outlinewidth": 0,
             "ticks": ""
            },
            "colorscale": [
             [
              0,
              "#0d0887"
             ],
             [
              0.1111111111111111,
              "#46039f"
             ],
             [
              0.2222222222222222,
              "#7201a8"
             ],
             [
              0.3333333333333333,
              "#9c179e"
             ],
             [
              0.4444444444444444,
              "#bd3786"
             ],
             [
              0.5555555555555556,
              "#d8576b"
             ],
             [
              0.6666666666666666,
              "#ed7953"
             ],
             [
              0.7777777777777778,
              "#fb9f3a"
             ],
             [
              0.8888888888888888,
              "#fdca26"
             ],
             [
              1,
              "#f0f921"
             ]
            ],
            "type": "histogram2d"
           }
          ],
          "histogram2dcontour": [
           {
            "colorbar": {
             "outlinewidth": 0,
             "ticks": ""
            },
            "colorscale": [
             [
              0,
              "#0d0887"
             ],
             [
              0.1111111111111111,
              "#46039f"
             ],
             [
              0.2222222222222222,
              "#7201a8"
             ],
             [
              0.3333333333333333,
              "#9c179e"
             ],
             [
              0.4444444444444444,
              "#bd3786"
             ],
             [
              0.5555555555555556,
              "#d8576b"
             ],
             [
              0.6666666666666666,
              "#ed7953"
             ],
             [
              0.7777777777777778,
              "#fb9f3a"
             ],
             [
              0.8888888888888888,
              "#fdca26"
             ],
             [
              1,
              "#f0f921"
             ]
            ],
            "type": "histogram2dcontour"
           }
          ],
          "mesh3d": [
           {
            "colorbar": {
             "outlinewidth": 0,
             "ticks": ""
            },
            "type": "mesh3d"
           }
          ],
          "parcoords": [
           {
            "line": {
             "colorbar": {
              "outlinewidth": 0,
              "ticks": ""
             }
            },
            "type": "parcoords"
           }
          ],
          "pie": [
           {
            "automargin": true,
            "type": "pie"
           }
          ],
          "scatter": [
           {
            "fillpattern": {
             "fillmode": "overlay",
             "size": 10,
             "solidity": 0.2
            },
            "type": "scatter"
           }
          ],
          "scatter3d": [
           {
            "line": {
             "colorbar": {
              "outlinewidth": 0,
              "ticks": ""
             }
            },
            "marker": {
             "colorbar": {
              "outlinewidth": 0,
              "ticks": ""
             }
            },
            "type": "scatter3d"
           }
          ],
          "scattercarpet": [
           {
            "marker": {
             "colorbar": {
              "outlinewidth": 0,
              "ticks": ""
             }
            },
            "type": "scattercarpet"
           }
          ],
          "scattergeo": [
           {
            "marker": {
             "colorbar": {
              "outlinewidth": 0,
              "ticks": ""
             }
            },
            "type": "scattergeo"
           }
          ],
          "scattergl": [
           {
            "marker": {
             "colorbar": {
              "outlinewidth": 0,
              "ticks": ""
             }
            },
            "type": "scattergl"
           }
          ],
          "scattermap": [
           {
            "marker": {
             "colorbar": {
              "outlinewidth": 0,
              "ticks": ""
             }
            },
            "type": "scattermap"
           }
          ],
          "scattermapbox": [
           {
            "marker": {
             "colorbar": {
              "outlinewidth": 0,
              "ticks": ""
             }
            },
            "type": "scattermapbox"
           }
          ],
          "scatterpolar": [
           {
            "marker": {
             "colorbar": {
              "outlinewidth": 0,
              "ticks": ""
             }
            },
            "type": "scatterpolar"
           }
          ],
          "scatterpolargl": [
           {
            "marker": {
             "colorbar": {
              "outlinewidth": 0,
              "ticks": ""
             }
            },
            "type": "scatterpolargl"
           }
          ],
          "scatterternary": [
           {
            "marker": {
             "colorbar": {
              "outlinewidth": 0,
              "ticks": ""
             }
            },
            "type": "scatterternary"
           }
          ],
          "surface": [
           {
            "colorbar": {
             "outlinewidth": 0,
             "ticks": ""
            },
            "colorscale": [
             [
              0,
              "#0d0887"
             ],
             [
              0.1111111111111111,
              "#46039f"
             ],
             [
              0.2222222222222222,
              "#7201a8"
             ],
             [
              0.3333333333333333,
              "#9c179e"
             ],
             [
              0.4444444444444444,
              "#bd3786"
             ],
             [
              0.5555555555555556,
              "#d8576b"
             ],
             [
              0.6666666666666666,
              "#ed7953"
             ],
             [
              0.7777777777777778,
              "#fb9f3a"
             ],
             [
              0.8888888888888888,
              "#fdca26"
             ],
             [
              1,
              "#f0f921"
             ]
            ],
            "type": "surface"
           }
          ],
          "table": [
           {
            "cells": {
             "fill": {
              "color": "#EBF0F8"
             },
             "line": {
              "color": "white"
             }
            },
            "header": {
             "fill": {
              "color": "#C8D4E3"
             },
             "line": {
              "color": "white"
             }
            },
            "type": "table"
           }
          ]
         },
         "layout": {
          "annotationdefaults": {
           "arrowcolor": "#2a3f5f",
           "arrowhead": 0,
           "arrowwidth": 1
          },
          "autotypenumbers": "strict",
          "coloraxis": {
           "colorbar": {
            "outlinewidth": 0,
            "ticks": ""
           }
          },
          "colorscale": {
           "diverging": [
            [
             0,
             "#8e0152"
            ],
            [
             0.1,
             "#c51b7d"
            ],
            [
             0.2,
             "#de77ae"
            ],
            [
             0.3,
             "#f1b6da"
            ],
            [
             0.4,
             "#fde0ef"
            ],
            [
             0.5,
             "#f7f7f7"
            ],
            [
             0.6,
             "#e6f5d0"
            ],
            [
             0.7,
             "#b8e186"
            ],
            [
             0.8,
             "#7fbc41"
            ],
            [
             0.9,
             "#4d9221"
            ],
            [
             1,
             "#276419"
            ]
           ],
           "sequential": [
            [
             0,
             "#0d0887"
            ],
            [
             0.1111111111111111,
             "#46039f"
            ],
            [
             0.2222222222222222,
             "#7201a8"
            ],
            [
             0.3333333333333333,
             "#9c179e"
            ],
            [
             0.4444444444444444,
             "#bd3786"
            ],
            [
             0.5555555555555556,
             "#d8576b"
            ],
            [
             0.6666666666666666,
             "#ed7953"
            ],
            [
             0.7777777777777778,
             "#fb9f3a"
            ],
            [
             0.8888888888888888,
             "#fdca26"
            ],
            [
             1,
             "#f0f921"
            ]
           ],
           "sequentialminus": [
            [
             0,
             "#0d0887"
            ],
            [
             0.1111111111111111,
             "#46039f"
            ],
            [
             0.2222222222222222,
             "#7201a8"
            ],
            [
             0.3333333333333333,
             "#9c179e"
            ],
            [
             0.4444444444444444,
             "#bd3786"
            ],
            [
             0.5555555555555556,
             "#d8576b"
            ],
            [
             0.6666666666666666,
             "#ed7953"
            ],
            [
             0.7777777777777778,
             "#fb9f3a"
            ],
            [
             0.8888888888888888,
             "#fdca26"
            ],
            [
             1,
             "#f0f921"
            ]
           ]
          },
          "colorway": [
           "#636efa",
           "#EF553B",
           "#00cc96",
           "#ab63fa",
           "#FFA15A",
           "#19d3f3",
           "#FF6692",
           "#B6E880",
           "#FF97FF",
           "#FECB52"
          ],
          "font": {
           "color": "#2a3f5f"
          },
          "geo": {
           "bgcolor": "white",
           "lakecolor": "white",
           "landcolor": "white",
           "showlakes": true,
           "showland": true,
           "subunitcolor": "#C8D4E3"
          },
          "hoverlabel": {
           "align": "left"
          },
          "hovermode": "closest",
          "mapbox": {
           "style": "light"
          },
          "paper_bgcolor": "white",
          "plot_bgcolor": "white",
          "polar": {
           "angularaxis": {
            "gridcolor": "#EBF0F8",
            "linecolor": "#EBF0F8",
            "ticks": ""
           },
           "bgcolor": "white",
           "radialaxis": {
            "gridcolor": "#EBF0F8",
            "linecolor": "#EBF0F8",
            "ticks": ""
           }
          },
          "scene": {
           "xaxis": {
            "backgroundcolor": "white",
            "gridcolor": "#DFE8F3",
            "gridwidth": 2,
            "linecolor": "#EBF0F8",
            "showbackground": true,
            "ticks": "",
            "zerolinecolor": "#EBF0F8"
           },
           "yaxis": {
            "backgroundcolor": "white",
            "gridcolor": "#DFE8F3",
            "gridwidth": 2,
            "linecolor": "#EBF0F8",
            "showbackground": true,
            "ticks": "",
            "zerolinecolor": "#EBF0F8"
           },
           "zaxis": {
            "backgroundcolor": "white",
            "gridcolor": "#DFE8F3",
            "gridwidth": 2,
            "linecolor": "#EBF0F8",
            "showbackground": true,
            "ticks": "",
            "zerolinecolor": "#EBF0F8"
           }
          },
          "shapedefaults": {
           "line": {
            "color": "#2a3f5f"
           }
          },
          "ternary": {
           "aaxis": {
            "gridcolor": "#DFE8F3",
            "linecolor": "#A2B1C6",
            "ticks": ""
           },
           "baxis": {
            "gridcolor": "#DFE8F3",
            "linecolor": "#A2B1C6",
            "ticks": ""
           },
           "bgcolor": "white",
           "caxis": {
            "gridcolor": "#DFE8F3",
            "linecolor": "#A2B1C6",
            "ticks": ""
           }
          },
          "title": {
           "x": 0.05
          },
          "xaxis": {
           "automargin": true,
           "gridcolor": "#EBF0F8",
           "linecolor": "#EBF0F8",
           "ticks": "",
           "title": {
            "standoff": 15
           },
           "zerolinecolor": "#EBF0F8",
           "zerolinewidth": 2
          },
          "yaxis": {
           "automargin": true,
           "gridcolor": "#EBF0F8",
           "linecolor": "#EBF0F8",
           "ticks": "",
           "title": {
            "standoff": 15
           },
           "zerolinecolor": "#EBF0F8",
           "zerolinewidth": 2
          }
         }
        },
        "title": {
         "font": {
          "family": "Arial Bold",
          "size": 18
         },
         "text": "SOL/USDC • 0.04% Fee • Bin Step: 100<br><sub>2025-09-24 03:47 UTC</sub>",
         "x": 0.5,
         "xanchor": "center"
        },
        "width": 1200,
        "xaxis": {
         "gridcolor": "#E0E0E0",
         "gridwidth": 1,
         "showgrid": true,
         "title": {
          "text": "Price"
         }
        },
        "yaxis": {
         "title": {
          "text": "Liquidity"
         }
        }
       }
      }
     },
     "metadata": {},
     "output_type": "display_data"
    },
    {
     "name": "stdout",
     "output_type": "stream",
     "text": [
      "  💾 Chart saved using GatewayDataSource: /tmp/meteora_SOL_USDC_0p04pct_bin100_chart.png\n",
      "  📋 Chart stored for Telegram sending\n",
      "\n",
      "🎨 Chart 2/3: JUP/SOL Pool\n",
      "  ✅ Chart generated for JUP/SOL\n"
     ]
    },
    {
     "data": {
      "application/vnd.plotly.v1+json": {
       "config": {
        "plotlyServerURL": "https://plot.ly"
       },
       "data": [
        {
         "customdata": {
          "bdata": "HAAdAB4AHwAgACEAIgAjACQAJQAmACcAKAApACoAKwAsAC0ALgAvADAAMQAyADMANAA1ADYANwA4ADkAOgA7ADwAPQA+AD8AQABBAEIAQwBEAEUARgBHAEgASQBKAEsATABNAE4ATwBQAFEAUgBTAFQAVQBWAFcAWABZAFoAWwBcAF0AXgBfAGAAYQBiAGMAZABlAGYAZwBoAGkAagBrAGwAbQBuAG8AcABxAHIAcwB0AHUAdgB3AHgAeQB6AHsAfAB9AH4AfwCAAIEAggCDAIQAhQCGAIcAiACJAIoAiwCMAI0AjgCPAJAAkQCSAJMAlACVAJYAlwCYAJkAmgCbAJwAnQCeAJ8AoAChAKIAowCkAKUApgCnAKgA",
          "dtype": "i2"
         },
         "hovertemplate": "Price: %{x:.8f}<br>Liquidity: %{y:,.0f}<br>Bin ID: %{customdata}<br><extra></extra>",
         "marker": {
          "color": [
           "red",
           "red",
           "red",
           "red",
           "red",
           "red",
           "red",
           "red",
           "red",
           "red",
           "red",
           "red",
           "red",
           "red",
           "red",
           "red",
           "red",
           "red",
           "red",
           "red",
           "red",
           "red",
           "red",
           "red",
           "red",
           "red",
           "red",
           "red",
           "red",
           "red",
           "red",
           "red",
           "red",
           "red",
           "red",
           "red",
           "red",
           "red",
           "red",
           "red",
           "red",
           "red",
           "red",
           "red",
           "red",
           "red",
           "red",
           "red",
           "red",
           "red",
           "red",
           "red",
           "red",
           "red",
           "red",
           "red",
           "red",
           "red",
           "red",
           "red",
           "red",
           "red",
           "red",
           "red",
           "red",
           "red",
           "red",
           "red",
           "red",
           "red",
           "red",
           "yellow",
           "green",
           "green",
           "green",
           "green",
           "green",
           "green",
           "green",
           "green",
           "green",
           "green",
           "green",
           "green",
           "green",
           "green",
           "green",
           "green",
           "green",
           "green",
           "green",
           "green",
           "green",
           "green",
           "green",
           "green",
           "green",
           "green",
           "green",
           "green",
           "green",
           "green",
           "green",
           "green",
           "green",
           "green",
           "green",
           "green",
           "green",
           "green",
           "green",
           "green",
           "green",
           "green",
           "green",
           "green",
           "green",
           "green",
           "green",
           "green",
           "green",
           "green",
           "green",
           "green",
           "green",
           "green",
           "green",
           "green",
           "green",
           "green",
           "green",
           "green",
           "green",
           "green",
           "green",
           "green",
           "green",
           "green",
           "green",
           "green",
           "green"
          ],
          "opacity": 0.7
         },
         "name": "Liquidity",
         "type": "bar",
         "x": {
          "bdata": "ZPBOkrJ6VD+/BLido6RUPwK5mI7qzlQ/AHvbFIj5VD8O/9LhfCRVP90hPajJT1U/N9BFHG97VT+z9InzbadVP2RrGuXG01U/nPt+qXoAVj+8V7n6iS1WPzAjSJT1WlY/m/4pM76IVj8+muCV5LZWP63Oc3xp5VY/2rt0qE0UVz+B7gDdkUNXPxCMxd42c1c//YQCdD2jVz+8zY1kptNXPzqe1nlyBFg/ErjofqI1WD9ms29AN2dYP4dSuowxmVg/aNy9M5LLWD/qfRkHWv5YPx+yGdqJMVk/f7G7gSJlWT8q6LDUJJlZPz1zYquRzVk/UKX032kCWj8okkpOrjdaP6mhCdRfbVo/HyqdUH+jWj/iETqlDdpaP2144rQLEVs/9WZpZHpIWz+MiHaaWoBbP+bpiT+tuFs/w8D/PXPxWz8iOxSCrSpcPztW5/lcZFw/Ur2AlYKeXD+AsNNGH9lcP3PzwgE0FF0/PsQkvMFPXT9L2sZtyYtdP3JtchBMyF0/XUXwn0oFXj8v0QwaxkJeP5dHnH6/gF4/Vc9+zze/Xj85sKQQMP5eP8WMEkipPV8/bKTlfaR9Xz+SHli8Ir5fP01exQ8l/18/hy9XQ1YgYD8YDd8YXUFgP8T65pGnYmA/ih31ODaEYD/hTKuZCaZgP7xXyUAiyGA/Mk4vvIDqYD/Zz9+aJQ1hP9JeAm0RMGE/pbflw0RTYT/ZLQIywHZhP3MN/EqEmmE/RAGmo5G+YT81fgPS6OJhP3AzS22KB2I/oH/pDXcsYj8l64JNr1FiP2Wn9sYzd2I/OhNhFgWdYj+JRB7ZI8NiPwCXzK2Q6WI/JUBPNEwQYz+Y6NANVzdjP7ZKxtyxXmM/k9bwRF2GYz9dW2HrWa5jPzS2enao1mM/g4b0jUn/Yz/Y593aPShkP2ExoAeGUWQ//boBwCJ7ZD8BqCixFKVkP6+3nYlcz2Q/dRtP+fr5ZD/5UpOx8CRlPwEOLGU+UGU/QxRJyOR7ZT8lM4uQ5KdlP4ExB3U+1GU/dMlILvMAZj9AqFV2Ay5mP1l0sAhwW2Y/odlbojmJZj/im90BYbdmP5CvQefm5WY/51gdFMwUZz9sUZJLEURnP93zUVK3c2c/pm6g7r6jZz/Y/FfoKNRnP8cl7Aj2BGg/RANtGyc2aD+OjorsvGdoPwz0l0q4mWg/z+2OBRrMaD/1JBPv4v5oP/6ZddoTMmk/DhS4nK1laT9Jl5AMsZlpPzribAIfzmk/X/J1WPgCaj/1j5PqPThqP/vgb5bwbWo/jQN7OxGkaj+cr+66oNpqPx7g0fefEWs/tIP81g9Jaz/jNBs/8YBrP+v5shhFuWs/TQwlTgzyaz8MqLLLRytsP7zigH/4ZGw/cIqcWR+fbD+RDP5LvdlsP7tkjUrTFG0/nhMmS2JQbT8EHptFa4xtPwQUuzPvyG0/dyBUEe8Fbj+5IDjca0NuP9PEQJRmgW4/ELhTO+C/bj8d0mbV2f5uP7lQhGhUPm8/",
          "dtype": "f8"
         },
         "y": {
          "bdata": "wJMWLquwWT/AkxYuq7BZP8LNvv9KP60/R/xxmLvYrD/MKiUxLHKsP1FZ2MmcC6w/1YeLYg2lqz9atj77fT6rP9/k8ZPu16o/31+QNobnqz9MTt7hJaG0P5pATu4wU7Q/5zK++jsFtD81JS4HR7ezP0zbE7JgU7Q/mc2DvmsFtD/nv/PKdrezPzWyY9eBabM/gqTT44wbsz/QlkPwl82yPx6Js/yif7I/a3sjCa4xsj+5bZMVueOxPwdgAyLElbE/VVJzLs9HsT+iROM62vmwP4deyOhVJLU/1FA49WDWtD8kEHz6cuC1P3IC7AZ+krU/l+GiB/xptT/ACXMlfBu1P/Cu9z78zLQ/i5jX5gYQtT9ORXYacxvcP2nQFF2+JeE/QIm4Aevt4z9PaZKS/RfnP/GZwR9Ltfg/zr9EWUvL+D/5RDn5duj+P/aCITsHwANAyAUbYrL4A0Dn3OMIpgFrQHaG60lHBWtA9cbexRoGa0BsYj+TJgZrQPxWjVPkHmtAMRpfn+wja0BzZFI00DRrQF9CaLGyOGtAvAI0vj1Pa0AN7ipLVFFrQC3GD4EyUWtA8wla+pBRa0AGcmoWsVJrQCDXeWCPU2tAYZRHB1lda0DeQGUic19rQGJQZLVSYmtAigzJzl1ja0B5b/gciWVrQCcSkwr/bGtAjoiZ5SFta0Bgs9NEjHVrQJOzNuHseWtASsFaglqRa0BfCqL9rutrQOZtI6ANOGxAq92fIOvXbkDrMqanoo9wQGx1gPpTn3BAFYQcFosPcEBWq4Vd+W5vQI4BeANQNG9Aj+7BaY6kbkCShGGE6m5uQDmjijPgNG5AZxvQRfX4bUDcKnpYCu9rQEUzJz8VK2tAHYxbTIv3akAc1/atwM1qQFwnUwvjlmpAS/n64VdpakCdQ++6PjlqQJD1+mZ4JmpAXut/piX5aUCXxqbwidNpQH957YH3o2lA5lpUMq5zaUB20oenzkJpQNrur1L9FmlAn8gAM1nraEDd9LBaLKg3QKIs2o2qsjdARQnZmklfOEBoFsSlzbc4QF2JHeg2rzlANFHTi1DGOUA0HA+q1eE5QDiehvAr6TlASJxfjXf5OUB19XYpdQ06QCpq9x0QVjlATfdXNJFGOUDBU7eFyMg5QII8+G53cTlAUz/SZIPTOkBfwUR142dMQA7AohMJ9EtAMF/JZu/XS0CHCfi+eWxMQIrHD2NGH0tAUl4CJtTVSkC8D5tghKZKQLWcEJZuN0pATiq29HdYSkDLJipmkvhJQLMqW8cttklALNckSmWsSUCUXKeiQmxJQAb3JaBLQklADWENEiQcSUDUOI1tXAFJQHmNyLjz9EhAXfKTeirbSEA4tImL/sZIQCPTaDAybEhA7I7g8jZMSEC2smYAz0FIQCBIEqYd5kdA/Fs8uCGBSUB9/WdpxQtKQNVWCczVXkpAczk+gvNOPECMxMkI5lg7QAJmAQFbEDtAAiIVaCHxO0BD/tSyMxg6QOJk2BEeIjpA",
          "dtype": "f8"
         }
        }
       ],
       "layout": {
        "annotations": [
         {
          "showarrow": false,
          "text": "Current Price: $0.0022009",
          "x": 0.0022008613253547346,
          "xanchor": "center",
          "xref": "x",
          "y": 1,
          "yanchor": "bottom",
          "yref": "y domain"
         }
        ],
        "height": 600,
        "hovermode": "x unified",
        "shapes": [
         {
          "line": {
           "color": "blue",
           "dash": "dash",
           "width": 2
          },
          "type": "line",
          "x0": 0.0022008613253547346,
          "x1": 0.0022008613253547346,
          "xref": "x",
          "y0": 0,
          "y1": 1,
          "yref": "y domain"
         }
        ],
        "showlegend": true,
        "template": {
         "data": {
          "bar": [
           {
            "error_x": {
             "color": "#2a3f5f"
            },
            "error_y": {
             "color": "#2a3f5f"
            },
            "marker": {
             "line": {
              "color": "white",
              "width": 0.5
             },
             "pattern": {
              "fillmode": "overlay",
              "size": 10,
              "solidity": 0.2
             }
            },
            "type": "bar"
           }
          ],
          "barpolar": [
           {
            "marker": {
             "line": {
              "color": "white",
              "width": 0.5
             },
             "pattern": {
              "fillmode": "overlay",
              "size": 10,
              "solidity": 0.2
             }
            },
            "type": "barpolar"
           }
          ],
          "carpet": [
           {
            "aaxis": {
             "endlinecolor": "#2a3f5f",
             "gridcolor": "#C8D4E3",
             "linecolor": "#C8D4E3",
             "minorgridcolor": "#C8D4E3",
             "startlinecolor": "#2a3f5f"
            },
            "baxis": {
             "endlinecolor": "#2a3f5f",
             "gridcolor": "#C8D4E3",
             "linecolor": "#C8D4E3",
             "minorgridcolor": "#C8D4E3",
             "startlinecolor": "#2a3f5f"
            },
            "type": "carpet"
           }
          ],
          "choropleth": [
           {
            "colorbar": {
             "outlinewidth": 0,
             "ticks": ""
            },
            "type": "choropleth"
           }
          ],
          "contour": [
           {
            "colorbar": {
             "outlinewidth": 0,
             "ticks": ""
            },
            "colorscale": [
             [
              0,
              "#0d0887"
             ],
             [
              0.1111111111111111,
              "#46039f"
             ],
             [
              0.2222222222222222,
              "#7201a8"
             ],
             [
              0.3333333333333333,
              "#9c179e"
             ],
             [
              0.4444444444444444,
              "#bd3786"
             ],
             [
              0.5555555555555556,
              "#d8576b"
             ],
             [
              0.6666666666666666,
              "#ed7953"
             ],
             [
              0.7777777777777778,
              "#fb9f3a"
             ],
             [
              0.8888888888888888,
              "#fdca26"
             ],
             [
              1,
              "#f0f921"
             ]
            ],
            "type": "contour"
           }
          ],
          "contourcarpet": [
           {
            "colorbar": {
             "outlinewidth": 0,
             "ticks": ""
            },
            "type": "contourcarpet"
           }
          ],
          "heatmap": [
           {
            "colorbar": {
             "outlinewidth": 0,
             "ticks": ""
            },
            "colorscale": [
             [
              0,
              "#0d0887"
             ],
             [
              0.1111111111111111,
              "#46039f"
             ],
             [
              0.2222222222222222,
              "#7201a8"
             ],
             [
              0.3333333333333333,
              "#9c179e"
             ],
             [
              0.4444444444444444,
              "#bd3786"
             ],
             [
              0.5555555555555556,
              "#d8576b"
             ],
             [
              0.6666666666666666,
              "#ed7953"
             ],
             [
              0.7777777777777778,
              "#fb9f3a"
             ],
             [
              0.8888888888888888,
              "#fdca26"
             ],
             [
              1,
              "#f0f921"
             ]
            ],
            "type": "heatmap"
           }
          ],
          "histogram": [
           {
            "marker": {
             "pattern": {
              "fillmode": "overlay",
              "size": 10,
              "solidity": 0.2
             }
            },
            "type": "histogram"
           }
          ],
          "histogram2d": [
           {
            "colorbar": {
             "outlinewidth": 0,
             "ticks": ""
            },
            "colorscale": [
             [
              0,
              "#0d0887"
             ],
             [
              0.1111111111111111,
              "#46039f"
             ],
             [
              0.2222222222222222,
              "#7201a8"
             ],
             [
              0.3333333333333333,
              "#9c179e"
             ],
             [
              0.4444444444444444,
              "#bd3786"
             ],
             [
              0.5555555555555556,
              "#d8576b"
             ],
             [
              0.6666666666666666,
              "#ed7953"
             ],
             [
              0.7777777777777778,
              "#fb9f3a"
             ],
             [
              0.8888888888888888,
              "#fdca26"
             ],
             [
              1,
              "#f0f921"
             ]
            ],
            "type": "histogram2d"
           }
          ],
          "histogram2dcontour": [
           {
            "colorbar": {
             "outlinewidth": 0,
             "ticks": ""
            },
            "colorscale": [
             [
              0,
              "#0d0887"
             ],
             [
              0.1111111111111111,
              "#46039f"
             ],
             [
              0.2222222222222222,
              "#7201a8"
             ],
             [
              0.3333333333333333,
              "#9c179e"
             ],
             [
              0.4444444444444444,
              "#bd3786"
             ],
             [
              0.5555555555555556,
              "#d8576b"
             ],
             [
              0.6666666666666666,
              "#ed7953"
             ],
             [
              0.7777777777777778,
              "#fb9f3a"
             ],
             [
              0.8888888888888888,
              "#fdca26"
             ],
             [
              1,
              "#f0f921"
             ]
            ],
            "type": "histogram2dcontour"
           }
          ],
          "mesh3d": [
           {
            "colorbar": {
             "outlinewidth": 0,
             "ticks": ""
            },
            "type": "mesh3d"
           }
          ],
          "parcoords": [
           {
            "line": {
             "colorbar": {
              "outlinewidth": 0,
              "ticks": ""
             }
            },
            "type": "parcoords"
           }
          ],
          "pie": [
           {
            "automargin": true,
            "type": "pie"
           }
          ],
          "scatter": [
           {
            "fillpattern": {
             "fillmode": "overlay",
             "size": 10,
             "solidity": 0.2
            },
            "type": "scatter"
           }
          ],
          "scatter3d": [
           {
            "line": {
             "colorbar": {
              "outlinewidth": 0,
              "ticks": ""
             }
            },
            "marker": {
             "colorbar": {
              "outlinewidth": 0,
              "ticks": ""
             }
            },
            "type": "scatter3d"
           }
          ],
          "scattercarpet": [
           {
            "marker": {
             "colorbar": {
              "outlinewidth": 0,
              "ticks": ""
             }
            },
            "type": "scattercarpet"
           }
          ],
          "scattergeo": [
           {
            "marker": {
             "colorbar": {
              "outlinewidth": 0,
              "ticks": ""
             }
            },
            "type": "scattergeo"
           }
          ],
          "scattergl": [
           {
            "marker": {
             "colorbar": {
              "outlinewidth": 0,
              "ticks": ""
             }
            },
            "type": "scattergl"
           }
          ],
          "scattermap": [
           {
            "marker": {
             "colorbar": {
              "outlinewidth": 0,
              "ticks": ""
             }
            },
            "type": "scattermap"
           }
          ],
          "scattermapbox": [
           {
            "marker": {
             "colorbar": {
              "outlinewidth": 0,
              "ticks": ""
             }
            },
            "type": "scattermapbox"
           }
          ],
          "scatterpolar": [
           {
            "marker": {
             "colorbar": {
              "outlinewidth": 0,
              "ticks": ""
             }
            },
            "type": "scatterpolar"
           }
          ],
          "scatterpolargl": [
           {
            "marker": {
             "colorbar": {
              "outlinewidth": 0,
              "ticks": ""
             }
            },
            "type": "scatterpolargl"
           }
          ],
          "scatterternary": [
           {
            "marker": {
             "colorbar": {
              "outlinewidth": 0,
              "ticks": ""
             }
            },
            "type": "scatterternary"
           }
          ],
          "surface": [
           {
            "colorbar": {
             "outlinewidth": 0,
             "ticks": ""
            },
            "colorscale": [
             [
              0,
              "#0d0887"
             ],
             [
              0.1111111111111111,
              "#46039f"
             ],
             [
              0.2222222222222222,
              "#7201a8"
             ],
             [
              0.3333333333333333,
              "#9c179e"
             ],
             [
              0.4444444444444444,
              "#bd3786"
             ],
             [
              0.5555555555555556,
              "#d8576b"
             ],
             [
              0.6666666666666666,
              "#ed7953"
             ],
             [
              0.7777777777777778,
              "#fb9f3a"
             ],
             [
              0.8888888888888888,
              "#fdca26"
             ],
             [
              1,
              "#f0f921"
             ]
            ],
            "type": "surface"
           }
          ],
          "table": [
           {
            "cells": {
             "fill": {
              "color": "#EBF0F8"
             },
             "line": {
              "color": "white"
             }
            },
            "header": {
             "fill": {
              "color": "#C8D4E3"
             },
             "line": {
              "color": "white"
             }
            },
            "type": "table"
           }
          ]
         },
         "layout": {
          "annotationdefaults": {
           "arrowcolor": "#2a3f5f",
           "arrowhead": 0,
           "arrowwidth": 1
          },
          "autotypenumbers": "strict",
          "coloraxis": {
           "colorbar": {
            "outlinewidth": 0,
            "ticks": ""
           }
          },
          "colorscale": {
           "diverging": [
            [
             0,
             "#8e0152"
            ],
            [
             0.1,
             "#c51b7d"
            ],
            [
             0.2,
             "#de77ae"
            ],
            [
             0.3,
             "#f1b6da"
            ],
            [
             0.4,
             "#fde0ef"
            ],
            [
             0.5,
             "#f7f7f7"
            ],
            [
             0.6,
             "#e6f5d0"
            ],
            [
             0.7,
             "#b8e186"
            ],
            [
             0.8,
             "#7fbc41"
            ],
            [
             0.9,
             "#4d9221"
            ],
            [
             1,
             "#276419"
            ]
           ],
           "sequential": [
            [
             0,
             "#0d0887"
            ],
            [
             0.1111111111111111,
             "#46039f"
            ],
            [
             0.2222222222222222,
             "#7201a8"
            ],
            [
             0.3333333333333333,
             "#9c179e"
            ],
            [
             0.4444444444444444,
             "#bd3786"
            ],
            [
             0.5555555555555556,
             "#d8576b"
            ],
            [
             0.6666666666666666,
             "#ed7953"
            ],
            [
             0.7777777777777778,
             "#fb9f3a"
            ],
            [
             0.8888888888888888,
             "#fdca26"
            ],
            [
             1,
             "#f0f921"
            ]
           ],
           "sequentialminus": [
            [
             0,
             "#0d0887"
            ],
            [
             0.1111111111111111,
             "#46039f"
            ],
            [
             0.2222222222222222,
             "#7201a8"
            ],
            [
             0.3333333333333333,
             "#9c179e"
            ],
            [
             0.4444444444444444,
             "#bd3786"
            ],
            [
             0.5555555555555556,
             "#d8576b"
            ],
            [
             0.6666666666666666,
             "#ed7953"
            ],
            [
             0.7777777777777778,
             "#fb9f3a"
            ],
            [
             0.8888888888888888,
             "#fdca26"
            ],
            [
             1,
             "#f0f921"
            ]
           ]
          },
          "colorway": [
           "#636efa",
           "#EF553B",
           "#00cc96",
           "#ab63fa",
           "#FFA15A",
           "#19d3f3",
           "#FF6692",
           "#B6E880",
           "#FF97FF",
           "#FECB52"
          ],
          "font": {
           "color": "#2a3f5f"
          },
          "geo": {
           "bgcolor": "white",
           "lakecolor": "white",
           "landcolor": "white",
           "showlakes": true,
           "showland": true,
           "subunitcolor": "#C8D4E3"
          },
          "hoverlabel": {
           "align": "left"
          },
          "hovermode": "closest",
          "mapbox": {
           "style": "light"
          },
          "paper_bgcolor": "white",
          "plot_bgcolor": "white",
          "polar": {
           "angularaxis": {
            "gridcolor": "#EBF0F8",
            "linecolor": "#EBF0F8",
            "ticks": ""
           },
           "bgcolor": "white",
           "radialaxis": {
            "gridcolor": "#EBF0F8",
            "linecolor": "#EBF0F8",
            "ticks": ""
           }
          },
          "scene": {
           "xaxis": {
            "backgroundcolor": "white",
            "gridcolor": "#DFE8F3",
            "gridwidth": 2,
            "linecolor": "#EBF0F8",
            "showbackground": true,
            "ticks": "",
            "zerolinecolor": "#EBF0F8"
           },
           "yaxis": {
            "backgroundcolor": "white",
            "gridcolor": "#DFE8F3",
            "gridwidth": 2,
            "linecolor": "#EBF0F8",
            "showbackground": true,
            "ticks": "",
            "zerolinecolor": "#EBF0F8"
           },
           "zaxis": {
            "backgroundcolor": "white",
            "gridcolor": "#DFE8F3",
            "gridwidth": 2,
            "linecolor": "#EBF0F8",
            "showbackground": true,
            "ticks": "",
            "zerolinecolor": "#EBF0F8"
           }
          },
          "shapedefaults": {
           "line": {
            "color": "#2a3f5f"
           }
          },
          "ternary": {
           "aaxis": {
            "gridcolor": "#DFE8F3",
            "linecolor": "#A2B1C6",
            "ticks": ""
           },
           "baxis": {
            "gridcolor": "#DFE8F3",
            "linecolor": "#A2B1C6",
            "ticks": ""
           },
           "bgcolor": "white",
           "caxis": {
            "gridcolor": "#DFE8F3",
            "linecolor": "#A2B1C6",
            "ticks": ""
           }
          },
          "title": {
           "x": 0.05
          },
          "xaxis": {
           "automargin": true,
           "gridcolor": "#EBF0F8",
           "linecolor": "#EBF0F8",
           "ticks": "",
           "title": {
            "standoff": 15
           },
           "zerolinecolor": "#EBF0F8",
           "zerolinewidth": 2
          },
          "yaxis": {
           "automargin": true,
           "gridcolor": "#EBF0F8",
           "linecolor": "#EBF0F8",
           "ticks": "",
           "title": {
            "standoff": 15
           },
           "zerolinecolor": "#EBF0F8",
           "zerolinewidth": 2
          }
         }
        },
        "title": {
         "font": {
          "family": "Arial Bold",
          "size": 18
         },
         "text": "JUP/SOL • 0.15% Fee • Bin Step: 80<br><sub>2025-09-24 03:47 UTC</sub>",
         "x": 0.5,
         "xanchor": "center"
        },
        "width": 1200,
        "xaxis": {
         "gridcolor": "#E0E0E0",
         "gridwidth": 1,
         "showgrid": true,
         "title": {
          "text": "Price"
         }
        },
        "yaxis": {
         "title": {
          "text": "Liquidity"
         }
        }
       }
      }
     },
     "metadata": {},
     "output_type": "display_data"
    },
    {
     "name": "stdout",
     "output_type": "stream",
     "text": [
      "  💾 Chart saved using GatewayDataSource: /tmp/meteora_JUP_SOL_0p15pct_bin80_chart.png\n",
      "  📋 Chart stored for Telegram sending\n",
      "\n",
      "🎨 Chart 3/3: 6p6xgHyF7AeE6TZkSmFsko444wqoP15icUSqi2jfGiPN/USDC Pool\n",
      "  ✅ Chart generated for 6p6xgHyF7AeE6TZkSmFsko444wqoP15icUSqi2jfGiPN/USDC\n"
     ]
    },
    {
     "data": {
      "application/vnd.plotly.v1+json": {
       "config": {
        "plotlyServerURL": "https://plot.ly"
       },
       "data": [
        {
         "customdata": {
          "bdata": "UgFTAVQBVQFWAVcBWAFZAVoBWwFcAV0BXgFfAWABYQFiAWMBZAFlAWYBZwFoAWkBagFrAWwBbQFuAW8BcAFxAXIBcwF0AXUBdgF3AXgBeQF6AXsBfAF9AX4BfwGAAYEBggGDAYQBhQGGAYcBiAGJAYoBiwGMAY0BjgGPAZABkQGSAZMBlAGVAZYBlwGYAZkBmgGbAZwBnQGeAZ8BoAGhAaIBowGkAaUBpgGnAagBqQGqAasBrAGtAa4BrwGwAbEBsgGzAbQBtQG2AbcBuAG5AboBuwG8Ab0BvgG/AcABwQHCAcMBxAHFAcYBxwHIAckBygHLAcwBzQHOAc8B0AHRAdIB0wHUAdUB1gHXAdgB2QHaAdsB3AHdAd4B",
          "dtype": "i2"
         },
         "hovertemplate": "Price: %{x:.8f}<br>Liquidity: %{y:,.0f}<br>Bin ID: %{customdata}<br><extra></extra>",
         "marker": {
          "color": [
           "red",
           "red",
           "red",
           "red",
           "red",
           "red",
           "red",
           "red",
           "red",
           "red",
           "red",
           "red",
           "red",
           "red",
           "red",
           "red",
           "red",
           "red",
           "red",
           "red",
           "red",
           "red",
           "red",
           "red",
           "red",
           "red",
           "red",
           "red",
           "red",
           "red",
           "red",
           "red",
           "red",
           "red",
           "red",
           "red",
           "red",
           "red",
           "red",
           "red",
           "red",
           "red",
           "red",
           "red",
           "red",
           "red",
           "red",
           "red",
           "red",
           "red",
           "red",
           "red",
           "red",
           "red",
           "red",
           "red",
           "red",
           "red",
           "red",
           "red",
           "red",
           "red",
           "red",
           "red",
           "red",
           "red",
           "red",
           "red",
           "red",
           "yellow",
           "green",
           "green",
           "green",
           "green",
           "green",
           "green",
           "green",
           "green",
           "green",
           "green",
           "green",
           "green",
           "green",
           "green",
           "green",
           "green",
           "green",
           "green",
           "green",
           "green",
           "green",
           "green",
           "green",
           "green",
           "green",
           "green",
           "green",
           "green",
           "green",
           "green",
           "green",
           "green",
           "green",
           "green",
           "green",
           "green",
           "green",
           "green",
           "green",
           "green",
           "green",
           "green",
           "green",
           "green",
           "green",
           "green",
           "green",
           "green",
           "green",
           "green",
           "green",
           "green",
           "green",
           "green",
           "green",
           "green",
           "green",
           "green",
           "green",
           "green",
           "green",
           "green",
           "green",
           "green",
           "green",
           "green",
           "green",
           "green",
           "green",
           "green",
           "green"
          ],
          "opacity": 0.7
         },
         "name": "Liquidity",
         "type": "bar",
         "x": {
          "bdata": "jg5beDqWFUDUoeAK3LEVQDJlkvugzRVA8a+1d4npFUCzy8mslQUWQKQ+iMjFIRZA/hXl+Bk+FkD8MA9skloWQByMcFAvdxZAz4yu1PCTFkCDTaon17AWQA/qgHjizRZAg8yL9hLrFkBV+mDRaAgXQPxh0zjkJRdA4CjzXIVDF0C4+Q1uTGEXQEpTr5w5fxdAi9egGU2dF0Aum+oVh7sXQI9108Ln2RdABlHhUW/4F0Cse9n0HRcYQHP4wN3zNRhAu9DcPvFUGEBBZrJKFnQYQHzFBzRjkxhAZfjjLdiyGECjWY9rddIYQCrokyA78hhAPpu9gCkSGUDmthrAQDIZQMYg/BKBUhlAa7X1repyGUABnt7FfZMZQHqm0Y86tBlAHJQtQSHVGUCHfJUPMvYZQCcd8TBtFxpADzNt29I4GkBQ03tFY1oaQLvD1KUefBpAEdR1MwWeGkCwN6MlF8AaQKXf57NU4hpAP9UVFr4EG0AIlUaEUycbQEJq2zYVShtAysp9ZgNtG0B7sx9MHpAbQAUF/CBmsxtANOGWHtvWG0C7CL5+ffobQGo5iXtNHhxA54xaT0tCHEDY1940d2YcQJAJDmfRihxALIwrIVqvHEAxpcaeEdQcQKnWuhv4+BxAsUAw1A0eHUCTA5wEU0MdQFCiwOnHaB1Ar2WuwGyOHUDLv8PGQbQdQB2wrTlH2h1ACChoV30AHkDqbz5e5CYeQKKMy4x8TR5AqKX6IUZ0HkCbawddQZseQFh/fn1uwh5AlNk9w83pHkD9MnVuXxEfQNdspr8jOR9AMPql9xphH0CESZtXRYkfQAEvASGjsR9APU+mlTTaH0BCxdb7fAEgQFM0x8T5FSBAqsIKx5AqIECFfjIkQj8gQDtt+v0NVCBAQsJJdvRoIEBuFjOv9X0gQICf9MoRkyBA+2f460ioIEA4h9Q0m70gQNFZS8gI0yBARLpLyZHoIEDqOfFaNv4gQDRahKD2EyFALcZ6vdIpIUBJjHfVyj8hQIJYSwzfVSFAtq70hQ9sIUBYJaBmXIIhQGmgqNLFmCFAvIyX7kuvIUCEGyXf7sUhQDd+OMmu3CFAryLo0YvzIUCp73kehgoiQH+BY9SdISJARGdKGdM4IkAaYAQTJlAiQOeYl+eWZyJATuo6vSV/IkD/Fla60pYiQFAKggWeriJAKheJxYfGIkBIN2chkN4iQMJKSkC39iJA7leSSf0OI0CSy9FkYicjQGO5zbnmPyNA4Bx+cIpYI0B1Gg6xTXEjQP5A3KMwiiNAjst6cTOjI0Cd469CVrwjQHnjdUCZ1SNAF5n7k/zuI0A3iaRmgAgkQNwyCeIkIiRAHVP3L+o7JEBKKXJ60FUkQGu7suvXbyRAExsorgCKJECSqnfsSqQkQHZifdG2viRAbxdMiETZJECDwC089PMkQKK9oxjGDiVAlR5nSbopJUBB6mj60EQlQE9m0lcKYCVAI18FjmZ7JUBBcJzJ5ZYlQPpMazeIsiVA",
          "dtype": "f8"
         },
         "y": {
          "bdata": "MbYQPIgNJkExthA8iA0mQTG2EDyIDSZBMbYQPIgNJkExthA8iA0mQTG2EDyIDSZBCTVDOogNJkEJNUM6iA0mQQk1QzqIDSZBCTVDOogNJkEJNUM6iA0mQQk1QzqIDSZBCTVDOogNJkEJNUM6iA0mQQk1QzqIDSZBCTVDOogNJkEJNUM6iA0mQdRfr0iIDSZBZY16SIgNJkGD3EVIiA0mQRMKEUiIDSZBxJlfBY8NJkEAOPYEjw0mQWraxQSPDSZBNZpcBI8NJkFxOPMDjw0mQTz4iQOPDSZBeJYgA48NJkGXOV3ekQ0mQWL5892RDSZBsB9iA5INJkH/dW4Ckg0mQcGqegGSDSZBnyKHAJINJkHVdagulg0mQaQXtSOWDSZB46lHIpkNJkGci78Fmw0mQaZfIi6cDSZB8YPzIZwNJkHRArS1og0mQZ3UlxWpDSZBfzDwrKgNJkEu5XxBqA0mQYf+CdanDSZBGXCWaqcNJkG8zLBZqA0mQfcA3V+oDSZBaXBb66cNJkExe9l2pw0mQb4tWAKnDSZBHuIfcnMpNkHp8uZgXkUmQZuQ1vBdRSZBIPErjmFFJkHnVZ1N/kcmQZayDOH1RyZBEkpf6PFHJkFgsBtm/EcmQc9Nm9HzRyZBqRH6EetHJkEudZAX4UcmQeer5GsVSCZBRE/KlAtIJkF0mZo0GEgmQaJ+Fw4hSCZBwmwCTLNOJkGQ2O4Guk4mQYNNnTfCTiZBOC3x19lOJkGV8YlCkDImQdRhOmhxFiZBRgfBwhr0JUGRnnP0MdglQff0Gz65vCVBRD8NFByhJUELCziHmoUlQZl7zDI9aiVB5xzMTkdPJUE+SZEBJTQlQaOMQaCOGSVBjgFI7rX+JEHXzMyF/+MkQStUmYwpyiRBMAv+JLavJEGxhfYTZJUkQUvuBIL4eyRBCKol5/FhJEHJUn/WCk4kQeQ479tENCRB9Oc2qn0aJEHxoFbv7wAkQUBNGoN05yNB691QqgzOI0G+uf7L2LQjQbgkgOzUmyNB7hb4gLKCI0G7Il+n62kjQUstZB9CUSNBHuLzQVc5I0E7FpXDWiEjQcDu3mkNCSNBPpCKu+PwIkFCv4581tgiQUGFr0vHwSJBMfWbrK6oIkFG8iw1z5AiQTZJ89j2eiJB77QonzJjIkFJauCjs0siQRnRxgGfNSJB85E2eVweIkFpw4+VKwQiQcFTEScN7SFBAd8uPivWIUGvucB+SL8hQex0+DGgqCFBu2TmqBWSIUFtzerkqHshQfh8gPH/xAZBrfYZvZYlM0EhJPtTLQ0zQZa3T7at6TZBnE0xcVSnD0GHxTNV734PQWO5iRR2Vg9BUXCsGXsuD0EbS4b3ygYPQSE8KnSD3w5BDNRwadq3DkGhx2BGvZAOQYBL9loVaQ5BPfjb6lpCDkHW4oV2mxsOQQvjGcxF8w1Bx2D8u5vNDUEQm5MLP6kNQcpb6YTWhA1BELM8m1tfDUHX4YOEVTsNQZAslrAqFw1B",
          "dtype": "f8"
         }
        }
       ],
       "layout": {
        "annotations": [
         {
          "showarrow": false,
          "text": "Current Price: $7.6135",
          "x": 7.613548785136494,
          "xanchor": "center",
          "xref": "x",
          "y": 1,
          "yanchor": "bottom",
          "yref": "y domain"
         }
        ],
        "height": 600,
        "hovermode": "x unified",
        "shapes": [
         {
          "line": {
           "color": "blue",
           "dash": "dash",
           "width": 2
          },
          "type": "line",
          "x0": 7.613548785136494,
          "x1": 7.613548785136494,
          "xref": "x",
          "y0": 0,
          "y1": 1,
          "yref": "y domain"
         }
        ],
        "showlegend": true,
        "template": {
         "data": {
          "bar": [
           {
            "error_x": {
             "color": "#2a3f5f"
            },
            "error_y": {
             "color": "#2a3f5f"
            },
            "marker": {
             "line": {
              "color": "white",
              "width": 0.5
             },
             "pattern": {
              "fillmode": "overlay",
              "size": 10,
              "solidity": 0.2
             }
            },
            "type": "bar"
           }
          ],
          "barpolar": [
           {
            "marker": {
             "line": {
              "color": "white",
              "width": 0.5
             },
             "pattern": {
              "fillmode": "overlay",
              "size": 10,
              "solidity": 0.2
             }
            },
            "type": "barpolar"
           }
          ],
          "carpet": [
           {
            "aaxis": {
             "endlinecolor": "#2a3f5f",
             "gridcolor": "#C8D4E3",
             "linecolor": "#C8D4E3",
             "minorgridcolor": "#C8D4E3",
             "startlinecolor": "#2a3f5f"
            },
            "baxis": {
             "endlinecolor": "#2a3f5f",
             "gridcolor": "#C8D4E3",
             "linecolor": "#C8D4E3",
             "minorgridcolor": "#C8D4E3",
             "startlinecolor": "#2a3f5f"
            },
            "type": "carpet"
           }
          ],
          "choropleth": [
           {
            "colorbar": {
             "outlinewidth": 0,
             "ticks": ""
            },
            "type": "choropleth"
           }
          ],
          "contour": [
           {
            "colorbar": {
             "outlinewidth": 0,
             "ticks": ""
            },
            "colorscale": [
             [
              0,
              "#0d0887"
             ],
             [
              0.1111111111111111,
              "#46039f"
             ],
             [
              0.2222222222222222,
              "#7201a8"
             ],
             [
              0.3333333333333333,
              "#9c179e"
             ],
             [
              0.4444444444444444,
              "#bd3786"
             ],
             [
              0.5555555555555556,
              "#d8576b"
             ],
             [
              0.6666666666666666,
              "#ed7953"
             ],
             [
              0.7777777777777778,
              "#fb9f3a"
             ],
             [
              0.8888888888888888,
              "#fdca26"
             ],
             [
              1,
              "#f0f921"
             ]
            ],
            "type": "contour"
           }
          ],
          "contourcarpet": [
           {
            "colorbar": {
             "outlinewidth": 0,
             "ticks": ""
            },
            "type": "contourcarpet"
           }
          ],
          "heatmap": [
           {
            "colorbar": {
             "outlinewidth": 0,
             "ticks": ""
            },
            "colorscale": [
             [
              0,
              "#0d0887"
             ],
             [
              0.1111111111111111,
              "#46039f"
             ],
             [
              0.2222222222222222,
              "#7201a8"
             ],
             [
              0.3333333333333333,
              "#9c179e"
             ],
             [
              0.4444444444444444,
              "#bd3786"
             ],
             [
              0.5555555555555556,
              "#d8576b"
             ],
             [
              0.6666666666666666,
              "#ed7953"
             ],
             [
              0.7777777777777778,
              "#fb9f3a"
             ],
             [
              0.8888888888888888,
              "#fdca26"
             ],
             [
              1,
              "#f0f921"
             ]
            ],
            "type": "heatmap"
           }
          ],
          "histogram": [
           {
            "marker": {
             "pattern": {
              "fillmode": "overlay",
              "size": 10,
              "solidity": 0.2
             }
            },
            "type": "histogram"
           }
          ],
          "histogram2d": [
           {
            "colorbar": {
             "outlinewidth": 0,
             "ticks": ""
            },
            "colorscale": [
             [
              0,
              "#0d0887"
             ],
             [
              0.1111111111111111,
              "#46039f"
             ],
             [
              0.2222222222222222,
              "#7201a8"
             ],
             [
              0.3333333333333333,
              "#9c179e"
             ],
             [
              0.4444444444444444,
              "#bd3786"
             ],
             [
              0.5555555555555556,
              "#d8576b"
             ],
             [
              0.6666666666666666,
              "#ed7953"
             ],
             [
              0.7777777777777778,
              "#fb9f3a"
             ],
             [
              0.8888888888888888,
              "#fdca26"
             ],
             [
              1,
              "#f0f921"
             ]
            ],
            "type": "histogram2d"
           }
          ],
          "histogram2dcontour": [
           {
            "colorbar": {
             "outlinewidth": 0,
             "ticks": ""
            },
            "colorscale": [
             [
              0,
              "#0d0887"
             ],
             [
              0.1111111111111111,
              "#46039f"
             ],
             [
              0.2222222222222222,
              "#7201a8"
             ],
             [
              0.3333333333333333,
              "#9c179e"
             ],
             [
              0.4444444444444444,
              "#bd3786"
             ],
             [
              0.5555555555555556,
              "#d8576b"
             ],
             [
              0.6666666666666666,
              "#ed7953"
             ],
             [
              0.7777777777777778,
              "#fb9f3a"
             ],
             [
              0.8888888888888888,
              "#fdca26"
             ],
             [
              1,
              "#f0f921"
             ]
            ],
            "type": "histogram2dcontour"
           }
          ],
          "mesh3d": [
           {
            "colorbar": {
             "outlinewidth": 0,
             "ticks": ""
            },
            "type": "mesh3d"
           }
          ],
          "parcoords": [
           {
            "line": {
             "colorbar": {
              "outlinewidth": 0,
              "ticks": ""
             }
            },
            "type": "parcoords"
           }
          ],
          "pie": [
           {
            "automargin": true,
            "type": "pie"
           }
          ],
          "scatter": [
           {
            "fillpattern": {
             "fillmode": "overlay",
             "size": 10,
             "solidity": 0.2
            },
            "type": "scatter"
           }
          ],
          "scatter3d": [
           {
            "line": {
             "colorbar": {
              "outlinewidth": 0,
              "ticks": ""
             }
            },
            "marker": {
             "colorbar": {
              "outlinewidth": 0,
              "ticks": ""
             }
            },
            "type": "scatter3d"
           }
          ],
          "scattercarpet": [
           {
            "marker": {
             "colorbar": {
              "outlinewidth": 0,
              "ticks": ""
             }
            },
            "type": "scattercarpet"
           }
          ],
          "scattergeo": [
           {
            "marker": {
             "colorbar": {
              "outlinewidth": 0,
              "ticks": ""
             }
            },
            "type": "scattergeo"
           }
          ],
          "scattergl": [
           {
            "marker": {
             "colorbar": {
              "outlinewidth": 0,
              "ticks": ""
             }
            },
            "type": "scattergl"
           }
          ],
          "scattermap": [
           {
            "marker": {
             "colorbar": {
              "outlinewidth": 0,
              "ticks": ""
             }
            },
            "type": "scattermap"
           }
          ],
          "scattermapbox": [
           {
            "marker": {
             "colorbar": {
              "outlinewidth": 0,
              "ticks": ""
             }
            },
            "type": "scattermapbox"
           }
          ],
          "scatterpolar": [
           {
            "marker": {
             "colorbar": {
              "outlinewidth": 0,
              "ticks": ""
             }
            },
            "type": "scatterpolar"
           }
          ],
          "scatterpolargl": [
           {
            "marker": {
             "colorbar": {
              "outlinewidth": 0,
              "ticks": ""
             }
            },
            "type": "scatterpolargl"
           }
          ],
          "scatterternary": [
           {
            "marker": {
             "colorbar": {
              "outlinewidth": 0,
              "ticks": ""
             }
            },
            "type": "scatterternary"
           }
          ],
          "surface": [
           {
            "colorbar": {
             "outlinewidth": 0,
             "ticks": ""
            },
            "colorscale": [
             [
              0,
              "#0d0887"
             ],
             [
              0.1111111111111111,
              "#46039f"
             ],
             [
              0.2222222222222222,
              "#7201a8"
             ],
             [
              0.3333333333333333,
              "#9c179e"
             ],
             [
              0.4444444444444444,
              "#bd3786"
             ],
             [
              0.5555555555555556,
              "#d8576b"
             ],
             [
              0.6666666666666666,
              "#ed7953"
             ],
             [
              0.7777777777777778,
              "#fb9f3a"
             ],
             [
              0.8888888888888888,
              "#fdca26"
             ],
             [
              1,
              "#f0f921"
             ]
            ],
            "type": "surface"
           }
          ],
          "table": [
           {
            "cells": {
             "fill": {
              "color": "#EBF0F8"
             },
             "line": {
              "color": "white"
             }
            },
            "header": {
             "fill": {
              "color": "#C8D4E3"
             },
             "line": {
              "color": "white"
             }
            },
            "type": "table"
           }
          ]
         },
         "layout": {
          "annotationdefaults": {
           "arrowcolor": "#2a3f5f",
           "arrowhead": 0,
           "arrowwidth": 1
          },
          "autotypenumbers": "strict",
          "coloraxis": {
           "colorbar": {
            "outlinewidth": 0,
            "ticks": ""
           }
          },
          "colorscale": {
           "diverging": [
            [
             0,
             "#8e0152"
            ],
            [
             0.1,
             "#c51b7d"
            ],
            [
             0.2,
             "#de77ae"
            ],
            [
             0.3,
             "#f1b6da"
            ],
            [
             0.4,
             "#fde0ef"
            ],
            [
             0.5,
             "#f7f7f7"
            ],
            [
             0.6,
             "#e6f5d0"
            ],
            [
             0.7,
             "#b8e186"
            ],
            [
             0.8,
             "#7fbc41"
            ],
            [
             0.9,
             "#4d9221"
            ],
            [
             1,
             "#276419"
            ]
           ],
           "sequential": [
            [
             0,
             "#0d0887"
            ],
            [
             0.1111111111111111,
             "#46039f"
            ],
            [
             0.2222222222222222,
             "#7201a8"
            ],
            [
             0.3333333333333333,
             "#9c179e"
            ],
            [
             0.4444444444444444,
             "#bd3786"
            ],
            [
             0.5555555555555556,
             "#d8576b"
            ],
            [
             0.6666666666666666,
             "#ed7953"
            ],
            [
             0.7777777777777778,
             "#fb9f3a"
            ],
            [
             0.8888888888888888,
             "#fdca26"
            ],
            [
             1,
             "#f0f921"
            ]
           ],
           "sequentialminus": [
            [
             0,
             "#0d0887"
            ],
            [
             0.1111111111111111,
             "#46039f"
            ],
            [
             0.2222222222222222,
             "#7201a8"
            ],
            [
             0.3333333333333333,
             "#9c179e"
            ],
            [
             0.4444444444444444,
             "#bd3786"
            ],
            [
             0.5555555555555556,
             "#d8576b"
            ],
            [
             0.6666666666666666,
             "#ed7953"
            ],
            [
             0.7777777777777778,
             "#fb9f3a"
            ],
            [
             0.8888888888888888,
             "#fdca26"
            ],
            [
             1,
             "#f0f921"
            ]
           ]
          },
          "colorway": [
           "#636efa",
           "#EF553B",
           "#00cc96",
           "#ab63fa",
           "#FFA15A",
           "#19d3f3",
           "#FF6692",
           "#B6E880",
           "#FF97FF",
           "#FECB52"
          ],
          "font": {
           "color": "#2a3f5f"
          },
          "geo": {
           "bgcolor": "white",
           "lakecolor": "white",
           "landcolor": "white",
           "showlakes": true,
           "showland": true,
           "subunitcolor": "#C8D4E3"
          },
          "hoverlabel": {
           "align": "left"
          },
          "hovermode": "closest",
          "mapbox": {
           "style": "light"
          },
          "paper_bgcolor": "white",
          "plot_bgcolor": "white",
          "polar": {
           "angularaxis": {
            "gridcolor": "#EBF0F8",
            "linecolor": "#EBF0F8",
            "ticks": ""
           },
           "bgcolor": "white",
           "radialaxis": {
            "gridcolor": "#EBF0F8",
            "linecolor": "#EBF0F8",
            "ticks": ""
           }
          },
          "scene": {
           "xaxis": {
            "backgroundcolor": "white",
            "gridcolor": "#DFE8F3",
            "gridwidth": 2,
            "linecolor": "#EBF0F8",
            "showbackground": true,
            "ticks": "",
            "zerolinecolor": "#EBF0F8"
           },
           "yaxis": {
            "backgroundcolor": "white",
            "gridcolor": "#DFE8F3",
            "gridwidth": 2,
            "linecolor": "#EBF0F8",
            "showbackground": true,
            "ticks": "",
            "zerolinecolor": "#EBF0F8"
           },
           "zaxis": {
            "backgroundcolor": "white",
            "gridcolor": "#DFE8F3",
            "gridwidth": 2,
            "linecolor": "#EBF0F8",
            "showbackground": true,
            "ticks": "",
            "zerolinecolor": "#EBF0F8"
           }
          },
          "shapedefaults": {
           "line": {
            "color": "#2a3f5f"
           }
          },
          "ternary": {
           "aaxis": {
            "gridcolor": "#DFE8F3",
            "linecolor": "#A2B1C6",
            "ticks": ""
           },
           "baxis": {
            "gridcolor": "#DFE8F3",
            "linecolor": "#A2B1C6",
            "ticks": ""
           },
           "bgcolor": "white",
           "caxis": {
            "gridcolor": "#DFE8F3",
            "linecolor": "#A2B1C6",
            "ticks": ""
           }
          },
          "title": {
           "x": 0.05
          },
          "xaxis": {
           "automargin": true,
           "gridcolor": "#EBF0F8",
           "linecolor": "#EBF0F8",
           "ticks": "",
           "title": {
            "standoff": 15
           },
           "zerolinecolor": "#EBF0F8",
           "zerolinewidth": 2
          },
          "yaxis": {
           "automargin": true,
           "gridcolor": "#EBF0F8",
           "linecolor": "#EBF0F8",
           "ticks": "",
           "title": {
            "standoff": 15
           },
           "zerolinecolor": "#EBF0F8",
           "zerolinewidth": 2
          }
         }
        },
        "title": {
         "font": {
          "family": "Arial Bold",
          "size": 18
         },
         "text": "6p6xgHyF7AeE6TZkSmFsko444wqoP15icUSqi2jfGiPN/USDC • 0.10% Fee • Bin Step: 50<br><sub>2025-09-24 03:47 UTC</sub>",
         "x": 0.5,
         "xanchor": "center"
        },
        "width": 1200,
        "xaxis": {
         "gridcolor": "#E0E0E0",
         "gridwidth": 1,
         "showgrid": true,
         "title": {
          "text": "Price"
         }
        },
        "yaxis": {
         "title": {
          "text": "Liquidity"
         }
        }
       }
      }
     },
     "metadata": {},
     "output_type": "display_data"
    },
    {
     "name": "stdout",
     "output_type": "stream",
     "text": [
      "  💾 Chart saved using GatewayDataSource: /tmp/meteora_6p6xgHyF7AeE6TZkSmFsko444wqoP15icUSqi2jfGiPN_USDC_0p10pct_bin50_chart.png\n",
      "  📋 Chart stored for Telegram sending\n",
      "\n",
      "✅ Chart generation completed for 3 pool(s)\n",
      "📋 3 charts stored for Telegram sending\n"
     ]
    }
   ],
   "source": [
    "# 🎨 Generate Liquidity Distribution Charts with Token Symbols (Save for Later)\n",
    "if all_pool_analyses:\n",
    "    print(\"📊 Generating liquidity distribution charts...\\n\")\n",
    "    \n",
    "    # Clear any existing chart files from previous runs\n",
    "    telegram_reports['chart_files'] = []\n",
    "    \n",
    "    for i, analysis in enumerate(all_pool_analyses, 1):\n",
    "        print(f\"🎨 Chart {i}/{len(all_pool_analyses)}: {analysis['pool_name']}\")\n",
    "        \n",
    "        # Use cached token symbols from initial pool fetching\n",
    "        base_symbol = analysis['base_token']\n",
    "        quote_symbol = analysis['quote_token']\n",
    "        \n",
    "        # Use GatewayDataSource token cache if available and token symbols are still addresses\n",
    "        if analysis.get('base_token_address') and len(base_symbol) > 10:\n",
    "            cache_key = f\"{analysis['base_token_address']}_{NETWORK}\"\n",
    "            if cache_key in gateway_ds.token_cache:\n",
    "                cached_info = gateway_ds.token_cache[cache_key]\n",
    "                if cached_info and 'symbol' in cached_info:\n",
    "                    base_symbol = cached_info['symbol']\n",
    "                    \n",
    "        if analysis.get('quote_token_address') and len(quote_symbol) > 10:\n",
    "            cache_key = f\"{analysis['quote_token_address']}_{NETWORK}\"\n",
    "            if cache_key in gateway_ds.token_cache:\n",
    "                cached_info = gateway_ds.token_cache[cache_key]\n",
    "                if cached_info and 'symbol' in cached_info:\n",
    "                    quote_symbol = cached_info['symbol']\n",
    "        \n",
    "        # Update analysis with proper symbols for chart generation\n",
    "        analysis_with_symbols = analysis.copy()\n",
    "        analysis_with_symbols['base_token'] = base_symbol\n",
    "        analysis_with_symbols['quote_token'] = quote_symbol\n",
    "        analysis_with_symbols['token_pair'] = f\"{base_symbol}/{quote_symbol}\"\n",
    "        \n",
    "        # Create chart for this pool with proper token symbols using GatewayDataSource\n",
    "        fig = create_liquidity_chart(analysis_with_symbols)\n",
    "        \n",
    "        if fig:\n",
    "            print(f\"  ✅ Chart generated for {analysis_with_symbols['token_pair']}\")\n",
    "            fig.show()\n",
    "            \n",
    "            # Save chart as PNG with token pair, fee tier, and bin step in filename\n",
    "            safe_pair_name = analysis_with_symbols['token_pair'].replace('/', '_')\n",
    "            fee_tier = f\"{analysis['fee_pct']:.2f}\".replace('.', 'p')  # 0.04 -> 0p04\n",
    "            bin_step = analysis['bin_step']\n",
    "            chart_filename = f\"/tmp/meteora_{safe_pair_name}_{fee_tier}pct_bin{bin_step}_chart.png\"\n",
    "            \n",
    "            # Use GatewayDataSource save_chart method\n",
    "            if gateway_ds.save_chart(fig, chart_filename, format=\"png\"):\n",
    "                print(f\"  💾 Chart saved using GatewayDataSource: {chart_filename}\")\n",
    "                \n",
    "                # Store chart info for Telegram sending later with enhanced caption\n",
    "                chart_info = {\n",
    "                    'filename': chart_filename,\n",
    "                    'pool_name': analysis['pool_name'],\n",
    "                    'token_pair': analysis_with_symbols['token_pair'],\n",
    "                    'caption': f\"\"\"📊 <b>Liquidity Distribution Chart</b>\n",
    "🏊 Pool: {analysis_with_symbols['token_pair']} • {gateway_ds.format_percentage(analysis['fee_pct'])} Fee • Bin:{analysis['bin_step']}\n",
    "💰 Total Liquidity: {gateway_ds.format_number(analysis['total_liquidity_usd'], is_currency=True)}\n",
    "📍 Current Price: {gateway_ds.format_price(analysis['current_price'])}\n",
    "🎯 Concentration: {gateway_ds.format_percentage(analysis['liquidity_concentration'], decimals=1)} near price\n",
    "⚙️ Active Bin: {analysis['active_bin_id']} | Total Bins: {analysis['num_bins']}\n",
    "\"\"\"\n",
    "                }\n",
    "                telegram_reports['chart_files'].append(chart_info)\n",
    "                print(f\"  📋 Chart stored for Telegram sending\")\n",
    "                        \n",
    "            else:\n",
    "                print(f\"  ❌ Error saving chart with GatewayDataSource\")\n",
    "        else:\n",
    "            print(f\"  ⚠️ No bin data available for {analysis['pool_name']}\")\n",
    "            \n",
    "        print()  # Empty line between pools\n",
    "        \n",
    "    print(f\"✅ Chart generation completed for {len(all_pool_analyses)} pool(s)\")\n",
    "    print(f\"📋 {len(telegram_reports['chart_files'])} charts stored for Telegram sending\")\n",
    "else:\n",
    "    print(\"⚠️ No pool analyses available for chart generation\")"
   ]
  },
  {
   "cell_type": "code",
   "execution_count": null,
   "metadata": {},
   "outputs": [
    {
     "name": "stdout",
     "output_type": "stream",
     "text": [
      "📋 Generating detailed CSV reports...\n",
      "\n",
      "📄 CSV Report 1/3: SOL/USDC Pool\n",
      "  ✅ CSV exported using GatewayDataSource: /tmp/meteora_SOL_USDC_0p04pct_bin100_20250924_0347.csv\n",
      "  📊 Records: 141\n",
      "  📋 CSV Preview (top 3 rows):\n",
      "    SOL/USDC 0.04% Bin100 | Bin -225: $106.58 | $158.94 (0.27%)\n",
      "    SOL/USDC 0.04% Bin100 | Bin -224: $107.65 | $163.19 (0.28%)\n",
      "    SOL/USDC 0.04% Bin100 | Bin -223: $108.73 | $180.27 (0.31%)\n",
      "  📋 CSV stored for Telegram sending\n",
      "\n",
      "📄 CSV Report 2/3: JUP/SOL Pool\n",
      "  ✅ CSV exported using GatewayDataSource: /tmp/meteora_JUP_SOL_0p15pct_bin80_20250924_0347.csv\n",
      "  📊 Records: 141\n",
      "  📋 CSV Preview (top 3 rows):\n",
      "    JUP/SOL 0.15% Bin80 | Bin 28: $0.0012500 | $0.00 (0.00%)\n",
      "    JUP/SOL 0.15% Bin80 | Bin 29: $0.0012600 | $0.00 (0.00%)\n",
      "    JUP/SOL 0.15% Bin80 | Bin 30: $0.0012700 | $0.06 (0.00%)\n",
      "  📋 CSV stored for Telegram sending\n",
      "\n",
      "📄 CSV Report 3/3: 6p6xgHyF7AeE6TZkSmFsko444wqoP15icUSqi2jfGiPN/USDC Pool\n",
      "  ✅ CSV exported using GatewayDataSource: /tmp/meteora_6p6xgHyF7AeE6TZkSmFsko444wqoP15icUSqi2jfGiPN_USDC_0p10pct_bin50_20250924_0347.csv\n",
      "  📊 Records: 141\n",
      "  📋 CSV Preview (top 3 rows):\n",
      "    6p6xgHyF7AeE6TZkSmFsko444wqoP15icUSqi2jfGiPN/USDC 0.10% Bin50 | Bin 338: $5.3967 | $722.63K (0.79%)\n",
      "    6p6xgHyF7AeE6TZkSmFsko444wqoP15icUSqi2jfGiPN/USDC 0.10% Bin50 | Bin 339: $5.4237 | $722.63K (0.79%)\n",
      "    6p6xgHyF7AeE6TZkSmFsko444wqoP15icUSqi2jfGiPN/USDC 0.10% Bin50 | Bin 340: $5.4508 | $722.63K (0.79%)\n",
      "  📋 CSV stored for Telegram sending\n",
      "\n",
      "✅ CSV report generation completed for all pools\n",
      "📋 3 CSV files stored for Telegram sending\n"
     ]
    }
   ],
   "source": [
    "# 📊 Generate CSV Reports with Token Symbols (Save for Later)\n",
    "if all_pool_analyses:\n",
    "    print(\"📋 Generating detailed CSV reports...\\n\")\n",
    "    \n",
    "    # Clear any existing CSV files from previous runs\n",
    "    telegram_reports['csv_files'] = []\n",
    "    \n",
    "    for i, analysis in enumerate(all_pool_analyses, 1):\n",
    "        if 'bins_df' in analysis and not analysis['bins_df'].empty:\n",
    "            print(f\"📄 CSV Report {i}/{len(all_pool_analyses)}: {analysis['pool_name']}\")\n",
    "            \n",
    "            # Use cached token symbols from initial pool fetching\n",
    "            base_symbol = analysis['base_token']\n",
    "            quote_symbol = analysis['quote_token']\n",
    "            \n",
    "            # Use GatewayDataSource token cache if available and token symbols are still addresses\n",
    "            if analysis.get('base_token_address') and len(base_symbol) > 10:\n",
    "                cache_key = f\"{analysis['base_token_address']}_{NETWORK}\"\n",
    "                if cache_key in gateway_ds.token_cache:\n",
    "                    cached_info = gateway_ds.token_cache[cache_key]\n",
    "                    if cached_info and 'symbol' in cached_info:\n",
    "                        base_symbol = cached_info['symbol']\n",
    "                        \n",
    "            if analysis.get('quote_token_address') and len(quote_symbol) > 10:\n",
    "                cache_key = f\"{analysis['quote_token_address']}_{NETWORK}\"\n",
    "                if cache_key in gateway_ds.token_cache:\n",
    "                    cached_info = gateway_ds.token_cache[cache_key]\n",
    "                    if cached_info and 'symbol' in cached_info:\n",
    "                        quote_symbol = cached_info['symbol']\n",
    "            \n",
    "            token_pair = f\"{base_symbol}/{quote_symbol}\"\n",
    "            \n",
    "            # Prepare detailed DataFrame\n",
    "            detailed_df = analysis['bins_df'].copy()\n",
    "            \n",
    "            # Add calculated fields with proper token symbols, fee tier, and bin step\n",
    "            detailed_df['token_pair'] = token_pair\n",
    "            detailed_df['base_token_symbol'] = base_symbol\n",
    "            detailed_df['quote_token_symbol'] = quote_symbol\n",
    "            detailed_df['fee_pct'] = analysis['fee_pct']\n",
    "            detailed_df['bin_step'] = analysis['bin_step']\n",
    "            detailed_df['pool_name'] = analysis['pool_name']\n",
    "            detailed_df['pool_address'] = analysis['address']\n",
    "            detailed_df['base_token_address'] = analysis.get('base_token_address', '')\n",
    "            detailed_df['quote_token_address'] = analysis.get('quote_token_address', '')\n",
    "            detailed_df['current_price'] = analysis['current_price']\n",
    "            detailed_df['is_active_bin'] = detailed_df['binId'] == analysis['active_bin_id']\n",
    "            detailed_df['distance_from_price'] = ((detailed_df['price'] - analysis['current_price']) / analysis['current_price'] * 100)\n",
    "            detailed_df['total_value_usd'] = (\n",
    "                detailed_df['baseTokenAmount'] * analysis['current_price'] + \n",
    "                detailed_df['quoteTokenAmount']\n",
    "            )\n",
    "            detailed_df['liquidity_share_pct'] = (detailed_df['total_value_usd'] / detailed_df['total_value_usd'].sum() * 100)\n",
    "            \n",
    "            # Reorder columns with token information, fee tier, and bin step first\n",
    "            column_order = [\n",
    "                'token_pair', 'base_token_symbol', 'quote_token_symbol', 'fee_pct', 'bin_step',\n",
    "                'pool_name', 'pool_address', 'base_token_address', 'quote_token_address',\n",
    "                'binId', 'price', 'is_active_bin',\n",
    "                'baseTokenAmount', 'quoteTokenAmount', 'total_value_usd',\n",
    "                'liquidity_share_pct', 'distance_from_price', 'current_price'\n",
    "            ]\n",
    "            \n",
    "            detailed_df = detailed_df[column_order]\n",
    "            \n",
    "            # Create CSV filename with token pair, fee tier, and bin step\n",
    "            timestamp_str = datetime.now(timezone.utc).strftime(\"%Y%m%d_%H%M\")\n",
    "            safe_pair_name = token_pair.replace('/', '_')\n",
    "            fee_tier = f\"{analysis['fee_pct']:.2f}\".replace('.', 'p')  # 0.04 -> 0p04\n",
    "            bin_step = analysis['bin_step']\n",
    "            csv_filename = f\"/tmp/meteora_{safe_pair_name}_{fee_tier}pct_bin{bin_step}_{timestamp_str}.csv\"\n",
    "            \n",
    "            # Create metadata for GatewayDataSource export\n",
    "            csv_metadata = {\n",
    "                'token_pair': token_pair,\n",
    "                'pool_address': analysis['address'],\n",
    "                'network': NETWORK,\n",
    "                'analysis_timestamp': gateway_ds.format_timestamp(analysis['timestamp'])\n",
    "            }\n",
    "            \n",
    "            # Use GatewayDataSource export_to_csv method\n",
    "            if gateway_ds.export_to_csv(detailed_df, csv_filename, metadata=csv_metadata):\n",
    "                print(f\"  ✅ CSV exported using GatewayDataSource: {csv_filename}\")\n",
    "                print(f\"  📊 Records: {len(detailed_df)}\")\n",
    "                \n",
    "                # Display sample data with token symbols, fee tier, and bin step using GatewayDataSource formatting\n",
    "                print(f\"  📋 CSV Preview (top 3 rows):\")\n",
    "                display_df = detailed_df.head(3)[['token_pair', 'fee_pct', 'bin_step', 'binId', 'price', 'total_value_usd', 'liquidity_share_pct']]\n",
    "                for _, row in display_df.iterrows():\n",
    "                    print(f\"    {row['token_pair']} {gateway_ds.format_percentage(row['fee_pct'])} Bin{row['bin_step']} | \"\n",
    "                          f\"Bin {row['binId']}: {gateway_ds.format_price(row['price'])} | \"\n",
    "                          f\"{gateway_ds.format_number(row['total_value_usd'], is_currency=True)} \"\n",
    "                          f\"({gateway_ds.format_percentage(row['liquidity_share_pct'])})\")\n",
    "                \n",
    "                # Store CSV info for Telegram sending later with enhanced caption\n",
    "                csv_info = {\n",
    "                    'filename': csv_filename,\n",
    "                    'pool_name': analysis['pool_name'],\n",
    "                    'token_pair': token_pair,\n",
    "                    'caption': f\"\"\"📋 <b>Detailed Pool Data Export</b>\n",
    "🏊 Pool: {token_pair} • {gateway_ds.format_percentage(analysis['fee_pct'])} Fee • Bin:{analysis['bin_step']}\n",
    "📅 {gateway_ds.format_timestamp(datetime.now(timezone.utc))}\n",
    "\n",
    "📊 Dataset Summary:\n",
    "• Total Bins: {len(detailed_df)}\n",
    "• Active Bin: {analysis['active_bin_id']}\n",
    "• Price Range: {gateway_ds.format_price(detailed_df['price'].min())} - {gateway_ds.format_price(detailed_df['price'].max())}\n",
    "• Total Liquidity: {gateway_ds.format_number(analysis['total_liquidity_usd'], is_currency=True)}\n",
    "• Fee Tier: {gateway_ds.format_percentage(analysis['fee_pct'])} | Bin Step: {analysis['bin_step']}\n",
    "\"\"\"\n",
    "                }\n",
    "                telegram_reports['csv_files'].append(csv_info)\n",
    "                print(f\"  📋 CSV stored for Telegram sending\")\n",
    "                \n",
    "            else:\n",
    "                print(f\"  ❌ Error exporting CSV with GatewayDataSource\")\n",
    "            \n",
    "            print()  # Empty line between pools\n",
    "            \n",
    "        else:\n",
    "            print(f\"  ⚠️ No bin data available for {analysis['pool_name']}\")\n",
    "    \n",
    "    print(f\"✅ CSV report generation completed for all pools\")\n",
    "    print(f\"📋 {len(telegram_reports['csv_files'])} CSV files stored for Telegram sending\")\n",
    "else:\n",
    "    print(\"⚠️ No pool analyses available for CSV export\")"
   ]
  },
  {
   "cell_type": "code",
   "execution_count": 214,
   "metadata": {},
   "outputs": [
    {
     "name": "stdout",
     "output_type": "stream",
     "text": [
      "🚀 SENDING ALL REPORTS TO TELEGRAM\n",
      "============================================================\n",
      "📊 Sending 7 items to Telegram:\n",
      "  • 1 text report\n",
      "  • 3 chart files\n",
      "  • 3 CSV files\n",
      "\n",
      "1️⃣ Sending text report...\n",
      "  ✅ Text report sent successfully\n",
      "\n",
      "2️⃣ Sending chart files...\n",
      "  📊 Chart 1/3: SOL/USDC Pool\n",
      "    ✅ Chart sent successfully\n",
      "  📊 Chart 2/3: JUP/SOL Pool\n",
      "    ✅ Chart sent successfully\n",
      "  📊 Chart 3/3: 6p6xgHyF7AeE6TZkSmFsko444wqoP15icUSqi2jfGiPN/USDC Pool\n",
      "    ✅ Chart sent successfully\n",
      "\n",
      "3️⃣ Sending CSV files...\n",
      "  📄 CSV 1/3: SOL/USDC Pool\n",
      "    ✅ CSV sent successfully\n",
      "  📄 CSV 2/3: JUP/SOL Pool\n",
      "    ✅ CSV sent successfully\n",
      "  📄 CSV 3/3: 6p6xgHyF7AeE6TZkSmFsko444wqoP15icUSqi2jfGiPN/USDC Pool\n",
      "    ✅ CSV sent successfully\n",
      "\n",
      "📊 TELEGRAM SENDING SUMMARY\n",
      "========================================\n",
      "✅ Successfully sent: 7/7\n",
      "❌ Failed to send: 0/7\n",
      "\n",
      "🎉 Check your Telegram for 7 new messages!\n"
     ]
    }
   ],
   "source": [
    "# 📤 Send All Reports to Telegram\n",
    "print(\"🚀 SENDING ALL REPORTS TO TELEGRAM\")\n",
    "print(\"=\" * 60)\n",
    "\n",
    "telegram_notifier = notification_manager.get_notifier('telegram')\n",
    "if not telegram_notifier:\n",
    "    print(\"❌ Telegram notifier not configured\")\n",
    "    print(\"💡 Configure Telegram in .env to send reports\")\n",
    "else:\n",
    "    # Summary of what will be sent\n",
    "    text_count = 1 if telegram_reports['report_message'] else 0\n",
    "    chart_count = len(telegram_reports['chart_files'])\n",
    "    csv_count = len(telegram_reports['csv_files'])\n",
    "    total_items = text_count + chart_count + csv_count\n",
    "    \n",
    "    print(f\"📊 Sending {total_items} items to Telegram:\")\n",
    "    print(f\"  • {text_count} text report\")\n",
    "    print(f\"  • {chart_count} chart files\")\n",
    "    print(f\"  • {csv_count} CSV files\")\n",
    "    print()\n",
    "    \n",
    "    sent_count = 0\n",
    "    failed_count = 0\n",
    "    \n",
    "    # Send text report first\n",
    "    if telegram_reports['report_message']:\n",
    "        print(\"1️⃣ Sending text report...\")\n",
    "        try:\n",
    "            notification_msg = NotificationMessage(\n",
    "                title=\"Meteora Pool Analysis\",\n",
    "                message=telegram_reports['report_message'],\n",
    "                level=\"info\"\n",
    "            )\n",
    "            \n",
    "            if await telegram_notifier.send_notification(notification_msg):\n",
    "                print(\"  ✅ Text report sent successfully\")\n",
    "                sent_count += 1\n",
    "            else:\n",
    "                print(\"  ❌ Failed to send text report\")\n",
    "                failed_count += 1\n",
    "        except Exception as e:\n",
    "            print(f\"  ❌ Error sending text report: {e}\")\n",
    "            failed_count += 1\n",
    "        print()\n",
    "    \n",
    "    # Send chart files\n",
    "    if telegram_reports['chart_files']:\n",
    "        print(\"2️⃣ Sending chart files...\")\n",
    "        for i, chart_info in enumerate(telegram_reports['chart_files'], 1):\n",
    "            print(f\"  📊 Chart {i}/{chart_count}: {chart_info['pool_name']}\")\n",
    "            try:\n",
    "                if await telegram_notifier.send_photo(chart_info['filename'], chart_info['caption']):\n",
    "                    print(f\"    ✅ Chart sent successfully\")\n",
    "                    sent_count += 1\n",
    "                else:\n",
    "                    print(f\"    ❌ Failed to send chart\")\n",
    "                    failed_count += 1\n",
    "            except Exception as e:\n",
    "                print(f\"    ❌ Error sending chart: {e}\")\n",
    "                failed_count += 1\n",
    "        print()\n",
    "    \n",
    "    # Send CSV files\n",
    "    if telegram_reports['csv_files']:\n",
    "        print(\"3️⃣ Sending CSV files...\")\n",
    "        for i, csv_info in enumerate(telegram_reports['csv_files'], 1):\n",
    "            print(f\"  📄 CSV {i}/{csv_count}: {csv_info['pool_name']}\")\n",
    "            try:\n",
    "                if await telegram_notifier.send_document(csv_info['filename'], csv_info['caption']):\n",
    "                    print(f\"    ✅ CSV sent successfully\")\n",
    "                    sent_count += 1\n",
    "                else:\n",
    "                    print(f\"    ❌ Failed to send CSV\")\n",
    "                    failed_count += 1\n",
    "            except Exception as e:\n",
    "                print(f\"    ❌ Error sending CSV: {e}\")\n",
    "                failed_count += 1\n",
    "        print()\n",
    "    \n",
    "    # Final summary\n",
    "    print(\"📊 TELEGRAM SENDING SUMMARY\")\n",
    "    print(\"=\" * 40)\n",
    "    print(f\"✅ Successfully sent: {sent_count}/{total_items}\")\n",
    "    print(f\"❌ Failed to send: {failed_count}/{total_items}\")\n",
    "    \n",
    "    if sent_count > 0:\n",
    "        print(f\"\\n🎉 Check your Telegram for {sent_count} new messages!\")\n",
    "    \n",
    "    if failed_count > 0:\n",
    "        print(f\"\\n⚠️ {failed_count} items failed to send - check error messages above\")"
   ]
  },
  {
   "cell_type": "code",
   "execution_count": 215,
   "metadata": {},
   "outputs": [
    {
     "name": "stdout",
     "output_type": "stream",
     "text": [
      "✅ Meteora pool analysis completed successfully\n",
      "\n",
      "\n",
      "📊 EXECUTION SUMMARY\n",
      "==================================================\n",
      "🌐 Data Source: Gateway API (http://localhost:15888)\n",
      "📡 Using: QuantsLab GatewayDataSource (Hummingbot Gateway HTTP Client)\n",
      "🔗 Network: Solana mainnet-beta\n",
      "🏊 Pools Analyzed: 3\n",
      "💰 Total Liquidity: $317.45M\n",
      "📤 Reports Sent: ✅ Yes\n",
      "📊 Charts Generated: ✅ Yes (via GatewayDataSource)\n",
      "📋 CSV Exports: ✅ Yes (via GatewayDataSource)\n",
      "🗂️ Final Cache Stats:\n",
      "  • Token lookups cached: 3\n",
      "  • Failed token lookups: 1\n",
      "  • Total cache entries: 4\n",
      "\n",
      "🎉 Meteora pool analysis complete!\n",
      "🔧 Powered by QuantsLab GatewayDataSource for standardized Gateway interactions\n",
      "📱 Check your Telegram for delivered reports, charts, and data files\n"
     ]
    }
   ],
   "source": [
    "# 🔒 Cleanup and Execution Summary\n",
    "print(\"✅ Meteora pool analysis completed successfully\\n\")\n",
    "\n",
    "# Clean up temporary files (optional)\n",
    "import os\n",
    "import glob\n",
    "\n",
    "temp_files = glob.glob('/tmp/meteora_*.png') + glob.glob('/tmp/meteora_*.html') + glob.glob('/tmp/meteora_*.csv')\n",
    "cleanup_count = 0\n",
    "\n",
    "for file_path in temp_files:\n",
    "    try:\n",
    "        # Keep the most recent files\n",
    "        file_age = datetime.now() - datetime.fromtimestamp(os.path.getctime(file_path))\n",
    "        if file_age.days > 0:  # Clean files older than 1 day\n",
    "            os.remove(file_path)\n",
    "            cleanup_count += 1\n",
    "            print(f\"🗑️ Cleaned up: {os.path.basename(file_path)}\")\n",
    "    except Exception as e:\n",
    "        print(f\"⚠️ Could not remove {file_path}: {e}\")\n",
    "\n",
    "if cleanup_count > 0:\n",
    "    print(f\"\\n🧹 Cleaned up {cleanup_count} old temporary files\")\n",
    "\n",
    "# Execution Summary\n",
    "print(\"\\n📊 EXECUTION SUMMARY\")\n",
    "print(\"=\" * 50)\n",
    "print(f\"🌐 Data Source: Gateway API ({GATEWAY_URL})\")\n",
    "print(f\"📡 Using: QuantsLab GatewayDataSource (Hummingbot Gateway HTTP Client)\")\n",
    "print(f\"🔗 Network: Solana {NETWORK}\")\n",
    "\n",
    "if 'all_pool_analyses' in locals() and all_pool_analyses:\n",
    "    total_liquidity = sum(a['total_liquidity_usd'] for a in all_pool_analyses)\n",
    "    print(f\"🏊 Pools Analyzed: {len(all_pool_analyses)}\")\n",
    "    print(f\"💰 Total Liquidity: {gateway_ds.format_number(total_liquidity, is_currency=True)}\")\n",
    "    print(f\"📤 Reports Sent: {'✅ Yes' if enabled_notifiers else '❌ No notifiers configured'}\")\n",
    "    print(f\"📊 Charts Generated: ✅ Yes (via GatewayDataSource)\")\n",
    "    print(f\"📋 CSV Exports: ✅ Yes (via GatewayDataSource)\")\n",
    "    \n",
    "    # Display final cache statistics\n",
    "    cache_stats = gateway_ds.get_cache_stats()\n",
    "    print(f\"🗂️ Final Cache Stats:\")\n",
    "    print(f\"  • Token lookups cached: {cache_stats['cached_tokens']}\")\n",
    "    print(f\"  • Failed token lookups: {cache_stats['failed_lookups']}\")\n",
    "    print(f\"  • Total cache entries: {cache_stats['token_cache_size']}\")\n",
    "    \n",
    "else:\n",
    "    print(f\"⚠️ No pools analyzed - check Gateway connection\")\n",
    "\n",
    "print(\"\\n🎉 Meteora pool analysis complete!\")\n",
    "print(\"🔧 Powered by QuantsLab GatewayDataSource for standardized Gateway interactions\")\n",
    "\n",
    "if 'telegram' in enabled_notifiers:\n",
    "    print(\"📱 Check your Telegram for delivered reports, charts, and data files\")\n",
    "else:\n",
    "    print(\"💡 Configure Telegram in .env to receive automated reports\")"
   ]
  },
  {
   "cell_type": "code",
   "execution_count": null,
   "metadata": {},
   "outputs": [],
   "source": []
  }
 ],
 "metadata": {
  "kernelspec": {
   "display_name": "Python 3",
   "language": "python",
   "name": "python3"
  },
  "language_info": {
   "codemirror_mode": {
    "name": "ipython",
    "version": 3
   },
   "file_extension": ".py",
   "mimetype": "text/x-python",
   "name": "python",
   "nbconvert_exporter": "python",
   "pygments_lexer": "ipython3",
   "version": "3.9.0"
  }
 },
 "nbformat": 4,
 "nbformat_minor": 4
}
