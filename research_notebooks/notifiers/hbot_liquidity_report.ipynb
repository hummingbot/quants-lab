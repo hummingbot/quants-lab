{
 "cells": [
  {
   "cell_type": "code",
   "id": "initial_id",
   "metadata": {
    "collapsed": true,
    "ExecuteTime": {
     "end_time": "2025-10-14T15:08:50.171568Z",
     "start_time": "2025-10-14T15:08:48.984838Z"
    }
   },
   "source": "import warnings\nimport pandas as pd\nimport plotly.graph_objects as go\nfrom plotly.subplots import make_subplots\nimport os\nfrom dotenv import load_dotenv\nfrom datetime import datetime, timezone\n\nwarnings.filterwarnings(\"ignore\")\nload_dotenv()\n\nfrom core.data_sources import CLOBDataSource\nfrom core.notifiers import NotificationManager, NotificationMessage\n\nclob = CLOBDataSource()\nnotification_manager = NotificationManager()\n\nprint(\"✅ Modules loaded successfully\")\nprint(f\"🔔 Enabled notifiers: {', '.join(notification_manager.get_enabled_notifiers())}\")",
   "outputs": [
    {
     "name": "stdout",
     "output_type": "stream",
     "text": [
      "✅ Modules loaded successfully\n",
      "🔔 Enabled notifiers: telegram\n"
     ]
    }
   ],
   "execution_count": 1
  },
  {
   "metadata": {
    "ExecuteTime": {
     "end_time": "2025-10-14T15:08:54.071347Z",
     "start_time": "2025-10-14T15:08:50.173971Z"
    }
   },
   "cell_type": "code",
   "source": [
    "# Get current order book snapshot for HBOT-USDT on Bitrue\n",
    "order_book = await clob.get_order_book_snapshot(\n",
    "    connector_name=\"bitrue\",\n",
    "    trading_pair=\"HBOT-USDT\",\n",
    "    depth=50  # Get top 20 levels\n",
    ")\n",
    "\n",
    "print(f\"Order book snapshot for {order_book['trading_pair']}\")\n",
    "print(f\"Timestamp: {pd.to_datetime(order_book['timestamp'], unit='s')}\")\n",
    "print(\"\\n\" + \"=\"*50)\n",
    "\n",
    "# Convert to DataFrames for better visualization\n",
    "bids_df = pd.DataFrame(order_book['bids'], columns=['price', 'amount'])\n",
    "asks_df = pd.DataFrame(order_book['asks'], columns=['price', 'amount'])\n",
    "\n",
    "bids_df['total'] = bids_df['amount'].cumsum()\n",
    "asks_df['total'] = asks_df['amount'].cumsum()\n",
    "bids_df['value'] = bids_df['price'] * bids_df['amount']\n",
    "asks_df['value'] = asks_df['price'] * asks_df['amount']\n",
    "\n",
    "print(f\"\\nTop 10 Bids:\")\n",
    "print(bids_df.head(10))\n",
    "\n",
    "print(f\"\\nTop 10 Asks:\")\n",
    "print(asks_df.head(10))\n",
    "\n",
    "# Calculate spread\n",
    "best_bid = bids_df.iloc[0]['price']\n",
    "best_ask = asks_df.iloc[0]['price']\n",
    "spread = best_ask - best_bid\n",
    "spread_pct = (spread / best_bid) * 100\n",
    "\n",
    "print(f\"\\n{'='*50}\")\n",
    "print(f\"Best Bid: ${best_bid:.6f}\")\n",
    "print(f\"Best Ask: ${best_ask:.6f}\")\n",
    "print(f\"Spread: ${spread:.6f} ({spread_pct:.3f}%)\")\n",
    "print(f\"Mid Price: ${(best_bid + best_ask) / 2:.6f}\")\n",
    "print(f\"\\nTotal Bid Liquidity (20 levels): {bids_df['amount'].sum():.2f} HBOT (${bids_df['value'].sum():.2f})\")\n",
    "print(f\"Total Ask Liquidity (20 levels): {asks_df['amount'].sum():.2f} HBOT (${asks_df['value'].sum():.2f})\")"
   ],
   "id": "6317869589418ba9",
   "outputs": [
    {
     "name": "stdout",
     "output_type": "stream",
     "text": [
      "Order book snapshot for HBOT-USDT\n",
      "Timestamp: 2025-10-14 15:08:54.062044859\n",
      "\n",
      "==================================================\n",
      "\n",
      "Top 10 Bids:\n",
      "     price    amount     total      value\n",
      "0 0.001056   1136.36   1136.36 1.19999616\n",
      "1 0.000877   17905.1  19041.46 15.7027727\n",
      "2 0.000852  26857.65  45899.11 22.8827178\n",
      "3 0.000843   8952.55  54851.66 7.54699965\n",
      "4   0.0008  67273.32 122124.98  53.818656\n",
      "5   0.0007 102546.04 224671.02  71.782228\n",
      "6   0.0006  55588.49 280259.51  33.353094\n",
      "7   0.0005  45484.99  325744.5  22.742495\n",
      "8  0.00011  45454.54 371199.04  4.9999994\n",
      "\n",
      "Top 10 Asks:\n",
      "     price   amount    total       value\n",
      "0 0.001163 26857.65 26857.65 31.23544695\n",
      "1 0.001177 11224.22 38081.87 13.21090694\n",
      "2 0.001179   932.99 39014.86  1.09999521\n",
      "3  0.00118  1016.94  40031.8   1.1999892\n",
      "4  0.00119   1008.4  41040.2    1.199996\n",
      "5 0.001192   1090.6  42130.8   1.2999952\n",
      "6 0.001193  1173.51 43304.31  1.39999743\n",
      "7 0.001202  1081.53 44385.84  1.29999906\n",
      "8 0.001203  1163.75 45549.59  1.39999125\n",
      "9 0.001204  1245.84 46795.43  1.49999136\n",
      "\n",
      "==================================================\n",
      "Best Bid: $0.001056\n",
      "Best Ask: $0.001163\n",
      "Spread: $0.000107 (10.133%)\n",
      "Mid Price: $0.001110\n",
      "\n",
      "Total Bid Liquidity (20 levels): 371199.04 HBOT ($234.03)\n",
      "Total Ask Liquidity (20 levels): 1972274.05 HBOT ($180400.41)\n"
     ]
    }
   ],
   "execution_count": 2
  },
  {
   "cell_type": "code",
   "id": "uzk6u9xs0bd",
   "source": "# Visualize order book depth with +/- 80% range from mid price\nmid_price = (best_bid + best_ask) / 2\nprice_range_lower = mid_price * 0.2\nprice_range_upper = mid_price * 1.8\n\n# Filter bids and asks within the price range\nbids_filtered = bids_df[bids_df['price'] >= price_range_lower].copy()\nasks_filtered = asks_df[asks_df['price'] <= price_range_upper].copy()\n\n# Create single plot for order book\nfig = go.Figure()\n\n# Add cumulative liquidity\nfig.add_trace(\n    go.Scatter(x=bids_filtered['price'], y=bids_filtered['total'], name='Cumulative Bids',\n               line=dict(color='green', width=2), fill='tozeroy')\n)\nfig.add_trace(\n    go.Scatter(x=asks_filtered['price'], y=asks_filtered['total'], name='Cumulative Asks',\n               line=dict(color='red', width=2), fill='tozeroy')\n)\n\nfig.update_xaxes(title_text=\"Price (USDT)\")\nfig.update_yaxes(title_text=\"Cumulative Amount (HBOT)\")\n\nfig.update_layout(\n    height=600,\n    title_text=f\"HBOT-USDT Order Book (±80% from mid price)<br><sub>Mid Price: ${mid_price:.6f} | Spread: ${spread:.6f} ({spread_pct:.3f}%)</sub>\",\n    showlegend=True\n)\n\nfig.show()\n\n# Save chart as PNG for Telegram\norderbook_png_path = '/tmp/hbot_orderbook.png'\nprint(\"💾 Saving order book chart...\")\ntry:\n    fig.write_image(orderbook_png_path, width=1000, height=600, scale=2)\n    print(f\"✅ Order book chart saved: {orderbook_png_path}\")\nexcept Exception as e:\n    print(f\"❌ Error saving chart: {e}\")\n    print(\"💡 Make sure kaleido is installed: pip install kaleido\")",
   "metadata": {
    "ExecuteTime": {
     "end_time": "2025-10-14T15:08:58.047052Z",
     "start_time": "2025-10-14T15:08:54.099779Z"
    }
   },
   "outputs": [
    {
     "data": {
      "application/vnd.plotly.v1+json": {
       "data": [
        {
         "fill": "tozeroy",
         "line": {
          "color": "green",
          "width": 2
         },
         "name": "Cumulative Bids",
         "x": {
          "dtype": "f8",
          "bdata": "+py7XS9NUT9mn8coz7xMP029bhEY60s/oIobt5ifSz8tQxzr4jZKP8e6uI0G8EY/YTJVMCqpQz/8qfHSTWJAPw=="
         },
         "y": {
          "dtype": "f8",
          "bdata": "PQrXo3DBkUAK16NwXZjSQFK4HoVjaeZA7FG4HnXI6kDiehSuz9D9QJDC9Sj4bAtBpHA9Cg4bEUEAAAAAwuETQQ=="
         },
         "type": "scatter"
        },
        {
         "fill": "tozeroy",
         "line": {
          "color": "red",
          "width": 2
         },
         "name": "Cumulative Asks",
         "x": {
          "dtype": "f8",
          "bdata": "jJ/GvfkNUz9MHHkgskhTP0J3SZwVUVM/vqQxWkdVUz+Qa0PFOH9TP4bGE0Gch1M/AvT7/s2LUz9YjSWsjbFTP9S6DWq/tVM/T+j1J/G5Uz+u2F92Tx5WP8e6uI0G8FY/"
         },
         "y": {
          "dtype": "f8",
          "bdata": "mpmZmWk62kBxPQrXO5jiQFK4HoXbDONAmpmZmfmL40BnZmZmBgrkQJqZmZlZkuRAuR6F6wkl5UAVrkfhOqzlQBWuR+GyPeZAKVyPwm3Z5kBxPQrX0zDzQLgehevdPP9A"
         },
         "type": "scatter"
        }
       ],
       "layout": {
        "template": {
         "data": {
          "histogram2dcontour": [
           {
            "type": "histogram2dcontour",
            "colorbar": {
             "outlinewidth": 0,
             "ticks": ""
            },
            "colorscale": [
             [
              0.0,
              "#0d0887"
             ],
             [
              0.1111111111111111,
              "#46039f"
             ],
             [
              0.2222222222222222,
              "#7201a8"
             ],
             [
              0.3333333333333333,
              "#9c179e"
             ],
             [
              0.4444444444444444,
              "#bd3786"
             ],
             [
              0.5555555555555556,
              "#d8576b"
             ],
             [
              0.6666666666666666,
              "#ed7953"
             ],
             [
              0.7777777777777778,
              "#fb9f3a"
             ],
             [
              0.8888888888888888,
              "#fdca26"
             ],
             [
              1.0,
              "#f0f921"
             ]
            ]
           }
          ],
          "choropleth": [
           {
            "type": "choropleth",
            "colorbar": {
             "outlinewidth": 0,
             "ticks": ""
            }
           }
          ],
          "histogram2d": [
           {
            "type": "histogram2d",
            "colorbar": {
             "outlinewidth": 0,
             "ticks": ""
            },
            "colorscale": [
             [
              0.0,
              "#0d0887"
             ],
             [
              0.1111111111111111,
              "#46039f"
             ],
             [
              0.2222222222222222,
              "#7201a8"
             ],
             [
              0.3333333333333333,
              "#9c179e"
             ],
             [
              0.4444444444444444,
              "#bd3786"
             ],
             [
              0.5555555555555556,
              "#d8576b"
             ],
             [
              0.6666666666666666,
              "#ed7953"
             ],
             [
              0.7777777777777778,
              "#fb9f3a"
             ],
             [
              0.8888888888888888,
              "#fdca26"
             ],
             [
              1.0,
              "#f0f921"
             ]
            ]
           }
          ],
          "heatmap": [
           {
            "type": "heatmap",
            "colorbar": {
             "outlinewidth": 0,
             "ticks": ""
            },
            "colorscale": [
             [
              0.0,
              "#0d0887"
             ],
             [
              0.1111111111111111,
              "#46039f"
             ],
             [
              0.2222222222222222,
              "#7201a8"
             ],
             [
              0.3333333333333333,
              "#9c179e"
             ],
             [
              0.4444444444444444,
              "#bd3786"
             ],
             [
              0.5555555555555556,
              "#d8576b"
             ],
             [
              0.6666666666666666,
              "#ed7953"
             ],
             [
              0.7777777777777778,
              "#fb9f3a"
             ],
             [
              0.8888888888888888,
              "#fdca26"
             ],
             [
              1.0,
              "#f0f921"
             ]
            ]
           }
          ],
          "contourcarpet": [
           {
            "type": "contourcarpet",
            "colorbar": {
             "outlinewidth": 0,
             "ticks": ""
            }
           }
          ],
          "contour": [
           {
            "type": "contour",
            "colorbar": {
             "outlinewidth": 0,
             "ticks": ""
            },
            "colorscale": [
             [
              0.0,
              "#0d0887"
             ],
             [
              0.1111111111111111,
              "#46039f"
             ],
             [
              0.2222222222222222,
              "#7201a8"
             ],
             [
              0.3333333333333333,
              "#9c179e"
             ],
             [
              0.4444444444444444,
              "#bd3786"
             ],
             [
              0.5555555555555556,
              "#d8576b"
             ],
             [
              0.6666666666666666,
              "#ed7953"
             ],
             [
              0.7777777777777778,
              "#fb9f3a"
             ],
             [
              0.8888888888888888,
              "#fdca26"
             ],
             [
              1.0,
              "#f0f921"
             ]
            ]
           }
          ],
          "surface": [
           {
            "type": "surface",
            "colorbar": {
             "outlinewidth": 0,
             "ticks": ""
            },
            "colorscale": [
             [
              0.0,
              "#0d0887"
             ],
             [
              0.1111111111111111,
              "#46039f"
             ],
             [
              0.2222222222222222,
              "#7201a8"
             ],
             [
              0.3333333333333333,
              "#9c179e"
             ],
             [
              0.4444444444444444,
              "#bd3786"
             ],
             [
              0.5555555555555556,
              "#d8576b"
             ],
             [
              0.6666666666666666,
              "#ed7953"
             ],
             [
              0.7777777777777778,
              "#fb9f3a"
             ],
             [
              0.8888888888888888,
              "#fdca26"
             ],
             [
              1.0,
              "#f0f921"
             ]
            ]
           }
          ],
          "mesh3d": [
           {
            "type": "mesh3d",
            "colorbar": {
             "outlinewidth": 0,
             "ticks": ""
            }
           }
          ],
          "scatter": [
           {
            "marker": {
             "line": {
              "color": "#283442"
             }
            },
            "type": "scatter"
           }
          ],
          "parcoords": [
           {
            "type": "parcoords",
            "line": {
             "colorbar": {
              "outlinewidth": 0,
              "ticks": ""
             }
            }
           }
          ],
          "scatterpolargl": [
           {
            "type": "scatterpolargl",
            "marker": {
             "colorbar": {
              "outlinewidth": 0,
              "ticks": ""
             }
            }
           }
          ],
          "bar": [
           {
            "error_x": {
             "color": "#f2f5fa"
            },
            "error_y": {
             "color": "#f2f5fa"
            },
            "marker": {
             "line": {
              "color": "rgb(17,17,17)",
              "width": 0.5
             },
             "pattern": {
              "fillmode": "overlay",
              "size": 10,
              "solidity": 0.2
             }
            },
            "type": "bar"
           }
          ],
          "scattergeo": [
           {
            "type": "scattergeo",
            "marker": {
             "colorbar": {
              "outlinewidth": 0,
              "ticks": ""
             }
            }
           }
          ],
          "scatterpolar": [
           {
            "type": "scatterpolar",
            "marker": {
             "colorbar": {
              "outlinewidth": 0,
              "ticks": ""
             }
            }
           }
          ],
          "histogram": [
           {
            "marker": {
             "pattern": {
              "fillmode": "overlay",
              "size": 10,
              "solidity": 0.2
             }
            },
            "type": "histogram"
           }
          ],
          "scattergl": [
           {
            "marker": {
             "line": {
              "color": "#283442"
             }
            },
            "type": "scattergl"
           }
          ],
          "scatter3d": [
           {
            "type": "scatter3d",
            "line": {
             "colorbar": {
              "outlinewidth": 0,
              "ticks": ""
             }
            },
            "marker": {
             "colorbar": {
              "outlinewidth": 0,
              "ticks": ""
             }
            }
           }
          ],
          "scattermap": [
           {
            "type": "scattermap",
            "marker": {
             "colorbar": {
              "outlinewidth": 0,
              "ticks": ""
             }
            }
           }
          ],
          "scattermapbox": [
           {
            "type": "scattermapbox",
            "marker": {
             "colorbar": {
              "outlinewidth": 0,
              "ticks": ""
             }
            }
           }
          ],
          "scatterternary": [
           {
            "type": "scatterternary",
            "marker": {
             "colorbar": {
              "outlinewidth": 0,
              "ticks": ""
             }
            }
           }
          ],
          "scattercarpet": [
           {
            "type": "scattercarpet",
            "marker": {
             "colorbar": {
              "outlinewidth": 0,
              "ticks": ""
             }
            }
           }
          ],
          "carpet": [
           {
            "aaxis": {
             "endlinecolor": "#A2B1C6",
             "gridcolor": "#506784",
             "linecolor": "#506784",
             "minorgridcolor": "#506784",
             "startlinecolor": "#A2B1C6"
            },
            "baxis": {
             "endlinecolor": "#A2B1C6",
             "gridcolor": "#506784",
             "linecolor": "#506784",
             "minorgridcolor": "#506784",
             "startlinecolor": "#A2B1C6"
            },
            "type": "carpet"
           }
          ],
          "table": [
           {
            "cells": {
             "fill": {
              "color": "#506784"
             },
             "line": {
              "color": "rgb(17,17,17)"
             }
            },
            "header": {
             "fill": {
              "color": "#2a3f5f"
             },
             "line": {
              "color": "rgb(17,17,17)"
             }
            },
            "type": "table"
           }
          ],
          "barpolar": [
           {
            "marker": {
             "line": {
              "color": "rgb(17,17,17)",
              "width": 0.5
             },
             "pattern": {
              "fillmode": "overlay",
              "size": 10,
              "solidity": 0.2
             }
            },
            "type": "barpolar"
           }
          ],
          "pie": [
           {
            "automargin": true,
            "type": "pie"
           }
          ]
         },
         "layout": {
          "autotypenumbers": "strict",
          "colorway": [
           "#636efa",
           "#EF553B",
           "#00cc96",
           "#ab63fa",
           "#FFA15A",
           "#19d3f3",
           "#FF6692",
           "#B6E880",
           "#FF97FF",
           "#FECB52"
          ],
          "font": {
           "color": "#f2f5fa"
          },
          "hovermode": "closest",
          "hoverlabel": {
           "align": "left"
          },
          "paper_bgcolor": "rgb(17,17,17)",
          "plot_bgcolor": "rgb(17,17,17)",
          "polar": {
           "bgcolor": "rgb(17,17,17)",
           "angularaxis": {
            "gridcolor": "#506784",
            "linecolor": "#506784",
            "ticks": ""
           },
           "radialaxis": {
            "gridcolor": "#506784",
            "linecolor": "#506784",
            "ticks": ""
           }
          },
          "ternary": {
           "bgcolor": "rgb(17,17,17)",
           "aaxis": {
            "gridcolor": "#506784",
            "linecolor": "#506784",
            "ticks": ""
           },
           "baxis": {
            "gridcolor": "#506784",
            "linecolor": "#506784",
            "ticks": ""
           },
           "caxis": {
            "gridcolor": "#506784",
            "linecolor": "#506784",
            "ticks": ""
           }
          },
          "coloraxis": {
           "colorbar": {
            "outlinewidth": 0,
            "ticks": ""
           }
          },
          "colorscale": {
           "sequential": [
            [
             0.0,
             "#0d0887"
            ],
            [
             0.1111111111111111,
             "#46039f"
            ],
            [
             0.2222222222222222,
             "#7201a8"
            ],
            [
             0.3333333333333333,
             "#9c179e"
            ],
            [
             0.4444444444444444,
             "#bd3786"
            ],
            [
             0.5555555555555556,
             "#d8576b"
            ],
            [
             0.6666666666666666,
             "#ed7953"
            ],
            [
             0.7777777777777778,
             "#fb9f3a"
            ],
            [
             0.8888888888888888,
             "#fdca26"
            ],
            [
             1.0,
             "#f0f921"
            ]
           ],
           "sequentialminus": [
            [
             0.0,
             "#0d0887"
            ],
            [
             0.1111111111111111,
             "#46039f"
            ],
            [
             0.2222222222222222,
             "#7201a8"
            ],
            [
             0.3333333333333333,
             "#9c179e"
            ],
            [
             0.4444444444444444,
             "#bd3786"
            ],
            [
             0.5555555555555556,
             "#d8576b"
            ],
            [
             0.6666666666666666,
             "#ed7953"
            ],
            [
             0.7777777777777778,
             "#fb9f3a"
            ],
            [
             0.8888888888888888,
             "#fdca26"
            ],
            [
             1.0,
             "#f0f921"
            ]
           ],
           "diverging": [
            [
             0,
             "#8e0152"
            ],
            [
             0.1,
             "#c51b7d"
            ],
            [
             0.2,
             "#de77ae"
            ],
            [
             0.3,
             "#f1b6da"
            ],
            [
             0.4,
             "#fde0ef"
            ],
            [
             0.5,
             "#f7f7f7"
            ],
            [
             0.6,
             "#e6f5d0"
            ],
            [
             0.7,
             "#b8e186"
            ],
            [
             0.8,
             "#7fbc41"
            ],
            [
             0.9,
             "#4d9221"
            ],
            [
             1,
             "#276419"
            ]
           ]
          },
          "xaxis": {
           "gridcolor": "#283442",
           "linecolor": "#506784",
           "ticks": "",
           "title": {
            "standoff": 15
           },
           "zerolinecolor": "#283442",
           "automargin": true,
           "zerolinewidth": 2
          },
          "yaxis": {
           "gridcolor": "#283442",
           "linecolor": "#506784",
           "ticks": "",
           "title": {
            "standoff": 15
           },
           "zerolinecolor": "#283442",
           "automargin": true,
           "zerolinewidth": 2
          },
          "scene": {
           "xaxis": {
            "backgroundcolor": "rgb(17,17,17)",
            "gridcolor": "#506784",
            "linecolor": "#506784",
            "showbackground": true,
            "ticks": "",
            "zerolinecolor": "#C8D4E3",
            "gridwidth": 2
           },
           "yaxis": {
            "backgroundcolor": "rgb(17,17,17)",
            "gridcolor": "#506784",
            "linecolor": "#506784",
            "showbackground": true,
            "ticks": "",
            "zerolinecolor": "#C8D4E3",
            "gridwidth": 2
           },
           "zaxis": {
            "backgroundcolor": "rgb(17,17,17)",
            "gridcolor": "#506784",
            "linecolor": "#506784",
            "showbackground": true,
            "ticks": "",
            "zerolinecolor": "#C8D4E3",
            "gridwidth": 2
           }
          },
          "shapedefaults": {
           "line": {
            "color": "#f2f5fa"
           }
          },
          "annotationdefaults": {
           "arrowcolor": "#f2f5fa",
           "arrowhead": 0,
           "arrowwidth": 1
          },
          "geo": {
           "bgcolor": "rgb(17,17,17)",
           "landcolor": "rgb(17,17,17)",
           "subunitcolor": "#506784",
           "showland": true,
           "showlakes": true,
           "lakecolor": "rgb(17,17,17)"
          },
          "title": {
           "x": 0.05
          },
          "updatemenudefaults": {
           "bgcolor": "#506784",
           "borderwidth": 0
          },
          "sliderdefaults": {
           "bgcolor": "#C8D4E3",
           "borderwidth": 1,
           "bordercolor": "rgb(17,17,17)",
           "tickwidth": 0
          },
          "mapbox": {
           "style": "dark"
          }
         }
        },
        "xaxis": {
         "title": {
          "text": "Price (USDT)"
         }
        },
        "yaxis": {
         "title": {
          "text": "Cumulative Amount (HBOT)"
         }
        },
        "title": {
         "text": "HBOT-USDT Order Book (±80% from mid price)<br><sub>Mid Price: $0.001110 | Spread: $0.000107 (10.133%)</sub>"
        },
        "height": 600,
        "showlegend": true
       },
       "config": {
        "plotlyServerURL": "https://plot.ly"
       }
      }
     },
     "metadata": {},
     "output_type": "display_data"
    },
    {
     "name": "stdout",
     "output_type": "stream",
     "text": [
      "💾 Saving order book chart...\n"
     ]
    },
    {
     "name": "stderr",
     "output_type": "stream",
     "text": [
      "WARNING: All log messages before absl::InitializeLog() is called are written to STDERR\n",
      "I0000 00:00:1760454534.669258 7541653 fork_posix.cc:71] Other threads are currently calling into gRPC, skipping fork() handlers\n"
     ]
    },
    {
     "name": "stdout",
     "output_type": "stream",
     "text": [
      "✅ Order book chart saved: /tmp/hbot_orderbook.png\n"
     ]
    }
   ],
   "execution_count": 3
  },
  {
   "cell_type": "code",
   "id": "vov3kvg2aw",
   "source": "# Uniswap V3 Pool Data Retrieval using web3.py\nfrom web3 import Web3\n\n# HBOT Token: 0xE5097D9baeAFB89f9bcB78C9290d545dB5f9e9CB\nHBOT_TOKEN = \"0xE5097D9baeAFB89f9bcB78C9290d545dB5f9e9CB\"\nWETH_TOKEN = \"0xC02aaA39b223FE8D0A0e5C4F27eAD9083C756Cc2\"\nUSDC_TOKEN = \"0xA0b86991c6218b36c1d19D4a2e9Eb0cE3606eB48\"\n\n# Connect to Ethereum mainnet using RPC from .env\nETH_RPC_URL = os.getenv(\"ETHEREUM_RPC_URL\", \"https://eth.llamarpc.com\")\nw3 = Web3(Web3.HTTPProvider(ETH_RPC_URL))\n\nprint(f\"Connected to Ethereum: {w3.is_connected()}\")\nprint(f\"Latest block: {w3.eth.block_number}\")\nprint(f\"Using RPC: {ETH_RPC_URL}\")",
   "metadata": {
    "ExecuteTime": {
     "end_time": "2025-10-14T15:08:58.603002Z",
     "start_time": "2025-10-14T15:08:58.079135Z"
    }
   },
   "outputs": [
    {
     "name": "stdout",
     "output_type": "stream",
     "text": [
      "Connected to Ethereum: True\n",
      "Latest block: 23576737\n",
      "Using RPC: https://eth-mainnet.g.alchemy.com/v2/Qg2veze73M53UJYjgpVrqeNe_R5TudDR\n"
     ]
    }
   ],
   "execution_count": 4
  },
  {
   "cell_type": "code",
   "id": "sw1wubucsvr",
   "source": "# Discover Uniswap V3 Pools for HBOT/WETH and HBOT/USDC\nUNISWAP_V3_FACTORY = \"0x1F98431c8aD98523631AE4a59f267346ea31F984\"\n\n# Uniswap V3 Factory ABI\nfactory_abi = [\n    {\n        \"inputs\": [\n            {\"internalType\": \"address\", \"name\": \"tokenA\", \"type\": \"address\"},\n            {\"internalType\": \"address\", \"name\": \"tokenB\", \"type\": \"address\"},\n            {\"internalType\": \"uint24\", \"name\": \"fee\", \"type\": \"uint24\"}\n        ],\n        \"name\": \"getPool\",\n        \"outputs\": [{\"internalType\": \"address\", \"name\": \"pool\", \"type\": \"address\"}],\n        \"stateMutability\": \"view\",\n        \"type\": \"function\"\n    }\n]\n\nfactory = w3.eth.contract(address=Web3.to_checksum_address(UNISWAP_V3_FACTORY), abi=factory_abi)\n\n# Check common fee tiers (0.05%, 0.3%, 1%)\nfee_tiers = [500, 3000, 10000]\nall_pools = []\n\n# Check HBOT/WETH pools\nprint(\"Searching for HBOT/WETH Uniswap V3 pools...\")\nfor fee in fee_tiers:\n    try:\n        pool_address = factory.functions.getPool(\n            Web3.to_checksum_address(HBOT_TOKEN),\n            Web3.to_checksum_address(WETH_TOKEN),\n            fee\n        ).call()\n\n        if pool_address != \"0x0000000000000000000000000000000000000000\":\n            all_pools.append({\n                \"pair\": \"HBOT/WETH\",\n                \"fee\": fee,\n                \"address\": pool_address\n            })\n            print(f\"  ✓ Found at {fee/10000}% fee tier: {pool_address}\")\n    except Exception as e:\n        print(f\"  ✗ Error at {fee/10000}% fee tier: {e}\")\n\n# Check HBOT/USDC pools (only 0.05% and 0.3%, skip 1%)\nprint(\"\\nSearching for HBOT/USDC Uniswap V3 pools...\")\nfor fee in [500, 3000]:  # Skip 10000 (1%)\n    try:\n        pool_address = factory.functions.getPool(\n            Web3.to_checksum_address(HBOT_TOKEN),\n            Web3.to_checksum_address(USDC_TOKEN),\n            fee\n        ).call()\n\n        if pool_address != \"0x0000000000000000000000000000000000000000\":\n            all_pools.append({\n                \"pair\": \"HBOT/USDC\",\n                \"fee\": fee,\n                \"address\": pool_address\n            })\n            print(f\"  ✓ Found at {fee/10000}% fee tier: {pool_address}\")\n    except Exception as e:\n        print(f\"  ✗ Error at {fee/10000}% fee tier: {e}\")\n\nprint(f\"\\n{'='*60}\")\nprint(f\"Total pools found: {len(all_pools)}\")\nfor pool in all_pools:\n    print(f\"  {pool['pair']} @ {pool['fee']/10000}% - {pool['address']}\")\nprint(f\"{'='*60}\")\n\n# Fetch ETH price dynamically from CoinGecko\nprint(f\"\\n💰 Fetching live ETH price from CoinGecko...\")\nimport requests\n\ntry:\n    response = requests.get(\n        \"https://api.coingecko.com/api/v3/simple/price\",\n        params={\"ids\": \"ethereum\", \"vs_currencies\": \"usd\"}\n    )\n    response.raise_for_status()\n    eth_price_usd = response.json()[\"ethereum\"][\"usd\"]\n    print(f\"  ✓ ETH Price: ${eth_price_usd:,.2f}\")\nexcept Exception as e:\n    print(f\"  ✗ Error fetching ETH price: {e}\")\n    print(f\"  ⚠️ Falling back to approximate price: $2400\")\n    eth_price_usd = 2400",
   "metadata": {
    "ExecuteTime": {
     "end_time": "2025-10-14T15:09:02.164821Z",
     "start_time": "2025-10-14T15:08:58.606364Z"
    }
   },
   "outputs": [
    {
     "name": "stdout",
     "output_type": "stream",
     "text": [
      "Searching for HBOT/WETH Uniswap V3 pools...\n",
      "  ✓ Found at 0.3% fee tier: 0x3aB72a32810Cf72bdE4Aa0191Dd7702f50dE0F64\n",
      "\n",
      "Searching for HBOT/USDC Uniswap V3 pools...\n",
      "  ✓ Found at 0.3% fee tier: 0x47541D068e1289297e1ef66277507116A26DE860\n",
      "\n",
      "============================================================\n",
      "Total pools found: 2\n",
      "  HBOT/WETH @ 0.3% - 0x3aB72a32810Cf72bdE4Aa0191Dd7702f50dE0F64\n",
      "  HBOT/USDC @ 0.3% - 0x47541D068e1289297e1ef66277507116A26DE860\n",
      "============================================================\n",
      "\n",
      "💰 Fetching live ETH price from CoinGecko...\n",
      "  ✓ ETH Price: $3,990.30\n"
     ]
    }
   ],
   "execution_count": 5
  },
  {
   "cell_type": "code",
   "id": "lwiw03r5urr",
   "source": "# Simplified approach: Just show pool info and basic metrics\ndef get_v3_pool_info(pool_address, w3):\n    \"\"\"\n    Get basic pool information and calculate some useful metrics.\n    \"\"\"\n    # Pool ABI\n    pool_abi = [\n        {\n            \"inputs\": [],\n            \"name\": \"liquidity\",\n            \"outputs\": [{\"internalType\": \"uint128\", \"name\": \"\", \"type\": \"uint128\"}],\n            \"stateMutability\": \"view\",\n            \"type\": \"function\"\n        },\n        {\n            \"inputs\": [],\n            \"name\": \"slot0\",\n            \"outputs\": [\n                {\"internalType\": \"uint160\", \"name\": \"sqrtPriceX96\", \"type\": \"uint160\"},\n                {\"internalType\": \"int24\", \"name\": \"tick\", \"type\": \"int24\"},\n                {\"internalType\": \"uint16\", \"name\": \"observationIndex\", \"type\": \"uint16\"},\n                {\"internalType\": \"uint16\", \"name\": \"observationCardinality\", \"type\": \"uint16\"},\n                {\"internalType\": \"uint16\", \"name\": \"observationCardinalityNext\", \"type\": \"uint16\"},\n                {\"internalType\": \"uint8\", \"name\": \"feeProtocol\", \"type\": \"uint8\"},\n                {\"internalType\": \"bool\", \"name\": \"unlocked\", \"type\": \"bool\"}\n            ],\n            \"stateMutability\": \"view\",\n            \"type\": \"function\"\n        },\n        {\n            \"inputs\": [],\n            \"name\": \"token0\",\n            \"outputs\": [{\"internalType\": \"address\", \"name\": \"\", \"type\": \"address\"}],\n            \"stateMutability\": \"view\",\n            \"type\": \"function\"\n        },\n        {\n            \"inputs\": [],\n            \"name\": \"token1\",\n            \"outputs\": [{\"internalType\": \"address\", \"name\": \"\", \"type\": \"address\"}],\n            \"stateMutability\": \"view\",\n            \"type\": \"function\"\n        },\n        {\n            \"inputs\": [],\n            \"name\": \"tickSpacing\",\n            \"outputs\": [{\"internalType\": \"int24\", \"name\": \"\", \"type\": \"int24\"}],\n            \"stateMutability\": \"view\",\n            \"type\": \"function\"\n        },\n        {\n            \"inputs\": [],\n            \"name\": \"fee\",\n            \"outputs\": [{\"internalType\": \"uint24\", \"name\": \"\", \"type\": \"uint24\"}],\n            \"stateMutability\": \"view\",\n            \"type\": \"function\"\n        }\n    ]\n\n    erc20_abi = [\n        {\n            \"inputs\": [{\"internalType\": \"address\", \"name\": \"account\", \"type\": \"address\"}],\n            \"name\": \"balanceOf\",\n            \"outputs\": [{\"internalType\": \"uint256\", \"name\": \"\", \"type\": \"uint256\"}],\n            \"stateMutability\": \"view\",\n            \"type\": \"function\"\n        },\n        {\n            \"inputs\": [],\n            \"name\": \"symbol\",\n            \"outputs\": [{\"internalType\": \"string\", \"name\": \"\", \"type\": \"string\"}],\n            \"stateMutability\": \"view\",\n            \"type\": \"function\"\n        },\n        {\n            \"inputs\": [],\n            \"name\": \"decimals\",\n            \"outputs\": [{\"internalType\": \"uint8\", \"name\": \"\", \"type\": \"uint8\"}],\n            \"stateMutability\": \"view\",\n            \"type\": \"function\"\n        }\n    ]\n\n    pool = w3.eth.contract(address=Web3.to_checksum_address(pool_address), abi=pool_abi)\n    \n    # Get pool state\n    slot0 = pool.functions.slot0().call()\n    current_tick = slot0[1]\n    sqrt_price_x96 = slot0[0]\n    liquidity = pool.functions.liquidity().call()\n    tick_spacing = pool.functions.tickSpacing().call()\n    fee = pool.functions.fee().call()\n    \n    # Get token info\n    token0_address = pool.functions.token0().call()\n    token1_address = pool.functions.token1().call()\n    \n    token0 = w3.eth.contract(address=Web3.to_checksum_address(token0_address), abi=erc20_abi)\n    token1 = w3.eth.contract(address=Web3.to_checksum_address(token1_address), abi=erc20_abi)\n    \n    token0_symbol = token0.functions.symbol().call()\n    token1_symbol = token1.functions.symbol().call()\n    token0_decimals = token0.functions.decimals().call()\n    token1_decimals = token1.functions.decimals().call()\n    \n    # Get token balances in pool\n    token0_balance = token0.functions.balanceOf(pool_address).call()\n    token1_balance = token1.functions.balanceOf(pool_address).call()\n    \n    # Calculate current price\n    sqrt_price = sqrt_price_x96 / (2 ** 96)\n    price = sqrt_price ** 2\n    price_adjusted = price * (10 ** token0_decimals) / (10 ** token1_decimals)\n    \n    # Convert balances to human readable\n    token0_balance_human = token0_balance / (10 ** token0_decimals)\n    token1_balance_human = token1_balance / (10 ** token1_decimals)\n    \n    return {\n        'pool_address': pool_address,\n        'token0_symbol': token0_symbol,\n        'token1_symbol': token1_symbol,\n        'token0_address': token0_address,\n        'token1_address': token1_address,\n        'token0_decimals': token0_decimals,\n        'token1_decimals': token1_decimals,\n        'token0_balance': token0_balance_human,\n        'token1_balance': token1_balance_human,\n        'price': price_adjusted,\n        'current_tick': current_tick,\n        'liquidity': liquidity,\n        'tick_spacing': tick_spacing,\n        'fee': fee\n    }\n\n# Get pool info for all pools\npools_info = []\n\nfor pool_info in all_pools:\n    print(f\"\\nGetting info for {pool_info['pair']} @ {pool_info['fee']/10000}%...\")\n    try:\n        info = get_v3_pool_info(pool_info['address'], w3)\n        info['pair'] = pool_info['pair']\n        pools_info.append(info)\n        print(f\"  ✓ Price: {info['price']:.6e} {info['token1_symbol']}/{info['token0_symbol']}\")\n        print(f\"  ✓ Reserves: {info['token0_balance']:.4f} {info['token0_symbol']}, {info['token1_balance']:,.2f} {info['token1_symbol']}\")\n        print(f\"  ✓ Liquidity: {info['liquidity']:,}\")\n    except Exception as e:\n        print(f\"  ✗ Error: {e}\")\n        import traceback\n        traceback.print_exc()\n\nprint(f\"\\n{'='*60}\")\nprint(f\"Successfully retrieved {len(pools_info)} pools\")\nprint(f\"{'='*60}\")",
   "metadata": {
    "jupyter": {
     "is_executing": true
    },
    "ExecuteTime": {
     "start_time": "2025-10-14T15:09:02.177333Z"
    }
   },
   "outputs": [
    {
     "name": "stdout",
     "output_type": "stream",
     "text": [
      "\n",
      "Getting info for HBOT/WETH @ 0.3%...\n"
     ]
    }
   ],
   "execution_count": null
  },
  {
   "cell_type": "code",
   "id": "1kziyao224a",
   "source": "# Summary Report: CEX vs DEX Liquidity\nprint(\"=\"*80)\nprint(\"HBOT LIQUIDITY REPORT\")\nprint(\"=\"*80)\n\n# CEX Summary\nprint(f\"\\n📊 CENTRALIZED EXCHANGE (Bitrue)\")\nprint(\"─\"*80)\nprint(f\"Trading Pair: HBOT-USDT\")\nprint(f\"Mid Price: ${(best_bid + best_ask) / 2:.6f}\")\nprint(f\"Spread: {spread_pct:.2f}%\")\nprint(f\"Bid Liquidity: {bids_df['amount'].sum():,.2f} HBOT (${bids_df['value'].sum():,.2f})\")\nprint(f\"Ask Liquidity: {asks_df['amount'].sum():,.2f} HBOT (${asks_df['value'].sum():,.2f})\")\nprint(f\"Total CEX Liquidity: ${(bids_df['value'].sum() + asks_df['value'].sum()):,.2f}\")\n\n# DEX Summary\nprint(f\"\\n🦄 DECENTRALIZED EXCHANGE (Uniswap V3)\")\nprint(\"─\"*80)\n\n# Store calculated USD prices for each pool\npool_usd_prices = {}\n\nfor pool in pools_info:\n    print(f\"\\n{pool['pair']} @ {pool['fee']/10000}%\")\n    print(f\"  Address: {pool['pool_address']}\")\n    print(f\"  Price: {pool['price']:.6e} {pool['token1_symbol']}/{pool['token0_symbol']}\")\n    print(f\"  Reserves:\")\n    print(f\"    - {pool['token0_symbol']}: {pool['token0_balance']:.4f}\")\n    print(f\"    - {pool['token1_symbol']}: {pool['token1_balance']:,.2f}\")\n    \n    # Calculate TVL and USD price based on pool composition\n    hbot_price_usd = None\n    tvl = None\n    \n    if pool['token0_symbol'] == 'WETH' and pool['token1_symbol'] == 'HBOT':\n        # HBOT/WETH pool: price is HBOT per WETH\n        # Convert to USD: (ETH price in USD) / (HBOT per WETH)\n        hbot_price_usd = eth_price_usd / pool['price']\n        tvl = pool['token0_balance'] * eth_price_usd * 2  # Assume roughly 50/50 split\n        print(f\"  Estimated TVL: ${tvl:,.2f}\")\n        print(f\"  HBOT Price (via WETH @ ${eth_price_usd:,.2f}): ${hbot_price_usd:.6f}\")\n        pool_usd_prices[pool['pair']] = hbot_price_usd\n        \n    elif pool['token0_symbol'] == 'USDC' and pool['token1_symbol'] == 'HBOT':\n        # HBOT/USDC pool: price is HBOT per USDC\n        # Convert to USD: 1 / (HBOT per USDC) since USDC ≈ $1\n        hbot_price_usd = 1.0 / pool['price']\n        tvl = pool['token0_balance'] * 2  # USDC is already in USD\n        print(f\"  Estimated TVL: ${tvl:,.2f}\")\n        print(f\"  HBOT Price (via USDC): ${hbot_price_usd:.6f}\")\n        pool_usd_prices[pool['pair']] = hbot_price_usd\n        \n    elif pool['token1_symbol'] == 'USDC' and pool['token0_symbol'] == 'HBOT':\n        # USDC/HBOT pool: price is USDC per HBOT\n        # This is already in USD per HBOT\n        hbot_price_usd = pool['price']\n        tvl = pool['token1_balance'] * 2  # USDC is already in USD\n        print(f\"  Estimated TVL: ${tvl:,.2f}\")\n        print(f\"  HBOT Price (via USDC): ${hbot_price_usd:.6f}\")\n        pool_usd_prices[pool['pair']] = hbot_price_usd\n\nprint(f\"\\n{'='*80}\")\n\n# Comparison\nprint(f\"\\n📈 COMPARISON\")\nprint(\"─\"*80)\ncex_price = (best_bid + best_ask) / 2\nprint(f\"CEX Price (USDT-quoted): ${cex_price:.6f}\")\n\nif 'HBOT/WETH' in pool_usd_prices:\n    dex_weth_price = pool_usd_prices['HBOT/WETH']\n    price_diff_pct = ((dex_weth_price - cex_price) / cex_price) * 100\n    print(f\"DEX Price (WETH pool, ETH @ ${eth_price_usd:,.2f}): ${dex_weth_price:.6f} ({price_diff_pct:+.2f}% vs CEX)\")\n\nif 'HBOT/USDC' in pool_usd_prices:\n    dex_usdc_price = pool_usd_prices['HBOT/USDC']\n    price_diff_pct = ((dex_usdc_price - cex_price) / cex_price) * 100\n    print(f\"DEX Price (USDC pool): ${dex_usdc_price:.6f} ({price_diff_pct:+.2f}% vs CEX)\")\n\nprint(f\"\\n{'='*80}\\n\")",
   "metadata": {},
   "outputs": [],
   "execution_count": null
  },
  {
   "cell_type": "code",
   "id": "jvfksffyfvb",
   "source": "# Send report via Telegram using NotificationManager\n\n# First, send the order book image\ntelegram_notifier = notification_manager.get_notifier('telegram')\n\nif telegram_notifier and os.path.exists(orderbook_png_path):\n    print(\"📤 Sending order book chart to Telegram...\")\n    \n    # Create caption for order book image\n    orderbook_caption = f\"\"\"📊 <b>HBOT-USDT Order Book (Bitrue CEX)</b>\n\n💰 Mid Price: <code>${(best_bid + best_ask) / 2:.6f}</code>\n📏 Spread: <code>{spread_pct:.2f}%</code>\n\n<b>Liquidity Summary:</b>\n🟢 Bids: <code>{bids_df['amount'].sum():,.0f} HBOT</code> (${bids_df['value'].sum():,.2f})\n🔴 Asks: <code>{asks_df['amount'].sum():,.0f} HBOT</code> (${asks_df['value'].sum():,.2f})\n💵 Total: <code>${(bids_df['value'].sum() + asks_df['value'].sum()):,.2f}</code>\n\n<i>Order book depth ±80% from mid price</i>\"\"\"\n    \n    try:\n        orderbook_success = await telegram_notifier.send_photo(\n            orderbook_png_path,\n            caption=orderbook_caption\n        )\n        print(f\"  📊 Order Book Chart: {'✅ Sent' if orderbook_success else '❌ Failed'}\")\n    except Exception as e:\n        print(f\"  ❌ Error sending order book: {e}\")\n\n# Build DEX liquidity message with corrected USD prices\ntelegram_message = \"<b>🦄 UNISWAP V3 DEX LIQUIDITY</b>\\n\"\ntelegram_message += \"━━━━━━━━━━━━━━━━━━━━━━━━━━━━\\n\\n\"\n\nfor i, pool in enumerate(pools_info):\n    if i > 0:\n        telegram_message += \"\\n\"\n    \n    telegram_message += f\"<b>{pool['pair']}</b> @ {pool['fee']/10000}%\\n\"\n    telegram_message += f\"├ Address: <code>{pool['pool_address'][:10]}...{pool['pool_address'][-8:]}</code>\\n\"\n    telegram_message += f\"├ Reserves:\\n\"\n    telegram_message += f\"│  ├ {pool['token0_symbol']}: <code>{pool['token0_balance']:.4f}</code>\\n\"\n    telegram_message += f\"│  └ {pool['token1_symbol']}: <code>{pool['token1_balance']:,.0f}</code>\\n\"\n    \n    # Calculate TVL and HBOT USD price properly\n    if pool['token0_symbol'] == 'WETH' and pool['token1_symbol'] == 'HBOT':\n        # HBOT/WETH pool\n        tvl = pool['token0_balance'] * eth_price_usd * 2\n        hbot_price_usd = eth_price_usd / pool['price']\n        telegram_message += f\"├ TVL: <code>${tvl:,.2f}</code>\\n\"\n        telegram_message += f\"└ HBOT Price: <code>${hbot_price_usd:.6f}</code> (via WETH @ ${eth_price_usd:,.2f})\\n\"\n        \n    elif pool['token0_symbol'] == 'USDC' and pool['token1_symbol'] == 'HBOT':\n        # HBOT/USDC pool: price is HBOT per USDC\n        tvl = pool['token0_balance'] * 2\n        hbot_price_usd = 1.0 / pool['price']\n        telegram_message += f\"├ TVL: <code>${tvl:,.2f}</code>\\n\"\n        telegram_message += f\"└ HBOT Price: <code>${hbot_price_usd:.6f}</code> (via USDC)\\n\"\n        \n    elif pool['token1_symbol'] == 'USDC' and pool['token0_symbol'] == 'HBOT':\n        # USDC/HBOT pool: price is already USD per HBOT\n        tvl = pool['token1_balance'] * 2\n        hbot_price_usd = pool['price']\n        telegram_message += f\"├ TVL: <code>${tvl:,.2f}</code>\\n\"\n        telegram_message += f\"└ HBOT Price: <code>${hbot_price_usd:.6f}</code> (via USDC)\\n\"\n\n# Comparison with proper price sources\ntelegram_message += \"\\n<b>📈 CEX vs DEX COMPARISON</b>\\n\"\ncex_price = (best_bid + best_ask) / 2\ntelegram_message += f\"├ CEX (USDT): <code>${cex_price:.6f}</code>\\n\"\n\nif 'HBOT/WETH' in pool_usd_prices:\n    dex_weth_price = pool_usd_prices['HBOT/WETH']\n    price_diff_pct = ((dex_weth_price - cex_price) / cex_price) * 100\n    telegram_message += f\"├ DEX WETH Pool: <code>${dex_weth_price:.6f}</code> ({price_diff_pct:+.2f}%)\\n\"\n\nif 'HBOT/USDC' in pool_usd_prices:\n    dex_usdc_price = pool_usd_prices['HBOT/USDC']\n    price_diff_pct = ((dex_usdc_price - cex_price) / cex_price) * 100\n    telegram_message += f\"└ DEX USDC Pool: <code>${dex_usdc_price:.6f}</code> ({price_diff_pct:+.2f}%)\\n\"\n\n# Add timestamp\ntelegram_message += f\"\\n<i>📅 {datetime.now(timezone.utc).strftime('%Y-%m-%d %H:%M:%S UTC')}</i>\"\ntelegram_message += f\"\\n<i>💱 ETH Price: ${eth_price_usd:,.2f}</i>\"\n\n# Print message to verify\nprint(\"\\nTelegram Message Preview:\")\nprint(\"=\"*60)\nprint(telegram_message.replace(\"<b>\", \"\").replace(\"</b>\", \"\").replace(\"<code>\", \"\").replace(\"</code>\", \"\").replace(\"<i>\", \"\").replace(\"</i>\", \"\"))\nprint(\"=\"*60)\n\n# Send DEX liquidity message via NotificationManager\nprint(\"\\n📤 Sending DEX liquidity report...\")\n\nnotification = NotificationMessage(\n    title=\"🦄 HBOT DEX Liquidity\",\n    message=telegram_message,\n    level=\"info\",\n)\n\ntry:\n    results = await notification_manager.send_notification(notification)\n    \n    print(\"\\n📊 Notification Delivery Results:\")\n    print(\"-\" * 40)\n    for service, success in results.items():\n        status_emoji = \"✅\" if success else \"❌\"\n        status_text = \"Delivered\" if success else \"Failed\"\n        print(f\"  {status_emoji} {service.capitalize()}: {status_text}\")\n    \n    # Summary\n    successful_deliveries = sum(results.values())\n    total_services = len(results)\n    print(f\"\\n📈 Delivery Summary: {successful_deliveries}/{total_services} services successful\")\n    \n    if successful_deliveries == 0:\n        print(\"⚠️ No notifications were delivered successfully\")\n        print(\"💡 Check your notification configuration in .env file\")\n    elif 'telegram' in results and results['telegram']:\n        print(\"🎉 HBOT liquidity report successfully sent to Telegram!\")\n    \nexcept Exception as e:\n    print(f\"❌ Error sending notification: {e}\")\n    print(\"💡 Check your Telegram bot configuration and network connection\")",
   "metadata": {},
   "outputs": [],
   "execution_count": null
  },
  {
   "metadata": {},
   "cell_type": "code",
   "source": "",
   "id": "65b57b0db0b95de0",
   "outputs": [],
   "execution_count": null
  }
 ],
 "metadata": {
  "kernelspec": {
   "display_name": "Python 3",
   "language": "python",
   "name": "python3"
  },
  "language_info": {
   "codemirror_mode": {
    "name": "ipython",
    "version": 2
   },
   "file_extension": ".py",
   "mimetype": "text/x-python",
   "name": "python",
   "nbconvert_exporter": "python",
   "pygments_lexer": "ipython2",
   "version": "2.7.6"
  }
 },
 "nbformat": 4,
 "nbformat_minor": 5
}
