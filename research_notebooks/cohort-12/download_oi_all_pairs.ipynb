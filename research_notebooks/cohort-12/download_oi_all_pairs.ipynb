{
 "cells": [
  {
   "cell_type": "markdown",
   "metadata": {},
   "source": [
    "# ETL Pipeline: Download Historical Open Interest Data\n",
    "\n",
    "## 📊 Overview\n",
    "This notebook implements an ETL (Extract, Transform, Load) pipeline for downloading historical open interest (OI) data from cryptocurrency exchanges. It handles rate limiting, batch processing, and data caching for efficient data collection.\n",
    "\n",
    "## 🎯 Objectives\n",
    "1. **Data Extraction**: Download historical open interest data from exchange APIs\n",
    "2. **Batch Processing**: Handle multiple trading pairs and timeframes efficiently\n",
    "3. **Rate Limit Management**: Respect exchange API limits to avoid throttling\n",
    "4. **Data Caching**: Store downloaded data locally for future use\n",
    "5. **Visualization**: Preview downloaded data with interactive charts\n",
    "\n",
    "## 📋 Prerequisites\n",
    "- Exchange API access (e.g., Binance Perpetual)\n",
    "- Network connection for API calls\n",
    "- Sufficient disk space for data storage (~50MB per pair/interval)\n",
    "\n",
    "## ⚠️ Important Notes on Rate Limiting\n",
    "Open Interest API endpoints typically have lower rate limits:\n",
    "- **Batch Size**: Keep `BATCH_OI_REQUEST` very low (2-5) to avoid hitting limits\n",
    "- **Sleep Time**: Use longer `SLEEP_REQUEST` (5+ seconds) for safety\n",
    "- **Monitor**: Watch for 429 (Too Many Requests) errors and adjust accordingly\n",
    "\n",
    "## 📈 Expected Outputs\n",
    "- Cached OI data in `app/data/cache/oi/`\n",
    "- Hourly interval data (1h is recommended for OI)\n",
    "- Interactive charts showing OI trends for data validation"
   ]
  },
  {
   "cell_type": "code",
   "metadata": {
    "ExecuteTime": {
     "end_time": "2025-09-19T14:46:46.818392Z",
     "start_time": "2025-09-19T14:46:45.666090Z"
    }
   },
   "source": [
    "from core.data_sources.clob import CLOBDataSource\n",
    "import warnings\n",
    "import pandas as pd\n",
    "import plotly.graph_objects as go\n",
    "from plotly.subplots import make_subplots\n",
    "\n",
    "warnings.filterwarnings(\"ignore\")\n",
    "\n",
    "# Main class to access central limit order book connectors\n",
    "clob = CLOBDataSource()\n",
    "\n",
    "# Open Interest config\n",
    "CONNECTOR_NAME = \"binance_perpetual\"\n",
    "INTERVAL = \"1h\"  # 1h is recommended for OI data\n",
    "\n",
    "DAYS = 7  # Number of days of historical data to download\n",
    "\n",
    "# Rate limits config (more conservative for OI)\n",
    "BATCH_OI_REQUEST = 20  # Number of trading pairs to request in each batch\n",
    "SLEEP_REQUEST = 5  # Seconds to wait between batches"
   ],
   "outputs": [],
   "execution_count": 1
  },
  {
   "cell_type": "code",
   "metadata": {
    "ExecuteTime": {
     "end_time": "2025-09-19T14:49:08.455745Z",
     "start_time": "2025-09-19T14:46:46.821719Z"
    }
   },
   "source": [
    "# Get trading rules and pairs\n",
    "trading_rules = await clob.get_trading_rules(CONNECTOR_NAME)\n",
    "trading_pairs = trading_rules.get_all_trading_pairs()\n",
    "\n",
    "print(f\"Found {len(trading_pairs)} trading pairs\")\n",
    "print(f\"First 10 pairs: {trading_pairs[:10]}\")\n",
    "\n",
    "# Since all Binance perpetual pairs support OI data, download all pairs\n",
    "# You can limit this for faster testing by changing trading_pairs to trading_pairs[:50]\n",
    "selected_pairs = trading_pairs  # Use all pairs - change to [:50] for testing\n",
    "print(f\"Downloading OI data for {len(selected_pairs)} pairs\")\n",
    "\n",
    "# Download OI data for all pairs\n",
    "print(f\"\\nDownloading {INTERVAL} OI data for last {DAYS} days...\")\n",
    "print(f\"Batch size: {BATCH_OI_REQUEST}, Sleep time: {SLEEP_REQUEST}s\")\n",
    "\n",
    "all_oi_data = await clob.get_oi_batch_last_days(\n",
    "    CONNECTOR_NAME, \n",
    "    selected_pairs,\n",
    "    INTERVAL, \n",
    "    DAYS, \n",
    "    BATCH_OI_REQUEST,\n",
    "    SLEEP_REQUEST,\n",
    ")\n",
    "\n",
    "print(f\"\\nCompleted downloading OI data for {len(all_oi_data)} trading pairs\")"
   ],
   "outputs": [
    {
     "name": "stdout",
     "output_type": "stream",
     "text": [
      "Found 535 trading pairs\n",
      "First 10 pairs: ['STEEM-USDT', 'SYN-USDT', 'LRC-USDT', '1MBABYDOGE-USDT', 'BIO-USDC', 'FLOCK-USDT', 'CTSI-USDT', 'TRUMP-USDC', '1000BONK-USDT', 'OXT-USDT']\n",
      "Downloading OI data for 535 pairs\n",
      "\n",
      "Downloading 1h OI data for last 7 days...\n",
      "Batch size: 20, Sleep time: 5s\n",
      "OI Batch 1/27\n",
      "Start: 0, End: 20\n",
      "OI Batch 2/27\n",
      "Start: 20, End: 40\n",
      "OI Batch 3/27\n",
      "Start: 40, End: 60\n",
      "OI Batch 4/27\n",
      "Start: 60, End: 80\n",
      "OI Batch 5/27\n",
      "Start: 80, End: 100\n",
      "OI Batch 6/27\n",
      "Start: 100, End: 120\n",
      "OI Batch 7/27\n",
      "Start: 120, End: 140\n",
      "OI Batch 8/27\n",
      "Start: 140, End: 160\n",
      "OI Batch 9/27\n",
      "Start: 160, End: 180\n",
      "OI Batch 10/27\n",
      "Start: 180, End: 200\n",
      "OI Batch 11/27\n",
      "Start: 200, End: 220\n",
      "OI Batch 12/27\n",
      "Start: 220, End: 240\n",
      "OI Batch 13/27\n",
      "Start: 240, End: 260\n",
      "OI Batch 14/27\n",
      "Start: 260, End: 280\n",
      "OI Batch 15/27\n",
      "Start: 280, End: 300\n",
      "OI Batch 16/27\n",
      "Start: 300, End: 320\n",
      "OI Batch 17/27\n",
      "Start: 320, End: 340\n",
      "OI Batch 18/27\n",
      "Start: 340, End: 360\n",
      "OI Batch 19/27\n",
      "Start: 360, End: 380\n",
      "OI Batch 20/27\n",
      "Start: 380, End: 400\n",
      "OI Batch 21/27\n",
      "Start: 400, End: 420\n",
      "OI Batch 22/27\n",
      "Start: 420, End: 440\n",
      "OI Batch 23/27\n",
      "Start: 440, End: 460\n",
      "OI Batch 24/27\n",
      "Start: 460, End: 480\n",
      "OI Batch 25/27\n",
      "Start: 480, End: 500\n",
      "OI Batch 26/27\n",
      "Start: 500, End: 520\n",
      "OI Batch 27/27\n",
      "Start: 520, End: 540\n",
      "\n",
      "Completed downloading OI data for 535 trading pairs\n"
     ]
    }
   ],
   "execution_count": 2
  },
  {
   "cell_type": "code",
   "metadata": {
    "ExecuteTime": {
     "end_time": "2025-09-19T14:49:08.489851Z",
     "start_time": "2025-09-19T14:49:08.486004Z"
    }
   },
   "source": [
    "# Display info about downloaded OI data\n",
    "successful_downloads = [oi_df for oi_df in all_oi_data if not oi_df.empty]\n",
    "failed_downloads = len(all_oi_data) - len(successful_downloads)\n",
    "\n",
    "print(f\"Successfully downloaded: {len(successful_downloads)} pairs\")\n",
    "print(f\"Failed downloads: {failed_downloads} pairs\")\n",
    "\n",
    "if successful_downloads:\n",
    "    print(\"\\nSuccessful downloads:\")\n",
    "    for i, oi_df in enumerate(successful_downloads[:10]):  # Show first 10\n",
    "        pair_name = selected_pairs[i]  # Use selected_pairs list\n",
    "        print(f\"{i+1}. {pair_name}: {len(oi_df)} records\")\n",
    "        \n",
    "    # Show sample data structure\n",
    "    print(f\"\\nSample data structure (first pair):\")\n",
    "    sample_df = successful_downloads[0]\n",
    "    print(f\"Columns: {list(sample_df.columns)}\")\n",
    "    print(f\"Date range: {sample_df.index.min()} to {sample_df.index.max()}\")\n",
    "    print(\"\\nFirst 5 records:\")\n",
    "    print(sample_df.head())\n",
    "else:\n",
    "    print(\"No successful downloads to display\")\n",
    "    print(\"\\nDebugging: Let's check what's in the all_oi_data list:\")\n",
    "    for i, oi_df in enumerate(all_oi_data[:10]):  # Show first 10 for debugging\n",
    "        if i < len(selected_pairs):\n",
    "            print(f\"  Pair {selected_pairs[i]}: DataFrame shape = {oi_df.shape}, empty = {oi_df.empty}\")"
   ],
   "outputs": [
    {
     "name": "stdout",
     "output_type": "stream",
     "text": [
      "Successfully downloaded: 535 pairs\n",
      "Failed downloads: 0 pairs\n",
      "\n",
      "Successful downloads:\n",
      "1. STEEM-USDT: 168 records\n",
      "2. SYN-USDT: 168 records\n",
      "3. LRC-USDT: 168 records\n",
      "4. 1MBABYDOGE-USDT: 168 records\n",
      "5. BIO-USDC: 168 records\n",
      "6. FLOCK-USDT: 168 records\n",
      "7. CTSI-USDT: 168 records\n",
      "8. TRUMP-USDC: 168 records\n",
      "9. 1000BONK-USDT: 168 records\n",
      "10. OXT-USDT: 168 records\n",
      "\n",
      "Sample data structure (first pair):\n",
      "Columns: ['symbol', 'sumOpenInterest', 'sumOpenInterestValue', 'CMCCirculatingSupply']\n",
      "Date range: 2025-09-12 15:00:00 to 2025-09-19 14:00:00\n",
      "\n",
      "First 5 records:\n",
      "                        symbol  sumOpenInterest  sumOpenInterestValue  \\\n",
      "timestamp                                                               \n",
      "2025-09-12 15:00:00  STEEMUSDT         13272004      1779249.76688148   \n",
      "2025-09-12 16:00:00  STEEMUSDT         13267988         1775654.83404   \n",
      "2025-09-12 17:00:00  STEEMUSDT         13262664         1784624.06784   \n",
      "2025-09-12 18:00:00  STEEMUSDT         13213184      1794554.92728832   \n",
      "2025-09-12 19:00:00  STEEMUSDT         13167059      1790097.88046225   \n",
      "\n",
      "                    CMCCirculatingSupply  \n",
      "timestamp                                 \n",
      "2025-09-12 15:00:00   526257326.14400000  \n",
      "2025-09-12 16:00:00   526257326.14400000  \n",
      "2025-09-12 17:00:00   526257326.14400000  \n",
      "2025-09-12 18:00:00   526257326.14400000  \n",
      "2025-09-12 19:00:00   526257326.14400000  \n"
     ]
    }
   ],
   "execution_count": 3
  },
  {
   "cell_type": "code",
   "metadata": {
    "ExecuteTime": {
     "end_time": "2025-09-19T14:49:09.147647Z",
     "start_time": "2025-09-19T14:49:08.500457Z"
    }
   },
   "source": "# Visualize OI data for all successful pairs\nif successful_downloads:\n    # Get all pairs with valid OI data\n    valid_pairs = []\n    \n    for i, oi_df in enumerate(successful_downloads):\n        if not oi_df.empty and 'sumOpenInterestValue' in oi_df.columns:\n            avg_oi_value = oi_df['sumOpenInterestValue'].mean()\n            pair_name = selected_pairs[i]  # Use selected_pairs list\n            valid_pairs.append((pair_name, avg_oi_value, oi_df))\n    \n    # Sort by average OI value (highest first)\n    valid_pairs.sort(key=lambda x: x[1], reverse=True)\n    \n    if valid_pairs:\n        # Limit visualization to top N pairs for readability\n        max_pairs_to_plot = 40  # Show top 40 pairs (10 rows x 4 cols)\n        pairs_to_plot = valid_pairs[:max_pairs_to_plot]\n        \n        # Calculate subplot layout: 4 columns, n rows\n        cols = 4\n        rows = (len(pairs_to_plot) + cols - 1) // cols  # Ceiling division\n        \n        # Calculate appropriate vertical spacing based on number of rows\n        if rows <= 5:\n            vertical_spacing = 0.04\n        elif rows <= 10:\n            vertical_spacing = 0.03\n        else:\n            vertical_spacing = 0.02\n        \n        # Create subplots with 4 columns\n        fig = make_subplots(\n            rows=rows, \n            cols=cols,\n            subplot_titles=[f\"{pair}<br>${value/1e6:.1f}M\" for pair, value, _ in pairs_to_plot],\n            vertical_spacing=vertical_spacing,\n            horizontal_spacing=0.05\n        )\n        \n        for idx, (pair_name, avg_value, oi_df) in enumerate(pairs_to_plot):\n            row = (idx // cols) + 1\n            col = (idx % cols) + 1\n            \n            # Create hover template with 2 decimal places\n            hover_template = (\n                f\"{pair_name}<br>\" +\n                \"Time: %{x}<br>\" +\n                \"OI Value: $%{customdata:.2f}M<br>\" +\n                \"<extra></extra>\"\n            )\n            \n            # Plot OI Value\n            fig.add_trace(\n                go.Scatter(\n                    x=oi_df.index,\n                    y=oi_df['sumOpenInterestValue'] / 1e6,  # Convert to millions for display\n                    customdata=oi_df['sumOpenInterestValue'] / 1e6,  # For hover template\n                    name=f\"{pair_name}\",\n                    line=dict(width=2, color='#1f77b4'),\n                    showlegend=False,\n                    hovertemplate=hover_template\n                ),\n                row=row, col=col\n            )\n            \n            # Update axes for each subplot\n            fig.update_xaxes(showticklabels=False, row=row, col=col)\n            fig.update_yaxes(\n                showticklabels=True, \n                row=row, col=col, \n                tickformat='.1f',  # Show 1 decimal place\n                title_text=\"OI ($M)\" if col == 1 else \"\"  # Only show y-axis title on leftmost column\n            )\n        \n        # Update overall layout\n        fig.update_layout(\n            height=400 * rows,  # Increased height per row\n            title_text=f\"Top {len(pairs_to_plot)} Trading Pairs by Open Interest Value ({INTERVAL} interval)\",\n            showlegend=False,\n            margin=dict(l=60, r=30, t=100, b=50),\n            font=dict(size=10)\n        )\n        \n        fig.show()\n        \n        # Display summary statistics for ALL pairs\n        print(f\"\\n📊 OPEN INTEREST SUMMARY ({len(valid_pairs)} total pairs):\")\n        print(\"=\" * 80)\n        \n        # Show top 20 pairs statistics\n        print(\"\\nTop 20 Pairs by Average OI Value:\")\n        print(\"-\" * 80)\n        for i, (pair_name, avg_value, oi_df) in enumerate(valid_pairs[:20], 1):\n            print(f\"{i:2d}. {pair_name:15s} | Avg: ${avg_value/1e6:8.2f}M | Max: ${oi_df['sumOpenInterestValue'].max()/1e6:8.2f}M | Points: {len(oi_df):3d}\")\n        \n        # Overall statistics\n        print(\"\\n\" + \"=\" * 80)\n        total_oi_value = sum(pair[1] for pair in valid_pairs)\n        print(f\"Total Average OI Value across all pairs: ${total_oi_value/1e9:.2f}B\")\n        print(f\"Average OI Value per pair: ${total_oi_value/len(valid_pairs)/1e6:.2f}M\")\n        \n    else:\n        print(\"No valid OI data found for visualization\")\nelse:\n    print(\"No data available for visualization\")",
   "outputs": [],
   "execution_count": null
  },
  {
   "cell_type": "code",
   "metadata": {
    "ExecuteTime": {
     "end_time": "2025-09-19T14:49:09.158514Z",
     "start_time": "2025-09-19T14:49:09.154391Z"
    }
   },
   "source": "# Check OI feed cache status\ntry:\n    # Try to get the OI feed (lazy-loaded)\n    oi_feed = clob._get_oi_feed(CONNECTOR_NAME)\n    cache_status = oi_feed.get_cache_status()\n    \n    print(\"📁 OI CACHE STATUS:\")\n    print(f\"   Feed type: {cache_status['feed_type']}\")\n    print(f\"   Memory cache entries: {cache_status['memory_cache_entries']}\")\n    print(f\"   Disk cache files: {cache_status['disk_cache_files']}\")\n    print(f\"   Total disk size: {cache_status['total_disk_size_mb']:.2f} MB\")\n    print(f\"   Cache directory: {cache_status['cache_directory']}\")\n    \n    print(f\"\\n✅ Successfully cached OI data for future use!\")\n    print(f\"   Next time you request the same data, it will load from cache instantly.\")\nexcept ValueError:\n    print(\"❌ OI feed not available for this connector\")",
   "outputs": [
    {
     "name": "stdout",
     "output_type": "stream",
     "text": [
      "📁 OI CACHE STATUS:\n",
      "   Feed type: binance_perpetual_oi\n",
      "   Memory cache entries: 535\n",
      "   Disk cache files: 535\n",
      "   Total disk size: 4.19 MB\n",
      "   Cache directory: /Users/dman/Documents/code/quants-lab/app/data/cache/oi\n",
      "\n",
      "✅ Successfully cached OI data for future use!\n",
      "   Next time you request the same data, it will load from cache instantly.\n"
     ]
    }
   ],
   "execution_count": 5
  },
  {
   "metadata": {
    "ExecuteTime": {
     "end_time": "2025-09-19T14:49:09.164565Z",
     "start_time": "2025-09-19T14:49:09.163460Z"
    }
   },
   "cell_type": "code",
   "source": "",
   "outputs": [],
   "execution_count": null
  }
 ],
 "metadata": {
  "kernelspec": {
   "display_name": "Python 3",
   "language": "python",
   "name": "python3"
  },
  "language_info": {
   "codemirror_mode": {
    "name": "ipython",
    "version": 3
   },
   "file_extension": ".py",
   "mimetype": "text/x-python",
   "name": "python",
   "nbconvert_exporter": "python",
   "pygments_lexer": "ipython3",
   "version": "3.12.0"
  }
 },
 "nbformat": 4,
 "nbformat_minor": 4
}