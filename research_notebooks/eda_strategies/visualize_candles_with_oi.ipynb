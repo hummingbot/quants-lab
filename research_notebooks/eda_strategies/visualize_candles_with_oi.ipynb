{
 "cells": [
  {
   "cell_type": "markdown",
   "metadata": {},
   "source": [
    "# Visualize Candles with Open Interest\n",
    "\n",
    "This notebook fetches candle and open interest data, then creates a combined visualization."
   ]
  },
  {
   "cell_type": "code",
   "metadata": {
    "ExecuteTime": {
     "end_time": "2025-10-02T15:00:28.995759Z",
     "start_time": "2025-10-02T15:00:28.153027Z"
    }
   },
   "source": [
    "import asyncio\n",
    "import plotly.graph_objects as go\n",
    "from plotly.subplots import make_subplots\n",
    "from core.data_sources.clob import CLOBDataSource\n",
    "import pandas as pd"
   ],
   "outputs": [
    {
     "name": "stderr",
     "output_type": "stream",
     "text": [
      "/opt/anaconda3/envs/quants-lab/lib/python3.12/site-packages/requests/__init__.py:86: RequestsDependencyWarning: Unable to find acceptable character detection dependency (chardet or charset_normalizer).\n",
      "  warnings.warn(\n"
     ]
    }
   ],
   "execution_count": 1
  },
  {
   "cell_type": "markdown",
   "metadata": {},
   "source": [
    "## Configuration"
   ]
  },
  {
   "cell_type": "code",
   "metadata": {
    "ExecuteTime": {
     "end_time": "2025-10-02T15:00:29.006383Z",
     "start_time": "2025-10-02T15:00:29.004993Z"
    }
   },
   "source": [
    "# Configuration parameters\n",
    "connector_name = \"binance_perpetual\"\n",
    "trading_pair = \"BTC-USDT\"\n",
    "interval = \"1h\"\n",
    "days = 7"
   ],
   "outputs": [],
   "execution_count": 2
  },
  {
   "cell_type": "markdown",
   "metadata": {},
   "source": [
    "## Fetch Data"
   ]
  },
  {
   "cell_type": "code",
   "metadata": {
    "ExecuteTime": {
     "end_time": "2025-10-02T15:00:32.400482Z",
     "start_time": "2025-10-02T15:00:31.834357Z"
    }
   },
   "source": [
    "# Initialize data source\n",
    "clob = CLOBDataSource()\n",
    "\n",
    "# Load any existing caches\n",
    "clob.load_candles_cache()\n",
    "clob.load_oi_cache()"
   ],
   "outputs": [],
   "execution_count": 3
  },
  {
   "cell_type": "markdown",
   "metadata": {},
   "source": [
    "## Data Inspection"
   ]
  },
  {
   "cell_type": "code",
   "metadata": {
    "ExecuteTime": {
     "end_time": "2025-10-02T15:49:24.011569Z",
     "start_time": "2025-10-02T15:49:23.393988Z"
    }
   },
   "source": [
    "candles = await clob.get_candles_last_days(connector_name, trading_pair, interval, days)\n",
    "# Display candle data summary\n",
    "print(\"Candles DataFrame:\")\n",
    "print(candles.data.head())\n",
    "print(f\"\\nShape: {candles.data.shape}\")\n",
    "print(f\"Date range: {candles.data.index.min()} to {candles.data.index.max()}\")"
   ],
   "outputs": [
    {
     "name": "stdout",
     "output_type": "stream",
     "text": [
      "Candles DataFrame:\n",
      "                     timestamp     open     high      low    close    volume  \\\n",
      "timestamp                                                                      \n",
      "2025-09-25 16:00:00 1758816000 111538.4 111636.6   110852 110907.9  5431.493   \n",
      "2025-09-25 17:00:00 1758819600   110908   110930 108578.2 108793.9 26570.236   \n",
      "2025-09-25 18:00:00 1758823200 108793.9 109759.7 108574.1 109708.3 12498.301   \n",
      "2025-09-25 19:00:00 1758826800 109708.4 109926.7   109250 109320.5  6038.849   \n",
      "2025-09-25 20:00:00 1758830400 109320.5 109447.9   109005 109126.8  3823.724   \n",
      "\n",
      "                     quote_asset_volume  n_trades  taker_buy_base_volume  \\\n",
      "timestamp                                                                  \n",
      "2025-09-25 16:00:00  604182109.17840004    159025               2563.783   \n",
      "2025-09-25 17:00:00 2915653481.23479986    467363              11183.231   \n",
      "2025-09-25 18:00:00  1364142489.3032999    292958               6412.743   \n",
      "2025-09-25 19:00:00  661695061.64390004    139007               2486.673   \n",
      "2025-09-25 20:00:00  417604676.82660002    118955               2116.114   \n",
      "\n",
      "                     taker_buy_quote_volume  \n",
      "timestamp                                    \n",
      "2025-09-25 16:00:00      285180330.90890002  \n",
      "2025-09-25 17:00:00     1227049370.69860005  \n",
      "2025-09-25 18:00:00      699990159.21800005  \n",
      "2025-09-25 19:00:00      272511913.72979999  \n",
      "2025-09-25 20:00:00          231132765.8391  \n",
      "\n",
      "Shape: (168, 10)\n",
      "Date range: 2025-09-25 16:00:00 to 2025-10-02 15:00:00\n"
     ]
    }
   ],
   "execution_count": 9
  },
  {
   "cell_type": "code",
   "metadata": {
    "ExecuteTime": {
     "end_time": "2025-10-02T15:49:49.532292Z",
     "start_time": "2025-10-02T15:49:49.520661Z"
    }
   },
   "source": [
    "oi_data = clob._oi_cache[(connector_name, trading_pair, interval)]\n",
    "\n",
    "# Display OI data summary\n",
    "if not oi_data.empty:\n",
    "    print(\"\\n=== Open Interest Data Summary ===\")\n",
    "    print(f\"Total records: {len(oi_data)}\")\n",
    "    print(f\"Date range: {oi_data.index.min()} to {oi_data.index.max()}\")\n",
    "    print(f\"\\nColumns available: {list(oi_data.columns)}\")\n",
    "    \n",
    "    if 'sum_open_interest' in oi_data.columns:\n",
    "        print(f\"\\nOpen Interest Stats:\")\n",
    "        print(f\"  Current: {oi_data['sum_open_interest'].iloc[-1]:,.2f}\")\n",
    "        print(f\"  Average: {oi_data['sum_open_interest'].mean():,.2f}\")\n",
    "        print(f\"  Max: {oi_data['sum_open_interest'].max():,.2f}\")\n",
    "        print(f\"  Min: {oi_data['sum_open_interest'].min():,.2f}\")\n",
    "    \n",
    "    if 'sum_open_interest_value' in oi_data.columns:\n",
    "        print(f\"\\nOI Value Stats (USD):\")\n",
    "        print(f\"  Current: ${oi_data['sum_open_interest_value'].iloc[-1]:,.0f}\")\n",
    "        print(f\"  Average: ${oi_data['sum_open_interest_value'].mean():,.0f}\")\n",
    "        print(f\"  Max: ${oi_data['sum_open_interest_value'].max():,.0f}\")\n",
    "        print(f\"  Min: ${oi_data['sum_open_interest_value'].min():,.0f}\")\n",
    "    \n",
    "    print(f\"\\nFirst 5 records:\")\n",
    "    display(oi_data.head())\n",
    "    \n",
    "    print(f\"\\nLast 5 records:\")\n",
    "    display(oi_data.tail())\n",
    "else:\n",
    "    print(\"No OI data available\")"
   ],
   "outputs": [
    {
     "name": "stdout",
     "output_type": "stream",
     "text": [
      "\n",
      "=== Open Interest Data Summary ===\n",
      "Total records: 168\n",
      "Date range: 2025-09-25 15:00:00 to 2025-10-02 14:00:00\n",
      "\n",
      "Columns available: ['sum_open_interest', 'sum_open_interest_value', 'cmc_circulating_supply', 'trading_pair']\n",
      "\n",
      "Open Interest Stats:\n",
      "  Current: 93,393.43\n",
      "  Average: 87,416.20\n",
      "  Max: 93,393.43\n",
      "  Min: 84,552.98\n",
      "\n",
      "OI Value Stats (USD):\n",
      "  Current: $11,166,908,639\n",
      "  Average: $9,828,007,906\n",
      "  Max: $11,166,908,639\n",
      "  Min: $9,226,915,939\n",
      "\n",
      "First 5 records:\n"
     ]
    },
    {
     "data": {
      "text/plain": [
       "                     sum_open_interest  sum_open_interest_value  \\\n",
       "timestamp                                                         \n",
       "2025-09-25 15:00:00          85906.973      9579704547.55116463   \n",
       "2025-09-25 16:00:00           86039.23      9597333469.60668564   \n",
       "2025-09-25 17:00:00          86062.448      9546210250.81119919   \n",
       "2025-09-25 18:00:00          84808.785       9226915939.0095005   \n",
       "2025-09-25 19:00:00          85487.441      9378690372.20439911   \n",
       "\n",
       "                     cmc_circulating_supply trading_pair  \n",
       "timestamp                                                 \n",
       "2025-09-25 15:00:00                19925746     BTC-USDT  \n",
       "2025-09-25 16:00:00                19925746     BTC-USDT  \n",
       "2025-09-25 17:00:00                19925746     BTC-USDT  \n",
       "2025-09-25 18:00:00                19925746     BTC-USDT  \n",
       "2025-09-25 19:00:00                19925746     BTC-USDT  "
      ],
      "text/html": [
       "<div>\n",
       "<style scoped>\n",
       "    .dataframe tbody tr th:only-of-type {\n",
       "        vertical-align: middle;\n",
       "    }\n",
       "\n",
       "    .dataframe tbody tr th {\n",
       "        vertical-align: top;\n",
       "    }\n",
       "\n",
       "    .dataframe thead th {\n",
       "        text-align: right;\n",
       "    }\n",
       "</style>\n",
       "<table border=\"1\" class=\"dataframe\">\n",
       "  <thead>\n",
       "    <tr style=\"text-align: right;\">\n",
       "      <th></th>\n",
       "      <th>sum_open_interest</th>\n",
       "      <th>sum_open_interest_value</th>\n",
       "      <th>cmc_circulating_supply</th>\n",
       "      <th>trading_pair</th>\n",
       "    </tr>\n",
       "    <tr>\n",
       "      <th>timestamp</th>\n",
       "      <th></th>\n",
       "      <th></th>\n",
       "      <th></th>\n",
       "      <th></th>\n",
       "    </tr>\n",
       "  </thead>\n",
       "  <tbody>\n",
       "    <tr>\n",
       "      <th>2025-09-25 15:00:00</th>\n",
       "      <td>85906.973</td>\n",
       "      <td>9579704547.55116463</td>\n",
       "      <td>19925746</td>\n",
       "      <td>BTC-USDT</td>\n",
       "    </tr>\n",
       "    <tr>\n",
       "      <th>2025-09-25 16:00:00</th>\n",
       "      <td>86039.23</td>\n",
       "      <td>9597333469.60668564</td>\n",
       "      <td>19925746</td>\n",
       "      <td>BTC-USDT</td>\n",
       "    </tr>\n",
       "    <tr>\n",
       "      <th>2025-09-25 17:00:00</th>\n",
       "      <td>86062.448</td>\n",
       "      <td>9546210250.81119919</td>\n",
       "      <td>19925746</td>\n",
       "      <td>BTC-USDT</td>\n",
       "    </tr>\n",
       "    <tr>\n",
       "      <th>2025-09-25 18:00:00</th>\n",
       "      <td>84808.785</td>\n",
       "      <td>9226915939.0095005</td>\n",
       "      <td>19925746</td>\n",
       "      <td>BTC-USDT</td>\n",
       "    </tr>\n",
       "    <tr>\n",
       "      <th>2025-09-25 19:00:00</th>\n",
       "      <td>85487.441</td>\n",
       "      <td>9378690372.20439911</td>\n",
       "      <td>19925746</td>\n",
       "      <td>BTC-USDT</td>\n",
       "    </tr>\n",
       "  </tbody>\n",
       "</table>\n",
       "</div>"
      ]
     },
     "metadata": {},
     "output_type": "display_data"
    },
    {
     "name": "stdout",
     "output_type": "stream",
     "text": [
      "\n",
      "Last 5 records:\n"
     ]
    },
    {
     "data": {
      "text/plain": [
       "                     sum_open_interest  sum_open_interest_value  \\\n",
       "timestamp                                                         \n",
       "2025-10-02 10:00:00          91685.618      10893897738.8281765   \n",
       "2025-10-02 11:00:00          91697.175     10873024352.51871109   \n",
       "2025-10-02 12:00:00          91853.679     10904790361.78449821   \n",
       "2025-10-02 13:00:00           92256.13     11011798337.58810425   \n",
       "2025-10-02 14:00:00          93393.434     11166908638.94875908   \n",
       "\n",
       "                     cmc_circulating_supply trading_pair  \n",
       "timestamp                                                 \n",
       "2025-10-02 10:00:00                19928203     BTC-USDT  \n",
       "2025-10-02 11:00:00                19928203     BTC-USDT  \n",
       "2025-10-02 12:00:00                19928203     BTC-USDT  \n",
       "2025-10-02 13:00:00                19928203     BTC-USDT  \n",
       "2025-10-02 14:00:00                19928203     BTC-USDT  "
      ],
      "text/html": [
       "<div>\n",
       "<style scoped>\n",
       "    .dataframe tbody tr th:only-of-type {\n",
       "        vertical-align: middle;\n",
       "    }\n",
       "\n",
       "    .dataframe tbody tr th {\n",
       "        vertical-align: top;\n",
       "    }\n",
       "\n",
       "    .dataframe thead th {\n",
       "        text-align: right;\n",
       "    }\n",
       "</style>\n",
       "<table border=\"1\" class=\"dataframe\">\n",
       "  <thead>\n",
       "    <tr style=\"text-align: right;\">\n",
       "      <th></th>\n",
       "      <th>sum_open_interest</th>\n",
       "      <th>sum_open_interest_value</th>\n",
       "      <th>cmc_circulating_supply</th>\n",
       "      <th>trading_pair</th>\n",
       "    </tr>\n",
       "    <tr>\n",
       "      <th>timestamp</th>\n",
       "      <th></th>\n",
       "      <th></th>\n",
       "      <th></th>\n",
       "      <th></th>\n",
       "    </tr>\n",
       "  </thead>\n",
       "  <tbody>\n",
       "    <tr>\n",
       "      <th>2025-10-02 10:00:00</th>\n",
       "      <td>91685.618</td>\n",
       "      <td>10893897738.8281765</td>\n",
       "      <td>19928203</td>\n",
       "      <td>BTC-USDT</td>\n",
       "    </tr>\n",
       "    <tr>\n",
       "      <th>2025-10-02 11:00:00</th>\n",
       "      <td>91697.175</td>\n",
       "      <td>10873024352.51871109</td>\n",
       "      <td>19928203</td>\n",
       "      <td>BTC-USDT</td>\n",
       "    </tr>\n",
       "    <tr>\n",
       "      <th>2025-10-02 12:00:00</th>\n",
       "      <td>91853.679</td>\n",
       "      <td>10904790361.78449821</td>\n",
       "      <td>19928203</td>\n",
       "      <td>BTC-USDT</td>\n",
       "    </tr>\n",
       "    <tr>\n",
       "      <th>2025-10-02 13:00:00</th>\n",
       "      <td>92256.13</td>\n",
       "      <td>11011798337.58810425</td>\n",
       "      <td>19928203</td>\n",
       "      <td>BTC-USDT</td>\n",
       "    </tr>\n",
       "    <tr>\n",
       "      <th>2025-10-02 14:00:00</th>\n",
       "      <td>93393.434</td>\n",
       "      <td>11166908638.94875908</td>\n",
       "      <td>19928203</td>\n",
       "      <td>BTC-USDT</td>\n",
       "    </tr>\n",
       "  </tbody>\n",
       "</table>\n",
       "</div>"
      ]
     },
     "metadata": {},
     "output_type": "display_data"
    }
   ],
   "execution_count": 10
  },
  {
   "cell_type": "markdown",
   "metadata": {},
   "source": [
    "## Create Visualization"
   ]
  },
  {
   "cell_type": "code",
   "metadata": {
    "ExecuteTime": {
     "end_time": "2025-10-02T15:54:52.343297Z",
     "start_time": "2025-10-02T15:54:52.327001Z"
    }
   },
   "source": [
    "# Create subplots with secondary y-axis\n",
    "fig = make_subplots(\n",
    "    rows=2, cols=1,\n",
    "    shared_xaxes=True,\n",
    "    vertical_spacing=0.03,\n",
    "    row_heights=[0.5, 0.3],\n",
    "    specs=[\n",
    "        [{\"secondary_y\": True}],\n",
    "        [{\"secondary_y\": True}]\n",
    "    ]\n",
    ")\n",
    "\n",
    "# Get candles dataframe\n",
    "candles_df = candles.data\n",
    "\n",
    "# 1. Add candlestick chart\n",
    "fig.add_trace(\n",
    "    candles.candles_trace(),\n",
    "    row=1, col=1,\n",
    "    secondary_y=False\n",
    ")\n",
    "\n",
    "# 2. Add open interest data if available\n",
    "if not oi_data.empty:\n",
    "    # Plot open interest value\n",
    "    fig.add_trace(\n",
    "        go.Scatter(\n",
    "            x=oi_data.index,\n",
    "            y=oi_data['sum_open_interest'],\n",
    "            mode='lines+markers',\n",
    "            name='Open Interest',\n",
    "            line=dict(color='orange', width=2),\n",
    "            marker=dict(size=4),\n",
    "            showlegend=True\n",
    "        ),\n",
    "        row=2, col=1,\n",
    "        secondary_y=False\n",
    "    )\n",
    "    \n",
    "    # Plot open interest value in USD\n",
    "    if 'sum_open_interest_value' in oi_data.columns:\n",
    "        fig.add_trace(\n",
    "            go.Scatter(\n",
    "                x=oi_data.index,\n",
    "                y=oi_data['sum_open_interest_value'],\n",
    "                mode='lines',\n",
    "                name='OI Value (USD)',\n",
    "                line=dict(color='green', width=1, dash='dash'),\n",
    "                showlegend=True\n",
    "            ),\n",
    "            row=2, col=1,\n",
    "            secondary_y=True\n",
    "        )\n",
    "    \n",
    "    # Add OI overlay on price chart (normalized)\n",
    "    if len(oi_data) > 0:\n",
    "        # Normalize OI to price range for overlay\n",
    "        price_range = candles_df['high'].max() - candles_df['low'].min()\n",
    "        price_mean = candles_df['close'].mean()\n",
    "        oi_normalized = (oi_data['sum_open_interest'] - oi_data['sum_open_interest'].min()) / \\\n",
    "                       (oi_data['sum_open_interest'].max() - oi_data['sum_open_interest'].min() + 1e-8)\n",
    "        oi_scaled = oi_normalized * price_range * 0.2 + candles_df['low'].min()\n",
    "        \n",
    "        fig.add_trace(\n",
    "            go.Scatter(\n",
    "                x=oi_data.index,\n",
    "                y=oi_scaled,\n",
    "                mode='lines',\n",
    "                name='OI (scaled)',\n",
    "                line=dict(color='purple', width=1),\n",
    "                opacity=0.3,\n",
    "                showlegend=True\n",
    "            ),\n",
    "            row=1, col=1,\n",
    "            secondary_y=True\n",
    "        )\n",
    "\n",
    "# Update layout\n",
    "fig.update_layout(\n",
    "    title=f\"{candles.trading_pair} - Price, Volume & Open Interest Analysis\",\n",
    "    xaxis_title=\"Time\",\n",
    "    height=900,\n",
    "    hovermode='x unified',\n",
    "    showlegend=True,\n",
    "    legend=dict(\n",
    "        orientation=\"h\",\n",
    "        yanchor=\"bottom\",\n",
    "        y=1.02,\n",
    "        xanchor=\"right\",\n",
    "        x=1\n",
    "    )\n",
    ")\n",
    "\n",
    "# Update y-axes labels\n",
    "fig.update_yaxes(title_text=\"Price\", row=1, col=1, secondary_y=False)\n",
    "fig.update_yaxes(title_text=\"OI Scaled\", row=1, col=1, secondary_y=True)\n",
    "fig.update_yaxes(title_text=\"Open Interest\", row=2, col=1, secondary_y=False)\n",
    "fig.update_yaxes(title_text=\"OI Value (USD)\", row=2, col=1, secondary_y=True)\n",
    "\n",
    "# Update x-axis and remove rangeslider\n",
    "fig.update_xaxes(title_text=\"Date\", row=1, col=1, rangeslider_visible=False)\n",
    "\n",
    "# Show the plot\n",
    "fig.show()"
   ],
   "outputs": [
    {
     "data": {
      "application/vnd.plotly.v1+json": {
       "data": [
        {
         "close": {
          "dtype": "f8",
          "bdata": "ZmZmZr4T+0BmZmZmno/6QM3MzMzEyPpAAAAAAIiw+kDNzMzMbKT6QM3MzMwMs/pAAAAAAJiz+kAAAAAAaJj6QJqZmZmxtvpAAAAAAIDE+kDNzMzM3MD6QJqZmZkZvvpAAAAAAECv+kDNzMzMLKn6QM3MzMwsr/pAzczMzJSs+kAzMzMzA736QAAAAAAovfpAMzMzMwOT+kBmZmZmrqH6QJqZmZkhsfpAzczMzFTD+kAzMzMzy4/6QAAAAAAAm/pAmpmZmQm2+kDNzMzMdNH6QGZmZmZexvpAZmZmZr6j+kDNzMzMHKv6QGZmZmZGtvpAMzMzMxO8+kAAAAAASMH6QAAAAADAwfpAzczMzIS0+kAAAAAASLL6QM3MzMz8u/pAmpmZmeHB+kAAAAAAMMH6QJqZmZkJu/pAzczMzKyy+kAzMzMzU6n6QAAAAAAgrPpAZmZmZpa0+kDNzMzMHK36QDMzMzOzsvpAZmZmZg6t+kAAAAAAwKv6QDMzMzPLsfpAMzMzM6Ox+kBmZmZmNrH6QDMzMzNztPpAzczMzJSz+kDNzMzMVLH6QM3MzMzEtvpAmpmZmem++kDNzMzMlMD6QM3MzMxEv/pAmpmZmZmv+kDNzMzMbLX6QM3MzMxUtfpAZmZmZhax+kAzMzMzc6/6QDMzMzPrsvpAAAAAAMi5+kAzMzMza7n6QAAAAABYuvpAZmZmZraw+kBmZmZmfrD6QGZmZmYurfpAZmZmZs7A+kAzMzMzk876QAAAAABg2vpAAAAAAMjl+kAAAAAAmOT6QAAAAADY6fpAmpmZmZns+kAAAAAAwAn7QJqZmZlBDPtAAAAAAJhQ+0CamZmZeV/7QDMzMzMzZftAMzMzM4tL+0DNzMzMrET7QGZmZmaeTPtAMzMzM4tI+0BmZmZmPkX7QJqZmZnBPftAMzMzM2tM+0BmZmZmFlr7QAAAAAAgW/tAZmZmZi5a+0AAAAAAQFv7QJqZmZlJVvtAMzMzMwOh+0AzMzMzS9L7QAAAAACAxftAMzMzM8O6+0AAAAAAANX7QGZmZmZ+0vtAzczMzMzh+0DNzMzM5OD7QGZmZmaO3PtAZmZmZt7c+0CamZmZEeX7QM3MzMwc8vtAAAAAAHDx+0AAAAAAWO77QAAAAAAY6ftAMzMzM1PX+0BmZmZmDsz7QDMzMzMDy/tAZmZmZua/+0AzMzMzE7D7QJqZmZlxhvtAAAAAAMiO+0AzMzMzu5b7QAAAAABgk/tAMzMzM6ur+0AAAAAAOLj7QGZmZmb2mftAmpmZmemJ+0DNzMzM7KL7QAAAAACgv/tAmpmZmVHo+0DNzMzMnPj7QAAAAADA2/tAZmZmZrbN+0DNzMzMTNT7QJqZmZlR4PtAmpmZmbnz+0AAAAAAsOL7QGZmZmZ+3ftAzczMzDzj+0BmZmZm9vT7QM3MzMxM4vtAzczMzAzz+0AAAAAAyFX8QGZmZmZGafxAmpmZmZlg/EDNzMzMDID8QDMzMzNbafxAAAAAAKiB/EDNzMzM1J/8QGZmZmZmp/xAmpmZmYGu/EAzMzMz43/8QM3MzMyEnPxAmpmZmeGn/ECamZmZKa78QDMzMzPzr/xAzczMzPy7/EBmZmZmhvH8QAAAAADQ5/xAZmZmZhbz/EBmZmZmlvr8QAAAAACQ+vxAzczMzIz1/EAzMzMzm+P8QAAAAACA9PxAmpmZmcHq/EBmZmZmtvb8QM3MzMzUAf1AzczMzPTy/EAAAAAAwPv8QJqZmZkBJP1AmpmZmXkw/UAAAAAAAP/8QM3MzMwMNP1A"
         },
         "decreasing": {
          "line": {
           "color": "#E74C3C"
          }
         },
         "high": {
          "dtype": "f8",
          "bdata": "mpmZmUlB+0AAAAAAIBX7QDMzMzP7y/pAMzMzM2vW+kBmZmZmfrj6QAAAAAA4w/pAZmZmZu69+kDNzMzMVMT6QGZmZma+v/pAAAAAAIDJ+kAAAAAAYMz6QGZmZmamwvpAzczMzEzB+kBmZmZmJr76QAAAAAAIwfpAzczMzCS++kAAAAAAAMD6QJqZmZlZxfpAAAAAAMC9+kCamZmZWab6QJqZmZnhvfpAzczMzOTK+kAAAAAAOMr6QDMzMzMbsPpAAAAAAIjA+kAAAAAA6Nj6QAAAAACg6vpAZmZmZl7G+kCamZmZma76QDMzMzNzuvpAAAAAACC/+kCamZmZmcT6QJqZmZlpwvpAAAAAAHDC+kDNzMzMhLf6QAAAAABAyPpAMzMzM+PH+kAzMzMz88P6QAAAAAAwwfpAZmZmZta8+kBmZmZmrrL6QDMzMzPbr/pAMzMzM5O4+kBmZmZmnrX6QDMzMzNDuPpAMzMzM8uz+kAAAAAAILL6QJqZmZmJtPpAAAAAAEC0+kAzMzMzu7P6QJqZmZlZtfpAMzMzMyO1+kDNzMzMzLT6QGZmZma2t/pAMzMzM1PF+kAzMzMzs8P6QGZmZmZey/pAzczMzITC+kBmZmZmhrv6QDMzMzMTu/pAmpmZmVG4+kCamZmZebL6QGZmZmYmtvpAAAAAAMC7+kDNzMzMjL76QGZmZmYGvfpAAAAAAFi6+kAAAAAAcLX6QAAAAACAtfpAmpmZmZHD+kBmZmZmLtH6QAAAAABg2vpAAAAAAODw+kAzMzMzW+/6QAAAAADY6fpAAAAAANDv+kAAAAAAgBL7QM3MzMw8D/tAMzMzM9NW+0AAAAAAwGr7QM3MzMzUaPtAMzMzM6No+0AAAAAAeFb7QGZmZmaeTPtAAAAAAEBP+0AAAAAAkEn7QJqZmZkxTPtAzczMzGxM+0DNzMzM1G/7QDMzMzNjYvtAZmZmZpZj+0AzMzMzW1z7QDMzMzPDdvtAmpmZmTmy+0AAAAAAwOD7QAAAAADA2PtAZmZmZrbV+0DNzMzMnN37QDMzMzPj2vtAMzMzM9vq+0AzMzMzk+z7QDMzMzNz5vtAmpmZmWHf+0CamZmZcev7QAAAAAAAB/xAMzMzM0ME/EBmZmZm5vb7QDMzMzOb8vtAAAAAABjp+0CamZmZ8d77QGZmZmaO1/tAMzMzM8vR+0AAAAAAQML7QJqZmZmJsPtAzczMzJyZ+0AAAAAAOJz7QAAAAAAoo/tAzczMzHy9+0DNzMzM7Lr7QDMzMzNzuPtAmpmZmaml+0AAAAAA4LP7QAAAAACgv/tAMzMzMwP2+0AzMzMzy//7QAAAAAAAAvxAZmZmZm7o+0DNzMzMTNT7QAAAAABg5PtAAAAAACD0+0AAAAAA4PP7QDMzMzMT8/tAAAAAAND++0AAAAAAwAD8QJqZmZmh+PtAmpmZmbH2+0DNzMzMfHf8QAAAAABAcfxAAAAAAIBy/EAAAAAA4ID8QAAAAAAgh/xAAAAAACCE/EAAAAAAgKn8QM3MzMz8uPxAAAAAAODa/EAzMzMzE7n8QDMzMzMLpPxAMzMzM0u0/ECamZmZWa/8QGZmZmZOsfxAZmZmZp7R/EDNzMzMfPb8QAAAAAAQKv1AAAAAAOAE/UDNzMzMzP38QGZmZmY2EP1AzczMzNwG/UDNzMzMHPf8QM3MzMxM9/xAzczMzFz2/EAzMzMze/f8QDMzMzO7Av1AzczMzFwG/UDNzMzMvAP9QGZmZmYWJP1AAAAAAFA7/UAzMzMzMzz9QM3MzMykNf1A"
         },
         "increasing": {
          "line": {
           "color": "#2ECC71"
          }
         },
         "low": {
          "dtype": "f8",
          "bdata": "AAAAAEAQ+0AzMzMzI4L6QJqZmZnhgfpAAAAAACCs+kAAAAAA0Jz6QGZmZmaunfpAmpmZmQGp+kDNzMzMbIn6QAAAAADgjPpAAAAAALCs+kAAAAAA8Lf6QJqZmZmRq/pAAAAAAACp+kCamZmZMZ76QAAAAACwmfpAAAAAAJCS+kAzMzMz66v6QAAAAABQsvpAZmZmZl6G+kAAAAAAYIH6QAAAAABYjfpAAAAAAGCZ+kDNzMzMDIf6QAAAAAAYjfpAAAAAAACb+kBmZmZmlrH6QJqZmZm5xPpAMzMzM5uZ+kAzMzMzS576QDMzMzNzpPpAZmZmZm6u+kBmZmZm1rP6QAAAAACgtvpAzczMzDSt+kBmZmZm1q36QJqZmZm5sPpAZmZmZk65+kBmZmZmJr76QDMzMzODt/pAzczMzESu+kAzMzMzU6n6QGZmZmbenfpAzczMzFSp+kAAAAAAUKv6QM3MzMxsqPpAZmZmZg6t+kDNzMzMFKn6QAAAAACQpfpAmpmZmXms+kCamZmZQaj6QGZmZma2rvpAZmZmZjax+kAAAAAAmK/6QM3MzMxUsfpAMzMzM8O2+kDNzMzMdLX6QJqZmZkZu/pAmpmZmUGu+kAAAAAAAK/6QDMzMzNDs/pAAAAAADiw+kAAAAAAwK76QGZmZmY+qfpAMzMzM+Ou+kDNzMzMzLP6QGZmZmb+rfpAmpmZmRGw+kAAAAAAQKj6QAAAAAAIpfpAzczMzCyt+kBmZmZm/rj6QAAAAACIxfpAMzMzMwPY+kBmZmZmpt/6QAAAAAAw2/pAAAAAAMDe+kCamZmZyen6QDMzMzOL/vpAmpmZmUEM+0BmZmZmllD7QAAAAADAUvtAMzMzM0tC+0AAAAAAoDz7QM3MzMzUOftAzczMzMRE+0AzMzMzSzn7QM3MzMyUPPtAAAAAANA4+0AzMzMza0z7QGZmZmZ2U/tAZmZmZkZW+0CamZmZYU/7QM3MzMyUUPtAzczMzERO+0DNzMzMDJ/7QGZmZmaOvftAAAAAALC4+0AAAAAAyK/7QM3MzMxEyftAAAAAAOjH+0AAAAAAmNj7QGZmZmYe1/tAmpmZmYnS+0BmZmZm3tz7QJqZmZkR1PtAAAAAACDi+0CamZmZOej7QJqZmZlp5PtAmpmZmVHX+0DNzMzMHMf7QAAAAAAwx/tAMzMzM7u3+0AAAAAAgKj7QM3MzMzcg/tAzczMzHR++0CamZmZ4Yb7QDMzMzMjkvtAmpmZmQGK+0AAAAAAyIv7QAAAAACAjftAmpmZmXmG+0AzMzMzs4f7QDMzMzNrnvtAAAAAACC/+0AAAAAAENn7QDMzMzN72ftAAAAAABDK+0AAAAAA4ML7QGZmZma2zvtAzczMzDTa+0BmZmZmruL7QDMzMzNr1/tAMzMzM/Pa+0DNzMzMjOH7QAAAAACg3/tAZmZmZo7g+0CamZmZme/7QDMzMzMrS/xAAAAAAKhb/ECamZmZQWD8QAAAAAB4ZfxAZmZmZiZp/EAzMzMz83r8QAAAAABwkvxAzczMzLSg/EAAAAAA+Hz8QGZmZma2f/xAmpmZmfma/ECamZmZAZf8QM3MzMzEofxAMzMzM/Ov/EBmZmZmLrj8QAAAAADw5fxAAAAAAPDj/EBmZmZmFur8QAAAAADI9/xAAAAAAEDm/EBmZmZmJt38QM3MzMy03vxAmpmZmZHm/EDNzMzMNOL8QDMzMzOb7/xAzczMzCzw/ECamZmZGe38QGZmZmYm+vxAMzMzM0MF/UAzMzMz4/T8QGZmZmam6/xA"
         },
         "name": "Candlesticks",
         "open": {
          "dtype": "f8",
          "bdata": "ZmZmZiY7+0AAAAAAwBP7QGZmZmaej/pAZmZmZsbI+kAAAAAAiLD6QGZmZmZupPpAzczMzAyz+kCamZmZmbP6QJqZmZlpmPpAmpmZmbG2+kCamZmZgcT6QM3MzMzcwPpAAAAAABi++kAAAAAAQK/6QM3MzMwsqfpAzczMzCyv+kBmZmZmlqz6QDMzMzMDvfpAZmZmZia9+kAzMzMzA5P6QGZmZmauofpAmpmZmSGx+kDNzMzMVMP6QM3MzMzMj/pAAAAAAACb+kAAAAAACLb6QGZmZmZ20fpAZmZmZl7G+kDNzMzMvKP6QM3MzMwcq/pAZmZmZka2+kAzMzMzE7z6QAAAAABIwfpAmpmZmcHB+kDNzMzMhLT6QAAAAABIsvpAzczMzPy7+kAzMzMz48H6QAAAAAAwwfpAmpmZmQm7+kBmZmZmrrL6QM3MzMxUqfpAAAAAACCs+kBmZmZmlrT6QM3MzMwcrfpAMzMzM7Oy+kBmZmZmDq36QGZmZma+q/pAzczMzMyx+kDNzMzMpLH6QGZmZmYusfpAzczMzHS0+kBmZmZmlrP6QGZmZmZWsfpAMzMzM8O2+kCamZmZ6b76QDMzMzOTwPpAzczMzES/+kAAAAAAmK/6QGZmZmZutfpAzczMzFS1+kBmZmZmFrH6QDMzMzNzr/pAzczMzOyy+kBmZmZmxrn6QDMzMzNrufpAZmZmZla6+kBmZmZmtrD6QGZmZmZ+sPpAzczMzCyt+kDNzMzMzMD6QDMzMzOTzvpAAAAAAGDa+kAAAAAAyOX6QGZmZmaW5PpAAAAAANjp+kAzMzMzm+z6QAAAAADACftAmpmZmUEM+0BmZmZmllD7QDMzMzN7X/tAMzMzMzNl+0AzMzMzi0v7QM3MzMysRPtAZmZmZp5M+0CamZmZiUj7QAAAAABARftAAAAAAMA9+0DNzMzMbEz7QAAAAAAYWvtAZmZmZh5b+0BmZmZmLlr7QAAAAABAW/tAzczMzERW+0CamZmZAaH7QM3MzMxM0vtAAAAAAIDF+0AzMzMzw7r7QJqZmZkB1ftAZmZmZn7S+0BmZmZmzuH7QM3MzMzk4PtAzczMzIzc+0BmZmZm3tz7QJqZmZkR5ftAzczMzBzy+0AAAAAAcPH7QJqZmZlZ7vtAAAAAABjp+0CamZmZUdf7QGZmZmYOzPtAMzMzMwPL+0DNzMzM5L/7QJqZmZkRsPtAmpmZmXGG+0AAAAAAyI77QDMzMzO7lvtAAAAAAGCT+0AzMzMzq6v7QJqZmZk5uPtAZmZmZvaZ+0CamZmZ6Yn7QM3MzMzsovtAAAAAAKC/+0CamZmZUej7QM3MzMyc+PtAAAAAAMDb+0DNzMzMtM37QDMzMzNL1PtAAAAAAFDg+0CamZmZufP7QAAAAACw4vtAzczMzHzd+0DNzMzMPOP7QAAAAAD49PtAMzMzM0vi+0DNzMzMDPP7QGZmZmbGVfxAzczMzERp/EAAAAAAmGD8QM3MzMwMgPxAzczMzFxp/EBmZmZmnoH8QGZmZmbWn/xAAAAAAGin/EAAAAAAgK78QM3MzMzkf/xAzczMzISc/EAAAAAA4Kf8QDMzMzMrrvxAMzMzM/Ov/EDNzMzM/Lv8QAAAAACA8fxAAAAAANDn/EAAAAAAGPP8QM3MzMyU+vxAAAAAAJD6/EAzMzMzi/X8QDMzMzOb4/xAZmZmZn70/ECamZmZwer8QM3MzMy09vxAzczMzNQB/UDNzMzM9PL8QJqZmZnB+/xAAAAAAAAk/UCamZmZeTD9QJqZmZkB//xA"
         },
         "x": [
          "2025-09-25T16:00:00",
          "2025-09-25T17:00:00",
          "2025-09-25T18:00:00",
          "2025-09-25T19:00:00",
          "2025-09-25T20:00:00",
          "2025-09-25T21:00:00",
          "2025-09-25T22:00:00",
          "2025-09-25T23:00:00",
          "2025-09-26T00:00:00",
          "2025-09-26T01:00:00",
          "2025-09-26T02:00:00",
          "2025-09-26T03:00:00",
          "2025-09-26T04:00:00",
          "2025-09-26T05:00:00",
          "2025-09-26T06:00:00",
          "2025-09-26T07:00:00",
          "2025-09-26T08:00:00",
          "2025-09-26T09:00:00",
          "2025-09-26T10:00:00",
          "2025-09-26T11:00:00",
          "2025-09-26T12:00:00",
          "2025-09-26T13:00:00",
          "2025-09-26T14:00:00",
          "2025-09-26T15:00:00",
          "2025-09-26T16:00:00",
          "2025-09-26T17:00:00",
          "2025-09-26T18:00:00",
          "2025-09-26T19:00:00",
          "2025-09-26T20:00:00",
          "2025-09-26T21:00:00",
          "2025-09-26T22:00:00",
          "2025-09-26T23:00:00",
          "2025-09-27T00:00:00",
          "2025-09-27T01:00:00",
          "2025-09-27T02:00:00",
          "2025-09-27T03:00:00",
          "2025-09-27T04:00:00",
          "2025-09-27T05:00:00",
          "2025-09-27T06:00:00",
          "2025-09-27T07:00:00",
          "2025-09-27T08:00:00",
          "2025-09-27T09:00:00",
          "2025-09-27T10:00:00",
          "2025-09-27T11:00:00",
          "2025-09-27T12:00:00",
          "2025-09-27T13:00:00",
          "2025-09-27T14:00:00",
          "2025-09-27T15:00:00",
          "2025-09-27T16:00:00",
          "2025-09-27T17:00:00",
          "2025-09-27T18:00:00",
          "2025-09-27T19:00:00",
          "2025-09-27T20:00:00",
          "2025-09-27T21:00:00",
          "2025-09-27T22:00:00",
          "2025-09-27T23:00:00",
          "2025-09-28T00:00:00",
          "2025-09-28T01:00:00",
          "2025-09-28T02:00:00",
          "2025-09-28T03:00:00",
          "2025-09-28T04:00:00",
          "2025-09-28T05:00:00",
          "2025-09-28T06:00:00",
          "2025-09-28T07:00:00",
          "2025-09-28T08:00:00",
          "2025-09-28T09:00:00",
          "2025-09-28T10:00:00",
          "2025-09-28T11:00:00",
          "2025-09-28T12:00:00",
          "2025-09-28T13:00:00",
          "2025-09-28T14:00:00",
          "2025-09-28T15:00:00",
          "2025-09-28T16:00:00",
          "2025-09-28T17:00:00",
          "2025-09-28T18:00:00",
          "2025-09-28T19:00:00",
          "2025-09-28T20:00:00",
          "2025-09-28T21:00:00",
          "2025-09-28T22:00:00",
          "2025-09-28T23:00:00",
          "2025-09-29T00:00:00",
          "2025-09-29T01:00:00",
          "2025-09-29T02:00:00",
          "2025-09-29T03:00:00",
          "2025-09-29T04:00:00",
          "2025-09-29T05:00:00",
          "2025-09-29T06:00:00",
          "2025-09-29T07:00:00",
          "2025-09-29T08:00:00",
          "2025-09-29T09:00:00",
          "2025-09-29T10:00:00",
          "2025-09-29T11:00:00",
          "2025-09-29T12:00:00",
          "2025-09-29T13:00:00",
          "2025-09-29T14:00:00",
          "2025-09-29T15:00:00",
          "2025-09-29T16:00:00",
          "2025-09-29T17:00:00",
          "2025-09-29T18:00:00",
          "2025-09-29T19:00:00",
          "2025-09-29T20:00:00",
          "2025-09-29T21:00:00",
          "2025-09-29T22:00:00",
          "2025-09-29T23:00:00",
          "2025-09-30T00:00:00",
          "2025-09-30T01:00:00",
          "2025-09-30T02:00:00",
          "2025-09-30T03:00:00",
          "2025-09-30T04:00:00",
          "2025-09-30T05:00:00",
          "2025-09-30T06:00:00",
          "2025-09-30T07:00:00",
          "2025-09-30T08:00:00",
          "2025-09-30T09:00:00",
          "2025-09-30T10:00:00",
          "2025-09-30T11:00:00",
          "2025-09-30T12:00:00",
          "2025-09-30T13:00:00",
          "2025-09-30T14:00:00",
          "2025-09-30T15:00:00",
          "2025-09-30T16:00:00",
          "2025-09-30T17:00:00",
          "2025-09-30T18:00:00",
          "2025-09-30T19:00:00",
          "2025-09-30T20:00:00",
          "2025-09-30T21:00:00",
          "2025-09-30T22:00:00",
          "2025-09-30T23:00:00",
          "2025-10-01T00:00:00",
          "2025-10-01T01:00:00",
          "2025-10-01T02:00:00",
          "2025-10-01T03:00:00",
          "2025-10-01T04:00:00",
          "2025-10-01T05:00:00",
          "2025-10-01T06:00:00",
          "2025-10-01T07:00:00",
          "2025-10-01T08:00:00",
          "2025-10-01T09:00:00",
          "2025-10-01T10:00:00",
          "2025-10-01T11:00:00",
          "2025-10-01T12:00:00",
          "2025-10-01T13:00:00",
          "2025-10-01T14:00:00",
          "2025-10-01T15:00:00",
          "2025-10-01T16:00:00",
          "2025-10-01T17:00:00",
          "2025-10-01T18:00:00",
          "2025-10-01T19:00:00",
          "2025-10-01T20:00:00",
          "2025-10-01T21:00:00",
          "2025-10-01T22:00:00",
          "2025-10-01T23:00:00",
          "2025-10-02T00:00:00",
          "2025-10-02T01:00:00",
          "2025-10-02T02:00:00",
          "2025-10-02T03:00:00",
          "2025-10-02T04:00:00",
          "2025-10-02T05:00:00",
          "2025-10-02T06:00:00",
          "2025-10-02T07:00:00",
          "2025-10-02T08:00:00",
          "2025-10-02T09:00:00",
          "2025-10-02T10:00:00",
          "2025-10-02T11:00:00",
          "2025-10-02T12:00:00",
          "2025-10-02T13:00:00",
          "2025-10-02T14:00:00",
          "2025-10-02T15:00:00"
         ],
         "type": "candlestick",
         "xaxis": "x",
         "yaxis": "y"
        },
        {
         "line": {
          "color": "orange",
          "width": 2
         },
         "marker": {
          "size": 4
         },
         "mode": "lines+markers",
         "name": "Open Interest",
         "showlegend": true,
         "x": [
          "2025-09-25T15:00:00",
          "2025-09-25T16:00:00",
          "2025-09-25T17:00:00",
          "2025-09-25T18:00:00",
          "2025-09-25T19:00:00",
          "2025-09-25T20:00:00",
          "2025-09-25T21:00:00",
          "2025-09-25T22:00:00",
          "2025-09-25T23:00:00",
          "2025-09-26T00:00:00",
          "2025-09-26T01:00:00",
          "2025-09-26T02:00:00",
          "2025-09-26T03:00:00",
          "2025-09-26T04:00:00",
          "2025-09-26T05:00:00",
          "2025-09-26T06:00:00",
          "2025-09-26T07:00:00",
          "2025-09-26T08:00:00",
          "2025-09-26T09:00:00",
          "2025-09-26T10:00:00",
          "2025-09-26T11:00:00",
          "2025-09-26T12:00:00",
          "2025-09-26T13:00:00",
          "2025-09-26T14:00:00",
          "2025-09-26T15:00:00",
          "2025-09-26T16:00:00",
          "2025-09-26T17:00:00",
          "2025-09-26T18:00:00",
          "2025-09-26T19:00:00",
          "2025-09-26T20:00:00",
          "2025-09-26T21:00:00",
          "2025-09-26T22:00:00",
          "2025-09-26T23:00:00",
          "2025-09-27T00:00:00",
          "2025-09-27T01:00:00",
          "2025-09-27T02:00:00",
          "2025-09-27T03:00:00",
          "2025-09-27T04:00:00",
          "2025-09-27T05:00:00",
          "2025-09-27T06:00:00",
          "2025-09-27T07:00:00",
          "2025-09-27T08:00:00",
          "2025-09-27T09:00:00",
          "2025-09-27T10:00:00",
          "2025-09-27T11:00:00",
          "2025-09-27T12:00:00",
          "2025-09-27T13:00:00",
          "2025-09-27T14:00:00",
          "2025-09-27T15:00:00",
          "2025-09-27T16:00:00",
          "2025-09-27T17:00:00",
          "2025-09-27T18:00:00",
          "2025-09-27T19:00:00",
          "2025-09-27T20:00:00",
          "2025-09-27T21:00:00",
          "2025-09-27T22:00:00",
          "2025-09-27T23:00:00",
          "2025-09-28T00:00:00",
          "2025-09-28T01:00:00",
          "2025-09-28T02:00:00",
          "2025-09-28T03:00:00",
          "2025-09-28T04:00:00",
          "2025-09-28T05:00:00",
          "2025-09-28T06:00:00",
          "2025-09-28T07:00:00",
          "2025-09-28T08:00:00",
          "2025-09-28T09:00:00",
          "2025-09-28T10:00:00",
          "2025-09-28T11:00:00",
          "2025-09-28T12:00:00",
          "2025-09-28T13:00:00",
          "2025-09-28T14:00:00",
          "2025-09-28T15:00:00",
          "2025-09-28T16:00:00",
          "2025-09-28T17:00:00",
          "2025-09-28T18:00:00",
          "2025-09-28T19:00:00",
          "2025-09-28T20:00:00",
          "2025-09-28T21:00:00",
          "2025-09-28T22:00:00",
          "2025-09-28T23:00:00",
          "2025-09-29T00:00:00",
          "2025-09-29T01:00:00",
          "2025-09-29T02:00:00",
          "2025-09-29T03:00:00",
          "2025-09-29T04:00:00",
          "2025-09-29T05:00:00",
          "2025-09-29T06:00:00",
          "2025-09-29T07:00:00",
          "2025-09-29T08:00:00",
          "2025-09-29T09:00:00",
          "2025-09-29T10:00:00",
          "2025-09-29T11:00:00",
          "2025-09-29T12:00:00",
          "2025-09-29T13:00:00",
          "2025-09-29T14:00:00",
          "2025-09-29T15:00:00",
          "2025-09-29T16:00:00",
          "2025-09-29T17:00:00",
          "2025-09-29T18:00:00",
          "2025-09-29T19:00:00",
          "2025-09-29T20:00:00",
          "2025-09-29T21:00:00",
          "2025-09-29T22:00:00",
          "2025-09-29T23:00:00",
          "2025-09-30T00:00:00",
          "2025-09-30T01:00:00",
          "2025-09-30T02:00:00",
          "2025-09-30T03:00:00",
          "2025-09-30T04:00:00",
          "2025-09-30T05:00:00",
          "2025-09-30T06:00:00",
          "2025-09-30T07:00:00",
          "2025-09-30T08:00:00",
          "2025-09-30T09:00:00",
          "2025-09-30T10:00:00",
          "2025-09-30T11:00:00",
          "2025-09-30T12:00:00",
          "2025-09-30T13:00:00",
          "2025-09-30T14:00:00",
          "2025-09-30T15:00:00",
          "2025-09-30T16:00:00",
          "2025-09-30T17:00:00",
          "2025-09-30T18:00:00",
          "2025-09-30T19:00:00",
          "2025-09-30T20:00:00",
          "2025-09-30T21:00:00",
          "2025-09-30T22:00:00",
          "2025-09-30T23:00:00",
          "2025-10-01T00:00:00",
          "2025-10-01T01:00:00",
          "2025-10-01T02:00:00",
          "2025-10-01T03:00:00",
          "2025-10-01T04:00:00",
          "2025-10-01T05:00:00",
          "2025-10-01T06:00:00",
          "2025-10-01T07:00:00",
          "2025-10-01T08:00:00",
          "2025-10-01T09:00:00",
          "2025-10-01T10:00:00",
          "2025-10-01T11:00:00",
          "2025-10-01T12:00:00",
          "2025-10-01T13:00:00",
          "2025-10-01T14:00:00",
          "2025-10-01T15:00:00",
          "2025-10-01T16:00:00",
          "2025-10-01T17:00:00",
          "2025-10-01T18:00:00",
          "2025-10-01T19:00:00",
          "2025-10-01T20:00:00",
          "2025-10-01T21:00:00",
          "2025-10-01T22:00:00",
          "2025-10-01T23:00:00",
          "2025-10-02T00:00:00",
          "2025-10-02T01:00:00",
          "2025-10-02T02:00:00",
          "2025-10-02T03:00:00",
          "2025-10-02T04:00:00",
          "2025-10-02T05:00:00",
          "2025-10-02T06:00:00",
          "2025-10-02T07:00:00",
          "2025-10-02T08:00:00",
          "2025-10-02T09:00:00",
          "2025-10-02T10:00:00",
          "2025-10-02T11:00:00",
          "2025-10-02T12:00:00",
          "2025-10-02T13:00:00",
          "2025-10-02T14:00:00"
         ],
         "y": {
          "dtype": "f8",
          "bdata": "sHJokS/59EDhehSucwH1QEoMAivnAvVA9ihcj4y09EAZBFYO9970QBSuR+Ha3PRApHA9Ckfq9EAj2/l+vOb0QHnpJjFw2/RARIts53O19EBxPQrXT830QG3n+6k9v/RA+n5qvLC89EAK16Nws8D0QDvfT429wvRAvHSTGAjX9EDLoUW2ke30QP7UeOmk2vRAN4lBYAva9ED2KFyPguL0QLgehetRG/VAuB6F6/0c9UAhsHJo5Q71QDEIrBw49PRAJQaBlccA9UD+1HjpVAT1QOkmMQi++/RAnMQgsIID9UDFILByiuj0QD81Xrqbx/RA+n5qvNrC9EDD9ShcGbz0QMuhRbaXv/RA0SLb+Zy79EDl0CLbFbj0QDVeukn0xPRAwcqhRSi69ECcxCCwbLj0QDMzMzNRv/RAexSuRz3D9EA/NV6618T0QIlBYOWAv/RA3SQGgbe89ECkcD0KY8b0QOOlm8QotvRABFYOLS639EAOLbKd18T0QDMzMzNpvvRADi2ynZG49EBmZmZmxrP0QArXo3CxsvRA30+Nl6q49EBCYOXQ4rn0QL6fGi9htvRAEFg5tCy29EBQjZdurLD0QK5H4XpYqfRAg8DKoY+k9EAtsp3vDbL0QJqZmZkryfRAeekmMYLE9EDl0CLbQcL0QP7UeOkcwPRA46WbxEa99EDsUbgehcX0QPp+aryU1PRA46WbxATR9ED8qfHSvdn0QNV46SaL3PRAO99PjT/Z9EBYObTI2Mj0QPLSTWLUuPRAbxKDwEil9EAbL90kILf0QDVeuknS1fRAmG4Sg+zs9EC8dJMYVO70QLKd76fg6PRANV66Scbq9EAQWDm02vT0QAaBlUPh9vRAhetRuMAE9UApXI/ClRL1QLKd76du8/RA0SLb+Tjp9EBkO99PefD0QDMzMzMTAPVAsHJokVUH9UAK16NwERb1QD0K16MoD/VAhxbZzisn9UAUrkfh6Cz1QAisHFrkL/VAvHSTGJI09UC28/3UVjr1QEjhehSUavVAppvEIPyS9UA9CtejgLD1QC/dJAZfr/VADi2ynQum9UAbL90kvrj1QK5H4XoYqPVAukkMArWp9UC4HoXr+6v1QHnpJjHyrPVABoGVQymy9UBYObTIMLf1QB+F61FuyfVAXrpJDGTU9UC0yHa+Ud71QFpkO9+v4vVAexSuR1MF9kBKDAIrh+71QLx0kxgW1PVA8tJNYojK9UAMAiuHPq/1QOXQIttVovVATDeJQfKZ9UBeukkMsqX1QARWDi12q/VAsp3vpxSM9UB7FK5Hj3v1QDMzMzPdcvVADi2ynU9w9UCPwvUoxHn1QIlBYOXoefVADi2ynZNz9UB9PzVe5H71QOkmMQiSlfVAXI/C9eac9UAj2/l+0KX1QI2XbhLnt/VAarx0kyrK9UBU46Wb3tr1QMl2vp+c2fVAqMZLN9fo9UBeukkMcO31QAisHFok+vVA001iECAS9kDTTWIQBO71QB1aZDsbBfZAnu+nxhsi9kCBlUOL/CD2QGQ730/5N/ZAAAAAAPo/9kBeukkMIE32QB1aZDuVqvZACKwcWn6y9kDTTWIQ+ov2QPYoXI+GifZAKVyPwv+b9kDpJjEI5Jz2QEoMAivhifZA9P3UeKFU9kDhehSuBVf2QJMYBFZQWfZARrbz/VJj9kDn+6nxsGf2QCcxCKzCafZASOF6FOph9kAtsp3vuWr2QD0K16MMbfZArkfheiBu9kDP91PjWWL2QM3MzMwSY/ZAoBov3dps9kBI4XoUAob2QOf7qfEWzfZA"
         },
         "type": "scatter",
         "xaxis": "x2",
         "yaxis": "y3"
        },
        {
         "line": {
          "color": "green",
          "dash": "dash",
          "width": 1
         },
         "mode": "lines",
         "name": "OI Value (USD)",
         "showlegend": true,
         "x": [
          "2025-09-25T15:00:00",
          "2025-09-25T16:00:00",
          "2025-09-25T17:00:00",
          "2025-09-25T18:00:00",
          "2025-09-25T19:00:00",
          "2025-09-25T20:00:00",
          "2025-09-25T21:00:00",
          "2025-09-25T22:00:00",
          "2025-09-25T23:00:00",
          "2025-09-26T00:00:00",
          "2025-09-26T01:00:00",
          "2025-09-26T02:00:00",
          "2025-09-26T03:00:00",
          "2025-09-26T04:00:00",
          "2025-09-26T05:00:00",
          "2025-09-26T06:00:00",
          "2025-09-26T07:00:00",
          "2025-09-26T08:00:00",
          "2025-09-26T09:00:00",
          "2025-09-26T10:00:00",
          "2025-09-26T11:00:00",
          "2025-09-26T12:00:00",
          "2025-09-26T13:00:00",
          "2025-09-26T14:00:00",
          "2025-09-26T15:00:00",
          "2025-09-26T16:00:00",
          "2025-09-26T17:00:00",
          "2025-09-26T18:00:00",
          "2025-09-26T19:00:00",
          "2025-09-26T20:00:00",
          "2025-09-26T21:00:00",
          "2025-09-26T22:00:00",
          "2025-09-26T23:00:00",
          "2025-09-27T00:00:00",
          "2025-09-27T01:00:00",
          "2025-09-27T02:00:00",
          "2025-09-27T03:00:00",
          "2025-09-27T04:00:00",
          "2025-09-27T05:00:00",
          "2025-09-27T06:00:00",
          "2025-09-27T07:00:00",
          "2025-09-27T08:00:00",
          "2025-09-27T09:00:00",
          "2025-09-27T10:00:00",
          "2025-09-27T11:00:00",
          "2025-09-27T12:00:00",
          "2025-09-27T13:00:00",
          "2025-09-27T14:00:00",
          "2025-09-27T15:00:00",
          "2025-09-27T16:00:00",
          "2025-09-27T17:00:00",
          "2025-09-27T18:00:00",
          "2025-09-27T19:00:00",
          "2025-09-27T20:00:00",
          "2025-09-27T21:00:00",
          "2025-09-27T22:00:00",
          "2025-09-27T23:00:00",
          "2025-09-28T00:00:00",
          "2025-09-28T01:00:00",
          "2025-09-28T02:00:00",
          "2025-09-28T03:00:00",
          "2025-09-28T04:00:00",
          "2025-09-28T05:00:00",
          "2025-09-28T06:00:00",
          "2025-09-28T07:00:00",
          "2025-09-28T08:00:00",
          "2025-09-28T09:00:00",
          "2025-09-28T10:00:00",
          "2025-09-28T11:00:00",
          "2025-09-28T12:00:00",
          "2025-09-28T13:00:00",
          "2025-09-28T14:00:00",
          "2025-09-28T15:00:00",
          "2025-09-28T16:00:00",
          "2025-09-28T17:00:00",
          "2025-09-28T18:00:00",
          "2025-09-28T19:00:00",
          "2025-09-28T20:00:00",
          "2025-09-28T21:00:00",
          "2025-09-28T22:00:00",
          "2025-09-28T23:00:00",
          "2025-09-29T00:00:00",
          "2025-09-29T01:00:00",
          "2025-09-29T02:00:00",
          "2025-09-29T03:00:00",
          "2025-09-29T04:00:00",
          "2025-09-29T05:00:00",
          "2025-09-29T06:00:00",
          "2025-09-29T07:00:00",
          "2025-09-29T08:00:00",
          "2025-09-29T09:00:00",
          "2025-09-29T10:00:00",
          "2025-09-29T11:00:00",
          "2025-09-29T12:00:00",
          "2025-09-29T13:00:00",
          "2025-09-29T14:00:00",
          "2025-09-29T15:00:00",
          "2025-09-29T16:00:00",
          "2025-09-29T17:00:00",
          "2025-09-29T18:00:00",
          "2025-09-29T19:00:00",
          "2025-09-29T20:00:00",
          "2025-09-29T21:00:00",
          "2025-09-29T22:00:00",
          "2025-09-29T23:00:00",
          "2025-09-30T00:00:00",
          "2025-09-30T01:00:00",
          "2025-09-30T02:00:00",
          "2025-09-30T03:00:00",
          "2025-09-30T04:00:00",
          "2025-09-30T05:00:00",
          "2025-09-30T06:00:00",
          "2025-09-30T07:00:00",
          "2025-09-30T08:00:00",
          "2025-09-30T09:00:00",
          "2025-09-30T10:00:00",
          "2025-09-30T11:00:00",
          "2025-09-30T12:00:00",
          "2025-09-30T13:00:00",
          "2025-09-30T14:00:00",
          "2025-09-30T15:00:00",
          "2025-09-30T16:00:00",
          "2025-09-30T17:00:00",
          "2025-09-30T18:00:00",
          "2025-09-30T19:00:00",
          "2025-09-30T20:00:00",
          "2025-09-30T21:00:00",
          "2025-09-30T22:00:00",
          "2025-09-30T23:00:00",
          "2025-10-01T00:00:00",
          "2025-10-01T01:00:00",
          "2025-10-01T02:00:00",
          "2025-10-01T03:00:00",
          "2025-10-01T04:00:00",
          "2025-10-01T05:00:00",
          "2025-10-01T06:00:00",
          "2025-10-01T07:00:00",
          "2025-10-01T08:00:00",
          "2025-10-01T09:00:00",
          "2025-10-01T10:00:00",
          "2025-10-01T11:00:00",
          "2025-10-01T12:00:00",
          "2025-10-01T13:00:00",
          "2025-10-01T14:00:00",
          "2025-10-01T15:00:00",
          "2025-10-01T16:00:00",
          "2025-10-01T17:00:00",
          "2025-10-01T18:00:00",
          "2025-10-01T19:00:00",
          "2025-10-01T20:00:00",
          "2025-10-01T21:00:00",
          "2025-10-01T22:00:00",
          "2025-10-01T23:00:00",
          "2025-10-02T00:00:00",
          "2025-10-02T01:00:00",
          "2025-10-02T02:00:00",
          "2025-10-02T03:00:00",
          "2025-10-02T04:00:00",
          "2025-10-02T05:00:00",
          "2025-10-02T06:00:00",
          "2025-10-02T07:00:00",
          "2025-10-02T08:00:00",
          "2025-10-02T09:00:00",
          "2025-10-02T10:00:00",
          "2025-10-02T11:00:00",
          "2025-10-02T12:00:00",
          "2025-10-02T13:00:00",
          "2025-10-02T14:00:00"
         ],
         "y": {
          "dtype": "f8",
          "bdata": "yWgch/XXAUJ+2ux+XeABQlZ9Vt78xwFCdRMYg7wvAUKcoiGqG3gBQt0klixmZQFC000iMlhpAULsv4z8mXABQsKGV4a2ZwFCDqRiWpc2AUKnqtur310BQruhyBZDWwFC0LN300pWAUIAgHiF2VcBQs3M6ITsTwFCfyrlegVdAUIr9Vb8C3QBQs/z2vAZYgFCOlFmOnhsAULyQ1A5fXMBQnWT2B0phwFCgZWUBnCSAUIlBh9gtJABQidPc2SehgFC6+LpAwNvAUJllehUnXkBQtX6KGdfhAFCfefLjJycAUKMGHvA4H4BQsCUNWQrTQFCodZTqVVNAUIAgFYS8U4BQuGYjhafVQFCznmyRaxVAUKhA3+nBVMBQmmf4gE4VQFCqDXA5LtKAUKSuhNXiVABQk4Xcm0mWQFCzXxXDf5bAULM4bBHVFkBQnt38ptyTwFCdk+grA9HAUIAAAyT71ABQjEIUibkSAFCzcorAelEAUIHPDPQ+FMBQgAAi0HlSgFCc5kbNlBFAUJZRFqZfUUBQne+HHF4RAFCZtXfh51JAULgm37h6EsBQg/U/nhuSAFCu7h23MpGAUJ1rqEHuUUBQv9hGrzbRAFCqD7mYfBBAULPZsiLXUwBQief9SeHVQFCh2zOTGNVAUL35FNJd1MBQtc0GKTsTgFCNJGdTYBLAUK1whTvoFQBQnNomQWoZQFCEHqF/3FiAULheogxVWoBQt/gDPZkZgFC24p72oBjAUK6636+vFMBQg5ynwoLUwFC0T/4wWZLAULL/zZp/2EBQtZcP6qvgwFCWrA+rtaWAUL5HTlYnJoBQmL/vWrRlwFCA7byYWWsAUJ6pUVcoLYBQkcWD2GD5AFCwEqOo7n6AUKzGPYobQoCQrSIvEkB3wFCAUd5jAjSAUIQetQVCN0BQpFC6efi5wFCIR+yBLHrAUI735haUPMBQtEis+QV9wFC9pdb8JkUAkIDslC7MBoCQqhX6hYeHAJCYmGozdMgAkL9OiwR4CICQli5bzyufQJC+aBABczBAkIeQFuR+NICQpncYcmUygJCSS56HzTUAkLgnNubwuICQh1aBC6l3gJCbsaCiZvfAkLJ9jJje94CQh6Wt/+H3wJCB4x8SdLpAkLPy8/m6fYCQoJt7F/kBgNCZLuMGswNA0JxIEeM7RIDQllBpAmWCgNCtvNRBukgA0Jpb/B/ZgwDQlhKcJvY7QJCuEZqkNraAkLc83a5/qYCQl5L+ZVSoQJClpOccb+fAkL8GEdAf6cCQnrHUaTovAJCTkK6qkGqAkIeBSAnnocCQrjU92zldQJCRGkHeOuDAkLXoziuV58CQphuzgrGugJCyjLOYS3AAkI737sTrrYCQlOzHroSwQJCqEbKI8XLAkKLrWNE59sCQqrxsVuU+AJCm6bdwyH9AkJ7A3O48QcDQtVQTCLsCgNCudUL1kokA0IVYtCKbBsDQvLc+WBTMgNCMlVICgWLA0JNhIHKaHgDQloefoALhwNCkBE1Mcy2A0IUP7pHuKUDQqA4fo2SygNCAAA7tR3nA0KjE3X7LPgDQtj6YN4KUQRC+3ZhSTs3BELZIz953CgEQpP2ENqvLgRCgjo5vKxDBELM3RpJqkUEQke4W/42PQRC5j+k2aUyBEKBFVdMrS0EQgU0PCrsNwRC7PbOPcVGBELn+3C8KUoEQsI6tvfQSARCQGOKgwE1BEIkN4lf8EgEQhKDIynwQwRCx0tV30pNBEIboFaAnUoEQlImBHupQARCp0bOKs9PBEJwtAyq1YIEQg+X9wbMzARC"
         },
         "type": "scatter",
         "xaxis": "x2",
         "yaxis": "y4"
        },
        {
         "line": {
          "color": "purple",
          "width": 1
         },
         "mode": "lines",
         "name": "OI (scaled)",
         "opacity": 0.3,
         "showlegend": true,
         "x": [
          "2025-09-25T15:00:00",
          "2025-09-25T16:00:00",
          "2025-09-25T17:00:00",
          "2025-09-25T18:00:00",
          "2025-09-25T19:00:00",
          "2025-09-25T20:00:00",
          "2025-09-25T21:00:00",
          "2025-09-25T22:00:00",
          "2025-09-25T23:00:00",
          "2025-09-26T00:00:00",
          "2025-09-26T01:00:00",
          "2025-09-26T02:00:00",
          "2025-09-26T03:00:00",
          "2025-09-26T04:00:00",
          "2025-09-26T05:00:00",
          "2025-09-26T06:00:00",
          "2025-09-26T07:00:00",
          "2025-09-26T08:00:00",
          "2025-09-26T09:00:00",
          "2025-09-26T10:00:00",
          "2025-09-26T11:00:00",
          "2025-09-26T12:00:00",
          "2025-09-26T13:00:00",
          "2025-09-26T14:00:00",
          "2025-09-26T15:00:00",
          "2025-09-26T16:00:00",
          "2025-09-26T17:00:00",
          "2025-09-26T18:00:00",
          "2025-09-26T19:00:00",
          "2025-09-26T20:00:00",
          "2025-09-26T21:00:00",
          "2025-09-26T22:00:00",
          "2025-09-26T23:00:00",
          "2025-09-27T00:00:00",
          "2025-09-27T01:00:00",
          "2025-09-27T02:00:00",
          "2025-09-27T03:00:00",
          "2025-09-27T04:00:00",
          "2025-09-27T05:00:00",
          "2025-09-27T06:00:00",
          "2025-09-27T07:00:00",
          "2025-09-27T08:00:00",
          "2025-09-27T09:00:00",
          "2025-09-27T10:00:00",
          "2025-09-27T11:00:00",
          "2025-09-27T12:00:00",
          "2025-09-27T13:00:00",
          "2025-09-27T14:00:00",
          "2025-09-27T15:00:00",
          "2025-09-27T16:00:00",
          "2025-09-27T17:00:00",
          "2025-09-27T18:00:00",
          "2025-09-27T19:00:00",
          "2025-09-27T20:00:00",
          "2025-09-27T21:00:00",
          "2025-09-27T22:00:00",
          "2025-09-27T23:00:00",
          "2025-09-28T00:00:00",
          "2025-09-28T01:00:00",
          "2025-09-28T02:00:00",
          "2025-09-28T03:00:00",
          "2025-09-28T04:00:00",
          "2025-09-28T05:00:00",
          "2025-09-28T06:00:00",
          "2025-09-28T07:00:00",
          "2025-09-28T08:00:00",
          "2025-09-28T09:00:00",
          "2025-09-28T10:00:00",
          "2025-09-28T11:00:00",
          "2025-09-28T12:00:00",
          "2025-09-28T13:00:00",
          "2025-09-28T14:00:00",
          "2025-09-28T15:00:00",
          "2025-09-28T16:00:00",
          "2025-09-28T17:00:00",
          "2025-09-28T18:00:00",
          "2025-09-28T19:00:00",
          "2025-09-28T20:00:00",
          "2025-09-28T21:00:00",
          "2025-09-28T22:00:00",
          "2025-09-28T23:00:00",
          "2025-09-29T00:00:00",
          "2025-09-29T01:00:00",
          "2025-09-29T02:00:00",
          "2025-09-29T03:00:00",
          "2025-09-29T04:00:00",
          "2025-09-29T05:00:00",
          "2025-09-29T06:00:00",
          "2025-09-29T07:00:00",
          "2025-09-29T08:00:00",
          "2025-09-29T09:00:00",
          "2025-09-29T10:00:00",
          "2025-09-29T11:00:00",
          "2025-09-29T12:00:00",
          "2025-09-29T13:00:00",
          "2025-09-29T14:00:00",
          "2025-09-29T15:00:00",
          "2025-09-29T16:00:00",
          "2025-09-29T17:00:00",
          "2025-09-29T18:00:00",
          "2025-09-29T19:00:00",
          "2025-09-29T20:00:00",
          "2025-09-29T21:00:00",
          "2025-09-29T22:00:00",
          "2025-09-29T23:00:00",
          "2025-09-30T00:00:00",
          "2025-09-30T01:00:00",
          "2025-09-30T02:00:00",
          "2025-09-30T03:00:00",
          "2025-09-30T04:00:00",
          "2025-09-30T05:00:00",
          "2025-09-30T06:00:00",
          "2025-09-30T07:00:00",
          "2025-09-30T08:00:00",
          "2025-09-30T09:00:00",
          "2025-09-30T10:00:00",
          "2025-09-30T11:00:00",
          "2025-09-30T12:00:00",
          "2025-09-30T13:00:00",
          "2025-09-30T14:00:00",
          "2025-09-30T15:00:00",
          "2025-09-30T16:00:00",
          "2025-09-30T17:00:00",
          "2025-09-30T18:00:00",
          "2025-09-30T19:00:00",
          "2025-09-30T20:00:00",
          "2025-09-30T21:00:00",
          "2025-09-30T22:00:00",
          "2025-09-30T23:00:00",
          "2025-10-01T00:00:00",
          "2025-10-01T01:00:00",
          "2025-10-01T02:00:00",
          "2025-10-01T03:00:00",
          "2025-10-01T04:00:00",
          "2025-10-01T05:00:00",
          "2025-10-01T06:00:00",
          "2025-10-01T07:00:00",
          "2025-10-01T08:00:00",
          "2025-10-01T09:00:00",
          "2025-10-01T10:00:00",
          "2025-10-01T11:00:00",
          "2025-10-01T12:00:00",
          "2025-10-01T13:00:00",
          "2025-10-01T14:00:00",
          "2025-10-01T15:00:00",
          "2025-10-01T16:00:00",
          "2025-10-01T17:00:00",
          "2025-10-01T18:00:00",
          "2025-10-01T19:00:00",
          "2025-10-01T20:00:00",
          "2025-10-01T21:00:00",
          "2025-10-01T22:00:00",
          "2025-10-01T23:00:00",
          "2025-10-02T00:00:00",
          "2025-10-02T01:00:00",
          "2025-10-02T02:00:00",
          "2025-10-02T03:00:00",
          "2025-10-02T04:00:00",
          "2025-10-02T05:00:00",
          "2025-10-02T06:00:00",
          "2025-10-02T07:00:00",
          "2025-10-02T08:00:00",
          "2025-10-02T09:00:00",
          "2025-10-02T10:00:00",
          "2025-10-02T11:00:00",
          "2025-10-02T12:00:00",
          "2025-10-02T13:00:00",
          "2025-10-02T14:00:00"
         ],
         "y": {
          "dtype": "f8",
          "bdata": "5ECeAciW+kBtpbdJ35j6QK4L/0E9mfpAWvHeU2uF+kAIo4oKJpD6QJ5dnGadj/pAaLt0mAKT+kApwsxHHZL6QAaCMKhBj/pAhqHo2KWF+kDJsbvhrov6QCUBRLEfiPpAZrPnh3qH+kDtH7U9foj6QHRF4E8CifpACHGXTCSO+kCrb/vA15P6QDayejwOj/pAQsIEZueO+kC7LV2ZC5H6QFReF2tqn/pAFVnkrtaf+kAMgiDkRZz6QCeshWKGlfpAtA5gwbOY+kBdR1DGmZn6QMPdcY5tl/pALBfvmGSZ+kBC9zYikpL6QD857Yk9ivpA2CS7sQmJ+kC3ilE9VIf6QOZ/dng2iPpA1f2jxjSH+kBO+rVTUIb6QGuYvauRifpAnCOef9aG+kBkq6ZKZob6QId3WaIkiPpAQ5EZnyKJ+kAsMUtyion6QDdD+rIwiPpAC2gtPnyH+kAIIFVx7on6QJhGCZnThfpA0zDquBWG+kASfgprion6QOTS1PLph/pACg/7oW+G+kD107YzOYX6QJTovSTzhPpA/hJX83WG+kCjIePtxIb6QCdmV97hhfpAWgHrl9SF+kBQNxddcIT6QMNL7NSVgvpAAAAAAGCB+kB2tMnIyYT6QAJbQbCiivpA2ipHz3SJ+kBaKcAF44j6QJfVCCpYiPpA2HZ1e6CH+kCpco9Oton6QBEj7ZqFjfpAadoH656M+kCP5ATI0476QH16szuJj/pAF7EU17OO+kB5m2C9jYr6QItGpYWAhvpA+zq7046B+kClQEAsEob6QC4Mf+7VjfpA2n4z962T+kDgP57sCJT6QDIwv/CnkvpAfb6YyCKT+kBJCWuDr5X6QNZHkq8ylvpAAkmWC7WZ+kCcORnFNJ36QE2K7WxTlfpA73ULSL6S+kBQtPLZk5T6QFyyVCCGmPpAwMbRNVya+kB7ojZTFp76QB7E1uVWnPpAuC4x22mi+kB+nzd33aP6QNRzBpeepPpAr3DJkM2l+kDtLhsdQ6f6QOBQuet2s/pAgCqFgK+9+kCzox72JsX6QLCplrPdxPpAjE1My4HC+kAqwU6SPMf6QC02rY8Gw/pAkmaQ6W7D+kDUMu5cAsT6QAJsp6hAxPpANWNNX5LF+kAjvqUO2Mb6QKvRqD11y/pAPkPo9jrO+kC++FrmvdD6QJPFdbzY0fpA5lUny5va+kBxQLaE19T6QJtTAT8nzvpAUDEml7zL+kCuh0J71cT6QLqEH4yRwfpAHEr4THK/+kCFFy8ja8L6QMebIYjgw/pAN3MkafC7+kAv4l6Rwrf6QLu0H3iPtfpAhnJIJOq0+kD5plhuTrf6QLwgPrlXt/pAFefAnL21+kAFp2Zcmrj6QKOuIu9WvvpAzGmBtjHA+kBcJeTWcsL6QDv//CoGx/pAiKN33KTL+kACOIWB3s/6QEEN8w6Nz/pA3uhKOmfT+kDKjd3pkNT6QAzf1JnH1/pAOSRcrNjd+kBjud5attT6QPfLrZ2N2vpAmaF8sePh+kAQ1VUJm+H6QKpHkp5r5/pAPoCG2HHp+kCZ5yhOxez6QEMEYk5pBPtAwJYnkmkG+0D74vtbq/z6QJll/qAM/PpAreKj57gA+0CZ9L6l8gD7QN5jdIwj/PpA797vVqvu+kCwPWkzRu/6QNHaOZna7/pAuqL41WLy+kDSw62gffP6QFp8CKAD9PpAn7qOigfy+kBMw/4rQvT6QK6B+JrY9PpACG5qYR71+kCob9vSI/L6QJeCHplS8vpAgiWmA8z0+kARcgXZKPv6QMM8CtcjDftA"
         },
         "type": "scatter",
         "xaxis": "x",
         "yaxis": "y2"
        }
       ],
       "layout": {
        "template": {
         "data": {
          "histogram2dcontour": [
           {
            "type": "histogram2dcontour",
            "colorbar": {
             "outlinewidth": 0,
             "ticks": ""
            },
            "colorscale": [
             [
              0.0,
              "#0d0887"
             ],
             [
              0.1111111111111111,
              "#46039f"
             ],
             [
              0.2222222222222222,
              "#7201a8"
             ],
             [
              0.3333333333333333,
              "#9c179e"
             ],
             [
              0.4444444444444444,
              "#bd3786"
             ],
             [
              0.5555555555555556,
              "#d8576b"
             ],
             [
              0.6666666666666666,
              "#ed7953"
             ],
             [
              0.7777777777777778,
              "#fb9f3a"
             ],
             [
              0.8888888888888888,
              "#fdca26"
             ],
             [
              1.0,
              "#f0f921"
             ]
            ]
           }
          ],
          "choropleth": [
           {
            "type": "choropleth",
            "colorbar": {
             "outlinewidth": 0,
             "ticks": ""
            }
           }
          ],
          "histogram2d": [
           {
            "type": "histogram2d",
            "colorbar": {
             "outlinewidth": 0,
             "ticks": ""
            },
            "colorscale": [
             [
              0.0,
              "#0d0887"
             ],
             [
              0.1111111111111111,
              "#46039f"
             ],
             [
              0.2222222222222222,
              "#7201a8"
             ],
             [
              0.3333333333333333,
              "#9c179e"
             ],
             [
              0.4444444444444444,
              "#bd3786"
             ],
             [
              0.5555555555555556,
              "#d8576b"
             ],
             [
              0.6666666666666666,
              "#ed7953"
             ],
             [
              0.7777777777777778,
              "#fb9f3a"
             ],
             [
              0.8888888888888888,
              "#fdca26"
             ],
             [
              1.0,
              "#f0f921"
             ]
            ]
           }
          ],
          "heatmap": [
           {
            "type": "heatmap",
            "colorbar": {
             "outlinewidth": 0,
             "ticks": ""
            },
            "colorscale": [
             [
              0.0,
              "#0d0887"
             ],
             [
              0.1111111111111111,
              "#46039f"
             ],
             [
              0.2222222222222222,
              "#7201a8"
             ],
             [
              0.3333333333333333,
              "#9c179e"
             ],
             [
              0.4444444444444444,
              "#bd3786"
             ],
             [
              0.5555555555555556,
              "#d8576b"
             ],
             [
              0.6666666666666666,
              "#ed7953"
             ],
             [
              0.7777777777777778,
              "#fb9f3a"
             ],
             [
              0.8888888888888888,
              "#fdca26"
             ],
             [
              1.0,
              "#f0f921"
             ]
            ]
           }
          ],
          "contourcarpet": [
           {
            "type": "contourcarpet",
            "colorbar": {
             "outlinewidth": 0,
             "ticks": ""
            }
           }
          ],
          "contour": [
           {
            "type": "contour",
            "colorbar": {
             "outlinewidth": 0,
             "ticks": ""
            },
            "colorscale": [
             [
              0.0,
              "#0d0887"
             ],
             [
              0.1111111111111111,
              "#46039f"
             ],
             [
              0.2222222222222222,
              "#7201a8"
             ],
             [
              0.3333333333333333,
              "#9c179e"
             ],
             [
              0.4444444444444444,
              "#bd3786"
             ],
             [
              0.5555555555555556,
              "#d8576b"
             ],
             [
              0.6666666666666666,
              "#ed7953"
             ],
             [
              0.7777777777777778,
              "#fb9f3a"
             ],
             [
              0.8888888888888888,
              "#fdca26"
             ],
             [
              1.0,
              "#f0f921"
             ]
            ]
           }
          ],
          "surface": [
           {
            "type": "surface",
            "colorbar": {
             "outlinewidth": 0,
             "ticks": ""
            },
            "colorscale": [
             [
              0.0,
              "#0d0887"
             ],
             [
              0.1111111111111111,
              "#46039f"
             ],
             [
              0.2222222222222222,
              "#7201a8"
             ],
             [
              0.3333333333333333,
              "#9c179e"
             ],
             [
              0.4444444444444444,
              "#bd3786"
             ],
             [
              0.5555555555555556,
              "#d8576b"
             ],
             [
              0.6666666666666666,
              "#ed7953"
             ],
             [
              0.7777777777777778,
              "#fb9f3a"
             ],
             [
              0.8888888888888888,
              "#fdca26"
             ],
             [
              1.0,
              "#f0f921"
             ]
            ]
           }
          ],
          "mesh3d": [
           {
            "type": "mesh3d",
            "colorbar": {
             "outlinewidth": 0,
             "ticks": ""
            }
           }
          ],
          "scatter": [
           {
            "marker": {
             "line": {
              "color": "#283442"
             }
            },
            "type": "scatter"
           }
          ],
          "parcoords": [
           {
            "type": "parcoords",
            "line": {
             "colorbar": {
              "outlinewidth": 0,
              "ticks": ""
             }
            }
           }
          ],
          "scatterpolargl": [
           {
            "type": "scatterpolargl",
            "marker": {
             "colorbar": {
              "outlinewidth": 0,
              "ticks": ""
             }
            }
           }
          ],
          "bar": [
           {
            "error_x": {
             "color": "#f2f5fa"
            },
            "error_y": {
             "color": "#f2f5fa"
            },
            "marker": {
             "line": {
              "color": "rgb(17,17,17)",
              "width": 0.5
             },
             "pattern": {
              "fillmode": "overlay",
              "size": 10,
              "solidity": 0.2
             }
            },
            "type": "bar"
           }
          ],
          "scattergeo": [
           {
            "type": "scattergeo",
            "marker": {
             "colorbar": {
              "outlinewidth": 0,
              "ticks": ""
             }
            }
           }
          ],
          "scatterpolar": [
           {
            "type": "scatterpolar",
            "marker": {
             "colorbar": {
              "outlinewidth": 0,
              "ticks": ""
             }
            }
           }
          ],
          "histogram": [
           {
            "marker": {
             "pattern": {
              "fillmode": "overlay",
              "size": 10,
              "solidity": 0.2
             }
            },
            "type": "histogram"
           }
          ],
          "scattergl": [
           {
            "marker": {
             "line": {
              "color": "#283442"
             }
            },
            "type": "scattergl"
           }
          ],
          "scatter3d": [
           {
            "type": "scatter3d",
            "line": {
             "colorbar": {
              "outlinewidth": 0,
              "ticks": ""
             }
            },
            "marker": {
             "colorbar": {
              "outlinewidth": 0,
              "ticks": ""
             }
            }
           }
          ],
          "scattermap": [
           {
            "type": "scattermap",
            "marker": {
             "colorbar": {
              "outlinewidth": 0,
              "ticks": ""
             }
            }
           }
          ],
          "scattermapbox": [
           {
            "type": "scattermapbox",
            "marker": {
             "colorbar": {
              "outlinewidth": 0,
              "ticks": ""
             }
            }
           }
          ],
          "scatterternary": [
           {
            "type": "scatterternary",
            "marker": {
             "colorbar": {
              "outlinewidth": 0,
              "ticks": ""
             }
            }
           }
          ],
          "scattercarpet": [
           {
            "type": "scattercarpet",
            "marker": {
             "colorbar": {
              "outlinewidth": 0,
              "ticks": ""
             }
            }
           }
          ],
          "carpet": [
           {
            "aaxis": {
             "endlinecolor": "#A2B1C6",
             "gridcolor": "#506784",
             "linecolor": "#506784",
             "minorgridcolor": "#506784",
             "startlinecolor": "#A2B1C6"
            },
            "baxis": {
             "endlinecolor": "#A2B1C6",
             "gridcolor": "#506784",
             "linecolor": "#506784",
             "minorgridcolor": "#506784",
             "startlinecolor": "#A2B1C6"
            },
            "type": "carpet"
           }
          ],
          "table": [
           {
            "cells": {
             "fill": {
              "color": "#506784"
             },
             "line": {
              "color": "rgb(17,17,17)"
             }
            },
            "header": {
             "fill": {
              "color": "#2a3f5f"
             },
             "line": {
              "color": "rgb(17,17,17)"
             }
            },
            "type": "table"
           }
          ],
          "barpolar": [
           {
            "marker": {
             "line": {
              "color": "rgb(17,17,17)",
              "width": 0.5
             },
             "pattern": {
              "fillmode": "overlay",
              "size": 10,
              "solidity": 0.2
             }
            },
            "type": "barpolar"
           }
          ],
          "pie": [
           {
            "automargin": true,
            "type": "pie"
           }
          ]
         },
         "layout": {
          "autotypenumbers": "strict",
          "colorway": [
           "#636efa",
           "#EF553B",
           "#00cc96",
           "#ab63fa",
           "#FFA15A",
           "#19d3f3",
           "#FF6692",
           "#B6E880",
           "#FF97FF",
           "#FECB52"
          ],
          "font": {
           "color": "#f2f5fa"
          },
          "hovermode": "closest",
          "hoverlabel": {
           "align": "left"
          },
          "paper_bgcolor": "rgb(17,17,17)",
          "plot_bgcolor": "rgb(17,17,17)",
          "polar": {
           "bgcolor": "rgb(17,17,17)",
           "angularaxis": {
            "gridcolor": "#506784",
            "linecolor": "#506784",
            "ticks": ""
           },
           "radialaxis": {
            "gridcolor": "#506784",
            "linecolor": "#506784",
            "ticks": ""
           }
          },
          "ternary": {
           "bgcolor": "rgb(17,17,17)",
           "aaxis": {
            "gridcolor": "#506784",
            "linecolor": "#506784",
            "ticks": ""
           },
           "baxis": {
            "gridcolor": "#506784",
            "linecolor": "#506784",
            "ticks": ""
           },
           "caxis": {
            "gridcolor": "#506784",
            "linecolor": "#506784",
            "ticks": ""
           }
          },
          "coloraxis": {
           "colorbar": {
            "outlinewidth": 0,
            "ticks": ""
           }
          },
          "colorscale": {
           "sequential": [
            [
             0.0,
             "#0d0887"
            ],
            [
             0.1111111111111111,
             "#46039f"
            ],
            [
             0.2222222222222222,
             "#7201a8"
            ],
            [
             0.3333333333333333,
             "#9c179e"
            ],
            [
             0.4444444444444444,
             "#bd3786"
            ],
            [
             0.5555555555555556,
             "#d8576b"
            ],
            [
             0.6666666666666666,
             "#ed7953"
            ],
            [
             0.7777777777777778,
             "#fb9f3a"
            ],
            [
             0.8888888888888888,
             "#fdca26"
            ],
            [
             1.0,
             "#f0f921"
            ]
           ],
           "sequentialminus": [
            [
             0.0,
             "#0d0887"
            ],
            [
             0.1111111111111111,
             "#46039f"
            ],
            [
             0.2222222222222222,
             "#7201a8"
            ],
            [
             0.3333333333333333,
             "#9c179e"
            ],
            [
             0.4444444444444444,
             "#bd3786"
            ],
            [
             0.5555555555555556,
             "#d8576b"
            ],
            [
             0.6666666666666666,
             "#ed7953"
            ],
            [
             0.7777777777777778,
             "#fb9f3a"
            ],
            [
             0.8888888888888888,
             "#fdca26"
            ],
            [
             1.0,
             "#f0f921"
            ]
           ],
           "diverging": [
            [
             0,
             "#8e0152"
            ],
            [
             0.1,
             "#c51b7d"
            ],
            [
             0.2,
             "#de77ae"
            ],
            [
             0.3,
             "#f1b6da"
            ],
            [
             0.4,
             "#fde0ef"
            ],
            [
             0.5,
             "#f7f7f7"
            ],
            [
             0.6,
             "#e6f5d0"
            ],
            [
             0.7,
             "#b8e186"
            ],
            [
             0.8,
             "#7fbc41"
            ],
            [
             0.9,
             "#4d9221"
            ],
            [
             1,
             "#276419"
            ]
           ]
          },
          "xaxis": {
           "gridcolor": "#283442",
           "linecolor": "#506784",
           "ticks": "",
           "title": {
            "standoff": 15
           },
           "zerolinecolor": "#283442",
           "automargin": true,
           "zerolinewidth": 2
          },
          "yaxis": {
           "gridcolor": "#283442",
           "linecolor": "#506784",
           "ticks": "",
           "title": {
            "standoff": 15
           },
           "zerolinecolor": "#283442",
           "automargin": true,
           "zerolinewidth": 2
          },
          "scene": {
           "xaxis": {
            "backgroundcolor": "rgb(17,17,17)",
            "gridcolor": "#506784",
            "linecolor": "#506784",
            "showbackground": true,
            "ticks": "",
            "zerolinecolor": "#C8D4E3",
            "gridwidth": 2
           },
           "yaxis": {
            "backgroundcolor": "rgb(17,17,17)",
            "gridcolor": "#506784",
            "linecolor": "#506784",
            "showbackground": true,
            "ticks": "",
            "zerolinecolor": "#C8D4E3",
            "gridwidth": 2
           },
           "zaxis": {
            "backgroundcolor": "rgb(17,17,17)",
            "gridcolor": "#506784",
            "linecolor": "#506784",
            "showbackground": true,
            "ticks": "",
            "zerolinecolor": "#C8D4E3",
            "gridwidth": 2
           }
          },
          "shapedefaults": {
           "line": {
            "color": "#f2f5fa"
           }
          },
          "annotationdefaults": {
           "arrowcolor": "#f2f5fa",
           "arrowhead": 0,
           "arrowwidth": 1
          },
          "geo": {
           "bgcolor": "rgb(17,17,17)",
           "landcolor": "rgb(17,17,17)",
           "subunitcolor": "#506784",
           "showland": true,
           "showlakes": true,
           "lakecolor": "rgb(17,17,17)"
          },
          "title": {
           "x": 0.05
          },
          "updatemenudefaults": {
           "bgcolor": "#506784",
           "borderwidth": 0
          },
          "sliderdefaults": {
           "bgcolor": "#C8D4E3",
           "borderwidth": 1,
           "bordercolor": "rgb(17,17,17)",
           "tickwidth": 0
          },
          "mapbox": {
           "style": "dark"
          }
         }
        },
        "xaxis": {
         "anchor": "y",
         "domain": [
          0.0,
          0.94
         ],
         "matches": "x2",
         "showticklabels": false,
         "title": {
          "text": "Date"
         },
         "rangeslider": {
          "visible": false
         }
        },
        "yaxis": {
         "anchor": "x",
         "domain": [
          0.39374999999999993,
          0.9999999999999999
         ],
         "title": {
          "text": "Price"
         }
        },
        "yaxis2": {
         "anchor": "x",
         "overlaying": "y",
         "side": "right",
         "title": {
          "text": "OI Scaled"
         }
        },
        "xaxis2": {
         "anchor": "y3",
         "domain": [
          0.0,
          0.94
         ]
        },
        "yaxis3": {
         "anchor": "x2",
         "domain": [
          0.0,
          0.36374999999999996
         ],
         "title": {
          "text": "Open Interest"
         }
        },
        "yaxis4": {
         "anchor": "x2",
         "overlaying": "y3",
         "side": "right",
         "title": {
          "text": "OI Value (USD)"
         }
        },
        "legend": {
         "orientation": "h",
         "yanchor": "bottom",
         "y": 1.02,
         "xanchor": "right",
         "x": 1
        },
        "title": {
         "text": "BTC-USDT - Price, Volume & Open Interest Analysis"
        },
        "height": 900,
        "hovermode": "x unified",
        "showlegend": true
       },
       "config": {
        "plotlyServerURL": "https://plot.ly"
       }
      }
     },
     "metadata": {},
     "output_type": "display_data"
    }
   ],
   "execution_count": 20
  }
 ],
 "metadata": {
  "kernelspec": {
   "display_name": "Python 3",
   "language": "python",
   "name": "python3"
  },
  "language_info": {
   "codemirror_mode": {
    "name": "ipython",
    "version": 3
   },
   "file_extension": ".py",
   "mimetype": "text/x-python",
   "name": "python",
   "nbconvert_exporter": "python",
   "pygments_lexer": "ipython3",
   "version": "3.12.0"
  }
 },
 "nbformat": 4,
 "nbformat_minor": 4
}
