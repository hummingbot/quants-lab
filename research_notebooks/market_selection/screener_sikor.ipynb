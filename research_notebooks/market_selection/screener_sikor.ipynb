{
 "cells": [
  {
   "cell_type": "code",
   "execution_count": null,
   "id": "initial_id",
   "metadata": {
    "collapsed": true
   },
   "outputs": [],
   "source": [
    "# This is necessary to recognize the modules\n",
    "import os\n",
    "import sys\n",
    "import warnings\n",
    "\n",
    "import pandas as pd\n",
    "from web3.pm import BATCH_SIZE\n",
    "\n",
    "from core.data_sources import CLOBDataSource\n",
    "\n",
    "warnings.filterwarnings(\"ignore\")\n",
    "\n",
    "root_path = os.path.abspath(os.path.join(os.getcwd(), \"../..\"))\n",
    "sys.path.append(root_path)"
   ]
  },
  {
   "cell_type": "code",
   "execution_count": null,
   "id": "7899bbb7f9d09ce6",
   "metadata": {},
   "outputs": [],
   "source": [
    "CONNECTOR_NAME = \"binance_perpetual\"\n",
    "INTERVAL = \"15m\"\n",
    "DAYS = 30\n",
    "VOLATILITY_WINDOW = 50\n",
    "VOLUME_WINDOW = 50\n",
    "DEPTH_LEVELS = 10"
   ]
  },
  {
   "cell_type": "code",
   "execution_count": null,
   "id": "63bc38a1172dd12f",
   "metadata": {},
   "outputs": [],
   "source": [
    "from core.data_sources.clob import CLOBDataSource\n",
    "\n",
    "clob = CLOBDataSource()"
   ]
  },
  {
   "cell_type": "code",
   "execution_count": null,
   "id": "269bb22b8e4a90d3",
   "metadata": {},
   "outputs": [],
   "source": [
    "trading_rules = await clob.get_trading_rules(CONNECTOR_NAME)\n",
    "trading_rules"
   ]
  },
  {
   "cell_type": "code",
   "execution_count": null,
   "id": "1c3a4cd8f9498fa",
   "metadata": {},
   "outputs": [],
   "source": [
    "trading_pairs = trading_rules.filter_by_quote_asset(\"USDT\").get_all_trading_pairs()\n",
    "trading_pairs"
   ]
  },
  {
   "cell_type": "code",
   "execution_count": null,
   "id": "178384dc97ba1823",
   "metadata": {},
   "outputs": [],
   "source": [
    "candles = await clob.get_candles_last_days(CONNECTOR_NAME, trading_pairs[0], INTERVAL, DAYS)"
   ]
  },
  {
   "cell_type": "code",
   "execution_count": null,
   "id": "c5a234b9039242a8",
   "metadata": {},
   "outputs": [],
   "source": [
    "candles.plot(type=\"returns\")"
   ]
  },
  {
   "cell_type": "code",
   "execution_count": null,
   "id": "b545803068bb05ef",
   "metadata": {},
   "outputs": [],
   "source": [
    "BATCH_SIZE = 40\n",
    "SLEEP_INTERVAL = 2\n",
    "\n",
    "candles = await clob.get_candles_batch_last_days(CONNECTOR_NAME, trading_pairs, INTERVAL, DAYS, BATCH_SIZE, SLEEP_INTERVAL)"
   ]
  },
  {
   "cell_type": "code",
   "execution_count": null,
   "id": "3d9098bc33a68d18",
   "metadata": {},
   "outputs": [],
   "source": [
    "candles[0].data"
   ]
  },
  {
   "cell_type": "code",
   "execution_count": null,
   "id": "5f4de12066ef6d97",
   "metadata": {},
   "outputs": [],
   "source": [
    "import asyncio\n",
    "\n",
    "\n",
    "async def get_imbalance(trading_pair):\n",
    "    connector = clob.get_connector(CONNECTOR_NAME)\n",
    "    ob = await connector._orderbook_ds._order_book_snapshot(trading_pair)\n",
    "    cum_asks_volume = sum([row.amount for row in ob.asks[:DEPTH_LEVELS]])\n",
    "    cum_bids_volume = sum([row.amount for row in ob.bids[:DEPTH_LEVELS]])\n",
    "    # Compute bid ask ratio imbalance\n",
    "    return (cum_bids_volume - cum_asks_volume) / (cum_bids_volume + cum_asks_volume)\n",
    "\n",
    "\n",
    "n_trading_pairs = len(trading_pairs)\n",
    "batches = 2\n",
    "all_imbalances = []\n",
    "for i in range(batches):\n",
    "    start = i * BATCH_SIZE\n",
    "    end = (i + 1) * BATCH_SIZE\n",
    "    tasks = [get_imbalance(trading_pair) for trading_pair in trading_pairs[start:end]]\n",
    "    imbalances = await asyncio.gather(*tasks)\n",
    "    all_imbalances.extend(imbalances)\n",
    "    await asyncio.sleep(10.0)"
   ]
  },
  {
   "cell_type": "code",
   "execution_count": null,
   "id": "c95a6f128ea8ceff",
   "metadata": {},
   "outputs": [],
   "source": [
    "len(trading_pairs)"
   ]
  },
  {
   "cell_type": "code",
   "execution_count": null,
   "id": "6d2f7845198b5377",
   "metadata": {},
   "outputs": [],
   "source": [
    "import numpy as np\n",
    "\n",
    "\n",
    "def get_volatility(df, window):\n",
    "    df[\"log_return\"] = np.log(df[\"close\"] / df[\"close\"].shift(1))\n",
    "    df[\"volatility\"] = df[\"log_return\"].rolling(window=window).std() * np.sqrt(window)\n",
    "    return df[\"volatility\"].iloc[-1]\n",
    "\n",
    "\n",
    "def get_volume_imbalance(df, window):\n",
    "    # Calculate volume metrics\n",
    "    df[\"volume_usd\"] = df[\"volume\"] * df[\"close\"]\n",
    "    df[\"buy_taker_volume_usd\"] = df[\"taker_buy_base_volume\"] * df[\"close\"]\n",
    "    df[\"sell_taker_volume_usd\"] = df[\"volume_usd\"] - df[\"buy_taker_volume_usd\"]\n",
    "    # Calculate buy/sell imbalance\n",
    "    df[\"buy_sell_imbalance\"] = df[\"buy_taker_volume_usd\"] - df[\"sell_taker_volume_usd\"]\n",
    "    # Calculate rolling total volume\n",
    "    rolling_total_volume_usd = df[\"volume_usd\"].rolling(window=window, min_periods=1).sum()\n",
    "    return rolling_total_volume_usd.iloc[-1]\n",
    "\n",
    "\n",
    "async def get_imbalance(trading_pair):\n",
    "    connector = clob.get_connector(CONNECTOR_NAME)\n",
    "    ob = await connector._orderbook_ds._order_book_snapshot(trading_pair)\n",
    "    cum_asks_volume = sum([row.amount for row in ob.asks[:DEPTH_LEVELS]])\n",
    "    cum_bids_volume = sum([row.amount for row in ob.bids[:DEPTH_LEVELS]])\n",
    "    # Compute bid ask ratio imbalance\n",
    "    return (cum_bids_volume - cum_asks_volume) / (cum_bids_volume + cum_asks_volume)\n",
    "\n",
    "\n",
    "report = []\n",
    "for candle in candles:\n",
    "    trading_pair = candle.trading_pair\n",
    "    df = candle.data\n",
    "    # Calculate logarithmic returns\n",
    "    volatility = get_volatility(df, VOLATILITY_WINDOW)\n",
    "    volume_imbalance = get_volume_imbalance(df, VOLUME_WINDOW)\n",
    "    # ADD METHOD FOR ORDER BOOK IMBALANCE\n",
    "    report.append({\"trading_pair\": trading_pair, \"volatility\": volatility, \"volume_imbalance\": volume_imbalance})"
   ]
  },
  {
   "cell_type": "code",
   "execution_count": null,
   "id": "5d2b1cd9a6dcb82a",
   "metadata": {},
   "outputs": [],
   "source": [
    "pd.DataFrame(report)"
   ]
  }
 ],
 "metadata": {
  "kernelspec": {
   "display_name": "Python 3",
   "language": "python",
   "name": "python3"
  },
  "language_info": {
   "codemirror_mode": {
    "name": "ipython",
    "version": 2
   },
   "file_extension": ".py",
   "mimetype": "text/x-python",
   "name": "python",
   "nbconvert_exporter": "python",
   "pygments_lexer": "ipython2",
   "version": "2.7.6"
  }
 },
 "nbformat": 4,
 "nbformat_minor": 5
}
