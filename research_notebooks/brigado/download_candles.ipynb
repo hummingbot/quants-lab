{
 "cells": [
  {
   "metadata": {
    "collapsed": false,
    "jupyter": {
     "outputs_hidden": false
    },
    "tags": [
     "parameters"
    ],
    "ExecuteTime": {
     "end_time": "2025-09-17T22:18:09.734063Z",
     "start_time": "2025-09-17T22:17:18.404843Z"
    }
   },
   "cell_type": "code",
   "source": [
    "import asyncio\n",
    "\n",
    "from core.data_sources.clob import CLOBDataSource\n",
    "import warnings\n",
    "\n",
    "warnings.filterwarnings(\"ignore\")\n",
    "\n",
    "# Main class to access central limit order book connectors\n",
    "clob = CLOBDataSource()\n",
    "\n",
    "# Configuration Parameters (can be overridden by papermill)\n",
    "CANDLES_TO_DOWNLOAD = [\n",
    "    (\"binance\", \"USDT-BRL\", \"1s\", 7),\n",
    "    (\"binance\", \"USDT-BRL\", \"1m\", 30),\n",
    "    (\"binance\", \"USDT-BRL\", \"15m\", 365),\n",
    "    (\"okx\", \"USDT-BRL\", \"1m\", 30),\n",
    "]\n",
    "\n",
    "tasks = []\n",
    "for connector_name, trading_pair, interval, days in CANDLES_TO_DOWNLOAD:\n",
    "    print(f\"Will download {days} days of {interval} candles for {trading_pair} on {connector_name}\")\n",
    "    clob.load_candles_cache(connector_name, trading_pair, interval)\n",
    "    tasks.append(clob.get_candles_last_days(connector_name, trading_pair, interval, days))\n",
    "await asyncio.gather(*tasks)\n",
    "clob.dump_candles_cache()"
   ],
   "outputs": [
    {
     "name": "stdout",
     "output_type": "stream",
     "text": [
      "Will download 7 days of 1s candles for USDT-BRL on binance\n",
      "Will download 30 days of 1m candles for USDT-BRL on binance\n",
      "Will download 365 days of 15m candles for USDT-BRL on binance\n",
      "Will download 30 days of 1m candles for USDT-BRL on okx\n"
     ]
    }
   ],
   "execution_count": 2
  }
 ],
 "metadata": {
  "kernelspec": {
   "display_name": "Python 3 (ipykernel)",
   "language": "python",
   "name": "python3"
  },
  "language_info": {
   "codemirror_mode": {
    "name": "ipython",
    "version": 3
   },
   "file_extension": ".py",
   "mimetype": "text/x-python",
   "name": "python",
   "nbconvert_exporter": "python",
   "pygments_lexer": "ipython3",
   "version": "3.10.15"
  }
 },
 "nbformat": 4,
 "nbformat_minor": 4
}
