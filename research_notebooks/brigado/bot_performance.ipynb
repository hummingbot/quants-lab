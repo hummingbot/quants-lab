{
 "cells": [
  {
   "cell_type": "code",
   "id": "initial_id",
   "metadata": {
    "collapsed": true
   },
   "source": [
    "import os\n",
    "# 🔌 Setup and Imports\n",
    "import warnings\n",
    "\n",
    "from dotenv import load_dotenv\n",
    "\n",
    "warnings.filterwarnings(\"ignore\")\n",
    "\n",
    "from datetime import datetime, timezone\n",
    "from hummingbot_api_client import HummingbotAPIClient\n",
    "from core.notifiers import NotificationManager, NotificationMessage\n",
    "\n",
    "load_dotenv()\n",
    "\n",
    "print(\"✅ Hummingbot Status Reporter initialized\")\n",
    "print(\"🤖 Using official hummingbot-api-client\")\n",
    "\n",
    "host = os.getenv(\"HUMMINGBOT_API_HOST\", \"localhost\") # Change if Hummingbot API is on a different host\n",
    "\n",
    "print(\"📊 Fetching data from Hummingbot API...\")\n",
    "\n",
    "client = HummingbotAPIClient(base_url=f\"http://{host}:8000\")\n",
    "await client.init()\n"
   ],
   "outputs": [],
   "execution_count": null
  },
  {
   "metadata": {},
   "cell_type": "code",
   "source": [
    "dbs = await client.archived_bots.list_databases()\n",
    "dbs"
   ],
   "id": "a5fba60e71bf5a3f",
   "outputs": [],
   "execution_count": null
  },
  {
   "metadata": {},
   "cell_type": "code",
   "source": [
    "async def get_all_trades_for_db_and_controllers(db_path: str):\n",
    "    all_trades = []\n",
    "    all_trades_collected = False\n",
    "    while not all_trades_collected:\n",
    "        if len(all_trades) == 0:\n",
    "            response = await client.archived_bots.get_database_trades(db_path=db_path, limit=100)\n",
    "        else:\n",
    "            response = await client.archived_bots.get_database_trades(db_path=db_path, limit=100, offset=response[\"pagination\"][\"offset\"] + response[\"pagination\"][\"limit\"])\n",
    "        all_trades.extend(response[\"trades\"])\n",
    "        if not response[\"pagination\"][\"has_more\"]:\n",
    "            all_trades_collected = True\n",
    "    controllers = await client.archived_bots.get_database_controllers(db_path=db_path)\n",
    "    return all_trades, controllers"
   ],
   "id": "444cfe6ca75a52a",
   "outputs": [],
   "execution_count": null
  },
  {
   "metadata": {},
   "cell_type": "code",
   "source": "all_trades, controller_configs = await get_all_trades_for_db_and_controllers(dbs[0])",
   "id": "713ab3f13a6f02d8",
   "outputs": [],
   "execution_count": null
  }
 ],
 "metadata": {
  "kernelspec": {
   "display_name": "Python 3",
   "language": "python",
   "name": "python3"
  },
  "language_info": {
   "codemirror_mode": {
    "name": "ipython",
    "version": 2
   },
   "file_extension": ".py",
   "mimetype": "text/x-python",
   "name": "python",
   "nbconvert_exporter": "python",
   "pygments_lexer": "ipython2",
   "version": "2.7.6"
  }
 },
 "nbformat": 4,
 "nbformat_minor": 5
}
