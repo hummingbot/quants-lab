{
 "cells": [
  {
   "cell_type": "markdown",
   "metadata": {},
   "source": [
    "# Load Candles from Cache\n",
    "This notebook demonstrates how to load previously downloaded candles data from the cache.\n",
    "\n",
    "The cache stores candles data in Parquet format for efficient storage and retrieval."
   ]
  },
  {
   "cell_type": "code",
   "metadata": {},
   "source": [
    "from core.data_sources.clob import CLOBDataSource\n",
    "import warnings\n",
    "\n",
    "warnings.filterwarnings(\"ignore\")\n",
    "\n",
    "# Initialize CLOBDataSource\n",
    "clob = CLOBDataSource()"
   ],
   "outputs": [],
   "execution_count": null
  },
  {
   "cell_type": "code",
   "metadata": {},
   "source": [
    "# Load all cached candles data\n",
    "clob.load_candles_cache()\n",
    "\n",
    "# Display what's available in the cache\n",
    "print(f\"Total cached items: {len(clob.candles_cache)}\")\n",
    "print(\"\\nAvailable cached data:\")\n",
    "for key, candles in clob.candles_cache.items():\n",
    "    connector, pair, interval = key\n",
    "    print(f\"  - {connector} | {pair} | {interval} | {len(candles.data)} candles\")"
   ],
   "outputs": [],
   "execution_count": null
  },
  {
   "cell_type": "code",
   "metadata": {},
   "source": [
    "# Access specific candles from cache\n",
    "# Example: Get candles for specific connector, trading pair and interval\n",
    "CONNECTOR_NAME = \"binance_perpetual\"\n",
    "TRADING_PAIR = \"BTC-USDT\"\n",
    "INTERVAL = \"1m\"\n",
    "\n",
    "candles = clob.get_candles_from_cache(\n",
    "    connector_name=CONNECTOR_NAME,\n",
    "    trading_pair=TRADING_PAIR,\n",
    "    interval=INTERVAL\n",
    ")\n",
    "\n",
    "if candles:\n",
    "    print(f\"Successfully loaded {len(candles.data)} candles for {TRADING_PAIR}\")\n",
    "    print(f\"\\nDate range: {candles.data.index.min()} to {candles.data.index.max()}\")\n",
    "else:\n",
    "    print(f\"No cached data found for {CONNECTOR_NAME} | {TRADING_PAIR} | {INTERVAL}\")"
   ],
   "outputs": [],
   "execution_count": null
  },
  {
   "cell_type": "code",
   "metadata": {},
   "source": [
    "# Display candles data\n",
    "if candles:\n",
    "    print(\"\\nFirst 5 candles:\")\n",
    "    display(candles.data.head())\n",
    "    \n",
    "    print(\"\\nLast 5 candles:\")\n",
    "    display(candles.data.tail())"
   ],
   "outputs": [],
   "execution_count": null
  },
  {
   "cell_type": "code",
   "metadata": {},
   "source": [
    "# Plot the candles\n",
    "if candles:\n",
    "    candles.plot()"
   ],
   "outputs": [],
   "execution_count": null
  },
  {
   "cell_type": "code",
   "metadata": {},
   "source": [
    "# Working with multiple cached datasets\n",
    "# Get all available candles and perform analysis\n",
    "\n",
    "for key, candles_data in clob.candles_cache.items():\n",
    "    connector, pair, interval = key\n",
    "    df = candles_data.data\n",
    "    \n",
    "    # Calculate basic statistics\n",
    "    avg_volume = df['volume'].mean()\n",
    "    price_volatility = df['close'].pct_change().std()\n",
    "    \n",
    "    print(f\"\\n{pair} ({interval}):\")\n",
    "    print(f\"  Average Volume: {avg_volume:,.2f}\")\n",
    "    print(f\"  Price Volatility: {price_volatility:.4%}\")\n",
    "    print(f\"  Price Range: ${df['low'].min():.4f} - ${df['high'].max():.4f}\")"
   ],
   "outputs": [],
   "execution_count": null
  },
  {
   "cell_type": "markdown",
   "metadata": {},
   "source": [
    "## Advanced Usage\n",
    "\n",
    "The cache system automatically merges new data with existing cached data when you fetch candles. This means:\n",
    "- If you request data that's already cached, it returns instantly from cache\n",
    "- If you request data partially in cache, it only fetches the missing parts\n",
    "- The cache is stored in Parquet format for efficient disk storage"
   ]
  },
  {
   "cell_type": "code",
   "metadata": {},
   "source": [
    "# Example: Fetch additional data that extends the cache\n",
    "# This will check cache first and only download missing data, modify the days parameter to extend the range\n",
    "\n",
    "import asyncio\n",
    "\n",
    "async def fetch_extended_data():\n",
    "    # This will merge with existing cache automatically\n",
    "    extended_candles = await clob.get_candles_last_days(\n",
    "        connector_name=\"binance_perpetual\",\n",
    "        trading_pair=\"1000SHIB-USDT\",\n",
    "        interval=\"1m\",\n",
    "        days=10  # Extend to 60 days if not already cached\n",
    "    )\n",
    "    return extended_candles\n",
    "\n",
    "# Run the async function\n",
    "extended_candles = await fetch_extended_data()\n",
    "print(f\"Total candles after extension: {len(extended_candles.data)}\")"
   ],
   "outputs": [],
   "execution_count": null
  }
 ],
 "metadata": {
  "kernelspec": {
   "display_name": "Python 3",
   "language": "python",
   "name": "python3"
  },
  "language_info": {
   "codemirror_mode": {
    "name": "ipython",
    "version": 3
   },
   "file_extension": ".py",
   "mimetype": "text/x-python",
   "name": "python",
   "nbconvert_exporter": "python",
   "pygments_lexer": "ipython3",
   "version": "3.12.0"
  }
 },
 "nbformat": 4,
 "nbformat_minor": 4
}
