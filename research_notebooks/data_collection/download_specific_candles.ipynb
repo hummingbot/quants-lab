{
 "cells": [
  {
   "cell_type": "markdown",
   "metadata": {
    "collapsed": false,
    "jupyter": {
     "outputs_hidden": false
    }
   },
   "source": [
    "# ETL Pipeline: Download Historical Candle Data\n",
    "\n",
    "## 📊 Overview\n",
    "This notebook implements an ETL (Extract, Transform, Load) pipeline for downloading historical OHLCV (Open, High, Low, Close, Volume) candle data from cryptocurrency exchanges. It handles rate limiting, batch processing, and data caching for efficient data collection.\n",
    "\n",
    "## 🎯 Objectives\n",
    "1. **Data Extraction**: Download historical price data from exchange APIs\n",
    "2. **Batch Processing**: Handle multiple trading pairs and timeframes efficiently\n",
    "3. **Rate Limit Management**: Respect exchange API limits to avoid throttling\n",
    "4. **Data Caching**: Store downloaded data locally for future use\n",
    "5. **Visualization**: Preview downloaded data with interactive charts\n",
    "\n",
    "## 📋 Prerequisites\n",
    "- Exchange API access (e.g., Binance Perpetual) if you are in the US use OKX\n",
    "- Network connection for API calls\n",
    "- Sufficient disk space for data storage (~100MB per pair/interval)\n",
    "\n",
    "## ⚠️ Important Notes on Rate Limiting\n",
    "Currently, Hummingbot candles don't use a shared rate limit (this is planned for future updates). Therefore:\n",
    "- **Batch Size**: Keep `BATCH_CANDLES_REQUEST` low (2-3) to avoid hitting limits\n",
    "- **Sleep Time**: Increase `SLEEP_REQUEST` (10+ seconds) for safety\n",
    "- **Monitor**: Watch for 429 (Too Many Requests) errors and adjust accordingly\n",
    "\n",
    "## 📈 Expected Outputs\n",
    "- Cached candle data in `app/data/cache/candles/`\n",
    "- Multiple timeframe data (1m, 15m, etc.)\n",
    "- Interactive candlestick charts for data validation"
   ]
  },
  {
   "metadata": {
    "collapsed": false,
    "jupyter": {
     "outputs_hidden": false
    },
    "ExecuteTime": {
     "end_time": "2025-09-09T14:22:03.802255Z",
     "start_time": "2025-09-09T14:22:02.489741Z"
    },
    "tags": [
     "parameters"
    ]
   },
   "cell_type": "code",
   "source": [
    "from core.data_sources.clob import CLOBDataSource\n",
    "import warnings\n",
    "\n",
    "warnings.filterwarnings(\"ignore\")\n",
    "\n",
    "# Main class to access central limit order book connectors\n",
    "clob = CLOBDataSource()\n",
    "\n",
    "# Configuration Parameters (can be overridden by papermill)\n",
    "CONNECTOR_NAME = \"binance_perpetual\"\n",
    "TRADING_PAIRS = [\n",
    "    'BTC-USDT',    # Bitcoin\n",
    "    'ETH-USDT',    # Ethereum\n",
    "    'SOL-USDT',    # Solana\n",
    "]\n",
    "DAYS = 7\n",
    "\n",
    "# Rate limits config\n",
    "BATCH_CANDLES_REQUEST = 2\n",
    "SLEEP_REQUEST = 2.0\n",
    "\n",
    "# Intervals to download (can be extended)\n",
    "INTERVALS = [\"1h\"]"
   ],
   "outputs": [],
   "execution_count": null
  },
  {
   "cell_type": "code",
   "metadata": {
    "collapsed": false
   },
   "source": "all_candles = {\n    interval: await clob.get_candles_batch_last_days(CONNECTOR_NAME, TRADING_PAIRS, interval, DAYS, BATCH_CANDLES_REQUEST, SLEEP_REQUEST) \n    for interval in INTERVALS\n}\nclob.dump_candles_cache()",
   "outputs": [],
   "execution_count": null
  },
  {
   "metadata": {},
   "cell_type": "code",
   "source": [
    "from core.data_structures.candles import Candles\n",
    "\n",
    "# Display info about downloaded candles\n",
    "print(f\"Downloaded data for {len(all_candles[INTERVALS[0]])} trading pairs\")\n",
    "print(\"\\nTrading pairs downloaded:\")\n",
    "for i, candles_obj in enumerate(all_candles[INTERVALS[0]]):\n",
    "    print(f\"{i+1}. {candles_obj.trading_pair}: {len(candles_obj.data)} candles\")\n",
    "\n",
    "# Get the first trading pair as example (BTC-USDT)\n",
    "candles: Candles = all_candles[INTERVALS[0]][0]\n",
    "print(f\"\\nExample: Showing {candles.trading_pair} data\")"
   ],
   "outputs": [],
   "execution_count": null
  },
  {
   "metadata": {},
   "cell_type": "code",
   "source": "candles.plot()",
   "outputs": [],
   "execution_count": null
  }
 ],
 "metadata": {
  "kernelspec": {
   "display_name": "Python 3 (ipykernel)",
   "language": "python",
   "name": "python3"
  },
  "language_info": {
   "codemirror_mode": {
    "name": "ipython",
    "version": 3
   },
   "file_extension": ".py",
   "mimetype": "text/x-python",
   "name": "python",
   "nbconvert_exporter": "python",
   "pygments_lexer": "ipython3",
   "version": "3.10.15"
  }
 },
 "nbformat": 4,
 "nbformat_minor": 4
}
