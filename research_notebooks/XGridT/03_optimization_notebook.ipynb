{
 "cells": [
  {
   "cell_type": "code",
   "execution_count": null,
   "metadata": {
    "collapsed": false
   },
   "outputs": [],
   "source": [
    "import os\n",
    "import sys\n",
    "\n",
    "root_path = os.path.abspath(os.path.join(os.getcwd(), \"../..\"))\n",
    "sys.path.append(root_path)"
   ]
  },
  {
   "cell_type": "code",
   "execution_count": null,
   "metadata": {},
   "outputs": [],
   "source": [
    "from decimal import Decimal\n",
    "\n",
    "from controllers.directional_trading.xgridt import XGridTControllerConfig\n",
    "from core.backtesting.optimizer import BacktestingConfig, BaseStrategyConfigGenerator\n",
    "\n",
    "\n",
    "class XGridTConfigGenerator(BaseStrategyConfigGenerator):\n",
    "    \"\"\"\n",
    "    Strategy configuration generator for XGridT optimization.\n",
    "    \"\"\"\n",
    "\n",
    "    async def generate_config(self, trial) -> BacktestingConfig:\n",
    "        # Controller configuration\n",
    "        connector_name = self.config.get(\"connector_name\", \"binance_perpetual\")\n",
    "        trading_pair = self.config.get(\"trading_pair\", \"PNUT-USDT\")\n",
    "        interval = self.config.get(\"interval\", \"1m\")\n",
    "        trial.set_user_attr(\"connector_name\", connector_name)\n",
    "        trial.set_user_attr(\"trading_pair\", trading_pair)\n",
    "        trial.set_user_attr(\"interval\", interval)\n",
    "        ema_short = trial.suggest_int(\"ema_short\", 9, 59)\n",
    "        ema_medium = trial.suggest_int(\"ema_medium\", ema_short + 10, 150)\n",
    "        ema_long = trial.suggest_int(\"ema_long\", ema_medium + 10, 201)\n",
    "        donchian_channel_length = trial.suggest_int(\"donchian_channel_length\", 50, 201)\n",
    "        natr_length = trial.suggest_int(\"natr_length\", 100, 201)\n",
    "        natr_multiplier = trial.suggest_float(\"natr_multiplier\", 0.5, 1.5)\n",
    "        tp_default = trial.suggest_float(\"tp_default\", 0.04, 0.05, step=0.01)\n",
    "        # Suggest hyperparameters using the trial object\n",
    "        total_amount_quote = 1000\n",
    "        max_executors_per_side = 1\n",
    "        time_limit = 60 * 60 * 24 * 2\n",
    "        cooldown_time = 60 * 15\n",
    "\n",
    "        # Create the strategy configuration\n",
    "        # Creating the instance of the configuration and the controller\n",
    "        config = XGridTControllerConfig(\n",
    "            connector_name=connector_name,\n",
    "            trading_pair=trading_pair,\n",
    "            interval=interval,\n",
    "            total_amount_quote=Decimal(total_amount_quote),\n",
    "            time_limit=time_limit,\n",
    "            max_executors_per_side=max_executors_per_side,\n",
    "            cooldown_time=cooldown_time,\n",
    "            ema_short=ema_short,\n",
    "            ema_medium=ema_medium,\n",
    "            ema_long=ema_long,\n",
    "            donchian_channel_length=donchian_channel_length,\n",
    "            natr_length=natr_length,\n",
    "            natr_multiplier=natr_multiplier,\n",
    "            tp_default=tp_default,\n",
    "        )\n",
    "\n",
    "        # Return the configuration encapsulated in BacktestingConfig\n",
    "        return BacktestingConfig(config=config, start=self.start, end=self.end)"
   ]
  },
  {
   "cell_type": "code",
   "execution_count": null,
   "metadata": {},
   "outputs": [],
   "source": [
    "import datetime\n",
    "\n",
    "from core.backtesting.optimizer import StrategyOptimizer\n",
    "\n",
    "start_date = datetime.datetime(2024, 11, 12)\n",
    "end_date = datetime.datetime(2024, 11, 22)\n",
    "\n",
    "optimizer = StrategyOptimizer(root_path=root_path)\n",
    "connector_name = \"binance_perpetual\"\n",
    "trading_pair = \"PNUT-USDT\"\n",
    "interval = \"1m\"\n",
    "optimizer.load_candles_cache_by_connector_pair(connector_name=connector_name, trading_pair=trading_pair, root_path=root_path)\n",
    "config_generator = XGridTConfigGenerator(\n",
    "    start_date=start_date,\n",
    "    end_date=end_date,\n",
    "    config={\"connector_name\": connector_name, \"trading_pair\": trading_pair, \"interval\": interval},\n",
    ")\n",
    "await optimizer.optimize(\n",
    "    study_name=f\"xgridt_{trading_pair}\",\n",
    "    config_generator=config_generator,\n",
    "    n_trials=100,\n",
    ")"
   ]
  },
  {
   "cell_type": "code",
   "execution_count": null,
   "metadata": {
    "collapsed": false
   },
   "outputs": [],
   "source": [
    "from core.backtesting.optimizer import StrategyOptimizer\n",
    "\n",
    "optimizer = StrategyOptimizer(root_path=root_path)\n",
    "optimizer.launch_optuna_dashboard()"
   ]
  },
  {
   "cell_type": "code",
   "execution_count": null,
   "metadata": {},
   "outputs": [],
   "source": []
  }
 ],
 "metadata": {
  "kernelspec": {
   "display_name": "Python 3",
   "language": "python",
   "name": "python3"
  },
  "language_info": {
   "codemirror_mode": {
    "name": "ipython",
    "version": 3
   },
   "file_extension": ".py",
   "mimetype": "text/x-python",
   "name": "python",
   "nbconvert_exporter": "python",
   "pygments_lexer": "ipython3",
   "version": "3.10.15"
  }
 },
 "nbformat": 4,
 "nbformat_minor": 0
}
