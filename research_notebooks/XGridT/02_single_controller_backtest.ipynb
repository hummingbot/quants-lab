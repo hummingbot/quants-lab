{
 "cells": [
  {
   "cell_type": "code",
   "execution_count": null,
   "metadata": {
    "collapsed": false
   },
   "outputs": [],
   "source": [
    "# This is necessary to recognize the modules\n",
    "import os\n",
    "import sys\n",
    "import warnings\n",
    "from decimal import Decimal\n",
    "\n",
    "warnings.filterwarnings(\"ignore\")\n",
    "\n",
    "root_path = os.path.abspath(os.path.join(os.getcwd(), \"../..\"))\n",
    "sys.path.append(root_path)"
   ]
  },
  {
   "cell_type": "code",
   "execution_count": null,
   "metadata": {
    "collapsed": false,
    "jupyter": {
     "outputs_hidden": false
    }
   },
   "outputs": [],
   "source": [
    "from core.backtesting import BacktestingEngine\n",
    "\n",
    "backtesting = BacktestingEngine(root_path=root_path, load_cached_data=False)"
   ]
  },
  {
   "cell_type": "code",
   "execution_count": null,
   "metadata": {
    "collapsed": false,
    "jupyter": {
     "outputs_hidden": false
    }
   },
   "outputs": [],
   "source": [
    "import datetime\n",
    "\n",
    "from controllers.directional_trading.xgridt import XGridTControllerConfig\n",
    "\n",
    "# Controller configuration\n",
    "connector_name = \"binance_perpetual\"\n",
    "trading_pair = \"1000BONK-USDT\"\n",
    "interval = \"1m\"\n",
    "\n",
    "# INDICATORS\n",
    "ema_short: int = 8\n",
    "ema_medium: int = 29\n",
    "ema_long: int = 100\n",
    "donchian_channel_length = 50\n",
    "natr_length = 100\n",
    "\n",
    "# LIMITS\n",
    "natr_multiplier = 2.0\n",
    "tp_default = 0.05\n",
    "\n",
    "# EXECUTORS\n",
    "total_amount_quote = 1000\n",
    "max_executors_per_side = 2\n",
    "time_limit = 60 * 60 * 12\n",
    "cooldown_time = 60 * 15\n",
    "\n",
    "\n",
    "# Creating the instance of the configuration and the controller\n",
    "config = XGridTControllerConfig(\n",
    "    connector_name=connector_name,\n",
    "    trading_pair=trading_pair,\n",
    "    interval=interval,\n",
    "    total_amount_quote=Decimal(total_amount_quote),\n",
    "    time_limit=time_limit,\n",
    "    max_executors_per_side=max_executors_per_side,\n",
    "    cooldown_time=cooldown_time,\n",
    "    ema_short=ema_short,\n",
    "    ema_medium=ema_medium,\n",
    "    ema_long=ema_long,\n",
    "    donchian_channel_length=donchian_channel_length,\n",
    "    natr_length=natr_length,\n",
    "    natr_multiplier=natr_multiplier,\n",
    "    tp_default=tp_default,\n",
    ")"
   ]
  },
  {
   "cell_type": "code",
   "execution_count": null,
   "metadata": {
    "collapsed": false
   },
   "outputs": [],
   "source": [
    "# Running the backtesting this will output a backtesting result object that has built in methods to visualize the results\n",
    "\n",
    "start = int(datetime.datetime(2024, 11, 1).timestamp())\n",
    "end = int(datetime.datetime(2024, 11, 3).timestamp())\n",
    "\n",
    "backtesting_result = await backtesting.run_backtesting(config, start, end, \"1m\")"
   ]
  },
  {
   "cell_type": "code",
   "execution_count": null,
   "metadata": {},
   "outputs": [],
   "source": [
    "import plotly.graph_objects as go\n",
    "\n",
    "# Let's see what is inside the backtesting results\n",
    "print(backtesting_result.get_results_summary())\n",
    "fig = backtesting_result.get_backtesting_figure()\n",
    "# Add EMAs\n",
    "candles_df = backtesting_result.processed_data\n",
    "ema_fast = f\"EMA_{ema_short}\"\n",
    "ema_med = f\"EMA_{ema_medium}\"\n",
    "ema_slow = f\"EMA_{ema_long}\"\n",
    "\n",
    "fig.add_trace(go.Scatter(x=candles_df.index, y=candles_df[ema_fast], line=dict(color=\"#00FF00\", width=2), name=\"Fast EMA\"))\n",
    "fig.add_trace(go.Scatter(x=candles_df.index, y=candles_df[ema_med], line=dict(color=\"#FFA500\", width=2), name=\"Medium EMA\"))\n",
    "fig.add_trace(go.Scatter(x=candles_df.index, y=candles_df[ema_slow], line=dict(color=\"#0000FF\", width=2), name=\"Slow EMA\"))\n",
    "\n",
    "# Add support and resistance TP\n",
    "fig.add_trace(go.Scatter(x=candles_df.index, y=candles_df[\"TP_LONG\"], line=dict(color=\"#00FF00\", width=2), name=\"TP_LONG\"))\n",
    "fig.add_trace(go.Scatter(x=candles_df.index, y=candles_df[\"TP_SHORT\"], line=dict(color=\"#00FF00\", width=2), name=\"TP_SHORT\"))\n",
    "\n",
    "# Add support and resistance SL\n",
    "fig.add_trace(go.Scatter(x=candles_df.index, y=candles_df[\"SL_LONG\"], line=dict(color=\"#FF0000\", width=2), name=\"SL_LONG\"))\n",
    "fig.add_trace(go.Scatter(x=candles_df.index, y=candles_df[\"SL_SHORT\"], line=dict(color=\"#FF0000\", width=2), name=\"SL_SHORT\"))"
   ]
  },
  {
   "cell_type": "code",
   "execution_count": null,
   "metadata": {
    "collapsed": false,
    "jupyter": {
     "outputs_hidden": false
    }
   },
   "outputs": [],
   "source": [
    "# 2. The executors dataframe: this is the dataframe that contains the information of the orders that were executed\n",
    "\n",
    "executors_df = backtesting_result.executors_df\n",
    "executors_df.head()"
   ]
  },
  {
   "cell_type": "markdown",
   "metadata": {
    "collapsed": false
   },
   "source": [
    "### Backtesting Analysis"
   ]
  },
  {
   "cell_type": "markdown",
   "metadata": {
    "collapsed": false,
    "jupyter": {
     "outputs_hidden": false
    }
   },
   "source": [
    "### Scatter of PNL per Trade\n",
    "This bar chart illustrates the PNL for each individual trade. Positive PNLs are shown in green and negative PNLs in red, providing a clear view of profitable vs. unprofitable trades.\n"
   ]
  },
  {
   "cell_type": "code",
   "execution_count": null,
   "metadata": {
    "collapsed": false,
    "jupyter": {
     "outputs_hidden": false
    }
   },
   "outputs": [],
   "source": [
    "import plotly.express as px\n",
    "\n",
    "# Create a new column for profitability\n",
    "executors_df[\"profitable\"] = executors_df[\"net_pnl_quote\"] > 0\n",
    "\n",
    "# Create the scatter plot\n",
    "fig = px.scatter(\n",
    "    executors_df,\n",
    "    x=\"timestamp\",\n",
    "    y=\"net_pnl_quote\",\n",
    "    title=\"PNL per Trade\",\n",
    "    color=\"profitable\",\n",
    "    color_discrete_map={True: \"green\", False: \"red\"},\n",
    "    labels={\"timestamp\": \"Timestamp\", \"net_pnl_quote\": \"Net PNL (Quote)\"},\n",
    "    hover_data=[\"filled_amount_quote\", \"side\"],\n",
    ")\n",
    "\n",
    "# Customize the layout\n",
    "fig.update_layout(\n",
    "    xaxis_title=\"Timestamp\",\n",
    "    yaxis_title=\"Net PNL (Quote)\",\n",
    "    legend_title=\"Profitable\",\n",
    "    font=dict(size=12, color=\"white\"),\n",
    "    showlegend=False,\n",
    "    plot_bgcolor=\"rgba(0,0,0,0.8)\",  # Dark background\n",
    "    paper_bgcolor=\"rgba(0,0,0,0.8)\",  # Dark background for the entire plot area\n",
    "    xaxis=dict(gridcolor=\"gray\"),\n",
    "    yaxis=dict(gridcolor=\"gray\"),\n",
    ")\n",
    "\n",
    "# Add a horizontal line at y=0 to clearly separate profits and losses\n",
    "fig.add_hline(y=0, line_dash=\"dash\", line_color=\"lightgray\")\n",
    "\n",
    "# Show the plot\n",
    "fig.show()"
   ]
  },
  {
   "cell_type": "markdown",
   "metadata": {
    "collapsed": false,
    "jupyter": {
     "outputs_hidden": false
    }
   },
   "source": [
    "### Histogram of PNL Distribution\n",
    "The histogram displays the distribution of PNL values across all trades. It helps in understanding the frequency and range of profit and loss outcomes.\n"
   ]
  },
  {
   "cell_type": "code",
   "execution_count": null,
   "metadata": {
    "collapsed": false,
    "jupyter": {
     "outputs_hidden": false
    }
   },
   "outputs": [],
   "source": [
    "fig = px.histogram(executors_df, x=\"net_pnl_quote\", title=\"PNL Distribution\")\n",
    "fig.show()"
   ]
  },
  {
   "cell_type": "markdown",
   "metadata": {
    "collapsed": false,
    "jupyter": {
     "outputs_hidden": false
    }
   },
   "source": [
    "# Conclusion\n",
    "We can see that the indicator has potential to bring good signals to trade and might be interesting to see how we can design a market maker that shifts the mid price based on this indicator.\n",
    "A lot of the short signals are wrong but if we zoom in into the loss signals we can see that the losses are not that big and the wins are bigger and if we had implemented the trailing stop feature probably a lot of them are going to be profits."
   ]
  },
  {
   "cell_type": "markdown",
   "metadata": {
    "collapsed": false,
    "jupyter": {
     "outputs_hidden": false
    }
   },
   "source": [
    "# Next steps\n",
    "- Filter only the loss signals and understand what you can do to prevent them\n",
    "- Try different configuration values for the indicator\n",
    "- Test in multiple markets, pick mature markets like BTC-USDT or ETH-USDT and also volatile markets like DOGE-USDT or SHIB-USDT"
   ]
  }
 ],
 "metadata": {
  "kernelspec": {
   "display_name": "Python 3 (ipykernel)",
   "language": "python",
   "name": "python3"
  },
  "language_info": {
   "codemirror_mode": {
    "name": "ipython",
    "version": 3
   },
   "file_extension": ".py",
   "mimetype": "text/x-python",
   "name": "python",
   "nbconvert_exporter": "python",
   "pygments_lexer": "ipython3",
   "version": "3.10.15"
  }
 },
 "nbformat": 4,
 "nbformat_minor": 4
}
