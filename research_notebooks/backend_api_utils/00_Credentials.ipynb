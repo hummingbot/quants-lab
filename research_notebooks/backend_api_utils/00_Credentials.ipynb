{
 "cells": [
  {
   "cell_type": "code",
   "execution_count": null,
   "id": "initial_id",
   "metadata": {
    "collapsed": true
   },
   "outputs": [],
   "source": [
    "import logging\n",
    "import os\n",
    "\n",
    "from dotenv import load_dotenv\n",
    "\n",
    "from core.services.backend_api_client import BackendAPIClient\n",
    "\n",
    "logging.getLogger(\"asyncio\").setLevel(logging.CRITICAL)\n",
    "load_dotenv()\n",
    "\n",
    "backend_api_client = BackendAPIClient(\n",
    "    host=os.getenv(\"BACKEND_API_HOST\", \"localhost\"),\n",
    "    port=os.getenv(\"BACKEND_API_PORT\", 8000),\n",
    "    username=os.getenv(\"BACKEND_API_USER\", \"admin\"),\n",
    "    password=os.getenv(\"BACKEND_API_PASS\", \"admin\"),\n",
    ")"
   ]
  },
  {
   "cell_type": "code",
   "execution_count": null,
   "id": "bc35f4d6d18c33b2",
   "metadata": {},
   "outputs": [],
   "source": [
    "await backend_api_client.get_accounts()"
   ]
  },
  {
   "cell_type": "code",
   "execution_count": null,
   "id": "1b4d1280d9a5f11f",
   "metadata": {},
   "outputs": [],
   "source": [
    "await backend_api_client.get_credentials(\"master_account\")"
   ]
  },
  {
   "cell_type": "code",
   "execution_count": null,
   "id": "2ef5248fea181e92",
   "metadata": {},
   "outputs": [],
   "source": [
    "all_connectors_config_map = await backend_api_client.get_all_connectors_config_map()\n",
    "config_map = all_connectors_config_map[\"binance_perpetual\"]\n",
    "config_map"
   ]
  },
  {
   "cell_type": "code",
   "execution_count": null,
   "id": "5f98e17cb1f67542",
   "metadata": {},
   "outputs": [],
   "source": [
    "await backend_api_client.add_connector_keys(\n",
    "    account_name=\"master_account\",\n",
    "    connector_name=\"binance_perpetual\",\n",
    "    connector_config={\n",
    "        \"binance_perpetual_api_key\": os.getenv(\"BINANCE_PERP_API_KEY\", \"\"),\n",
    "        \"binance_perpetual_api_secret\": os.getenv(\"BINANCE_PERP_API_SECRET\", \"\"),\n",
    "    },\n",
    ")"
   ]
  }
 ],
 "metadata": {
  "kernelspec": {
   "display_name": "Python 3",
   "language": "python",
   "name": "python3"
  },
  "language_info": {
   "codemirror_mode": {
    "name": "ipython",
    "version": 2
   },
   "file_extension": ".py",
   "mimetype": "text/x-python",
   "name": "python",
   "nbconvert_exporter": "python",
   "pygments_lexer": "ipython2",
   "version": "2.7.6"
  }
 },
 "nbformat": 4,
 "nbformat_minor": 5
}
